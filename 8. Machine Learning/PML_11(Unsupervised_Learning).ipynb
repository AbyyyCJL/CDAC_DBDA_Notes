{
 "cells": [
  {
   "cell_type": "code",
   "execution_count": 208,
   "id": "bd807c20-6e6c-4a22-8fd2-9c184512d523",
   "metadata": {},
   "outputs": [],
   "source": [
    "import pandas as pd\n",
    "import numpy as np\n",
    "import os\n",
    "from numpy import random\n",
    "import scipy \n",
    "from scipy import stats\n",
    "from matplotlib import pyplot as plt\n",
    "from scipy.stats import binom\n",
    "from scipy.stats import poisson\n",
    "from scipy.stats import norm ,t\n",
    "import seaborn as sns\n",
    "import pylab\n",
    "from pylab import legend,plot,show,title,xlabel,ylabel\n",
    "from random import choice\n",
    "import statsmodels\n",
    "from statsmodels import stats\n",
    "from statsmodels.stats import weightstats as ssw\n",
    "import statsmodels.api as sm\n",
    "from statsmodels.formula.api import ols\n",
    "import statsmodels.stats.multicomp\n",
    "from statsmodels.stats.multicomp import pairwise_tukeyhsd\n",
    "from statsmodels.stats import proportion  as ssp\n",
    "from scipy.stats import chisquare\n",
    "from scipy.stats import chi2_contingency\n",
    "from sklearn.model_selection import train_test_split\n",
    "from sklearn.metrics import confusion_matrix\n",
    "from sklearn.metrics import classification_report\n",
    "from statsmodels.stats.outliers_influence import variance_inflation_factor\n",
    "from statsmodels import discrete\n",
    "from statsmodels.discrete import discrete_model\n",
    "from statsmodels.discrete.discrete_model import MNLogit\n",
    "from statsmodels.miscmodels.ordinal_model import OrderedModel\n",
    "import statsmodels.formula.api as smf\n",
    "from statsmodels.discrete.discrete_model import Poisson as psn\n",
    "from statsmodels.discrete.discrete_model import NegativeBinomial as ngb\n",
    "from sklearn.preprocessing import MinMaxScaler\n",
    "from sklearn.preprocessing import StandardScaler, LabelEncoder\n",
    "from sklearn.feature_selection import mutual_info_classif\n",
    "from sklearn.feature_selection import SelectKBest\n",
    "from sklearn.ensemble import ExtraTreesClassifier\n",
    "from sklearn.feature_selection import SequentialFeatureSelector\n",
    "from sklearn.linear_model import LinearRegression\n",
    "from sklearn.linear_model import Ridge\n",
    "from sklearn.linear_model import Lasso\n",
    "from sklearn.model_selection import GridSearchCV\n",
    "from sklearn.tree import DecisionTreeClassifier\n",
    "from sklearn.ensemble import RandomForestClassifier\n",
    "from sklearn.metrics import classification_report, accuracy_score\n",
    "from sklearn.linear_model import LogisticRegression\n",
    "from sklearn.decomposition import PCA\n",
    "from sklearn.discriminant_analysis import LinearDiscriminantAnalysis\n",
    "from sklearn.neighbors import KNeighborsClassifier\n",
    "from sklearn.naive_bayes import GaussianNB"
   ]
  },
  {
   "cell_type": "markdown",
   "id": "3380f45c-2c14-4ed1-8adb-ccdc7ea286a0",
   "metadata": {},
   "source": [
    "## K-means Algorithm"
   ]
  },
  {
   "cell_type": "code",
   "execution_count": 210,
   "id": "8de5f0d4-19fe-491e-8526-12faafbc34b1",
   "metadata": {},
   "outputs": [],
   "source": [
    "from sklearn.cluster import KMeans"
   ]
  },
  {
   "cell_type": "code",
   "execution_count": 211,
   "id": "2804ad41-08fd-4d54-8494-d29ce4ff31bc",
   "metadata": {},
   "outputs": [],
   "source": [
    "df = pd.read_excel('CDAC_Databook.xlsx', sheet_name='clusters')"
   ]
  },
  {
   "cell_type": "code",
   "execution_count": null,
   "id": "49ef26a5-f5b0-4789-b634-bdc21f6f8113",
   "metadata": {},
   "outputs": [],
   "source": []
  },
  {
   "cell_type": "code",
   "execution_count": 212,
   "id": "4682c81d-3896-477f-b20a-1a86c5d98385",
   "metadata": {},
   "outputs": [
    {
     "data": {
      "text/html": [
       "<div>\n",
       "<style scoped>\n",
       "    .dataframe tbody tr th:only-of-type {\n",
       "        vertical-align: middle;\n",
       "    }\n",
       "\n",
       "    .dataframe tbody tr th {\n",
       "        vertical-align: top;\n",
       "    }\n",
       "\n",
       "    .dataframe thead th {\n",
       "        text-align: right;\n",
       "    }\n",
       "</style>\n",
       "<table border=\"1\" class=\"dataframe\">\n",
       "  <thead>\n",
       "    <tr style=\"text-align: right;\">\n",
       "      <th></th>\n",
       "      <th>Var1</th>\n",
       "      <th>Var2</th>\n",
       "    </tr>\n",
       "  </thead>\n",
       "  <tbody>\n",
       "    <tr>\n",
       "      <th>0</th>\n",
       "      <td>25</td>\n",
       "      <td>79</td>\n",
       "    </tr>\n",
       "    <tr>\n",
       "      <th>1</th>\n",
       "      <td>34</td>\n",
       "      <td>51</td>\n",
       "    </tr>\n",
       "    <tr>\n",
       "      <th>2</th>\n",
       "      <td>22</td>\n",
       "      <td>53</td>\n",
       "    </tr>\n",
       "    <tr>\n",
       "      <th>3</th>\n",
       "      <td>27</td>\n",
       "      <td>78</td>\n",
       "    </tr>\n",
       "    <tr>\n",
       "      <th>4</th>\n",
       "      <td>33</td>\n",
       "      <td>59</td>\n",
       "    </tr>\n",
       "  </tbody>\n",
       "</table>\n",
       "</div>"
      ],
      "text/plain": [
       "   Var1  Var2\n",
       "0    25    79\n",
       "1    34    51\n",
       "2    22    53\n",
       "3    27    78\n",
       "4    33    59"
      ]
     },
     "execution_count": 212,
     "metadata": {},
     "output_type": "execute_result"
    }
   ],
   "source": [
    "df.head()"
   ]
  },
  {
   "cell_type": "code",
   "execution_count": 213,
   "id": "d21ca174-e6aa-40a2-b061-949dbbd51377",
   "metadata": {},
   "outputs": [
    {
     "name": "stderr",
     "output_type": "stream",
     "text": [
      "C:\\Users\\Abhay\\anaconda3\\Lib\\site-packages\\sklearn\\cluster\\_kmeans.py:1446: UserWarning: KMeans is known to have a memory leak on Windows with MKL, when there are less chunks than available threads. You can avoid it by setting the environment variable OMP_NUM_THREADS=1.\n",
      "  warnings.warn(\n"
     ]
    }
   ],
   "source": [
    "mod1 = KMeans(n_clusters=3).fit(df)"
   ]
  },
  {
   "cell_type": "code",
   "execution_count": 214,
   "id": "684a217f-3314-4791-baac-57e287c9bea2",
   "metadata": {},
   "outputs": [
    {
     "data": {
      "text/plain": [
       "array([[55.1, 46.1],\n",
       "       [43.2, 16.7],\n",
       "       [29.6, 66.8]])"
      ]
     },
     "execution_count": 214,
     "metadata": {},
     "output_type": "execute_result"
    }
   ],
   "source": [
    "mod1.cluster_centers_"
   ]
  },
  {
   "cell_type": "code",
   "execution_count": 215,
   "id": "8af5fe52-a88a-49f5-9c3f-a4938140af98",
   "metadata": {},
   "outputs": [
    {
     "data": {
      "text/plain": [
       "array([2, 2, 2, 2, 2, 2, 2, 2, 2, 2, 0, 0, 0, 0, 0, 0, 0, 0, 0, 0, 1, 1,\n",
       "       1, 1, 1, 1, 1, 1, 1, 1])"
      ]
     },
     "execution_count": 215,
     "metadata": {},
     "output_type": "execute_result"
    }
   ],
   "source": [
    "mod1.labels_"
   ]
  },
  {
   "cell_type": "code",
   "execution_count": 216,
   "id": "7f4a1962-14a0-4978-8afd-4a982bf149f7",
   "metadata": {},
   "outputs": [
    {
     "data": {
      "text/plain": [
       "<matplotlib.collections.PathCollection at 0x229d6b8f8c0>"
      ]
     },
     "execution_count": 216,
     "metadata": {},
     "output_type": "execute_result"
    },
    {
     "data": {
      "image/png": "[encoded data removed]",
      "text/plain": [
       "<Figure size 1000x700 with 1 Axes>"
      ]
     },
     "metadata": {},
     "output_type": "display_data"
    }
   ],
   "source": [
    "plt.figure(figsize = (10, 7))\n",
    "plt.scatter(df['Var1'], df['Var2'], c = 'r')\n",
    "plt.scatter(43.2, 16.7, c = 'b')\n",
    "plt.scatter(29.6, 66.8, c = 'g')\n",
    "plt.scatter(55.1, 46.1, c = 'm')"
   ]
  },
  {
   "cell_type": "code",
   "execution_count": 217,
   "id": "e72b6dc8-be3b-4a10-a038-e5f7298d30d2",
   "metadata": {},
   "outputs": [
    {
     "name": "stderr",
     "output_type": "stream",
     "text": [
      "C:\\Users\\Abhay\\anaconda3\\Lib\\site-packages\\sklearn\\cluster\\_kmeans.py:1446: UserWarning: KMeans is known to have a memory leak on Windows with MKL, when there are less chunks than available threads. You can avoid it by setting the environment variable OMP_NUM_THREADS=1.\n",
      "  warnings.warn(\n",
      "C:\\Users\\Abhay\\anaconda3\\Lib\\site-packages\\sklearn\\cluster\\_kmeans.py:1446: UserWarning: KMeans is known to have a memory leak on Windows with MKL, when there are less chunks than available threads. You can avoid it by setting the environment variable OMP_NUM_THREADS=1.\n",
      "  warnings.warn(\n",
      "C:\\Users\\Abhay\\anaconda3\\Lib\\site-packages\\sklearn\\cluster\\_kmeans.py:1446: UserWarning: KMeans is known to have a memory leak on Windows with MKL, when there are less chunks than available threads. You can avoid it by setting the environment variable OMP_NUM_THREADS=1.\n",
      "  warnings.warn(\n",
      "C:\\Users\\Abhay\\anaconda3\\Lib\\site-packages\\sklearn\\cluster\\_kmeans.py:1446: UserWarning: KMeans is known to have a memory leak on Windows with MKL, when there are less chunks than available threads. You can avoid it by setting the environment variable OMP_NUM_THREADS=1.\n",
      "  warnings.warn(\n",
      "C:\\Users\\Abhay\\anaconda3\\Lib\\site-packages\\sklearn\\cluster\\_kmeans.py:1446: UserWarning: KMeans is known to have a memory leak on Windows with MKL, when there are less chunks than available threads. You can avoid it by setting the environment variable OMP_NUM_THREADS=1.\n",
      "  warnings.warn(\n",
      "C:\\Users\\Abhay\\anaconda3\\Lib\\site-packages\\sklearn\\cluster\\_kmeans.py:1446: UserWarning: KMeans is known to have a memory leak on Windows with MKL, when there are less chunks than available threads. You can avoid it by setting the environment variable OMP_NUM_THREADS=1.\n",
      "  warnings.warn(\n"
     ]
    }
   ],
   "source": [
    "mod1 = KMeans(n_clusters=3).fit(df)\n",
    "mod2 = KMeans(n_clusters=4).fit(df)\n",
    "mod3 = KMeans(n_clusters=5).fit(df)\n",
    "mod4 = KMeans(n_clusters=6).fit(df)\n",
    "mod5 = KMeans(n_clusters=7).fit(df)\n",
    "mod6 = KMeans(n_clusters=8).fit(df)"
   ]
  },
  {
   "cell_type": "code",
   "execution_count": 218,
   "id": "c2593d27-504e-4c10-87af-c493ff38b755",
   "metadata": {},
   "outputs": [],
   "source": [
    "a1 = mod1.inertia_\n",
    "a2 = mod2.inertia_\n",
    "a3 = mod3.inertia_\n",
    "a4 = mod4.inertia_\n",
    "a5 = mod5.inertia_\n",
    "a6 = mod6.inertia_"
   ]
  },
  {
   "cell_type": "code",
   "execution_count": 219,
   "id": "caaec800-4750-4d1a-9ea5-92c9fc10fce5",
   "metadata": {},
   "outputs": [
    {
     "name": "stderr",
     "output_type": "stream",
     "text": [
      "C:\\Users\\Abhay\\anaconda3\\Lib\\site-packages\\sklearn\\cluster\\_kmeans.py:1446: UserWarning: KMeans is known to have a memory leak on Windows with MKL, when there are less chunks than available threads. You can avoid it by setting the environment variable OMP_NUM_THREADS=1.\n",
      "  warnings.warn(\n",
      "C:\\Users\\Abhay\\anaconda3\\Lib\\site-packages\\sklearn\\cluster\\_kmeans.py:1446: UserWarning: KMeans is known to have a memory leak on Windows with MKL, when there are less chunks than available threads. You can avoid it by setting the environment variable OMP_NUM_THREADS=1.\n",
      "  warnings.warn(\n",
      "C:\\Users\\Abhay\\anaconda3\\Lib\\site-packages\\sklearn\\cluster\\_kmeans.py:1446: UserWarning: KMeans is known to have a memory leak on Windows with MKL, when there are less chunks than available threads. You can avoid it by setting the environment variable OMP_NUM_THREADS=1.\n",
      "  warnings.warn(\n"
     ]
    }
   ],
   "source": [
    "mod7 = KMeans(n_clusters=9).fit(df)\n",
    "mod8 = KMeans(n_clusters=12).fit(df)\n",
    "mod9 = KMeans(n_clusters=15).fit(df)"
   ]
  },
  {
   "cell_type": "code",
   "execution_count": 220,
   "id": "b3471a0f-5194-450f-8653-b4bc0a7b5a1b",
   "metadata": {},
   "outputs": [],
   "source": [
    "a7 = mod7.inertia_\n",
    "a8 = mod8.inertia_\n",
    "a9 = mod9.inertia_"
   ]
  },
  {
   "cell_type": "code",
   "execution_count": 221,
   "id": "343c41a8-d519-4349-a25a-78dc6701ee84",
   "metadata": {},
   "outputs": [],
   "source": [
    "int_gain = [a1,a2,a3,a4,a5,a6,a7,a8,a9]\n",
    "clust_nums = [3,4,5,6,7,8,9,12,15]"
   ]
  },
  {
   "cell_type": "code",
   "execution_count": 222,
   "id": "176d0e64-5389-4435-ba64-891a5952718c",
   "metadata": {},
   "outputs": [
    {
     "data": {
      "text/plain": [
       "[<matplotlib.lines.Line2D at 0x229d6352900>]"
      ]
     },
     "execution_count": 222,
     "metadata": {},
     "output_type": "execute_result"
    },
    {
     "data": {
      "image/png": "[encoded data removed]",
      "text/plain": [
       "<Figure size 640x480 with 1 Axes>"
      ]
     },
     "metadata": {},
     "output_type": "display_data"
    }
   ],
   "source": [
    "plt.plot(clust_nums, int_gain)"
   ]
  },
  {
   "cell_type": "code",
   "execution_count": null,
   "id": "df7ec9f8-5910-405b-887b-7c236758ed54",
   "metadata": {},
   "outputs": [],
   "source": []
  },
  {
   "cell_type": "code",
   "execution_count": 239,
   "id": "e1d159ab-6271-452d-b52f-1da6875380fe",
   "metadata": {},
   "outputs": [],
   "source": [
    "df2 = pd.read_excel('data_cluster.xlsx', sheet_name='Sheet1')"
   ]
  },
  {
   "cell_type": "code",
   "execution_count": 241,
   "id": "7f1cdcf8-0604-4d96-ac9d-31f8e6d215c9",
   "metadata": {},
   "outputs": [
    {
     "data": {
      "text/html": [
       "<div>\n",
       "<style scoped>\n",
       "    .dataframe tbody tr th:only-of-type {\n",
       "        vertical-align: middle;\n",
       "    }\n",
       "\n",
       "    .dataframe tbody tr th {\n",
       "        vertical-align: top;\n",
       "    }\n",
       "\n",
       "    .dataframe thead th {\n",
       "        text-align: right;\n",
       "    }\n",
       "</style>\n",
       "<table border=\"1\" class=\"dataframe\">\n",
       "  <thead>\n",
       "    <tr style=\"text-align: right;\">\n",
       "      <th></th>\n",
       "      <th>Weight</th>\n",
       "      <th>Height</th>\n",
       "    </tr>\n",
       "  </thead>\n",
       "  <tbody>\n",
       "    <tr>\n",
       "      <th>0</th>\n",
       "      <td>90</td>\n",
       "      <td>1.30</td>\n",
       "    </tr>\n",
       "    <tr>\n",
       "      <th>1</th>\n",
       "      <td>71</td>\n",
       "      <td>1.40</td>\n",
       "    </tr>\n",
       "    <tr>\n",
       "      <th>2</th>\n",
       "      <td>65</td>\n",
       "      <td>1.28</td>\n",
       "    </tr>\n",
       "    <tr>\n",
       "      <th>3</th>\n",
       "      <td>116</td>\n",
       "      <td>1.36</td>\n",
       "    </tr>\n",
       "    <tr>\n",
       "      <th>4</th>\n",
       "      <td>96</td>\n",
       "      <td>1.21</td>\n",
       "    </tr>\n",
       "  </tbody>\n",
       "</table>\n",
       "</div>"
      ],
      "text/plain": [
       "   Weight  Height\n",
       "0      90    1.30\n",
       "1      71    1.40\n",
       "2      65    1.28\n",
       "3     116    1.36\n",
       "4      96    1.21"
      ]
     },
     "execution_count": 241,
     "metadata": {},
     "output_type": "execute_result"
    }
   ],
   "source": [
    "df2.head()"
   ]
  },
  {
   "cell_type": "code",
   "execution_count": 247,
   "id": "6ada7b07-d26d-4621-85cf-816c6d15547c",
   "metadata": {},
   "outputs": [],
   "source": [
    "mod1 = KMeans(n_clusters=3).fit(df2)\n",
    "mod2 = KMeans(n_clusters=4).fit(df2)\n",
    "mod3 = KMeans(n_clusters=5).fit(df2)\n",
    "mod4 = KMeans(n_clusters=6).fit(df2)"
   ]
  },
  {
   "cell_type": "code",
   "execution_count": 255,
   "id": "8014638c-a22f-461a-9cf5-dab34f4863d9",
   "metadata": {},
   "outputs": [],
   "source": [
    "c1 = mod1.cluster_centers_\n",
    "c2 = mod2.cluster_centers_\n",
    "c3 = mod3.cluster_centers_\n",
    "c4 = mod4.cluster_centers_"
   ]
  },
  {
   "cell_type": "code",
   "execution_count": 267,
   "id": "0813d19b-f49a-437b-a17e-37f0f50101d1",
   "metadata": {},
   "outputs": [
    {
     "name": "stdout",
     "output_type": "stream",
     "text": [
      "[[ 81.05016722   1.3048495 ]\n",
      " [ 54.6167147    1.30325648]\n",
      " [106.3559322    1.30138418]]\n",
      "*************************************\n",
      "[[ 93.12260536   1.30095785]\n",
      " [ 50.984375     1.30085937]\n",
      " [ 71.76538462   1.30730769]\n",
      " [111.30044843   1.30313901]]\n",
      "*************************************\n",
      "[[111.30044843   1.30313901]\n",
      " [ 77.62569832   1.30223464]\n",
      " [ 94.25431034   1.30202586]\n",
      " [ 61.625        1.30625   ]\n",
      " [ 46.28666667   1.301     ]]\n",
      "*************************************\n",
      "[[ 94.66515837   1.30171946]\n",
      " [ 55.4057971    1.30123188]\n",
      " [111.30044843   1.30313901]\n",
      " [ 79.24539877   1.30110429]\n",
      " [ 44.25233645   1.30065421]\n",
      " [ 66.19594595   1.31060811]]\n"
     ]
    }
   ],
   "source": [
    "print(c1)\n",
    "print(\"*************************************\")\n",
    "print(c2)\n",
    "print(\"*************************************\")\n",
    "print(c3)\n",
    "print(\"*************************************\")\n",
    "print(c4)"
   ]
  },
  {
   "cell_type": "code",
   "execution_count": 249,
   "id": "75345429-bd9c-4c08-aefa-694dc1a9fd6b",
   "metadata": {},
   "outputs": [],
   "source": [
    "a1 = mod1.inertia_\n",
    "a2 = mod2.inertia_\n",
    "a3 = mod3.inertia_\n",
    "a4 = mod4.inertia_"
   ]
  },
  {
   "cell_type": "code",
   "execution_count": 251,
   "id": "b0a6a41a-ee6a-4146-9629-5d52ba4242c7",
   "metadata": {},
   "outputs": [],
   "source": [
    "int_gain = [a1, a2, a3, a4]\n",
    "clust_nums = [3,4,5,6]"
   ]
  },
  {
   "cell_type": "code",
   "execution_count": 253,
   "id": "df2e1b61-51f2-4f79-9601-98fa74531195",
   "metadata": {},
   "outputs": [
    {
     "data": {
      "text/plain": [
       "[<matplotlib.lines.Line2D at 0x229d77789e0>]"
      ]
     },
     "execution_count": 253,
     "metadata": {},
     "output_type": "execute_result"
    },
    {
     "data": {
      "image/png": "[encoded data removed]",
      "text/plain": [
       "<Figure size 640x480 with 1 Axes>"
      ]
     },
     "metadata": {},
     "output_type": "display_data"
    }
   ],
   "source": [
    "plt.plot(clust_nums, int_gain)"
   ]
  },
  {
   "cell_type": "code",
   "execution_count": 269,
   "id": "ba09de8a-8d9b-45dd-a260-b72cdf356711",
   "metadata": {},
   "outputs": [],
   "source": [
    "sc = StandardScaler()\n",
    "scaled_df = pd.DataFrame(sc.fit_transform(df2))"
   ]
  },
  {
   "cell_type": "code",
   "execution_count": 271,
   "id": "757728c6-edc8-455d-a7a6-f3e104c9b918",
   "metadata": {},
   "outputs": [
    {
     "data": {
      "text/html": [
       "<div>\n",
       "<style scoped>\n",
       "    .dataframe tbody tr th:only-of-type {\n",
       "        vertical-align: middle;\n",
       "    }\n",
       "\n",
       "    .dataframe tbody tr th {\n",
       "        vertical-align: top;\n",
       "    }\n",
       "\n",
       "    .dataframe thead th {\n",
       "        text-align: right;\n",
       "    }\n",
       "</style>\n",
       "<table border=\"1\" class=\"dataframe\">\n",
       "  <thead>\n",
       "    <tr style=\"text-align: right;\">\n",
       "      <th></th>\n",
       "      <th>0</th>\n",
       "      <th>1</th>\n",
       "    </tr>\n",
       "  </thead>\n",
       "  <tbody>\n",
       "    <tr>\n",
       "      <th>0</th>\n",
       "      <td>0.397654</td>\n",
       "      <td>-0.051119</td>\n",
       "    </tr>\n",
       "    <tr>\n",
       "      <th>1</th>\n",
       "      <td>-0.426814</td>\n",
       "      <td>1.614004</td>\n",
       "    </tr>\n",
       "    <tr>\n",
       "      <th>2</th>\n",
       "      <td>-0.687173</td>\n",
       "      <td>-0.384144</td>\n",
       "    </tr>\n",
       "    <tr>\n",
       "      <th>3</th>\n",
       "      <td>1.525874</td>\n",
       "      <td>0.947955</td>\n",
       "    </tr>\n",
       "    <tr>\n",
       "      <th>4</th>\n",
       "      <td>0.658013</td>\n",
       "      <td>-1.549731</td>\n",
       "    </tr>\n",
       "  </tbody>\n",
       "</table>\n",
       "</div>"
      ],
      "text/plain": [
       "          0         1\n",
       "0  0.397654 -0.051119\n",
       "1 -0.426814  1.614004\n",
       "2 -0.687173 -0.384144\n",
       "3  1.525874  0.947955\n",
       "4  0.658013 -1.549731"
      ]
     },
     "execution_count": 271,
     "metadata": {},
     "output_type": "execute_result"
    }
   ],
   "source": [
    "scaled_df.head()"
   ]
  },
  {
   "cell_type": "code",
   "execution_count": 273,
   "id": "871e3b85-a894-4df4-8244-eb694690f540",
   "metadata": {},
   "outputs": [],
   "source": [
    "mod1 = KMeans(n_clusters=3).fit(scaled_df)\n",
    "mod2 = KMeans(n_clusters=4).fit(scaled_df)\n",
    "mod3 = KMeans(n_clusters=5).fit(scaled_df)\n",
    "mod4 = KMeans(n_clusters=6).fit(scaled_df)"
   ]
  },
  {
   "cell_type": "code",
   "execution_count": 275,
   "id": "25042a17-0975-415a-aa5e-e3e8df4357a5",
   "metadata": {},
   "outputs": [],
   "source": [
    "c1 = mod1.cluster_centers_\n",
    "c2 = mod2.cluster_centers_\n",
    "c3 = mod3.cluster_centers_\n",
    "c4 = mod4.cluster_centers_"
   ]
  },
  {
   "cell_type": "code",
   "execution_count": 277,
   "id": "f8026044-6580-4550-b0e0-e9c981375dec",
   "metadata": {},
   "outputs": [
    {
     "name": "stdout",
     "output_type": "stream",
     "text": [
      "[[-1.0403064  -0.04938479]\n",
      " [ 0.70196372 -0.8938539 ]\n",
      " [ 0.59398997  0.97361418]]\n",
      "*************************************\n",
      "[[-0.98253905 -0.95205576]\n",
      " [ 0.80927278 -0.82640559]\n",
      " [-0.83849616  0.77659853]\n",
      " [ 0.87185212  0.91761578]]\n",
      "*************************************\n",
      "[[-0.95951586  0.96222738]\n",
      " [ 0.94931211 -0.9430464 ]\n",
      " [-1.04226886 -0.99178339]\n",
      " [ 0.93297243  0.9874128 ]\n",
      " [-0.09257775 -0.02582628]]\n",
      "*************************************\n",
      "[[ 0.95818523  1.03636094]\n",
      " [-1.26333624 -0.70329273]\n",
      " [ 1.11495836 -0.87632146]\n",
      " [-0.91213676  0.95562827]\n",
      " [-0.2369232  -1.30778954]\n",
      " [ 0.13522934  0.03043778]]\n"
     ]
    }
   ],
   "source": [
    "print(c1)\n",
    "print(\"*************************************\")\n",
    "print(c2)\n",
    "print(\"*************************************\")\n",
    "print(c3)\n",
    "print(\"*************************************\")\n",
    "print(c4)"
   ]
  },
  {
   "cell_type": "code",
   "execution_count": 279,
   "id": "df997172-928a-401a-87a4-af8786e958fd",
   "metadata": {},
   "outputs": [],
   "source": [
    "a1 = mod1.inertia_\n",
    "a2 = mod2.inertia_\n",
    "a3 = mod3.inertia_\n",
    "a4 = mod4.inertia_"
   ]
  },
  {
   "cell_type": "code",
   "execution_count": 281,
   "id": "a093570d-2569-44c3-90d8-b96115ce5ea6",
   "metadata": {},
   "outputs": [],
   "source": [
    "int_gain = [a1, a2, a3, a4]\n",
    "clust_nums = [3,4,5,6]"
   ]
  },
  {
   "cell_type": "code",
   "execution_count": 283,
   "id": "90b263f7-c4f0-4137-9996-7aa974242dfc",
   "metadata": {},
   "outputs": [
    {
     "data": {
      "text/plain": [
       "[<matplotlib.lines.Line2D at 0x229d6b8c080>]"
      ]
     },
     "execution_count": 283,
     "metadata": {},
     "output_type": "execute_result"
    },
    {
     "data": {
      "image/png": "[encoded data removed]",
      "text/plain": [
       "<Figure size 640x480 with 1 Axes>"
      ]
     },
     "metadata": {},
     "output_type": "display_data"
    }
   ],
   "source": [
    "plt.plot(clust_nums, int_gain)"
   ]
  },
  {
   "cell_type": "markdown",
   "id": "94293c1a-de69-4b5b-8ae5-2f5a93244a3c",
   "metadata": {},
   "source": [
    "After scaling, if we want to get the original values, simply use z formula i.e. ```z = (x-mean)/std``` where z is the scaled value. and mean and standard deviation can be calculated. to find ```x```"
   ]
  },
  {
   "cell_type": "code",
   "execution_count": null,
   "id": "a5ea71ea-bfaa-4706-a0de-f4d752d313fe",
   "metadata": {},
   "outputs": [],
   "source": []
  },
  {
   "cell_type": "markdown",
   "id": "31ae1785-3ea9-40c8-b400-1b62dd22378d",
   "metadata": {},
   "source": [
    "# Hierarchical Clustering"
   ]
  },
  {
   "cell_type": "code",
   "execution_count": 290,
   "id": "6032348f-929c-467f-8da5-24a1e5d406ad",
   "metadata": {},
   "outputs": [],
   "source": [
    "import scipy.cluster.hierarchy as sch"
   ]
  },
  {
   "cell_type": "code",
   "execution_count": 294,
   "id": "696e32c8-d5e6-4bf0-a8ce-7528fc61a1b6",
   "metadata": {},
   "outputs": [],
   "source": [
    "df = pd.read_excel('CDAC_Databook.xlsx', sheet_name='mtcars')"
   ]
  },
  {
   "cell_type": "code",
   "execution_count": 302,
   "id": "309747d6-0b48-4cfc-9f35-eff0e12ccc23",
   "metadata": {},
   "outputs": [
    {
     "data": {
      "image/png": "[encoded data removed]",
      "text/plain": [
       "<Figure size 1500x700 with 1 Axes>"
      ]
     },
     "metadata": {},
     "output_type": "display_data"
    }
   ],
   "source": [
    "plt.figure(figsize = (15, 7))\n",
    "dend = sch.dendrogram(sch.linkage(df), leaf_font_size=25)"
   ]
  },
  {
   "cell_type": "code",
   "execution_count": null,
   "id": "7e432435-1ddb-4d83-908d-21c7a3478d1b",
   "metadata": {},
   "outputs": [],
   "source": []
  },
  {
   "cell_type": "code",
   "execution_count": null,
   "id": "a39b7276-6c6c-4fac-a073-094a38a32b37",
   "metadata": {},
   "outputs": [],
   "source": []
  }
 ],
 "metadata": {
  "kernelspec": {
   "display_name": "Python 3 (ipykernel)",
   "language": "python",
   "name": "python3"
  },
  "language_info": {
   "codemirror_mode": {
    "name": "ipython",
    "version": 3
   },
   "file_extension": ".py",
   "mimetype": "text/x-python",
   "name": "python",
   "nbconvert_exporter": "python",
   "pygments_lexer": "ipython3",
   "version": "3.12.4"
  }
 },
 "nbformat": 4,
 "nbformat_minor": 5
}
