{
 "cells": [
  {
   "cell_type": "markdown",
   "id": "8552f9bd-ff7a-4c86-abc6-c3529b056d5d",
   "metadata": {},
   "source": [
    "## Simple Linear Regression"
   ]
  },
  {
   "cell_type": "code",
   "execution_count": 50,
   "id": "b3128c68-226f-47fa-912b-9fa8092bacf7",
   "metadata": {},
   "outputs": [],
   "source": [
    "import pandas as pd\n",
    "import numpy as np\n",
    "import os\n",
    "from numpy import random\n",
    "import scipy \n",
    "from scipy import stats\n",
    "from matplotlib import pyplot as plt\n",
    "from scipy.stats import binom\n",
    "from scipy.stats import poisson\n",
    "from scipy.stats import norm ,t\n",
    "import seaborn as sns\n",
    "import pylab\n",
    "from pylab import legend,plot,show,title,xlabel,ylabel\n",
    "from random import choice\n",
    "import statsmodels\n",
    "from statsmodels import stats\n",
    "from statsmodels.stats import weightstats as ssw\n",
    "import statsmodels.api as sm\n",
    "from statsmodels.formula.api import ols\n",
    "import statsmodels.stats.multicomp\n",
    "from statsmodels.stats.multicomp import pairwise_tukeyhsd\n",
    "from statsmodels.stats import proportion  as ssp\n",
    "from scipy.stats import chisquare\n",
    "from scipy.stats import chi2_contingency\n",
    "\n",
    "\n",
    "from sklearn.model_selection import train_test_split"
   ]
  },
  {
   "cell_type": "code",
   "execution_count": 51,
   "id": "e48a3639-faa7-4fb1-97d0-60624a3ccfb9",
   "metadata": {},
   "outputs": [],
   "source": [
    "df = pd.read_excel('CDAC_Databook.xlsx', sheet_name='stackloss')"
   ]
  },
  {
   "cell_type": "code",
   "execution_count": 52,
   "id": "b07c350a-1415-43c3-8166-e754cf2177a6",
   "metadata": {},
   "outputs": [
    {
     "data": {
      "text/html": [
       "<div>\n",
       "<style scoped>\n",
       "    .dataframe tbody tr th:only-of-type {\n",
       "        vertical-align: middle;\n",
       "    }\n",
       "\n",
       "    .dataframe tbody tr th {\n",
       "        vertical-align: top;\n",
       "    }\n",
       "\n",
       "    .dataframe thead th {\n",
       "        text-align: right;\n",
       "    }\n",
       "</style>\n",
       "<table border=\"1\" class=\"dataframe\">\n",
       "  <thead>\n",
       "    <tr style=\"text-align: right;\">\n",
       "      <th></th>\n",
       "      <th>AirFlow</th>\n",
       "      <th>WaterTemp</th>\n",
       "      <th>AcidConc</th>\n",
       "      <th>StackLoss</th>\n",
       "    </tr>\n",
       "  </thead>\n",
       "  <tbody>\n",
       "    <tr>\n",
       "      <th>0</th>\n",
       "      <td>80</td>\n",
       "      <td>27</td>\n",
       "      <td>89</td>\n",
       "      <td>42</td>\n",
       "    </tr>\n",
       "    <tr>\n",
       "      <th>1</th>\n",
       "      <td>80</td>\n",
       "      <td>27</td>\n",
       "      <td>88</td>\n",
       "      <td>37</td>\n",
       "    </tr>\n",
       "    <tr>\n",
       "      <th>2</th>\n",
       "      <td>75</td>\n",
       "      <td>25</td>\n",
       "      <td>90</td>\n",
       "      <td>37</td>\n",
       "    </tr>\n",
       "    <tr>\n",
       "      <th>3</th>\n",
       "      <td>62</td>\n",
       "      <td>24</td>\n",
       "      <td>87</td>\n",
       "      <td>28</td>\n",
       "    </tr>\n",
       "    <tr>\n",
       "      <th>4</th>\n",
       "      <td>62</td>\n",
       "      <td>22</td>\n",
       "      <td>87</td>\n",
       "      <td>18</td>\n",
       "    </tr>\n",
       "  </tbody>\n",
       "</table>\n",
       "</div>"
      ],
      "text/plain": [
       "   AirFlow  WaterTemp  AcidConc  StackLoss\n",
       "0       80         27        89         42\n",
       "1       80         27        88         37\n",
       "2       75         25        90         37\n",
       "3       62         24        87         28\n",
       "4       62         22        87         18"
      ]
     },
     "execution_count": 52,
     "metadata": {},
     "output_type": "execute_result"
    }
   ],
   "source": [
    "df.head()"
   ]
  },
  {
   "cell_type": "code",
   "execution_count": 53,
   "id": "18243946-f29a-47f7-aba9-32c73b8f1c55",
   "metadata": {},
   "outputs": [
    {
     "data": {
      "text/html": [
       "<div>\n",
       "<style scoped>\n",
       "    .dataframe tbody tr th:only-of-type {\n",
       "        vertical-align: middle;\n",
       "    }\n",
       "\n",
       "    .dataframe tbody tr th {\n",
       "        vertical-align: top;\n",
       "    }\n",
       "\n",
       "    .dataframe thead th {\n",
       "        text-align: right;\n",
       "    }\n",
       "</style>\n",
       "<table border=\"1\" class=\"dataframe\">\n",
       "  <thead>\n",
       "    <tr style=\"text-align: right;\">\n",
       "      <th></th>\n",
       "      <th>AirFlow</th>\n",
       "      <th>WaterTemp</th>\n",
       "      <th>AcidConc</th>\n",
       "      <th>StackLoss</th>\n",
       "    </tr>\n",
       "  </thead>\n",
       "  <tbody>\n",
       "    <tr>\n",
       "      <th>AirFlow</th>\n",
       "      <td>1.000000</td>\n",
       "      <td>0.781852</td>\n",
       "      <td>0.500143</td>\n",
       "      <td>0.919663</td>\n",
       "    </tr>\n",
       "    <tr>\n",
       "      <th>WaterTemp</th>\n",
       "      <td>0.781852</td>\n",
       "      <td>1.000000</td>\n",
       "      <td>0.390940</td>\n",
       "      <td>0.875504</td>\n",
       "    </tr>\n",
       "    <tr>\n",
       "      <th>AcidConc</th>\n",
       "      <td>0.500143</td>\n",
       "      <td>0.390940</td>\n",
       "      <td>1.000000</td>\n",
       "      <td>0.399830</td>\n",
       "    </tr>\n",
       "    <tr>\n",
       "      <th>StackLoss</th>\n",
       "      <td>0.919663</td>\n",
       "      <td>0.875504</td>\n",
       "      <td>0.399830</td>\n",
       "      <td>1.000000</td>\n",
       "    </tr>\n",
       "  </tbody>\n",
       "</table>\n",
       "</div>"
      ],
      "text/plain": [
       "            AirFlow  WaterTemp  AcidConc  StackLoss\n",
       "AirFlow    1.000000   0.781852  0.500143   0.919663\n",
       "WaterTemp  0.781852   1.000000  0.390940   0.875504\n",
       "AcidConc   0.500143   0.390940  1.000000   0.399830\n",
       "StackLoss  0.919663   0.875504  0.399830   1.000000"
      ]
     },
     "execution_count": 53,
     "metadata": {},
     "output_type": "execute_result"
    }
   ],
   "source": [
    "df.corr()"
   ]
  },
  {
   "cell_type": "code",
   "execution_count": 54,
   "id": "06a19ebb-2692-4ab6-b528-f36fbb2f4c30",
   "metadata": {},
   "outputs": [
    {
     "data": {
      "text/plain": [
       "array([[84.05714286, 22.65714286],\n",
       "       [22.65714286,  9.99047619]])"
      ]
     },
     "execution_count": 54,
     "metadata": {},
     "output_type": "execute_result"
    }
   ],
   "source": [
    "np.cov(df['AirFlow'], df['WaterTemp'])"
   ]
  },
  {
   "cell_type": "markdown",
   "id": "15f10db3-e26b-4140-9cd6-29fb60552a33",
   "metadata": {},
   "source": [
    "- 84.05714286 -->Co-variance Airflow with Airflow\n",
    "- 22.65714286 -->Co-variance Airflow with Watertemp\n",
    "- 9.99047619 -->Co-variance Watertemp with Watertemp"
   ]
  },
  {
   "cell_type": "code",
   "execution_count": 56,
   "id": "cbd8d8d5-ed43-4457-a1e5-97fde52d13ff",
   "metadata": {},
   "outputs": [
    {
     "data": {
      "text/plain": [
       "80.0544217687075"
      ]
     },
     "execution_count": 56,
     "metadata": {},
     "output_type": "execute_result"
    }
   ],
   "source": [
    "np.var(df['AirFlow'])"
   ]
  },
  {
   "cell_type": "code",
   "execution_count": 57,
   "id": "091b4635-69d3-4aaa-a1e1-1dcf1a5efb47",
   "metadata": {},
   "outputs": [
    {
     "data": {
      "text/plain": [
       "9.514739229024945"
      ]
     },
     "execution_count": 57,
     "metadata": {},
     "output_type": "execute_result"
    }
   ],
   "source": [
    "np.var(df['WaterTemp'])"
   ]
  },
  {
   "cell_type": "markdown",
   "id": "a6adc2a1-43d8-4b2c-a0ec-1e11da9d0f73",
   "metadata": {},
   "source": [
    "- Co-variance of the x1, x2, is equal to variance"
   ]
  },
  {
   "cell_type": "code",
   "execution_count": 59,
   "id": "da100edc-fa71-41c9-a0e5-48a9bc9d3792",
   "metadata": {},
   "outputs": [
    {
     "data": {
      "text/plain": [
       "array([[1.        , 0.78185233],\n",
       "       [0.78185233, 1.        ]])"
      ]
     },
     "execution_count": 59,
     "metadata": {},
     "output_type": "execute_result"
    }
   ],
   "source": [
    "np.corrcoef(df['AirFlow'], df['WaterTemp'])"
   ]
  },
  {
   "cell_type": "markdown",
   "id": "896d1606-4fc1-465a-ae2f-941307323040",
   "metadata": {},
   "source": []
  },
  {
   "cell_type": "code",
   "execution_count": 61,
   "id": "1db830cb-d80c-4a24-b7d9-cc4aba171ffe",
   "metadata": {},
   "outputs": [],
   "source": [
    "df_faith = pd.read_excel('CDAC_Databook.xlsx', sheet_name = 'faithful')"
   ]
  },
  {
   "cell_type": "code",
   "execution_count": 62,
   "id": "ebc1291e-3815-4d93-8e52-18b490592081",
   "metadata": {},
   "outputs": [
    {
     "data": {
      "text/html": [
       "<div>\n",
       "<style scoped>\n",
       "    .dataframe tbody tr th:only-of-type {\n",
       "        vertical-align: middle;\n",
       "    }\n",
       "\n",
       "    .dataframe tbody tr th {\n",
       "        vertical-align: top;\n",
       "    }\n",
       "\n",
       "    .dataframe thead th {\n",
       "        text-align: right;\n",
       "    }\n",
       "</style>\n",
       "<table border=\"1\" class=\"dataframe\">\n",
       "  <thead>\n",
       "    <tr style=\"text-align: right;\">\n",
       "      <th></th>\n",
       "      <th>eruptions</th>\n",
       "      <th>waiting</th>\n",
       "    </tr>\n",
       "  </thead>\n",
       "  <tbody>\n",
       "    <tr>\n",
       "      <th>0</th>\n",
       "      <td>3.600</td>\n",
       "      <td>79</td>\n",
       "    </tr>\n",
       "    <tr>\n",
       "      <th>1</th>\n",
       "      <td>1.800</td>\n",
       "      <td>54</td>\n",
       "    </tr>\n",
       "    <tr>\n",
       "      <th>2</th>\n",
       "      <td>3.333</td>\n",
       "      <td>74</td>\n",
       "    </tr>\n",
       "    <tr>\n",
       "      <th>3</th>\n",
       "      <td>2.283</td>\n",
       "      <td>62</td>\n",
       "    </tr>\n",
       "    <tr>\n",
       "      <th>4</th>\n",
       "      <td>4.533</td>\n",
       "      <td>85</td>\n",
       "    </tr>\n",
       "  </tbody>\n",
       "</table>\n",
       "</div>"
      ],
      "text/plain": [
       "   eruptions  waiting\n",
       "0      3.600       79\n",
       "1      1.800       54\n",
       "2      3.333       74\n",
       "3      2.283       62\n",
       "4      4.533       85"
      ]
     },
     "execution_count": 62,
     "metadata": {},
     "output_type": "execute_result"
    }
   ],
   "source": [
    "df_faith.head()"
   ]
  },
  {
   "cell_type": "code",
   "execution_count": 63,
   "id": "87da7af9-ed95-4ec4-a062-d60e44acf3f9",
   "metadata": {},
   "outputs": [
    {
     "data": {
      "text/plain": [
       "Text(0, 0.5, 'Eruptions')"
      ]
     },
     "execution_count": 63,
     "metadata": {},
     "output_type": "execute_result"
    },
    {
     "data": {
      "image/png": "[encoded data removed]",
      "text/plain": [
       "<Figure size 640x480 with 1 Axes>"
      ]
     },
     "metadata": {},
     "output_type": "display_data"
    }
   ],
   "source": [
    "plt.scatter(df_faith['waiting'], df_faith['eruptions'])\n",
    "plt.xlabel('Waitings')\n",
    "plt.ylabel('Eruptions')"
   ]
  },
  {
   "cell_type": "code",
   "execution_count": 64,
   "id": "aaeca379-014a-4ed7-a9ed-c33d8d89aa55",
   "metadata": {},
   "outputs": [
    {
     "data": {
      "text/plain": [
       "array([[1.        , 0.90081117],\n",
       "       [0.90081117, 1.        ]])"
      ]
     },
     "execution_count": 64,
     "metadata": {},
     "output_type": "execute_result"
    }
   ],
   "source": [
    "np.corrcoef(df_faith['waiting'], df_faith['eruptions'])"
   ]
  },
  {
   "cell_type": "code",
   "execution_count": null,
   "id": "ae73432b-69e3-4e28-8a42-846a3ede9e21",
   "metadata": {},
   "outputs": [],
   "source": []
  },
  {
   "cell_type": "code",
   "execution_count": 65,
   "id": "afe86e72-1aed-4112-a524-06ce10ca2020",
   "metadata": {},
   "outputs": [],
   "source": [
    "x_train = df_faith['waiting']\n",
    "y_train = df_faith['eruptions']\n",
    "x_train = sm.add_constant(x_train, prepend=False)"
   ]
  },
  {
   "cell_type": "markdown",
   "id": "1fe827ac-1fa1-4f57-aab8-379df01cf202",
   "metadata": {},
   "source": [
    "- we are adding 'C' in the line equation (y = mx + C)"
   ]
  },
  {
   "cell_type": "code",
   "execution_count": 67,
   "id": "d60a38cb-77eb-4609-a2fe-2d7339057685",
   "metadata": {},
   "outputs": [
    {
     "data": {
      "text/html": [
       "<div>\n",
       "<style scoped>\n",
       "    .dataframe tbody tr th:only-of-type {\n",
       "        vertical-align: middle;\n",
       "    }\n",
       "\n",
       "    .dataframe tbody tr th {\n",
       "        vertical-align: top;\n",
       "    }\n",
       "\n",
       "    .dataframe thead th {\n",
       "        text-align: right;\n",
       "    }\n",
       "</style>\n",
       "<table border=\"1\" class=\"dataframe\">\n",
       "  <thead>\n",
       "    <tr style=\"text-align: right;\">\n",
       "      <th></th>\n",
       "      <th>eruptions</th>\n",
       "      <th>waiting</th>\n",
       "    </tr>\n",
       "  </thead>\n",
       "  <tbody>\n",
       "    <tr>\n",
       "      <th>0</th>\n",
       "      <td>3.600</td>\n",
       "      <td>79</td>\n",
       "    </tr>\n",
       "    <tr>\n",
       "      <th>1</th>\n",
       "      <td>1.800</td>\n",
       "      <td>54</td>\n",
       "    </tr>\n",
       "    <tr>\n",
       "      <th>2</th>\n",
       "      <td>3.333</td>\n",
       "      <td>74</td>\n",
       "    </tr>\n",
       "    <tr>\n",
       "      <th>3</th>\n",
       "      <td>2.283</td>\n",
       "      <td>62</td>\n",
       "    </tr>\n",
       "    <tr>\n",
       "      <th>4</th>\n",
       "      <td>4.533</td>\n",
       "      <td>85</td>\n",
       "    </tr>\n",
       "  </tbody>\n",
       "</table>\n",
       "</div>"
      ],
      "text/plain": [
       "   eruptions  waiting\n",
       "0      3.600       79\n",
       "1      1.800       54\n",
       "2      3.333       74\n",
       "3      2.283       62\n",
       "4      4.533       85"
      ]
     },
     "execution_count": 67,
     "metadata": {},
     "output_type": "execute_result"
    }
   ],
   "source": [
    "df_faith.head()"
   ]
  },
  {
   "cell_type": "code",
   "execution_count": 68,
   "id": "d43e1e32-3aec-4ee3-a464-3c9bdd4a106b",
   "metadata": {},
   "outputs": [
    {
     "data": {
      "text/html": [
       "<div>\n",
       "<style scoped>\n",
       "    .dataframe tbody tr th:only-of-type {\n",
       "        vertical-align: middle;\n",
       "    }\n",
       "\n",
       "    .dataframe tbody tr th {\n",
       "        vertical-align: top;\n",
       "    }\n",
       "\n",
       "    .dataframe thead th {\n",
       "        text-align: right;\n",
       "    }\n",
       "</style>\n",
       "<table border=\"1\" class=\"dataframe\">\n",
       "  <thead>\n",
       "    <tr style=\"text-align: right;\">\n",
       "      <th></th>\n",
       "      <th>waiting</th>\n",
       "      <th>const</th>\n",
       "    </tr>\n",
       "  </thead>\n",
       "  <tbody>\n",
       "    <tr>\n",
       "      <th>0</th>\n",
       "      <td>79</td>\n",
       "      <td>1.0</td>\n",
       "    </tr>\n",
       "    <tr>\n",
       "      <th>1</th>\n",
       "      <td>54</td>\n",
       "      <td>1.0</td>\n",
       "    </tr>\n",
       "    <tr>\n",
       "      <th>2</th>\n",
       "      <td>74</td>\n",
       "      <td>1.0</td>\n",
       "    </tr>\n",
       "    <tr>\n",
       "      <th>3</th>\n",
       "      <td>62</td>\n",
       "      <td>1.0</td>\n",
       "    </tr>\n",
       "    <tr>\n",
       "      <th>4</th>\n",
       "      <td>85</td>\n",
       "      <td>1.0</td>\n",
       "    </tr>\n",
       "  </tbody>\n",
       "</table>\n",
       "</div>"
      ],
      "text/plain": [
       "   waiting  const\n",
       "0       79    1.0\n",
       "1       54    1.0\n",
       "2       74    1.0\n",
       "3       62    1.0\n",
       "4       85    1.0"
      ]
     },
     "execution_count": 68,
     "metadata": {},
     "output_type": "execute_result"
    }
   ],
   "source": [
    "x_train.head()"
   ]
  },
  {
   "cell_type": "code",
   "execution_count": 69,
   "id": "0db1f7a3-c4d7-4dd3-9747-a83ec6508523",
   "metadata": {},
   "outputs": [
    {
     "name": "stdout",
     "output_type": "stream",
     "text": [
      "                            OLS Regression Results                            \n",
      "==============================================================================\n",
      "Dep. Variable:              eruptions   R-squared:                       0.811\n",
      "Model:                            OLS   Adj. R-squared:                  0.811\n",
      "Method:                 Least Squares   F-statistic:                     1162.\n",
      "Date:                Wed, 18 Dec 2024   Prob (F-statistic):          8.13e-100\n",
      "Time:                        09:09:19   Log-Likelihood:                -194.51\n",
      "No. Observations:                 272   AIC:                             393.0\n",
      "Df Residuals:                     270   BIC:                             400.2\n",
      "Df Model:                           1                                         \n",
      "Covariance Type:            nonrobust                                         \n",
      "==============================================================================\n",
      "                 coef    std err          t      P>|t|      [0.025      0.975]\n",
      "------------------------------------------------------------------------------\n",
      "waiting        0.0756      0.002     34.089      0.000       0.071       0.080\n",
      "const         -1.8740      0.160    -11.702      0.000      -2.189      -1.559\n",
      "==============================================================================\n",
      "Omnibus:                        4.133   Durbin-Watson:                   2.561\n",
      "Prob(Omnibus):                  0.127   Jarque-Bera (JB):                3.173\n",
      "Skew:                          -0.138   Prob(JB):                        0.205\n",
      "Kurtosis:                       2.548   Cond. No.                         384.\n",
      "==============================================================================\n",
      "\n",
      "Notes:\n",
      "[1] Standard Errors assume that the covariance matrix of the errors is correctly specified.\n"
     ]
    }
   ],
   "source": [
    "mod1 = sm.OLS(y_train, x_train).fit() # OLS -> Ordinary Least Squared\n",
    "print(mod1.summary())"
   ]
  },
  {
   "cell_type": "markdown",
   "id": "19cdedf9-521e-427f-a03e-82e49562df43",
   "metadata": {},
   "source": [
    "- We have calculated to get least squared value for 'm' and 'c' for the Equation:\n",
    "    - eruptions = 0.0756 * waiting - 1.8740"
   ]
  },
  {
   "cell_type": "code",
   "execution_count": 71,
   "id": "ef012bdd-ddfb-4efb-8eba-a7a9b23737c8",
   "metadata": {},
   "outputs": [
    {
     "data": {
      "text/plain": [
       "0.8114607639967689"
      ]
     },
     "execution_count": 71,
     "metadata": {},
     "output_type": "execute_result"
    }
   ],
   "source": [
    "0.90081117**2 # R-squared = square of correlation coefficient (Only in Linear Regression) ;; coefficient of determination - R"
   ]
  },
  {
   "cell_type": "markdown",
   "id": "1867a362-7b9d-4baf-87e1-7fa074069255",
   "metadata": {},
   "source": [
    "- Adj Rsquared charges a penalty for the number of predictors used in the model.\n",
    "- As the number of predictors increase, the difference between r-squared and adjusted r-squared will also increase."
   ]
  },
  {
   "cell_type": "markdown",
   "id": "f640a400-e6b6-4f35-a246-994b518d158f",
   "metadata": {},
   "source": [
    "- F-statistic: 1162. ------------------> test statistic\n",
    "- Prob (F-statistic): 8.13e-100------> p-value\n",
    "- Since p- value < 0.05 , we reject null hypothesis, which helps us in further taking decisions for it. (Our model is useful)\n",
    "- [0.025      0.975] is the range , and since 0 is not between them, it confirms that Null Hypothesis is REJECTED"
   ]
  },
  {
   "cell_type": "code",
   "execution_count": null,
   "id": "10b0cda0-5e63-4a23-b1cb-d3ea71abc39f",
   "metadata": {},
   "outputs": [],
   "source": []
  },
  {
   "cell_type": "code",
   "execution_count": 94,
   "id": "69bf0d01-514b-4d89-a7d6-78a9438ac5d7",
   "metadata": {},
   "outputs": [
    {
     "data": {
      "text/html": [
       "<div>\n",
       "<style scoped>\n",
       "    .dataframe tbody tr th:only-of-type {\n",
       "        vertical-align: middle;\n",
       "    }\n",
       "\n",
       "    .dataframe tbody tr th {\n",
       "        vertical-align: top;\n",
       "    }\n",
       "\n",
       "    .dataframe thead th {\n",
       "        text-align: right;\n",
       "    }\n",
       "</style>\n",
       "<table border=\"1\" class=\"dataframe\">\n",
       "  <thead>\n",
       "    <tr style=\"text-align: right;\">\n",
       "      <th></th>\n",
       "      <th>eruptions</th>\n",
       "      <th>waiting</th>\n",
       "    </tr>\n",
       "  </thead>\n",
       "  <tbody>\n",
       "    <tr>\n",
       "      <th>0</th>\n",
       "      <td>3.600</td>\n",
       "      <td>79</td>\n",
       "    </tr>\n",
       "    <tr>\n",
       "      <th>1</th>\n",
       "      <td>1.800</td>\n",
       "      <td>54</td>\n",
       "    </tr>\n",
       "    <tr>\n",
       "      <th>2</th>\n",
       "      <td>3.333</td>\n",
       "      <td>74</td>\n",
       "    </tr>\n",
       "    <tr>\n",
       "      <th>3</th>\n",
       "      <td>2.283</td>\n",
       "      <td>62</td>\n",
       "    </tr>\n",
       "    <tr>\n",
       "      <th>4</th>\n",
       "      <td>4.533</td>\n",
       "      <td>85</td>\n",
       "    </tr>\n",
       "  </tbody>\n",
       "</table>\n",
       "</div>"
      ],
      "text/plain": [
       "   eruptions  waiting\n",
       "0      3.600       79\n",
       "1      1.800       54\n",
       "2      3.333       74\n",
       "3      2.283       62\n",
       "4      4.533       85"
      ]
     },
     "execution_count": 94,
     "metadata": {},
     "output_type": "execute_result"
    }
   ],
   "source": [
    "df_faith.head()"
   ]
  },
  {
   "cell_type": "code",
   "execution_count": 126,
   "id": "12ee3b5b-ca47-43cc-a12d-fb2d4bc51d25",
   "metadata": {},
   "outputs": [],
   "source": [
    "x_train, x_test, y_train, y_test = train_test_split(df_faith['waiting'], df_faith['eruptions'], test_size=0.2, random_state=20)\n",
    "# train_test_split(<input columns>, <name of output column>, test_size = 0.2 -> training = 80%, testing = 20%)"
   ]
  },
  {
   "cell_type": "code",
   "execution_count": 128,
   "id": "b2281f85-a033-4fc1-a3cb-b207e9f3baa3",
   "metadata": {},
   "outputs": [
    {
     "data": {
      "text/plain": [
       "(272, 2)"
      ]
     },
     "execution_count": 128,
     "metadata": {},
     "output_type": "execute_result"
    }
   ],
   "source": [
    "df_faith.shape"
   ]
  },
  {
   "cell_type": "code",
   "execution_count": 130,
   "id": "ad77facc-5582-435c-ab6b-27aa2f939315",
   "metadata": {},
   "outputs": [
    {
     "data": {
      "text/html": [
       "<div>\n",
       "<style scoped>\n",
       "    .dataframe tbody tr th:only-of-type {\n",
       "        vertical-align: middle;\n",
       "    }\n",
       "\n",
       "    .dataframe tbody tr th {\n",
       "        vertical-align: top;\n",
       "    }\n",
       "\n",
       "    .dataframe thead th {\n",
       "        text-align: right;\n",
       "    }\n",
       "</style>\n",
       "<table border=\"1\" class=\"dataframe\">\n",
       "  <thead>\n",
       "    <tr style=\"text-align: right;\">\n",
       "      <th></th>\n",
       "      <th>eruptions</th>\n",
       "      <th>waiting</th>\n",
       "    </tr>\n",
       "  </thead>\n",
       "  <tbody>\n",
       "    <tr>\n",
       "      <th>0</th>\n",
       "      <td>3.600</td>\n",
       "      <td>79</td>\n",
       "    </tr>\n",
       "    <tr>\n",
       "      <th>1</th>\n",
       "      <td>1.800</td>\n",
       "      <td>54</td>\n",
       "    </tr>\n",
       "    <tr>\n",
       "      <th>2</th>\n",
       "      <td>3.333</td>\n",
       "      <td>74</td>\n",
       "    </tr>\n",
       "  </tbody>\n",
       "</table>\n",
       "</div>"
      ],
      "text/plain": [
       "   eruptions  waiting\n",
       "0      3.600       79\n",
       "1      1.800       54\n",
       "2      3.333       74"
      ]
     },
     "execution_count": 130,
     "metadata": {},
     "output_type": "execute_result"
    }
   ],
   "source": [
    "df_faith.head(3)"
   ]
  },
  {
   "cell_type": "code",
   "execution_count": 132,
   "id": "1cad1858-ef36-4963-8856-ccc23bd2eb06",
   "metadata": {},
   "outputs": [
    {
     "data": {
      "text/plain": [
       "58     77\n",
       "184    51\n",
       "15     52\n",
       "Name: waiting, dtype: int64"
      ]
     },
     "execution_count": 132,
     "metadata": {},
     "output_type": "execute_result"
    }
   ],
   "source": [
    "x_train.head(3)"
   ]
  },
  {
   "cell_type": "code",
   "execution_count": 134,
   "id": "0eeeb42a-05f6-481e-a949-a1255114449d",
   "metadata": {},
   "outputs": [
    {
     "data": {
      "text/plain": [
       "217.60000000000002"
      ]
     },
     "execution_count": 134,
     "metadata": {},
     "output_type": "execute_result"
    }
   ],
   "source": [
    "272 * 0.8"
   ]
  },
  {
   "cell_type": "code",
   "execution_count": 136,
   "id": "3665d027-2468-444e-b9a8-25e7971f5b67",
   "metadata": {},
   "outputs": [
    {
     "data": {
      "text/plain": [
       "(217,)"
      ]
     },
     "execution_count": 136,
     "metadata": {},
     "output_type": "execute_result"
    }
   ],
   "source": [
    "x_train.shape"
   ]
  },
  {
   "cell_type": "code",
   "execution_count": 138,
   "id": "2d904887-bda1-4cdd-836c-506c9ef8c98a",
   "metadata": {},
   "outputs": [
    {
     "data": {
      "text/plain": [
       "58     4.567\n",
       "184    2.033\n",
       "15     2.167\n",
       "103    4.500\n",
       "81     4.333\n",
       "Name: eruptions, dtype: float64"
      ]
     },
     "execution_count": 138,
     "metadata": {},
     "output_type": "execute_result"
    }
   ],
   "source": [
    "y_train.head()"
   ]
  },
  {
   "cell_type": "code",
   "execution_count": 140,
   "id": "f3d1dbce-35d0-4120-b110-1035dfa7ca44",
   "metadata": {},
   "outputs": [
    {
     "data": {
      "text/plain": [
       "72     79\n",
       "132    56\n",
       "129    90\n",
       "29     79\n",
       "87     80\n",
       "Name: waiting, dtype: int64"
      ]
     },
     "execution_count": 140,
     "metadata": {},
     "output_type": "execute_result"
    }
   ],
   "source": [
    "x_test.head()"
   ]
  },
  {
   "cell_type": "code",
   "execution_count": 142,
   "id": "ab43adfe-eacb-44bb-bb4b-3467d455cacc",
   "metadata": {},
   "outputs": [],
   "source": [
    "x_train = sm.add_constant(x_train, prepend=False)"
   ]
  },
  {
   "cell_type": "code",
   "execution_count": 144,
   "id": "069c380d-5c76-42e0-8d95-9c777d4fcd4e",
   "metadata": {},
   "outputs": [
    {
     "name": "stdout",
     "output_type": "stream",
     "text": [
      "                            OLS Regression Results                            \n",
      "==============================================================================\n",
      "Dep. Variable:              eruptions   R-squared:                       0.802\n",
      "Model:                            OLS   Adj. R-squared:                  0.801\n",
      "Method:                 Least Squares   F-statistic:                     871.7\n",
      "Date:                Wed, 18 Dec 2024   Prob (F-statistic):           1.37e-77\n",
      "Time:                        09:28:16   Log-Likelihood:                -160.39\n",
      "No. Observations:                 217   AIC:                             324.8\n",
      "Df Residuals:                     215   BIC:                             331.5\n",
      "Df Model:                           1                                         \n",
      "Covariance Type:            nonrobust                                         \n",
      "==============================================================================\n",
      "                 coef    std err          t      P>|t|      [0.025      0.975]\n",
      "------------------------------------------------------------------------------\n",
      "waiting        0.0759      0.003     29.525      0.000       0.071       0.081\n",
      "const         -1.9119      0.185    -10.326      0.000      -2.277      -1.547\n",
      "==============================================================================\n",
      "Omnibus:                        4.570   Durbin-Watson:                   1.937\n",
      "Prob(Omnibus):                  0.102   Jarque-Bera (JB):                2.855\n",
      "Skew:                          -0.053   Prob(JB):                        0.240\n",
      "Kurtosis:                       2.448   Cond. No.                         386.\n",
      "==============================================================================\n",
      "\n",
      "Notes:\n",
      "[1] Standard Errors assume that the covariance matrix of the errors is correctly specified.\n"
     ]
    }
   ],
   "source": [
    "mod1 = sm.OLS(y_train, x_train).fit()\n",
    "print(mod1.summary())"
   ]
  },
  {
   "cell_type": "raw",
   "id": "97742856-3fcb-41b8-8f25-1daa50d080cc",
   "metadata": {},
   "source": [
    "R-squared value is low because the best fit line does not cover all the points.\n",
    "Meaning that all points are not clustered along the line of best fit."
   ]
  },
  {
   "cell_type": "code",
   "execution_count": 146,
   "id": "6641f30e-40be-4983-908d-03e484648350",
   "metadata": {},
   "outputs": [],
   "source": [
    "x_test = sm.add_constant(x_test, prepend=False)\n",
    "y_pred = mod1.predict(x_test)"
   ]
  },
  {
   "cell_type": "code",
   "execution_count": 148,
   "id": "9f0a2132-2656-41be-b6c3-96743b3fd794",
   "metadata": {},
   "outputs": [
    {
     "data": {
      "text/plain": [
       "72     4.083201\n",
       "132    2.337782\n",
       "129    4.917967\n",
       "29     4.083201\n",
       "87     4.159089\n",
       "dtype: float64"
      ]
     },
     "execution_count": 148,
     "metadata": {},
     "output_type": "execute_result"
    }
   ],
   "source": [
    "y_pred.head()"
   ]
  },
  {
   "cell_type": "code",
   "execution_count": 150,
   "id": "03212afc-59b1-4b8f-83e8-abfbad4744ca",
   "metadata": {},
   "outputs": [
    {
     "data": {
      "text/plain": [
       "72     4.500\n",
       "132    2.800\n",
       "129    4.650\n",
       "29     4.433\n",
       "87     4.517\n",
       "Name: eruptions, dtype: float64"
      ]
     },
     "execution_count": 150,
     "metadata": {},
     "output_type": "execute_result"
    }
   ],
   "source": [
    "y_test.head()"
   ]
  },
  {
   "cell_type": "code",
   "execution_count": null,
   "id": "28c486a1-90af-4656-a138-c4050eab01a2",
   "metadata": {},
   "outputs": [],
   "source": []
  },
  {
   "cell_type": "markdown",
   "id": "4e58481a-2e37-4e3f-bda0-8ad39b03c0a7",
   "metadata": {},
   "source": [
    "# Multiple Linear Regression"
   ]
  },
  {
   "cell_type": "markdown",
   "id": "fdfe603e-fb60-42e8-a9c0-452c82472c86",
   "metadata": {},
   "source": [
    "- Response must be continuous\n",
    "- More than 1 predictors continuous"
   ]
  },
  {
   "cell_type": "code",
   "execution_count": 156,
   "id": "aa5243c8-f21c-486e-9f75-c2b923196428",
   "metadata": {},
   "outputs": [
    {
     "data": {
      "text/html": [
       "<div>\n",
       "<style scoped>\n",
       "    .dataframe tbody tr th:only-of-type {\n",
       "        vertical-align: middle;\n",
       "    }\n",
       "\n",
       "    .dataframe tbody tr th {\n",
       "        vertical-align: top;\n",
       "    }\n",
       "\n",
       "    .dataframe thead th {\n",
       "        text-align: right;\n",
       "    }\n",
       "</style>\n",
       "<table border=\"1\" class=\"dataframe\">\n",
       "  <thead>\n",
       "    <tr style=\"text-align: right;\">\n",
       "      <th></th>\n",
       "      <th>AirFlow</th>\n",
       "      <th>WaterTemp</th>\n",
       "      <th>AcidConc</th>\n",
       "      <th>StackLoss</th>\n",
       "    </tr>\n",
       "  </thead>\n",
       "  <tbody>\n",
       "    <tr>\n",
       "      <th>0</th>\n",
       "      <td>80</td>\n",
       "      <td>27</td>\n",
       "      <td>89</td>\n",
       "      <td>42</td>\n",
       "    </tr>\n",
       "    <tr>\n",
       "      <th>1</th>\n",
       "      <td>80</td>\n",
       "      <td>27</td>\n",
       "      <td>88</td>\n",
       "      <td>37</td>\n",
       "    </tr>\n",
       "    <tr>\n",
       "      <th>2</th>\n",
       "      <td>75</td>\n",
       "      <td>25</td>\n",
       "      <td>90</td>\n",
       "      <td>37</td>\n",
       "    </tr>\n",
       "    <tr>\n",
       "      <th>3</th>\n",
       "      <td>62</td>\n",
       "      <td>24</td>\n",
       "      <td>87</td>\n",
       "      <td>28</td>\n",
       "    </tr>\n",
       "    <tr>\n",
       "      <th>4</th>\n",
       "      <td>62</td>\n",
       "      <td>22</td>\n",
       "      <td>87</td>\n",
       "      <td>18</td>\n",
       "    </tr>\n",
       "  </tbody>\n",
       "</table>\n",
       "</div>"
      ],
      "text/plain": [
       "   AirFlow  WaterTemp  AcidConc  StackLoss\n",
       "0       80         27        89         42\n",
       "1       80         27        88         37\n",
       "2       75         25        90         37\n",
       "3       62         24        87         28\n",
       "4       62         22        87         18"
      ]
     },
     "execution_count": 156,
     "metadata": {},
     "output_type": "execute_result"
    }
   ],
   "source": [
    "df.head()"
   ]
  },
  {
   "cell_type": "code",
   "execution_count": 158,
   "id": "0a1698f5-0a2c-42b2-8568-01021200cf53",
   "metadata": {},
   "outputs": [],
   "source": [
    "x_train, x_test, y_train, y_test = train_test_split(df.drop('StackLoss', axis=1), df['StackLoss'], test_size=0.2, random_state=20)"
   ]
  },
  {
   "cell_type": "code",
   "execution_count": 160,
   "id": "1455916a-b179-484d-a2d4-011bcf2badd2",
   "metadata": {},
   "outputs": [
    {
     "data": {
      "text/html": [
       "<div>\n",
       "<style scoped>\n",
       "    .dataframe tbody tr th:only-of-type {\n",
       "        vertical-align: middle;\n",
       "    }\n",
       "\n",
       "    .dataframe tbody tr th {\n",
       "        vertical-align: top;\n",
       "    }\n",
       "\n",
       "    .dataframe thead th {\n",
       "        text-align: right;\n",
       "    }\n",
       "</style>\n",
       "<table border=\"1\" class=\"dataframe\">\n",
       "  <thead>\n",
       "    <tr style=\"text-align: right;\">\n",
       "      <th></th>\n",
       "      <th>AirFlow</th>\n",
       "      <th>WaterTemp</th>\n",
       "      <th>AcidConc</th>\n",
       "    </tr>\n",
       "  </thead>\n",
       "  <tbody>\n",
       "    <tr>\n",
       "      <th>12</th>\n",
       "      <td>58</td>\n",
       "      <td>18</td>\n",
       "      <td>82</td>\n",
       "    </tr>\n",
       "    <tr>\n",
       "      <th>13</th>\n",
       "      <td>58</td>\n",
       "      <td>19</td>\n",
       "      <td>93</td>\n",
       "    </tr>\n",
       "    <tr>\n",
       "      <th>17</th>\n",
       "      <td>50</td>\n",
       "      <td>19</td>\n",
       "      <td>79</td>\n",
       "    </tr>\n",
       "    <tr>\n",
       "      <th>14</th>\n",
       "      <td>50</td>\n",
       "      <td>18</td>\n",
       "      <td>89</td>\n",
       "    </tr>\n",
       "    <tr>\n",
       "      <th>20</th>\n",
       "      <td>70</td>\n",
       "      <td>20</td>\n",
       "      <td>91</td>\n",
       "    </tr>\n",
       "  </tbody>\n",
       "</table>\n",
       "</div>"
      ],
      "text/plain": [
       "    AirFlow  WaterTemp  AcidConc\n",
       "12       58         18        82\n",
       "13       58         19        93\n",
       "17       50         19        79\n",
       "14       50         18        89\n",
       "20       70         20        91"
      ]
     },
     "execution_count": 160,
     "metadata": {},
     "output_type": "execute_result"
    }
   ],
   "source": [
    "x_train.head()"
   ]
  },
  {
   "cell_type": "code",
   "execution_count": 162,
   "id": "da0157a2-ee46-4581-8289-1f45c1d9f4bd",
   "metadata": {},
   "outputs": [
    {
     "data": {
      "text/plain": [
       "12    11\n",
       "13    12\n",
       "17     8\n",
       "14     8\n",
       "20    15\n",
       "Name: StackLoss, dtype: int64"
      ]
     },
     "execution_count": 162,
     "metadata": {},
     "output_type": "execute_result"
    }
   ],
   "source": [
    "y_train.head()"
   ]
  },
  {
   "cell_type": "code",
   "execution_count": 164,
   "id": "2e42e689-7860-483a-904f-d19063d01e35",
   "metadata": {},
   "outputs": [
    {
     "data": {
      "text/html": [
       "<div>\n",
       "<style scoped>\n",
       "    .dataframe tbody tr th:only-of-type {\n",
       "        vertical-align: middle;\n",
       "    }\n",
       "\n",
       "    .dataframe tbody tr th {\n",
       "        vertical-align: top;\n",
       "    }\n",
       "\n",
       "    .dataframe thead th {\n",
       "        text-align: right;\n",
       "    }\n",
       "</style>\n",
       "<table border=\"1\" class=\"dataframe\">\n",
       "  <thead>\n",
       "    <tr style=\"text-align: right;\">\n",
       "      <th></th>\n",
       "      <th>AirFlow</th>\n",
       "      <th>WaterTemp</th>\n",
       "      <th>AcidConc</th>\n",
       "    </tr>\n",
       "  </thead>\n",
       "  <tbody>\n",
       "    <tr>\n",
       "      <th>16</th>\n",
       "      <td>50</td>\n",
       "      <td>19</td>\n",
       "      <td>72</td>\n",
       "    </tr>\n",
       "    <tr>\n",
       "      <th>19</th>\n",
       "      <td>56</td>\n",
       "      <td>20</td>\n",
       "      <td>82</td>\n",
       "    </tr>\n",
       "    <tr>\n",
       "      <th>18</th>\n",
       "      <td>50</td>\n",
       "      <td>20</td>\n",
       "      <td>80</td>\n",
       "    </tr>\n",
       "    <tr>\n",
       "      <th>4</th>\n",
       "      <td>62</td>\n",
       "      <td>22</td>\n",
       "      <td>87</td>\n",
       "    </tr>\n",
       "    <tr>\n",
       "      <th>1</th>\n",
       "      <td>80</td>\n",
       "      <td>27</td>\n",
       "      <td>88</td>\n",
       "    </tr>\n",
       "  </tbody>\n",
       "</table>\n",
       "</div>"
      ],
      "text/plain": [
       "    AirFlow  WaterTemp  AcidConc\n",
       "16       50         19        72\n",
       "19       56         20        82\n",
       "18       50         20        80\n",
       "4        62         22        87\n",
       "1        80         27        88"
      ]
     },
     "execution_count": 164,
     "metadata": {},
     "output_type": "execute_result"
    }
   ],
   "source": [
    "x_test.head()"
   ]
  },
  {
   "cell_type": "code",
   "execution_count": 166,
   "id": "e8f765a6-389d-4815-b81a-ce306cdf9bd0",
   "metadata": {},
   "outputs": [
    {
     "data": {
      "text/plain": [
       "16     8\n",
       "19    15\n",
       "18     9\n",
       "4     18\n",
       "1     37\n",
       "Name: StackLoss, dtype: int64"
      ]
     },
     "execution_count": 166,
     "metadata": {},
     "output_type": "execute_result"
    }
   ],
   "source": [
    "y_test.head()"
   ]
  },
  {
   "cell_type": "code",
   "execution_count": 168,
   "id": "288d19ed-e4bf-4ae3-8155-583e827901a1",
   "metadata": {},
   "outputs": [],
   "source": [
    "x_train = sm.add_constant(x_train, prepend=False)"
   ]
  },
  {
   "cell_type": "code",
   "execution_count": 186,
   "id": "7c0476ce-b725-479b-a61e-676e94f50c2e",
   "metadata": {},
   "outputs": [
    {
     "name": "stdout",
     "output_type": "stream",
     "text": [
      "                            OLS Regression Results                            \n",
      "==============================================================================\n",
      "Dep. Variable:              StackLoss   R-squared:                       0.893\n",
      "Model:                            OLS   Adj. R-squared:                  0.867\n",
      "Method:                 Least Squares   F-statistic:                     33.46\n",
      "Date:                Wed, 18 Dec 2024   Prob (F-statistic):           4.14e-06\n",
      "Time:                        10:24:24   Log-Likelihood:                -41.238\n",
      "No. Observations:                  16   AIC:                             90.48\n",
      "Df Residuals:                      12   BIC:                             93.57\n",
      "Df Model:                           3                                         \n",
      "Covariance Type:            nonrobust                                         \n",
      "==============================================================================\n",
      "                 coef    std err          t      P>|t|      [0.025      0.975]\n",
      "------------------------------------------------------------------------------\n",
      "AirFlow        0.7337      0.169      4.346      0.001       0.366       1.102\n",
      "WaterTemp      1.3969      0.438      3.188      0.008       0.442       2.352\n",
      "AcidConc      -0.2726      0.245     -1.114      0.287      -0.806       0.261\n",
      "const        -32.3094     19.465     -1.660      0.123     -74.720      10.101\n",
      "==============================================================================\n",
      "Omnibus:                        0.802   Durbin-Watson:                   2.243\n",
      "Prob(Omnibus):                  0.670   Jarque-Bera (JB):                0.663\n",
      "Skew:                          -0.437   Prob(JB):                        0.718\n",
      "Kurtosis:                       2.520   Cond. No.                     2.31e+03\n",
      "==============================================================================\n",
      "\n",
      "Notes:\n",
      "[1] Standard Errors assume that the covariance matrix of the errors is correctly specified.\n",
      "[2] The condition number is large, 2.31e+03. This might indicate that there are\n",
      "strong multicollinearity or other numerical problems.\n"
     ]
    },
    {
     "name": "stderr",
     "output_type": "stream",
     "text": [
      "C:\\Users\\Abhay\\anaconda3\\Lib\\site-packages\\scipy\\stats\\_axis_nan_policy.py:531: UserWarning: kurtosistest only valid for n>=20 ... continuing anyway, n=16\n",
      "  res = hypotest_fun_out(*samples, **kwds)\n"
     ]
    }
   ],
   "source": [
    "mod1 = sm.OLS(y_train, x_train).fit()\n",
    "print(mod1.summary())"
   ]
  },
  {
   "cell_type": "markdown",
   "id": "62ec333a-14ba-4736-be3d-d7a75d73400e",
   "metadata": {},
   "source": [
    "- As the number of predictors increases, the value of Adj. R-squared decreases."
   ]
  },
  {
   "cell_type": "code",
   "execution_count": 172,
   "id": "6b74feba-29c7-4921-acf0-9ae0de4f5932",
   "metadata": {},
   "outputs": [],
   "source": [
    "x_test = sm.add_constant(x_test, prepend=False)"
   ]
  },
  {
   "cell_type": "code",
   "execution_count": 174,
   "id": "981f8ada-8e21-4beb-9a67-3eae0f4c27b9",
   "metadata": {},
   "outputs": [],
   "source": [
    "y_pred = mod1.predict(x_test)"
   ]
  },
  {
   "cell_type": "code",
   "execution_count": 176,
   "id": "d1005240-e11a-4051-a4b9-abaa9adb39bd",
   "metadata": {},
   "outputs": [
    {
     "data": {
      "text/plain": [
       "16    11.290732\n",
       "19    14.364000\n",
       "18    10.506952\n",
       "dtype: float64"
      ]
     },
     "execution_count": 176,
     "metadata": {},
     "output_type": "execute_result"
    }
   ],
   "source": [
    "y_pred.head(3)"
   ]
  },
  {
   "cell_type": "code",
   "execution_count": 178,
   "id": "81a38540-8af2-4e82-bdec-1156f646dc6e",
   "metadata": {},
   "outputs": [
    {
     "data": {
      "text/plain": [
       "16     8\n",
       "19    15\n",
       "18     9\n",
       "Name: StackLoss, dtype: int64"
      ]
     },
     "execution_count": 178,
     "metadata": {},
     "output_type": "execute_result"
    }
   ],
   "source": [
    "y_test.head(3)"
   ]
  },
  {
   "cell_type": "code",
   "execution_count": 180,
   "id": "ca507a9b-3f27-4d27-8301-f9e1d31f92f5",
   "metadata": {},
   "outputs": [
    {
     "data": {
      "text/plain": [
       "(21, 4)"
      ]
     },
     "execution_count": 180,
     "metadata": {},
     "output_type": "execute_result"
    }
   ],
   "source": [
    "df.shape"
   ]
  },
  {
   "cell_type": "code",
   "execution_count": 190,
   "id": "2597ea78-e44c-459a-a103-80395162a149",
   "metadata": {},
   "outputs": [
    {
     "data": {
      "text/plain": [
       "(16, 4)"
      ]
     },
     "execution_count": 190,
     "metadata": {},
     "output_type": "execute_result"
    }
   ],
   "source": [
    "x_train.shape"
   ]
  },
  {
   "cell_type": "code",
   "execution_count": null,
   "id": "b7284fcf-1919-4fca-bd59-2601a78e9085",
   "metadata": {},
   "outputs": [],
   "source": []
  }
 ],
 "metadata": {
  "kernelspec": {
   "display_name": "Python 3 (ipykernel)",
   "language": "python",
   "name": "python3"
  },
  "language_info": {
   "codemirror_mode": {
    "name": "ipython",
    "version": 3
   },
   "file_extension": ".py",
   "mimetype": "text/x-python",
   "name": "python",
   "nbconvert_exporter": "python",
   "pygments_lexer": "ipython3",
   "version": "3.12.4"
  }
 },
 "nbformat": 4,
 "nbformat_minor": 5
}
