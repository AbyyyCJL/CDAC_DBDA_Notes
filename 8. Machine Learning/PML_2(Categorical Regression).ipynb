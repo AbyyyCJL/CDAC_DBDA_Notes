{
 "cells": [
  {
   "cell_type": "code",
   "execution_count": 1,
   "id": "c661dfd8-f089-4a78-9dec-6f2320e6303f",
   "metadata": {},
   "outputs": [],
   "source": [
    "import pandas as pd\n",
    "import numpy as np\n",
    "import os\n",
    "from numpy import random\n",
    "import scipy \n",
    "from scipy import stats\n",
    "from matplotlib import pyplot as plt\n",
    "from scipy.stats import binom\n",
    "from scipy.stats import poisson\n",
    "from scipy.stats import norm ,t\n",
    "import seaborn as sns\n",
    "import pylab\n",
    "from pylab import legend,plot,show,title,xlabel,ylabel\n",
    "from random import choice\n",
    "import statsmodels\n",
    "from statsmodels import stats\n",
    "from statsmodels.stats import weightstats as ssw\n",
    "import statsmodels.api as sm\n",
    "from statsmodels.formula.api import ols\n",
    "import statsmodels.stats.multicomp\n",
    "from statsmodels.stats.multicomp import pairwise_tukeyhsd\n",
    "from statsmodels.stats import proportion as ssp\n",
    "from scipy.stats import chisquare\n",
    "from scipy.stats import chi2_contingency\n",
    "\n",
    "\n",
    "from sklearn.model_selection import train_test_split"
   ]
  },
  {
   "cell_type": "markdown",
   "id": "81b21444-e356-4a5f-9325-3757a95e4ecb",
   "metadata": {},
   "source": [
    "- No of Dummy columns = No of levels - 1\n",
    "- Reference event -> gives the removed column in above "
   ]
  },
  {
   "cell_type": "raw",
   "id": "39de264d-2a55-4444-ab98-aed4bb0bfa62",
   "metadata": {},
   "source": [
    "1.7 * exp + m2 * Female + constant\n",
    "m1"
   ]
  },
  {
   "cell_type": "code",
   "execution_count": 3,
   "id": "26ba5925-0cf5-4305-8cf7-ec077466f835",
   "metadata": {},
   "outputs": [],
   "source": [
    "df_sal = pd.read_excel('CDAC_Databook.xlsx', sheet_name='salaries')"
   ]
  },
  {
   "cell_type": "code",
   "execution_count": 4,
   "id": "a7f29bf6-327a-401a-89a3-d18822ee1e35",
   "metadata": {},
   "outputs": [
    {
     "data": {
      "text/html": [
       "<div>\n",
       "<style scoped>\n",
       "    .dataframe tbody tr th:only-of-type {\n",
       "        vertical-align: middle;\n",
       "    }\n",
       "\n",
       "    .dataframe tbody tr th {\n",
       "        vertical-align: top;\n",
       "    }\n",
       "\n",
       "    .dataframe thead th {\n",
       "        text-align: right;\n",
       "    }\n",
       "</style>\n",
       "<table border=\"1\" class=\"dataframe\">\n",
       "  <thead>\n",
       "    <tr style=\"text-align: right;\">\n",
       "      <th></th>\n",
       "      <th>rank</th>\n",
       "      <th>discipline</th>\n",
       "      <th>yrs_phd</th>\n",
       "      <th>yrs_service</th>\n",
       "      <th>gender</th>\n",
       "      <th>salary</th>\n",
       "    </tr>\n",
       "  </thead>\n",
       "  <tbody>\n",
       "    <tr>\n",
       "      <th>0</th>\n",
       "      <td>Prof</td>\n",
       "      <td>B</td>\n",
       "      <td>19</td>\n",
       "      <td>18</td>\n",
       "      <td>Male</td>\n",
       "      <td>139750</td>\n",
       "    </tr>\n",
       "    <tr>\n",
       "      <th>1</th>\n",
       "      <td>Prof</td>\n",
       "      <td>B</td>\n",
       "      <td>20</td>\n",
       "      <td>16</td>\n",
       "      <td>Male</td>\n",
       "      <td>173200</td>\n",
       "    </tr>\n",
       "    <tr>\n",
       "      <th>2</th>\n",
       "      <td>AsstProf</td>\n",
       "      <td>B</td>\n",
       "      <td>4</td>\n",
       "      <td>3</td>\n",
       "      <td>Male</td>\n",
       "      <td>79750</td>\n",
       "    </tr>\n",
       "    <tr>\n",
       "      <th>3</th>\n",
       "      <td>Prof</td>\n",
       "      <td>B</td>\n",
       "      <td>45</td>\n",
       "      <td>39</td>\n",
       "      <td>Male</td>\n",
       "      <td>115000</td>\n",
       "    </tr>\n",
       "    <tr>\n",
       "      <th>4</th>\n",
       "      <td>Prof</td>\n",
       "      <td>B</td>\n",
       "      <td>40</td>\n",
       "      <td>41</td>\n",
       "      <td>Male</td>\n",
       "      <td>141500</td>\n",
       "    </tr>\n",
       "  </tbody>\n",
       "</table>\n",
       "</div>"
      ],
      "text/plain": [
       "       rank discipline  yrs_phd  yrs_service gender  salary\n",
       "0      Prof          B       19           18   Male  139750\n",
       "1      Prof          B       20           16   Male  173200\n",
       "2  AsstProf          B        4            3   Male   79750\n",
       "3      Prof          B       45           39   Male  115000\n",
       "4      Prof          B       40           41   Male  141500"
      ]
     },
     "execution_count": 4,
     "metadata": {},
     "output_type": "execute_result"
    }
   ],
   "source": [
    "df_sal.head()"
   ]
  },
  {
   "cell_type": "code",
   "execution_count": 5,
   "id": "40af3261-810a-424a-acf2-ec1c107597d3",
   "metadata": {},
   "outputs": [],
   "source": [
    "df_sal = df_sal[['gender', 'yrs_service', 'salary']]"
   ]
  },
  {
   "cell_type": "code",
   "execution_count": 6,
   "id": "af86f726-747b-4f12-80ae-60623b57108d",
   "metadata": {},
   "outputs": [
    {
     "data": {
      "text/html": [
       "<div>\n",
       "<style scoped>\n",
       "    .dataframe tbody tr th:only-of-type {\n",
       "        vertical-align: middle;\n",
       "    }\n",
       "\n",
       "    .dataframe tbody tr th {\n",
       "        vertical-align: top;\n",
       "    }\n",
       "\n",
       "    .dataframe thead th {\n",
       "        text-align: right;\n",
       "    }\n",
       "</style>\n",
       "<table border=\"1\" class=\"dataframe\">\n",
       "  <thead>\n",
       "    <tr style=\"text-align: right;\">\n",
       "      <th></th>\n",
       "      <th>gender</th>\n",
       "      <th>yrs_service</th>\n",
       "      <th>salary</th>\n",
       "    </tr>\n",
       "  </thead>\n",
       "  <tbody>\n",
       "    <tr>\n",
       "      <th>0</th>\n",
       "      <td>Male</td>\n",
       "      <td>18</td>\n",
       "      <td>139750</td>\n",
       "    </tr>\n",
       "    <tr>\n",
       "      <th>1</th>\n",
       "      <td>Male</td>\n",
       "      <td>16</td>\n",
       "      <td>173200</td>\n",
       "    </tr>\n",
       "    <tr>\n",
       "      <th>2</th>\n",
       "      <td>Male</td>\n",
       "      <td>3</td>\n",
       "      <td>79750</td>\n",
       "    </tr>\n",
       "    <tr>\n",
       "      <th>3</th>\n",
       "      <td>Male</td>\n",
       "      <td>39</td>\n",
       "      <td>115000</td>\n",
       "    </tr>\n",
       "    <tr>\n",
       "      <th>4</th>\n",
       "      <td>Male</td>\n",
       "      <td>41</td>\n",
       "      <td>141500</td>\n",
       "    </tr>\n",
       "  </tbody>\n",
       "</table>\n",
       "</div>"
      ],
      "text/plain": [
       "  gender  yrs_service  salary\n",
       "0   Male           18  139750\n",
       "1   Male           16  173200\n",
       "2   Male            3   79750\n",
       "3   Male           39  115000\n",
       "4   Male           41  141500"
      ]
     },
     "execution_count": 6,
     "metadata": {},
     "output_type": "execute_result"
    }
   ],
   "source": [
    "df_sal.head()"
   ]
  },
  {
   "cell_type": "code",
   "execution_count": 7,
   "id": "453d2f4e-b336-41bb-8fb6-59748487a469",
   "metadata": {},
   "outputs": [
    {
     "name": "stdout",
     "output_type": "stream",
     "text": [
      "<class 'pandas.core.frame.DataFrame'>\n",
      "RangeIndex: 397 entries, 0 to 396\n",
      "Data columns (total 3 columns):\n",
      " #   Column       Non-Null Count  Dtype \n",
      "---  ------       --------------  ----- \n",
      " 0   gender       397 non-null    object\n",
      " 1   yrs_service  397 non-null    int64 \n",
      " 2   salary       397 non-null    int64 \n",
      "dtypes: int64(2), object(1)\n",
      "memory usage: 9.4+ KB\n"
     ]
    }
   ],
   "source": [
    "df_sal.info()"
   ]
  },
  {
   "cell_type": "code",
   "execution_count": 8,
   "id": "9b78a4d4-ec76-40b3-b1c2-fa12d1a60169",
   "metadata": {},
   "outputs": [
    {
     "data": {
      "text/plain": [
       "gender\n",
       "Male      358\n",
       "Female     39\n",
       "Name: count, dtype: int64"
      ]
     },
     "execution_count": 8,
     "metadata": {},
     "output_type": "execute_result"
    }
   ],
   "source": [
    "df_sal.gender.value_counts()"
   ]
  },
  {
   "cell_type": "code",
   "execution_count": 9,
   "id": "7dbc0639-9f4c-4dcd-87b2-853eb6f9fcf0",
   "metadata": {},
   "outputs": [],
   "source": [
    "# 1. Generate dummy columns\n",
    "gen_dum = pd.get_dummies(df_sal['gender'], drop_first=True).astype(int)"
   ]
  },
  {
   "cell_type": "markdown",
   "id": "52fc205d-a167-4729-a741-a6c790d208c4",
   "metadata": {},
   "source": [
    "- ```drop_first=True``` --> First value alphabetically will be taken as reference event\n",
    "- Also called as **\"One Hot Encoding\"**"
   ]
  },
  {
   "cell_type": "code",
   "execution_count": 11,
   "id": "c38a22a0-c90a-46cf-9e8f-8a3de7528016",
   "metadata": {
    "scrolled": true
   },
   "outputs": [],
   "source": [
    "# 2. Remove the original Column\n",
    "df_sal = df_sal.drop('gender', axis = 1)"
   ]
  },
  {
   "cell_type": "code",
   "execution_count": 12,
   "id": "1c7acd3b-afd4-4f5c-b2bd-df0ca9853386",
   "metadata": {},
   "outputs": [],
   "source": [
    "# 3. Append the dummy column(s) to the dataset\n",
    "df_sal = pd.concat([df_sal, gen_dum], axis=1)"
   ]
  },
  {
   "cell_type": "code",
   "execution_count": 13,
   "id": "0455e2c0-5f8e-4d9d-8cf5-d0d60a934a08",
   "metadata": {},
   "outputs": [
    {
     "data": {
      "text/html": [
       "<div>\n",
       "<style scoped>\n",
       "    .dataframe tbody tr th:only-of-type {\n",
       "        vertical-align: middle;\n",
       "    }\n",
       "\n",
       "    .dataframe tbody tr th {\n",
       "        vertical-align: top;\n",
       "    }\n",
       "\n",
       "    .dataframe thead th {\n",
       "        text-align: right;\n",
       "    }\n",
       "</style>\n",
       "<table border=\"1\" class=\"dataframe\">\n",
       "  <thead>\n",
       "    <tr style=\"text-align: right;\">\n",
       "      <th></th>\n",
       "      <th>yrs_service</th>\n",
       "      <th>salary</th>\n",
       "      <th>Male</th>\n",
       "    </tr>\n",
       "  </thead>\n",
       "  <tbody>\n",
       "    <tr>\n",
       "      <th>0</th>\n",
       "      <td>18</td>\n",
       "      <td>139750</td>\n",
       "      <td>1</td>\n",
       "    </tr>\n",
       "    <tr>\n",
       "      <th>1</th>\n",
       "      <td>16</td>\n",
       "      <td>173200</td>\n",
       "      <td>1</td>\n",
       "    </tr>\n",
       "    <tr>\n",
       "      <th>2</th>\n",
       "      <td>3</td>\n",
       "      <td>79750</td>\n",
       "      <td>1</td>\n",
       "    </tr>\n",
       "    <tr>\n",
       "      <th>3</th>\n",
       "      <td>39</td>\n",
       "      <td>115000</td>\n",
       "      <td>1</td>\n",
       "    </tr>\n",
       "    <tr>\n",
       "      <th>4</th>\n",
       "      <td>41</td>\n",
       "      <td>141500</td>\n",
       "      <td>1</td>\n",
       "    </tr>\n",
       "    <tr>\n",
       "      <th>...</th>\n",
       "      <td>...</td>\n",
       "      <td>...</td>\n",
       "      <td>...</td>\n",
       "    </tr>\n",
       "    <tr>\n",
       "      <th>392</th>\n",
       "      <td>30</td>\n",
       "      <td>103106</td>\n",
       "      <td>1</td>\n",
       "    </tr>\n",
       "    <tr>\n",
       "      <th>393</th>\n",
       "      <td>19</td>\n",
       "      <td>150564</td>\n",
       "      <td>1</td>\n",
       "    </tr>\n",
       "    <tr>\n",
       "      <th>394</th>\n",
       "      <td>25</td>\n",
       "      <td>101738</td>\n",
       "      <td>1</td>\n",
       "    </tr>\n",
       "    <tr>\n",
       "      <th>395</th>\n",
       "      <td>15</td>\n",
       "      <td>95329</td>\n",
       "      <td>1</td>\n",
       "    </tr>\n",
       "    <tr>\n",
       "      <th>396</th>\n",
       "      <td>4</td>\n",
       "      <td>81035</td>\n",
       "      <td>1</td>\n",
       "    </tr>\n",
       "  </tbody>\n",
       "</table>\n",
       "<p>397 rows × 3 columns</p>\n",
       "</div>"
      ],
      "text/plain": [
       "     yrs_service  salary  Male\n",
       "0             18  139750     1\n",
       "1             16  173200     1\n",
       "2              3   79750     1\n",
       "3             39  115000     1\n",
       "4             41  141500     1\n",
       "..           ...     ...   ...\n",
       "392           30  103106     1\n",
       "393           19  150564     1\n",
       "394           25  101738     1\n",
       "395           15   95329     1\n",
       "396            4   81035     1\n",
       "\n",
       "[397 rows x 3 columns]"
      ]
     },
     "execution_count": 13,
     "metadata": {},
     "output_type": "execute_result"
    }
   ],
   "source": [
    "df_sal"
   ]
  },
  {
   "cell_type": "code",
   "execution_count": 14,
   "id": "a0fa6cd0-2028-4090-ab73-f4fb040c69fb",
   "metadata": {},
   "outputs": [],
   "source": [
    "# 4. Splitting the dataset\n",
    "x_train, x_test, y_train, y_test = train_test_split(df_sal.drop('salary', axis = 1), df_sal['salary'], test_size=0.2, random_state=20)"
   ]
  },
  {
   "cell_type": "code",
   "execution_count": 15,
   "id": "24104888-3f90-4229-b782-10dd5d4716c5",
   "metadata": {},
   "outputs": [],
   "source": [
    "# 5. Add the constant value\n",
    "x_train = sm.add_constant(x_train, prepend=False)"
   ]
  },
  {
   "cell_type": "code",
   "execution_count": 16,
   "id": "7d94e988-f871-43ce-9450-e6cfdbe3f371",
   "metadata": {},
   "outputs": [],
   "source": [
    "# 6. Create the model\n",
    "mod2 = sm.OLS(y_train, x_train).fit()"
   ]
  },
  {
   "cell_type": "code",
   "execution_count": 17,
   "id": "faf55c99-e718-4bab-932f-1cd7f5db513c",
   "metadata": {},
   "outputs": [
    {
     "name": "stdout",
     "output_type": "stream",
     "text": [
      "                            OLS Regression Results                            \n",
      "==============================================================================\n",
      "Dep. Variable:                 salary   R-squared:                       0.121\n",
      "Model:                            OLS   Adj. R-squared:                  0.115\n",
      "Method:                 Least Squares   F-statistic:                     21.52\n",
      "Date:                Thu, 19 Dec 2024   Prob (F-statistic):           1.75e-09\n",
      "Time:                        09:22:50   Log-Likelihood:                -3698.4\n",
      "No. Observations:                 317   AIC:                             7403.\n",
      "Df Residuals:                     314   BIC:                             7414.\n",
      "Df Model:                           2                                         \n",
      "Covariance Type:            nonrobust                                         \n",
      "===============================================================================\n",
      "                  coef    std err          t      P>|t|      [0.025      0.975]\n",
      "-------------------------------------------------------------------------------\n",
      "yrs_service   701.6382    125.946      5.571      0.000     453.834     949.442\n",
      "Male         1.368e+04   5434.664      2.517      0.012    2985.362    2.44e+04\n",
      "const        8.857e+04   5285.500     16.757      0.000    7.82e+04     9.9e+04\n",
      "==============================================================================\n",
      "Omnibus:                       28.103   Durbin-Watson:                   1.940\n",
      "Prob(Omnibus):                  0.000   Jarque-Bera (JB):               34.160\n",
      "Skew:                           0.696   Prob(JB):                     3.82e-08\n",
      "Kurtosis:                       3.804   Cond. No.                         99.7\n",
      "==============================================================================\n",
      "\n",
      "Notes:\n",
      "[1] Standard Errors assume that the covariance matrix of the errors is correctly specified.\n"
     ]
    }
   ],
   "source": [
    "# 7. Print the summary\n",
    "print(mod2.summary())"
   ]
  },
  {
   "cell_type": "raw",
   "id": "77c87cd6-a51b-4cb8-b665-466e2e2e1993",
   "metadata": {},
   "source": [
    "In the 701 value, for every year, the salary will increase by 701 units.\n",
    "Assuming the yrs_of_service is constant, change in gender from female to male increases the salary by 14,000.\n",
    "When all coefficient equals to 0, all female with 0 years of experience will have salary = 88,000."
   ]
  },
  {
   "cell_type": "markdown",
   "id": "43d8c745-51ca-4f22-9a1a-a350e9e4dac5",
   "metadata": {},
   "source": [
    "- The level which has beed considered as ref. event will not appear in the output table above. (Female)\n",
    "- Male ---> Target Event\n",
    "- **Ho (Gender)** : The change in response when factor/variable changes from reference event/variable to target event/variable is equal to 0.\n",
    "- In this example, change in salary when gender changes from female to male = 0"
   ]
  },
  {
   "cell_type": "raw",
   "id": "656852c4-0d35-403a-a8c4-419c3ddebba0",
   "metadata": {},
   "source": [
    "As the t value gets higher, it will be more significant on the salary"
   ]
  },
  {
   "cell_type": "code",
   "execution_count": 19,
   "id": "c3590cc7-7e35-4fd5-9525-8afbba1a4699",
   "metadata": {},
   "outputs": [
    {
     "data": {
      "text/html": [
       "<div>\n",
       "<style scoped>\n",
       "    .dataframe tbody tr th:only-of-type {\n",
       "        vertical-align: middle;\n",
       "    }\n",
       "\n",
       "    .dataframe tbody tr th {\n",
       "        vertical-align: top;\n",
       "    }\n",
       "\n",
       "    .dataframe thead th {\n",
       "        text-align: right;\n",
       "    }\n",
       "</style>\n",
       "<table border=\"1\" class=\"dataframe\">\n",
       "  <thead>\n",
       "    <tr style=\"text-align: right;\">\n",
       "      <th></th>\n",
       "      <th>yrs_service</th>\n",
       "      <th>salary</th>\n",
       "      <th>Male</th>\n",
       "    </tr>\n",
       "  </thead>\n",
       "  <tbody>\n",
       "    <tr>\n",
       "      <th>0</th>\n",
       "      <td>18</td>\n",
       "      <td>139750</td>\n",
       "      <td>1</td>\n",
       "    </tr>\n",
       "    <tr>\n",
       "      <th>1</th>\n",
       "      <td>16</td>\n",
       "      <td>173200</td>\n",
       "      <td>1</td>\n",
       "    </tr>\n",
       "    <tr>\n",
       "      <th>2</th>\n",
       "      <td>3</td>\n",
       "      <td>79750</td>\n",
       "      <td>1</td>\n",
       "    </tr>\n",
       "    <tr>\n",
       "      <th>3</th>\n",
       "      <td>39</td>\n",
       "      <td>115000</td>\n",
       "      <td>1</td>\n",
       "    </tr>\n",
       "    <tr>\n",
       "      <th>4</th>\n",
       "      <td>41</td>\n",
       "      <td>141500</td>\n",
       "      <td>1</td>\n",
       "    </tr>\n",
       "    <tr>\n",
       "      <th>...</th>\n",
       "      <td>...</td>\n",
       "      <td>...</td>\n",
       "      <td>...</td>\n",
       "    </tr>\n",
       "    <tr>\n",
       "      <th>392</th>\n",
       "      <td>30</td>\n",
       "      <td>103106</td>\n",
       "      <td>1</td>\n",
       "    </tr>\n",
       "    <tr>\n",
       "      <th>393</th>\n",
       "      <td>19</td>\n",
       "      <td>150564</td>\n",
       "      <td>1</td>\n",
       "    </tr>\n",
       "    <tr>\n",
       "      <th>394</th>\n",
       "      <td>25</td>\n",
       "      <td>101738</td>\n",
       "      <td>1</td>\n",
       "    </tr>\n",
       "    <tr>\n",
       "      <th>395</th>\n",
       "      <td>15</td>\n",
       "      <td>95329</td>\n",
       "      <td>1</td>\n",
       "    </tr>\n",
       "    <tr>\n",
       "      <th>396</th>\n",
       "      <td>4</td>\n",
       "      <td>81035</td>\n",
       "      <td>1</td>\n",
       "    </tr>\n",
       "  </tbody>\n",
       "</table>\n",
       "<p>397 rows × 3 columns</p>\n",
       "</div>"
      ],
      "text/plain": [
       "     yrs_service  salary  Male\n",
       "0             18  139750     1\n",
       "1             16  173200     1\n",
       "2              3   79750     1\n",
       "3             39  115000     1\n",
       "4             41  141500     1\n",
       "..           ...     ...   ...\n",
       "392           30  103106     1\n",
       "393           19  150564     1\n",
       "394           25  101738     1\n",
       "395           15   95329     1\n",
       "396            4   81035     1\n",
       "\n",
       "[397 rows x 3 columns]"
      ]
     },
     "execution_count": 19,
     "metadata": {},
     "output_type": "execute_result"
    }
   ],
   "source": [
    "df_sal"
   ]
  },
  {
   "cell_type": "code",
   "execution_count": null,
   "id": "01270e89-ae75-4557-8137-bd6a6e0a5bb1",
   "metadata": {},
   "outputs": [],
   "source": []
  },
  {
   "cell_type": "code",
   "execution_count": 47,
   "id": "4ff81ba0-7f15-403c-a9a7-d7b9cfdefee8",
   "metadata": {},
   "outputs": [],
   "source": [
    "df_sal = pd.read_excel('CDAC_Databook.xlsx', sheet_name='salaries')"
   ]
  },
  {
   "cell_type": "code",
   "execution_count": 49,
   "id": "48874cbd-a060-465b-a064-416e9b0b55f5",
   "metadata": {},
   "outputs": [
    {
     "data": {
      "text/html": [
       "<div>\n",
       "<style scoped>\n",
       "    .dataframe tbody tr th:only-of-type {\n",
       "        vertical-align: middle;\n",
       "    }\n",
       "\n",
       "    .dataframe tbody tr th {\n",
       "        vertical-align: top;\n",
       "    }\n",
       "\n",
       "    .dataframe thead th {\n",
       "        text-align: right;\n",
       "    }\n",
       "</style>\n",
       "<table border=\"1\" class=\"dataframe\">\n",
       "  <thead>\n",
       "    <tr style=\"text-align: right;\">\n",
       "      <th></th>\n",
       "      <th>rank</th>\n",
       "      <th>discipline</th>\n",
       "      <th>yrs_phd</th>\n",
       "      <th>yrs_service</th>\n",
       "      <th>gender</th>\n",
       "      <th>salary</th>\n",
       "    </tr>\n",
       "  </thead>\n",
       "  <tbody>\n",
       "    <tr>\n",
       "      <th>0</th>\n",
       "      <td>Prof</td>\n",
       "      <td>B</td>\n",
       "      <td>19</td>\n",
       "      <td>18</td>\n",
       "      <td>Male</td>\n",
       "      <td>139750</td>\n",
       "    </tr>\n",
       "    <tr>\n",
       "      <th>1</th>\n",
       "      <td>Prof</td>\n",
       "      <td>B</td>\n",
       "      <td>20</td>\n",
       "      <td>16</td>\n",
       "      <td>Male</td>\n",
       "      <td>173200</td>\n",
       "    </tr>\n",
       "    <tr>\n",
       "      <th>2</th>\n",
       "      <td>AsstProf</td>\n",
       "      <td>B</td>\n",
       "      <td>4</td>\n",
       "      <td>3</td>\n",
       "      <td>Male</td>\n",
       "      <td>79750</td>\n",
       "    </tr>\n",
       "    <tr>\n",
       "      <th>3</th>\n",
       "      <td>Prof</td>\n",
       "      <td>B</td>\n",
       "      <td>45</td>\n",
       "      <td>39</td>\n",
       "      <td>Male</td>\n",
       "      <td>115000</td>\n",
       "    </tr>\n",
       "    <tr>\n",
       "      <th>4</th>\n",
       "      <td>Prof</td>\n",
       "      <td>B</td>\n",
       "      <td>40</td>\n",
       "      <td>41</td>\n",
       "      <td>Male</td>\n",
       "      <td>141500</td>\n",
       "    </tr>\n",
       "  </tbody>\n",
       "</table>\n",
       "</div>"
      ],
      "text/plain": [
       "       rank discipline  yrs_phd  yrs_service gender  salary\n",
       "0      Prof          B       19           18   Male  139750\n",
       "1      Prof          B       20           16   Male  173200\n",
       "2  AsstProf          B        4            3   Male   79750\n",
       "3      Prof          B       45           39   Male  115000\n",
       "4      Prof          B       40           41   Male  141500"
      ]
     },
     "execution_count": 49,
     "metadata": {},
     "output_type": "execute_result"
    }
   ],
   "source": [
    "df_sal.head()"
   ]
  },
  {
   "cell_type": "code",
   "execution_count": 51,
   "id": "453b6d2d-80e5-4087-9dab-8c94fefef1d9",
   "metadata": {},
   "outputs": [],
   "source": [
    "df_sal = df_sal[['rank', 'yrs_service', 'salary']]"
   ]
  },
  {
   "cell_type": "code",
   "execution_count": 53,
   "id": "2a3afde7-b17b-4478-a06d-76ae6d6031fb",
   "metadata": {},
   "outputs": [],
   "source": [
    "# 1. Generate dummy columns\n",
    "rank_dum = pd.get_dummies(df_sal['rank'], drop_first=True).astype(int)"
   ]
  },
  {
   "cell_type": "code",
   "execution_count": 55,
   "id": "21cdb393-3422-4531-bcec-2385cc6ebfcf",
   "metadata": {},
   "outputs": [],
   "source": [
    "# 2. Remove the original Column\n",
    "df_sal = df_sal.drop('rank', axis = 1)"
   ]
  },
  {
   "cell_type": "code",
   "execution_count": 57,
   "id": "c161e511-cebb-4523-8295-37779434b3c7",
   "metadata": {},
   "outputs": [],
   "source": [
    "# 3. Append the dummy column(s) to the dataset\n",
    "df_sal = pd.concat([df_sal, rank_dum], axis=1)"
   ]
  },
  {
   "cell_type": "code",
   "execution_count": 59,
   "id": "0f820e98-6245-4ba0-9bf5-f6262f993e47",
   "metadata": {},
   "outputs": [
    {
     "data": {
      "text/html": [
       "<div>\n",
       "<style scoped>\n",
       "    .dataframe tbody tr th:only-of-type {\n",
       "        vertical-align: middle;\n",
       "    }\n",
       "\n",
       "    .dataframe tbody tr th {\n",
       "        vertical-align: top;\n",
       "    }\n",
       "\n",
       "    .dataframe thead th {\n",
       "        text-align: right;\n",
       "    }\n",
       "</style>\n",
       "<table border=\"1\" class=\"dataframe\">\n",
       "  <thead>\n",
       "    <tr style=\"text-align: right;\">\n",
       "      <th></th>\n",
       "      <th>yrs_service</th>\n",
       "      <th>salary</th>\n",
       "      <th>AsstProf</th>\n",
       "      <th>Prof</th>\n",
       "    </tr>\n",
       "  </thead>\n",
       "  <tbody>\n",
       "    <tr>\n",
       "      <th>0</th>\n",
       "      <td>18</td>\n",
       "      <td>139750</td>\n",
       "      <td>0</td>\n",
       "      <td>1</td>\n",
       "    </tr>\n",
       "    <tr>\n",
       "      <th>1</th>\n",
       "      <td>16</td>\n",
       "      <td>173200</td>\n",
       "      <td>0</td>\n",
       "      <td>1</td>\n",
       "    </tr>\n",
       "    <tr>\n",
       "      <th>2</th>\n",
       "      <td>3</td>\n",
       "      <td>79750</td>\n",
       "      <td>1</td>\n",
       "      <td>0</td>\n",
       "    </tr>\n",
       "    <tr>\n",
       "      <th>3</th>\n",
       "      <td>39</td>\n",
       "      <td>115000</td>\n",
       "      <td>0</td>\n",
       "      <td>1</td>\n",
       "    </tr>\n",
       "    <tr>\n",
       "      <th>4</th>\n",
       "      <td>41</td>\n",
       "      <td>141500</td>\n",
       "      <td>0</td>\n",
       "      <td>1</td>\n",
       "    </tr>\n",
       "    <tr>\n",
       "      <th>...</th>\n",
       "      <td>...</td>\n",
       "      <td>...</td>\n",
       "      <td>...</td>\n",
       "      <td>...</td>\n",
       "    </tr>\n",
       "    <tr>\n",
       "      <th>392</th>\n",
       "      <td>30</td>\n",
       "      <td>103106</td>\n",
       "      <td>0</td>\n",
       "      <td>1</td>\n",
       "    </tr>\n",
       "    <tr>\n",
       "      <th>393</th>\n",
       "      <td>19</td>\n",
       "      <td>150564</td>\n",
       "      <td>0</td>\n",
       "      <td>1</td>\n",
       "    </tr>\n",
       "    <tr>\n",
       "      <th>394</th>\n",
       "      <td>25</td>\n",
       "      <td>101738</td>\n",
       "      <td>0</td>\n",
       "      <td>1</td>\n",
       "    </tr>\n",
       "    <tr>\n",
       "      <th>395</th>\n",
       "      <td>15</td>\n",
       "      <td>95329</td>\n",
       "      <td>0</td>\n",
       "      <td>1</td>\n",
       "    </tr>\n",
       "    <tr>\n",
       "      <th>396</th>\n",
       "      <td>4</td>\n",
       "      <td>81035</td>\n",
       "      <td>1</td>\n",
       "      <td>0</td>\n",
       "    </tr>\n",
       "  </tbody>\n",
       "</table>\n",
       "<p>397 rows × 4 columns</p>\n",
       "</div>"
      ],
      "text/plain": [
       "     yrs_service  salary  AsstProf  Prof\n",
       "0             18  139750         0     1\n",
       "1             16  173200         0     1\n",
       "2              3   79750         1     0\n",
       "3             39  115000         0     1\n",
       "4             41  141500         0     1\n",
       "..           ...     ...       ...   ...\n",
       "392           30  103106         0     1\n",
       "393           19  150564         0     1\n",
       "394           25  101738         0     1\n",
       "395           15   95329         0     1\n",
       "396            4   81035         1     0\n",
       "\n",
       "[397 rows x 4 columns]"
      ]
     },
     "execution_count": 59,
     "metadata": {},
     "output_type": "execute_result"
    }
   ],
   "source": [
    "df_sal"
   ]
  },
  {
   "cell_type": "code",
   "execution_count": 61,
   "id": "305edb1d-25ad-4487-be91-46d93514361a",
   "metadata": {},
   "outputs": [],
   "source": [
    "# 4. Splitting the dataset\n",
    "x_train, x_test, y_train, y_test = train_test_split(df_sal.drop('salary', axis = 1), df_sal['salary'], test_size=0.2, random_state=20)"
   ]
  },
  {
   "cell_type": "code",
   "execution_count": 63,
   "id": "2d4bc293-9615-4ba4-9bdd-ef96b6c99d23",
   "metadata": {},
   "outputs": [],
   "source": [
    "# 5. Add the constant value\n",
    "x_train = sm.add_constant(x_train, prepend=False)"
   ]
  },
  {
   "cell_type": "code",
   "execution_count": 65,
   "id": "5cd7ed5a-73d5-4b1b-a676-cbd65f61a068",
   "metadata": {},
   "outputs": [
    {
     "data": {
      "text/html": [
       "<div>\n",
       "<style scoped>\n",
       "    .dataframe tbody tr th:only-of-type {\n",
       "        vertical-align: middle;\n",
       "    }\n",
       "\n",
       "    .dataframe tbody tr th {\n",
       "        vertical-align: top;\n",
       "    }\n",
       "\n",
       "    .dataframe thead th {\n",
       "        text-align: right;\n",
       "    }\n",
       "</style>\n",
       "<table border=\"1\" class=\"dataframe\">\n",
       "  <thead>\n",
       "    <tr style=\"text-align: right;\">\n",
       "      <th></th>\n",
       "      <th>yrs_service</th>\n",
       "      <th>AsstProf</th>\n",
       "      <th>Prof</th>\n",
       "      <th>const</th>\n",
       "    </tr>\n",
       "  </thead>\n",
       "  <tbody>\n",
       "    <tr>\n",
       "      <th>90</th>\n",
       "      <td>5</td>\n",
       "      <td>1</td>\n",
       "      <td>0</td>\n",
       "      <td>1.0</td>\n",
       "    </tr>\n",
       "    <tr>\n",
       "      <th>329</th>\n",
       "      <td>23</td>\n",
       "      <td>0</td>\n",
       "      <td>1</td>\n",
       "      <td>1.0</td>\n",
       "    </tr>\n",
       "    <tr>\n",
       "      <th>156</th>\n",
       "      <td>18</td>\n",
       "      <td>0</td>\n",
       "      <td>0</td>\n",
       "      <td>1.0</td>\n",
       "    </tr>\n",
       "    <tr>\n",
       "      <th>360</th>\n",
       "      <td>11</td>\n",
       "      <td>0</td>\n",
       "      <td>1</td>\n",
       "      <td>1.0</td>\n",
       "    </tr>\n",
       "    <tr>\n",
       "      <th>117</th>\n",
       "      <td>36</td>\n",
       "      <td>0</td>\n",
       "      <td>1</td>\n",
       "      <td>1.0</td>\n",
       "    </tr>\n",
       "  </tbody>\n",
       "</table>\n",
       "</div>"
      ],
      "text/plain": [
       "     yrs_service  AsstProf  Prof  const\n",
       "90             5         1     0    1.0\n",
       "329           23         0     1    1.0\n",
       "156           18         0     0    1.0\n",
       "360           11         0     1    1.0\n",
       "117           36         0     1    1.0"
      ]
     },
     "execution_count": 65,
     "metadata": {},
     "output_type": "execute_result"
    }
   ],
   "source": [
    "x_train.head()"
   ]
  },
  {
   "cell_type": "code",
   "execution_count": 67,
   "id": "a4fb5eec-5779-44e0-9ebd-5219c47dc206",
   "metadata": {},
   "outputs": [
    {
     "data": {
      "text/plain": [
       "90      97032\n",
       "329    134778\n",
       "156    113341\n",
       "360    121946\n",
       "117    117515\n",
       "Name: salary, dtype: int64"
      ]
     },
     "execution_count": 67,
     "metadata": {},
     "output_type": "execute_result"
    }
   ],
   "source": [
    "y_train.head()"
   ]
  },
  {
   "cell_type": "code",
   "execution_count": 69,
   "id": "d0df1ee8-c72b-4c4c-af19-59151c4b5084",
   "metadata": {},
   "outputs": [],
   "source": [
    "# 6. Create the model\n",
    "mod3 = sm.OLS(y_train, x_train).fit()"
   ]
  },
  {
   "cell_type": "code",
   "execution_count": 71,
   "id": "d25be05e-66e0-4420-aa5b-24dd5ab03202",
   "metadata": {},
   "outputs": [
    {
     "name": "stdout",
     "output_type": "stream",
     "text": [
      "                            OLS Regression Results                            \n",
      "==============================================================================\n",
      "Dep. Variable:                 salary   R-squared:                       0.379\n",
      "Model:                            OLS   Adj. R-squared:                  0.373\n",
      "Method:                 Least Squares   F-statistic:                     63.71\n",
      "Date:                Thu, 19 Dec 2024   Prob (F-statistic):           3.54e-32\n",
      "Time:                        09:25:55   Log-Likelihood:                -3643.3\n",
      "No. Observations:                 317   AIC:                             7295.\n",
      "Df Residuals:                     313   BIC:                             7310.\n",
      "Df Model:                           3                                         \n",
      "Covariance Type:            nonrobust                                         \n",
      "===============================================================================\n",
      "                  coef    std err          t      P>|t|      [0.025      0.975]\n",
      "-------------------------------------------------------------------------------\n",
      "yrs_service  -161.8155    131.085     -1.234      0.218    -419.734      96.103\n",
      "AsstProf    -1.312e+04   4817.521     -2.723      0.007   -2.26e+04   -3637.053\n",
      "Prof         3.482e+04   3891.052      8.949      0.000    2.72e+04    4.25e+04\n",
      "const         9.48e+04   3557.563     26.647      0.000    8.78e+04    1.02e+05\n",
      "==============================================================================\n",
      "Omnibus:                       46.171   Durbin-Watson:                   1.927\n",
      "Prob(Omnibus):                  0.000   Jarque-Bera (JB):               78.829\n",
      "Skew:                           0.839   Prob(JB):                     7.63e-18\n",
      "Kurtosis:                       4.776   Cond. No.                         99.0\n",
      "==============================================================================\n",
      "\n",
      "Notes:\n",
      "[1] Standard Errors assume that the covariance matrix of the errors is correctly specified.\n"
     ]
    }
   ],
   "source": [
    "print(mod3.summary())"
   ]
  },
  {
   "cell_type": "raw",
   "id": "81aaa379-b842-44ac-958b-de51b369f752",
   "metadata": {},
   "source": [
    "AsstProf, Prof ---> Encoded variables (Because the value is 0/1)"
   ]
  },
  {
   "cell_type": "markdown",
   "id": "df467905-1fed-4635-94a0-45bccce104ab",
   "metadata": {},
   "source": [
    "- Change in salary from associateprof to assistantProf -> m2 (-13,000)\n",
    "- Change in salary from associateprof to Prof -> m3"
   ]
  },
  {
   "cell_type": "markdown",
   "id": "148e0e16-9341-49aa-abb9-af27c2cec319",
   "metadata": {},
   "source": [
    "- m3 = 0\n",
    "- Reject (p-val < 0.05)\n",
    "- m3 != 0\n",
    "- Change in salary from associateprof to Prof -> m3\n",
    "- While all other things are constant, change in salary from associateprof to Prof is significant (+35,000) increase"
   ]
  },
  {
   "cell_type": "markdown",
   "id": "9ed9deb2-59ed-4095-a63d-02d56786fb5f",
   "metadata": {},
   "source": [
    "- assoc ---> 94,000\n",
    "- AsstProf ---> 94,000 - 13,000 = 81000\n",
    "- prof  ---> 94,000 + 35,000 = 129000"
   ]
  },
  {
   "cell_type": "code",
   "execution_count": null,
   "id": "a23c262c-c5e1-4fed-a51b-a814d073bb94",
   "metadata": {},
   "outputs": [],
   "source": []
  }
 ],
 "metadata": {
  "kernelspec": {
   "display_name": "Python 3 (ipykernel)",
   "language": "python",
   "name": "python3"
  },
  "language_info": {
   "codemirror_mode": {
    "name": "ipython",
    "version": 3
   },
   "file_extension": ".py",
   "mimetype": "text/x-python",
   "name": "python",
   "nbconvert_exporter": "python",
   "pygments_lexer": "ipython3",
   "version": "3.12.4"
  }
 },
 "nbformat": 4,
 "nbformat_minor": 5
}
