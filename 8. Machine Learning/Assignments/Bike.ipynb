{
 "cells": [
  {
   "cell_type": "code",
   "execution_count": 2,
   "id": "39fba80b-741b-4c49-9f37-f1333464291b",
   "metadata": {},
   "outputs": [],
   "source": [
    "import numpy as np\n",
    "import pandas as pd\n",
    "from collections import Counter\n",
    "from numpy import random\n",
    "import os\n",
    "import scipy\n",
    "from scipy import stats\n",
    "from matplotlib import pyplot as plt\n",
    "from scipy.stats import binom\n",
    "from scipy.stats import poisson\n",
    "from scipy.stats import norm, t\n",
    "import seaborn as sns\n",
    "import pylab\n",
    "from pylab import legend, plot, show, title, xlabel, ylabel\n",
    "from random import choice\n",
    "import matplotlib\n",
    "import statsmodels\n",
    "from statsmodels import stats\n",
    "from statsmodels.stats import weightstats as ssw\n",
    "\n",
    "import statsmodels.api as sm\n",
    "from statsmodels.formula.api import ols\n",
    "import statsmodels.stats.multicomp\n",
    "from statsmodels.stats import proportion as ssp\n",
    "\n",
    "from scipy.stats import chisquare\n",
    "from scipy.stats import chi2_contingency\n",
    "\n",
    "from sklearn.model_selection import train_test_split\n",
    "from sklearn.metrics import confusion_matrix, classification_report\n",
    "\n",
    "from statsmodels.stats.outliers_influence import variance_inflation_factor\n",
    "from statsmodels import discrete \n",
    "from statsmodels.discrete import discrete_model\n",
    "from statsmodels.discrete.discrete_model import MNLogit\n",
    "from statsmodels.miscmodels.ordinal_model import OrderedModel\n",
    "import statsmodels.formula.api as smf \n",
    "from statsmodels.discrete.discrete_model import Poisson as psn \n",
    "from statsmodels.discrete.discrete_model import NegativeBinomial as ngb\n",
    "from sklearn.feature_selection import SequentialFeatureSelector\n",
    "from sklearn.linear_model import LinearRegression\n",
    "\n"
   ]
  },
  {
   "cell_type": "code",
   "execution_count": 3,
   "id": "87c7e184-b126-4f7d-892b-09cb0f269d0a",
   "metadata": {},
   "outputs": [
    {
     "data": {
      "text/html": [
       "<div>\n",
       "<style scoped>\n",
       "    .dataframe tbody tr th:only-of-type {\n",
       "        vertical-align: middle;\n",
       "    }\n",
       "\n",
       "    .dataframe tbody tr th {\n",
       "        vertical-align: top;\n",
       "    }\n",
       "\n",
       "    .dataframe thead th {\n",
       "        text-align: right;\n",
       "    }\n",
       "</style>\n",
       "<table border=\"1\" class=\"dataframe\">\n",
       "  <thead>\n",
       "    <tr style=\"text-align: right;\">\n",
       "      <th></th>\n",
       "      <th>instant</th>\n",
       "      <th>dteday</th>\n",
       "      <th>season</th>\n",
       "      <th>yr</th>\n",
       "      <th>mnth</th>\n",
       "      <th>holiday</th>\n",
       "      <th>weekday</th>\n",
       "      <th>workingday</th>\n",
       "      <th>weathersit</th>\n",
       "      <th>temp</th>\n",
       "      <th>atemp</th>\n",
       "      <th>hum</th>\n",
       "      <th>windspeed</th>\n",
       "      <th>casual</th>\n",
       "      <th>registered</th>\n",
       "      <th>cnt</th>\n",
       "    </tr>\n",
       "  </thead>\n",
       "  <tbody>\n",
       "    <tr>\n",
       "      <th>0</th>\n",
       "      <td>1</td>\n",
       "      <td>01-01-2018</td>\n",
       "      <td>1</td>\n",
       "      <td>0</td>\n",
       "      <td>1</td>\n",
       "      <td>0</td>\n",
       "      <td>1</td>\n",
       "      <td>1</td>\n",
       "      <td>2</td>\n",
       "      <td>14.110847</td>\n",
       "      <td>18.18125</td>\n",
       "      <td>80.5833</td>\n",
       "      <td>10.749882</td>\n",
       "      <td>331</td>\n",
       "      <td>654</td>\n",
       "      <td>985</td>\n",
       "    </tr>\n",
       "    <tr>\n",
       "      <th>1</th>\n",
       "      <td>2</td>\n",
       "      <td>02-01-2018</td>\n",
       "      <td>1</td>\n",
       "      <td>0</td>\n",
       "      <td>1</td>\n",
       "      <td>0</td>\n",
       "      <td>2</td>\n",
       "      <td>1</td>\n",
       "      <td>2</td>\n",
       "      <td>14.902598</td>\n",
       "      <td>17.68695</td>\n",
       "      <td>69.6087</td>\n",
       "      <td>16.652113</td>\n",
       "      <td>131</td>\n",
       "      <td>670</td>\n",
       "      <td>801</td>\n",
       "    </tr>\n",
       "    <tr>\n",
       "      <th>2</th>\n",
       "      <td>3</td>\n",
       "      <td>03-01-2018</td>\n",
       "      <td>1</td>\n",
       "      <td>0</td>\n",
       "      <td>1</td>\n",
       "      <td>0</td>\n",
       "      <td>3</td>\n",
       "      <td>1</td>\n",
       "      <td>1</td>\n",
       "      <td>8.050924</td>\n",
       "      <td>9.47025</td>\n",
       "      <td>43.7273</td>\n",
       "      <td>16.636703</td>\n",
       "      <td>120</td>\n",
       "      <td>1229</td>\n",
       "      <td>1349</td>\n",
       "    </tr>\n",
       "    <tr>\n",
       "      <th>3</th>\n",
       "      <td>4</td>\n",
       "      <td>04-01-2018</td>\n",
       "      <td>1</td>\n",
       "      <td>0</td>\n",
       "      <td>1</td>\n",
       "      <td>0</td>\n",
       "      <td>4</td>\n",
       "      <td>1</td>\n",
       "      <td>1</td>\n",
       "      <td>8.200000</td>\n",
       "      <td>10.60610</td>\n",
       "      <td>59.0435</td>\n",
       "      <td>10.739832</td>\n",
       "      <td>108</td>\n",
       "      <td>1454</td>\n",
       "      <td>1562</td>\n",
       "    </tr>\n",
       "    <tr>\n",
       "      <th>4</th>\n",
       "      <td>5</td>\n",
       "      <td>05-01-2018</td>\n",
       "      <td>1</td>\n",
       "      <td>0</td>\n",
       "      <td>1</td>\n",
       "      <td>0</td>\n",
       "      <td>5</td>\n",
       "      <td>1</td>\n",
       "      <td>1</td>\n",
       "      <td>9.305237</td>\n",
       "      <td>11.46350</td>\n",
       "      <td>43.6957</td>\n",
       "      <td>12.522300</td>\n",
       "      <td>82</td>\n",
       "      <td>1518</td>\n",
       "      <td>1600</td>\n",
       "    </tr>\n",
       "  </tbody>\n",
       "</table>\n",
       "</div>"
      ],
      "text/plain": [
       "   instant      dteday  season  yr  mnth  holiday  weekday  workingday  \\\n",
       "0        1  01-01-2018       1   0     1        0        1           1   \n",
       "1        2  02-01-2018       1   0     1        0        2           1   \n",
       "2        3  03-01-2018       1   0     1        0        3           1   \n",
       "3        4  04-01-2018       1   0     1        0        4           1   \n",
       "4        5  05-01-2018       1   0     1        0        5           1   \n",
       "\n",
       "   weathersit       temp     atemp      hum  windspeed  casual  registered  \\\n",
       "0           2  14.110847  18.18125  80.5833  10.749882     331         654   \n",
       "1           2  14.902598  17.68695  69.6087  16.652113     131         670   \n",
       "2           1   8.050924   9.47025  43.7273  16.636703     120        1229   \n",
       "3           1   8.200000  10.60610  59.0435  10.739832     108        1454   \n",
       "4           1   9.305237  11.46350  43.6957  12.522300      82        1518   \n",
       "\n",
       "    cnt  \n",
       "0   985  \n",
       "1   801  \n",
       "2  1349  \n",
       "3  1562  \n",
       "4  1600  "
      ]
     },
     "execution_count": 3,
     "metadata": {},
     "output_type": "execute_result"
    }
   ],
   "source": [
    "df=pd.read_csv('day.csv')\n",
    "df.head()"
   ]
  },
  {
   "cell_type": "code",
   "execution_count": 6,
   "id": "17674eab-a942-4764-988c-0413d39c4bf2",
   "metadata": {},
   "outputs": [],
   "source": [
    "df=df[['temp','atemp','hum','weathersit','windspeed','cnt']]"
   ]
  },
  {
   "cell_type": "code",
   "execution_count": 8,
   "id": "28fe6254-02e8-4fc2-96d3-4b77c9d6f65c",
   "metadata": {},
   "outputs": [],
   "source": [
    "corr=df.corr()"
   ]
  },
  {
   "cell_type": "code",
   "execution_count": 10,
   "id": "e0cbf3c9-02b0-40ef-87de-c95b595e77a8",
   "metadata": {},
   "outputs": [
    {
     "data": {
      "text/html": [
       "<div>\n",
       "<style scoped>\n",
       "    .dataframe tbody tr th:only-of-type {\n",
       "        vertical-align: middle;\n",
       "    }\n",
       "\n",
       "    .dataframe tbody tr th {\n",
       "        vertical-align: top;\n",
       "    }\n",
       "\n",
       "    .dataframe thead th {\n",
       "        text-align: right;\n",
       "    }\n",
       "</style>\n",
       "<table border=\"1\" class=\"dataframe\">\n",
       "  <thead>\n",
       "    <tr style=\"text-align: right;\">\n",
       "      <th></th>\n",
       "      <th>temp</th>\n",
       "      <th>atemp</th>\n",
       "      <th>hum</th>\n",
       "      <th>weathersit</th>\n",
       "      <th>windspeed</th>\n",
       "      <th>cnt</th>\n",
       "    </tr>\n",
       "  </thead>\n",
       "  <tbody>\n",
       "    <tr>\n",
       "      <th>temp</th>\n",
       "      <td>1.000000</td>\n",
       "      <td>0.991696</td>\n",
       "      <td>0.128565</td>\n",
       "      <td>-0.119503</td>\n",
       "      <td>-0.158186</td>\n",
       "      <td>0.627044</td>\n",
       "    </tr>\n",
       "    <tr>\n",
       "      <th>atemp</th>\n",
       "      <td>0.991696</td>\n",
       "      <td>1.000000</td>\n",
       "      <td>0.141512</td>\n",
       "      <td>-0.120559</td>\n",
       "      <td>-0.183876</td>\n",
       "      <td>0.630685</td>\n",
       "    </tr>\n",
       "    <tr>\n",
       "      <th>hum</th>\n",
       "      <td>0.128565</td>\n",
       "      <td>0.141512</td>\n",
       "      <td>1.000000</td>\n",
       "      <td>0.590277</td>\n",
       "      <td>-0.248506</td>\n",
       "      <td>-0.098543</td>\n",
       "    </tr>\n",
       "    <tr>\n",
       "      <th>weathersit</th>\n",
       "      <td>-0.119503</td>\n",
       "      <td>-0.120559</td>\n",
       "      <td>0.590277</td>\n",
       "      <td>1.000000</td>\n",
       "      <td>0.039769</td>\n",
       "      <td>-0.295929</td>\n",
       "    </tr>\n",
       "    <tr>\n",
       "      <th>windspeed</th>\n",
       "      <td>-0.158186</td>\n",
       "      <td>-0.183876</td>\n",
       "      <td>-0.248506</td>\n",
       "      <td>0.039769</td>\n",
       "      <td>1.000000</td>\n",
       "      <td>-0.235132</td>\n",
       "    </tr>\n",
       "    <tr>\n",
       "      <th>cnt</th>\n",
       "      <td>0.627044</td>\n",
       "      <td>0.630685</td>\n",
       "      <td>-0.098543</td>\n",
       "      <td>-0.295929</td>\n",
       "      <td>-0.235132</td>\n",
       "      <td>1.000000</td>\n",
       "    </tr>\n",
       "  </tbody>\n",
       "</table>\n",
       "</div>"
      ],
      "text/plain": [
       "                temp     atemp       hum  weathersit  windspeed       cnt\n",
       "temp        1.000000  0.991696  0.128565   -0.119503  -0.158186  0.627044\n",
       "atemp       0.991696  1.000000  0.141512   -0.120559  -0.183876  0.630685\n",
       "hum         0.128565  0.141512  1.000000    0.590277  -0.248506 -0.098543\n",
       "weathersit -0.119503 -0.120559  0.590277    1.000000   0.039769 -0.295929\n",
       "windspeed  -0.158186 -0.183876 -0.248506    0.039769   1.000000 -0.235132\n",
       "cnt         0.627044  0.630685 -0.098543   -0.295929  -0.235132  1.000000"
      ]
     },
     "execution_count": 10,
     "metadata": {},
     "output_type": "execute_result"
    }
   ],
   "source": [
    "corr"
   ]
  },
  {
   "cell_type": "markdown",
   "id": "64198714-cc3c-40a7-85ec-0f7819919d2e",
   "metadata": {},
   "source": [
    "- As per the above corr , only temp and atemp have strong relationship. So, temparature might influence the no of bikes rented"
   ]
  },
  {
   "cell_type": "markdown",
   "id": "c1ec71e0-4e93-4e9d-9934-56ae0493bcc8",
   "metadata": {},
   "source": [
    "- As per the above corr , only temp and atemp have strong relationship. So, temparature might influence the no of bikes rented"
   ]
  },
  {
   "cell_type": "code",
   "execution_count": 14,
   "id": "9d302cf9-f0f6-4c1d-9752-0beaa8ac4c36",
   "metadata": {},
   "outputs": [
    {
     "name": "stdout",
     "output_type": "stream",
     "text": [
      "                            OLS Regression Results                            \n",
      "==============================================================================\n",
      "Dep. Variable:                    cnt   R-squared:                       0.491\n",
      "Model:                            OLS   Adj. R-squared:                  0.486\n",
      "Method:                 Least Squares   F-statistic:                     92.94\n",
      "Date:                Thu, 26 Dec 2024   Prob (F-statistic):           1.90e-81\n",
      "Time:                        12:22:02   Log-Likelihood:                -5052.0\n",
      "No. Observations:                 584   AIC:                         1.012e+04\n",
      "Df Residuals:                     577   BIC:                         1.015e+04\n",
      "Df Model:                           6                                         \n",
      "Covariance Type:            nonrobust                                         \n",
      "==============================================================================\n",
      "                 coef    std err          t      P>|t|      [0.025      0.975]\n",
      "------------------------------------------------------------------------------\n",
      "temp        -134.1038    100.129     -1.339      0.181    -330.765      62.558\n",
      "atemp        265.3007     92.526      2.867      0.004      83.571     447.030\n",
      "hum          -23.7913      5.371     -4.430      0.000     -34.340     -13.242\n",
      "windspeed    -60.2346     12.740     -4.728      0.000     -85.257     -35.212\n",
      "weather_2   -233.9618    151.645     -1.543      0.123    -531.805      63.882\n",
      "weather_3  -1568.9321    365.287     -4.295      0.000   -2286.387    -851.477\n",
      "const       3314.4350    432.321      7.667      0.000    2465.321    4163.549\n",
      "==============================================================================\n",
      "Omnibus:                        5.372   Durbin-Watson:                   2.126\n",
      "Prob(Omnibus):                  0.068   Jarque-Bera (JB):                4.131\n",
      "Skew:                           0.088   Prob(JB):                        0.127\n",
      "Kurtosis:                       2.628   Cond. No.                         588.\n",
      "==============================================================================\n",
      "\n",
      "Notes:\n",
      "[1] Standard Errors assume that the covariance matrix of the errors is correctly specified.\n"
     ]
    }
   ],
   "source": [
    "weather_dum=pd.get_dummies(df.weathersit, drop_first=True , prefix='weather').astype(int)\n",
    "df=df.drop('weathersit',axis=1)\n",
    "df=pd.concat([df,weather_dum],axis=1)\n",
    "x_train,x_test,y_train,y_test=train_test_split(df.drop('cnt',axis=1),df.cnt, test_size=0.2, random_state=20)\n",
    "x_train=sm.add_constant(x_train,prepend=False)\n",
    "model=sm.OLS(y_train,x_train).fit()\n",
    "print(model.summary())"
   ]
  },
  {
   "cell_type": "markdown",
   "id": "687bb574-d743-4328-821e-80ca5e39bbe9",
   "metadata": {},
   "source": [
    "Ho - temp does not influence the count of bikes rented , as the pval>0.05 we do not rejecct Ho \n",
    "Hence temp does not influence the count of bikes "
   ]
  },
  {
   "cell_type": "markdown",
   "id": "902349d4-e079-40ee-ae54-8bfb159e5ad8",
   "metadata": {},
   "source": [
    "- The model explains only 49% variance which doesnt gives strong factors\n",
    "We will take other factors into the consideration "
   ]
  },
  {
   "cell_type": "code",
   "execution_count": 20,
   "id": "6297ff3a-6c6d-412f-829b-9f2d164bd65d",
   "metadata": {},
   "outputs": [
    {
     "name": "stdout",
     "output_type": "stream",
     "text": [
      "R² Score on Test Data: 0.3873655406219292\n"
     ]
    }
   ],
   "source": [
    "y_pred = model.predict(sm.add_constant(x_test, prepend=False))\n",
    "from sklearn.metrics import r2_score\n",
    "print(\"R² Score on Test Data:\", r2_score(y_test, y_pred))\n"
   ]
  },
  {
   "cell_type": "code",
   "execution_count": 22,
   "id": "b9afb51e-1ec7-4201-8869-08e2baacc6e5",
   "metadata": {},
   "outputs": [
    {
     "data": {
      "image/png": "[encoded data removed]",
      "text/plain": [
       "<Figure size 640x480 with 1 Axes>"
      ]
     },
     "metadata": {},
     "output_type": "display_data"
    }
   ],
   "source": [
    "# Scatter plot for actual vs predicted values\n",
    "plt.scatter(y_test, y_pred, color='blue', alpha=0.7, label='Predicted vs Actual')\n",
    "plt.plot([min(y_test), max(y_test)], [min(y_test), max(y_test)], color='red', linestyle='--', label='Perfect Prediction')\n",
    "plt.xlabel('Actual Values (cnt)', fontsize=12)\n",
    "plt.ylabel('Predicted Values (cnt)', fontsize=12)\n",
    "plt.title('Actual vs Predicted Values', fontsize=14)\n",
    "\n",
    "plt.legend()\n",
    "plt.tight_layout()"
   ]
  },
  {
   "cell_type": "code",
   "execution_count": 288,
   "id": "dabce8f4-4c77-4e88-babd-836e12f41daf",
   "metadata": {},
   "outputs": [
    {
     "data": {
      "text/html": [
       "<div>\n",
       "<style scoped>\n",
       "    .dataframe tbody tr th:only-of-type {\n",
       "        vertical-align: middle;\n",
       "    }\n",
       "\n",
       "    .dataframe tbody tr th {\n",
       "        vertical-align: top;\n",
       "    }\n",
       "\n",
       "    .dataframe thead th {\n",
       "        text-align: right;\n",
       "    }\n",
       "</style>\n",
       "<table border=\"1\" class=\"dataframe\">\n",
       "  <thead>\n",
       "    <tr style=\"text-align: right;\">\n",
       "      <th></th>\n",
       "      <th>instant</th>\n",
       "      <th>dteday</th>\n",
       "      <th>season</th>\n",
       "      <th>yr</th>\n",
       "      <th>mnth</th>\n",
       "      <th>holiday</th>\n",
       "      <th>weekday</th>\n",
       "      <th>workingday</th>\n",
       "      <th>weathersit</th>\n",
       "      <th>temp</th>\n",
       "      <th>atemp</th>\n",
       "      <th>hum</th>\n",
       "      <th>windspeed</th>\n",
       "      <th>casual</th>\n",
       "      <th>registered</th>\n",
       "      <th>cnt</th>\n",
       "    </tr>\n",
       "  </thead>\n",
       "  <tbody>\n",
       "    <tr>\n",
       "      <th>0</th>\n",
       "      <td>1</td>\n",
       "      <td>01-01-2018</td>\n",
       "      <td>1</td>\n",
       "      <td>0</td>\n",
       "      <td>1</td>\n",
       "      <td>0</td>\n",
       "      <td>1</td>\n",
       "      <td>1</td>\n",
       "      <td>2</td>\n",
       "      <td>14.110847</td>\n",
       "      <td>18.18125</td>\n",
       "      <td>80.5833</td>\n",
       "      <td>10.749882</td>\n",
       "      <td>331</td>\n",
       "      <td>654</td>\n",
       "      <td>985</td>\n",
       "    </tr>\n",
       "    <tr>\n",
       "      <th>1</th>\n",
       "      <td>2</td>\n",
       "      <td>02-01-2018</td>\n",
       "      <td>1</td>\n",
       "      <td>0</td>\n",
       "      <td>1</td>\n",
       "      <td>0</td>\n",
       "      <td>2</td>\n",
       "      <td>1</td>\n",
       "      <td>2</td>\n",
       "      <td>14.902598</td>\n",
       "      <td>17.68695</td>\n",
       "      <td>69.6087</td>\n",
       "      <td>16.652113</td>\n",
       "      <td>131</td>\n",
       "      <td>670</td>\n",
       "      <td>801</td>\n",
       "    </tr>\n",
       "    <tr>\n",
       "      <th>2</th>\n",
       "      <td>3</td>\n",
       "      <td>03-01-2018</td>\n",
       "      <td>1</td>\n",
       "      <td>0</td>\n",
       "      <td>1</td>\n",
       "      <td>0</td>\n",
       "      <td>3</td>\n",
       "      <td>1</td>\n",
       "      <td>1</td>\n",
       "      <td>8.050924</td>\n",
       "      <td>9.47025</td>\n",
       "      <td>43.7273</td>\n",
       "      <td>16.636703</td>\n",
       "      <td>120</td>\n",
       "      <td>1229</td>\n",
       "      <td>1349</td>\n",
       "    </tr>\n",
       "    <tr>\n",
       "      <th>3</th>\n",
       "      <td>4</td>\n",
       "      <td>04-01-2018</td>\n",
       "      <td>1</td>\n",
       "      <td>0</td>\n",
       "      <td>1</td>\n",
       "      <td>0</td>\n",
       "      <td>4</td>\n",
       "      <td>1</td>\n",
       "      <td>1</td>\n",
       "      <td>8.200000</td>\n",
       "      <td>10.60610</td>\n",
       "      <td>59.0435</td>\n",
       "      <td>10.739832</td>\n",
       "      <td>108</td>\n",
       "      <td>1454</td>\n",
       "      <td>1562</td>\n",
       "    </tr>\n",
       "    <tr>\n",
       "      <th>4</th>\n",
       "      <td>5</td>\n",
       "      <td>05-01-2018</td>\n",
       "      <td>1</td>\n",
       "      <td>0</td>\n",
       "      <td>1</td>\n",
       "      <td>0</td>\n",
       "      <td>5</td>\n",
       "      <td>1</td>\n",
       "      <td>1</td>\n",
       "      <td>9.305237</td>\n",
       "      <td>11.46350</td>\n",
       "      <td>43.6957</td>\n",
       "      <td>12.522300</td>\n",
       "      <td>82</td>\n",
       "      <td>1518</td>\n",
       "      <td>1600</td>\n",
       "    </tr>\n",
       "  </tbody>\n",
       "</table>\n",
       "</div>"
      ],
      "text/plain": [
       "   instant      dteday  season  yr  mnth  holiday  weekday  workingday  \\\n",
       "0        1  01-01-2018       1   0     1        0        1           1   \n",
       "1        2  02-01-2018       1   0     1        0        2           1   \n",
       "2        3  03-01-2018       1   0     1        0        3           1   \n",
       "3        4  04-01-2018       1   0     1        0        4           1   \n",
       "4        5  05-01-2018       1   0     1        0        5           1   \n",
       "\n",
       "   weathersit       temp     atemp      hum  windspeed  casual  registered  \\\n",
       "0           2  14.110847  18.18125  80.5833  10.749882     331         654   \n",
       "1           2  14.902598  17.68695  69.6087  16.652113     131         670   \n",
       "2           1   8.050924   9.47025  43.7273  16.636703     120        1229   \n",
       "3           1   8.200000  10.60610  59.0435  10.739832     108        1454   \n",
       "4           1   9.305237  11.46350  43.6957  12.522300      82        1518   \n",
       "\n",
       "    cnt  \n",
       "0   985  \n",
       "1   801  \n",
       "2  1349  \n",
       "3  1562  \n",
       "4  1600  "
      ]
     },
     "execution_count": 288,
     "metadata": {},
     "output_type": "execute_result"
    }
   ],
   "source": [
    "df=pd.read_csv('day.csv')\n",
    "df.head()"
   ]
  },
  {
   "cell_type": "code",
   "execution_count": 290,
   "id": "3d13f0b9-12e8-43eb-8248-0a7dd1501d5a",
   "metadata": {},
   "outputs": [],
   "source": [
    "df=df[['season','yr','weathersit','cnt','temp']]"
   ]
  },
  {
   "cell_type": "code",
   "execution_count": 292,
   "id": "1233f151-0de9-4e2d-9ada-29e8b9fcaf55",
   "metadata": {},
   "outputs": [],
   "source": [
    "weather_dum=pd.get_dummies(df.weathersit, drop_first=True , prefix='weather').astype(int)\n",
    "df=df.drop('weathersit',axis=1)\n",
    "df=pd.concat([df,weather_dum],axis=1)"
   ]
  },
  {
   "cell_type": "code",
   "execution_count": 294,
   "id": "95624208-ea92-4526-ad60-36314460a5dd",
   "metadata": {},
   "outputs": [],
   "source": [
    "sns_dum=pd.get_dummies(df.season, drop_first=True , prefix='season').astype(int)\n",
    "df=df.drop('season',axis=1)\n",
    "df=pd.concat([df,sns_dum],axis=1)"
   ]
  },
  {
   "cell_type": "code",
   "execution_count": 296,
   "id": "cd7b0214-3c71-4926-8a65-fcd32f473270",
   "metadata": {},
   "outputs": [],
   "source": [
    "yr_dum=pd.get_dummies(df.yr, drop_first=True , prefix='yr').astype(int)\n",
    "df=df.drop('yr',axis=1)\n",
    "df=pd.concat([df,yr_dum],axis=1)"
   ]
  },
  {
   "cell_type": "code",
   "execution_count": 298,
   "id": "daa7075f-6e58-47a1-8f3a-01b9b0bd19b7",
   "metadata": {},
   "outputs": [
    {
     "data": {
      "text/html": [
       "<div>\n",
       "<style scoped>\n",
       "    .dataframe tbody tr th:only-of-type {\n",
       "        vertical-align: middle;\n",
       "    }\n",
       "\n",
       "    .dataframe tbody tr th {\n",
       "        vertical-align: top;\n",
       "    }\n",
       "\n",
       "    .dataframe thead th {\n",
       "        text-align: right;\n",
       "    }\n",
       "</style>\n",
       "<table border=\"1\" class=\"dataframe\">\n",
       "  <thead>\n",
       "    <tr style=\"text-align: right;\">\n",
       "      <th></th>\n",
       "      <th>cnt</th>\n",
       "      <th>temp</th>\n",
       "      <th>weather_2</th>\n",
       "      <th>weather_3</th>\n",
       "      <th>season_2</th>\n",
       "      <th>season_3</th>\n",
       "      <th>season_4</th>\n",
       "      <th>yr_1</th>\n",
       "    </tr>\n",
       "  </thead>\n",
       "  <tbody>\n",
       "    <tr>\n",
       "      <th>0</th>\n",
       "      <td>985</td>\n",
       "      <td>14.110847</td>\n",
       "      <td>1</td>\n",
       "      <td>0</td>\n",
       "      <td>0</td>\n",
       "      <td>0</td>\n",
       "      <td>0</td>\n",
       "      <td>0</td>\n",
       "    </tr>\n",
       "    <tr>\n",
       "      <th>1</th>\n",
       "      <td>801</td>\n",
       "      <td>14.902598</td>\n",
       "      <td>1</td>\n",
       "      <td>0</td>\n",
       "      <td>0</td>\n",
       "      <td>0</td>\n",
       "      <td>0</td>\n",
       "      <td>0</td>\n",
       "    </tr>\n",
       "    <tr>\n",
       "      <th>2</th>\n",
       "      <td>1349</td>\n",
       "      <td>8.050924</td>\n",
       "      <td>0</td>\n",
       "      <td>0</td>\n",
       "      <td>0</td>\n",
       "      <td>0</td>\n",
       "      <td>0</td>\n",
       "      <td>0</td>\n",
       "    </tr>\n",
       "    <tr>\n",
       "      <th>3</th>\n",
       "      <td>1562</td>\n",
       "      <td>8.200000</td>\n",
       "      <td>0</td>\n",
       "      <td>0</td>\n",
       "      <td>0</td>\n",
       "      <td>0</td>\n",
       "      <td>0</td>\n",
       "      <td>0</td>\n",
       "    </tr>\n",
       "    <tr>\n",
       "      <th>4</th>\n",
       "      <td>1600</td>\n",
       "      <td>9.305237</td>\n",
       "      <td>0</td>\n",
       "      <td>0</td>\n",
       "      <td>0</td>\n",
       "      <td>0</td>\n",
       "      <td>0</td>\n",
       "      <td>0</td>\n",
       "    </tr>\n",
       "  </tbody>\n",
       "</table>\n",
       "</div>"
      ],
      "text/plain": [
       "    cnt       temp  weather_2  weather_3  season_2  season_3  season_4  yr_1\n",
       "0   985  14.110847          1          0         0         0         0     0\n",
       "1   801  14.902598          1          0         0         0         0     0\n",
       "2  1349   8.050924          0          0         0         0         0     0\n",
       "3  1562   8.200000          0          0         0         0         0     0\n",
       "4  1600   9.305237          0          0         0         0         0     0"
      ]
     },
     "execution_count": 298,
     "metadata": {},
     "output_type": "execute_result"
    }
   ],
   "source": [
    "df.head()"
   ]
  },
  {
   "cell_type": "code",
   "execution_count": 300,
   "id": "ab6ebe0b-3ce2-4a17-990a-edebd1f79b06",
   "metadata": {},
   "outputs": [],
   "source": [
    "x_train,x_test,y_train,y_test=train_test_split(df.drop('cnt',axis=1),df.cnt, test_size=0.2, random_state=20)"
   ]
  },
  {
   "cell_type": "code",
   "execution_count": 302,
   "id": "a899f267-e914-4a82-b841-e193a567c44c",
   "metadata": {},
   "outputs": [],
   "source": [
    "x_train=sm.add_constant(x_train,prepend=False)"
   ]
  },
  {
   "cell_type": "code",
   "execution_count": 304,
   "id": "bf5fc74b-714f-44d7-b476-a724bc788a39",
   "metadata": {},
   "outputs": [
    {
     "name": "stdout",
     "output_type": "stream",
     "text": [
      "                            OLS Regression Results                            \n",
      "==============================================================================\n",
      "Dep. Variable:                    cnt   R-squared:                       0.799\n",
      "Model:                            OLS   Adj. R-squared:                  0.797\n",
      "Method:                 Least Squares   F-statistic:                     327.9\n",
      "Date:                Wed, 25 Dec 2024   Prob (F-statistic):          2.88e-196\n",
      "Time:                        21:32:58   Log-Likelihood:                -4780.4\n",
      "No. Observations:                 584   AIC:                             9577.\n",
      "Df Residuals:                     576   BIC:                             9612.\n",
      "Df Model:                           7                                         \n",
      "Covariance Type:            nonrobust                                         \n",
      "==============================================================================\n",
      "                 coef    std err          t      P>|t|      [0.025      0.975]\n",
      "------------------------------------------------------------------------------\n",
      "temp         114.8940      8.631     13.311      0.000      97.941     131.847\n",
      "weather_2   -634.4204     77.938     -8.140      0.000    -787.497    -481.344\n",
      "weather_3  -2408.3061    203.123    -11.856      0.000   -2807.258   -2009.354\n",
      "season_2    1224.7977    137.062      8.936      0.000     955.596    1493.999\n",
      "season_3    1076.0561    177.728      6.055      0.000     726.983    1425.129\n",
      "season_4    1603.8092    113.364     14.147      0.000    1381.152    1826.466\n",
      "yr_1        2048.4180     72.720     28.169      0.000    1905.590    2191.246\n",
      "const        453.5290    135.960      3.336      0.001     186.492     720.566\n",
      "==============================================================================\n",
      "Omnibus:                       87.036   Durbin-Watson:                   1.979\n",
      "Prob(Omnibus):                  0.000   Jarque-Bera (JB):              173.382\n",
      "Skew:                          -0.850   Prob(JB):                     2.24e-38\n",
      "Kurtosis:                       5.057   Cond. No.                         139.\n",
      "==============================================================================\n",
      "\n",
      "Notes:\n",
      "[1] Standard Errors assume that the covariance matrix of the errors is correctly specified.\n"
     ]
    }
   ],
   "source": [
    "model=sm.OLS(y_train,x_train).fit()\n",
    "print(model.summary())"
   ]
  },
  {
   "cell_type": "code",
   "execution_count": 324,
   "id": "a88a6024-e695-4f78-95f6-ee5f5430bbfb",
   "metadata": {},
   "outputs": [],
   "source": [
    "from sklearn.metrics import r2_score"
   ]
  },
  {
   "cell_type": "code",
   "execution_count": 326,
   "id": "07936693-a322-4084-a3d9-6a811d98a1ae",
   "metadata": {},
   "outputs": [
    {
     "name": "stdout",
     "output_type": "stream",
     "text": [
      "R² Score on Test Data: 0.8308780839358721\n"
     ]
    }
   ],
   "source": [
    "y_pred = model.predict(sm.add_constant(x_test, prepend=False))\n",
    "from sklearn.metrics import r2_score\n",
    "print(\"R² Score on Test Data:\", r2_score(y_test, y_pred))\n"
   ]
  },
  {
   "cell_type": "raw",
   "id": "8b7e8e03-2821-4fbe-bea7-396a8a032197",
   "metadata": {},
   "source": [
    "- R² Score on Test Data: 83% , which means 83% of the variations are explained by the model.\n",
    "\n",
    "- So our model has strong factors which is better than the previous one"
   ]
  },
  {
   "cell_type": "raw",
   "id": "6e8b5eb3-1a00-4ed2-bb04-75ab04742ef8",
   "metadata": {},
   "source": [
    "All factors have P-value less than 0.05, so all null hypothesis gets rejected.\n",
    "\n",
    "- Ho : Temp does not influences th count of rental bike , as the pval<0.05 we reject the Ho\n",
    "- Hence , temp does affect in the count of rental bike, as the temp increases the renting of bikes also increases\n",
    "\n",
    "- weather_2 : \n",
    "    Ho :  When weather changes from clear to mist, the count of rental bikes is not influenced.\n",
    "    Ha :  When weather changes from clear to mist, the count of rental bikes decreases.\n",
    "    \n",
    "- weather_3 :\n",
    "    Ho : When weather changes from clear to light snow, the count of rental bikes is not influenced.\n",
    "    Ha : When weather changes from clear to light snow, the count of rental bikes decreases significantly.\n",
    "\n",
    "- season_2 :\n",
    "    Ho : When season changes from spring to summer, the count of rental bikes is not influenced.\n",
    "    Ha : When season changes from spring to summer, the count of rental bikes increases.\n",
    "\n",
    "- season_3 :\n",
    "    Ho : When season changes from spring to Fall, the count of rental bikes is not influenced.\n",
    "    Ha : When season changes from spring to Fall, the count of rental bikes increases.\n",
    "\n",
    "- season_4 :\n",
    "    Ho : When season changes from spring to winter, the count of rental bikes is not influenced.\n",
    "    Ha : When season changes from spring to winter, the count of rental bikes increases.\n",
    "\n",
    "- yr_1:\n",
    "    Ho : When year changes from 2018 to 2019, the count of rental bikes doesn't get influenced.\n",
    "    Ha : When year changes from 2018 to 2019, the count of rental bikes shooted up."
   ]
  },
  {
   "cell_type": "code",
   "execution_count": null,
   "id": "be43fc39-fb22-4328-8cd5-b70942ae1bad",
   "metadata": {},
   "outputs": [],
   "source": []
  },
  {
   "cell_type": "code",
   "execution_count": 329,
   "id": "9b14cfdf-eab3-43e6-955f-3c32dddca5fa",
   "metadata": {},
   "outputs": [
    {
     "name": "stdout",
     "output_type": "stream",
     "text": [
      "coulmn 0 has VIF factor as  32.68380995928533\n",
      "coulmn 1 has VIF factor as  23.421099044753458\n",
      "coulmn 2 has VIF factor as  1.588140905702892\n",
      "coulmn 3 has VIF factor as  1.2597693810058297\n",
      "coulmn 4 has VIF factor as  3.7395516446106907\n",
      "coulmn 5 has VIF factor as  5.394999959848348\n",
      "coulmn 6 has VIF factor as  3.213540107089786\n",
      "coulmn 7 has VIF factor as  4.916710259273509\n"
     ]
    }
   ],
   "source": [
    "for i in range(df.shape[1]):\n",
    "    print('coulmn',i ,'has VIF factor as ', variance_inflation_factor(df.values,i))"
   ]
  },
  {
   "cell_type": "code",
   "execution_count": 331,
   "id": "f1c4f477-c613-43d3-993a-282079e189f2",
   "metadata": {},
   "outputs": [
    {
     "data": {
      "text/plain": [
       "Index(['cnt', 'temp', 'weather_2', 'weather_3', 'season_2', 'season_3',\n",
       "       'season_4', 'yr_1'],\n",
       "      dtype='object')"
      ]
     },
     "execution_count": 331,
     "metadata": {},
     "output_type": "execute_result"
    }
   ],
   "source": [
    "df.columns"
   ]
  },
  {
   "cell_type": "code",
   "execution_count": 333,
   "id": "14a79e1e-ad07-4f2c-bef0-bb8cb5f3438f",
   "metadata": {},
   "outputs": [
    {
     "data": {
      "text/plain": [
       "146"
      ]
     },
     "execution_count": 333,
     "metadata": {},
     "output_type": "execute_result"
    }
   ],
   "source": [
    "len(y_pred)"
   ]
  },
  {
   "cell_type": "code",
   "execution_count": 335,
   "id": "bd3e9966-a2e1-4bab-9c83-f5a9b9bb4184",
   "metadata": {},
   "outputs": [
    {
     "data": {
      "image/png": "[encoded data removed]",
      "text/plain": [
       "<Figure size 640x480 with 1 Axes>"
      ]
     },
     "metadata": {},
     "output_type": "display_data"
    }
   ],
   "source": [
    "# Scatter plot for actual vs predicted values\n",
    "plt.scatter(y_test, y_pred, color='blue', alpha=0.7, label='Predicted vs Actual')\n",
    "plt.plot([min(y_test), max(y_test)], [min(y_test), max(y_test)], color='red', linestyle='--', label='Perfect Prediction')\n",
    "plt.xlabel('Actual Values (cnt)', fontsize=12)\n",
    "plt.ylabel('Predicted Values (cnt)', fontsize=12)\n",
    "plt.title('Actual vs Predicted Values', fontsize=14)\n",
    "\n",
    "plt.legend()\n",
    "plt.tight_layout()"
   ]
  },
  {
   "cell_type": "code",
   "execution_count": null,
   "id": "6ebc2784-f862-4f67-acdc-4821d586f7c5",
   "metadata": {},
   "outputs": [],
   "source": []
  },
  {
   "cell_type": "raw",
   "id": "37e6f446-0edc-4c8c-9dbe-f3c29441adce",
   "metadata": {},
   "source": [
    "Hence , above graph shows the predicted and actual values are more clustered to the best-fit line\n",
    "The above graph is generalized and my model is \n",
    "\n",
    "Sales are highest in Season 4 (fall), followed by\n",
    "Season 2 (spring) and Season 3 (summer),\n",
    "with winter having the lowest sales.\n",
    "\n",
    "So if us gov can give some specialized discount during the season of spring and summer ,\n",
    "their bike rental sales may increase."
   ]
  },
  {
   "cell_type": "code",
   "execution_count": null,
   "id": "acd131c2-2abd-43dc-980a-ffba8614d5d8",
   "metadata": {},
   "outputs": [],
   "source": []
  }
 ],
 "metadata": {
  "kernelspec": {
   "display_name": "Python 3 (ipykernel)",
   "language": "python",
   "name": "python3"
  },
  "language_info": {
   "codemirror_mode": {
    "name": "ipython",
    "version": 3
   },
   "file_extension": ".py",
   "mimetype": "text/x-python",
   "name": "python",
   "nbconvert_exporter": "python",
   "pygments_lexer": "ipython3",
   "version": "3.12.4"
  }
 },
 "nbformat": 4,
 "nbformat_minor": 5
}
