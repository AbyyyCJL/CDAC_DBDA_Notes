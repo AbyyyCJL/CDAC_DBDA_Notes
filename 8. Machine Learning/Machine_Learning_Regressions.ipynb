{
 "cells": [
  {
   "cell_type": "markdown",
   "id": "5fee8d64-9d38-4631-b59a-1096b7ea350f",
   "metadata": {},
   "source": [
    "# Type of Machine Learning Algorithms:\n",
    "1. Supervised --> There are separate input and output columns.(CHURN,FATEL DATASET) (MarkedUp data)\n",
    "\n",
    "                   Methods For Training Models :- Simple,Multiple,Decision Tree,Random Forest,KNN,SVM\n",
    "2. Unsupervised --> There are NO separate input and output columns.(ERP DATASET) (UnmarkedUp data)\n",
    "\n",
    "                    Methods For Training Models :- Cluster,Hierarchical,Clustering Analysis\n",
    "                    Eg: Recommendation System\n",
    "3. Reinforcement (Not in our syllabus)\n",
    "\n",
    "### PAC - Probably Approximately Correct:\n",
    "- As close as possible to the true value (approximately) - Related Error  (it should be low ) - epsilon (maximum probability allowed error).\n",
    "- 1 - epsilon --> accurary (if the probability is gerater than epsilon so it will reject)  P(Actual prediction XOR Model prediction) ≤ Epsilon.\n",
    "- As frequently as possible (probably) - Related Probability (it should be high) - delta (probability of failure).\n",
    "- 1 - delta --> confidence\n",
    "- P(P(Actual prediction XOR Model prediction) ≤ Epsilon) > 1 - delta\n",
    "### Confusion Matrix:\n",
    "- True Positive --> A person who is actually pregnant (positive) and classified as pregnant (positive). This is called TRUE POSITIVE (TP).\n",
    "- True Negative --> A person who is actually not pregnant (negative) and classified as not pregnant (negative). This is called TRUE NEGATIVE (TN).\n",
    "  \n",
    "- False Positive --> A person who is actually not pregnant (negative) and classified as pregnant (positive). This is called FALSE POSITIVE (FP).\n",
    "- False Negative --> A person who is actually pregnant (positive) and classified as not pregnant (negative). This is called FALSE NEGATIVE (FN).\n",
    "- Precision (P) --> TP / (TP+FP) -----> from Company Point of view.\n",
    "- Recall (R) --> TP / (TP+FN)  ----> From CDAC Point of view.\n",
    "- F1 Score ---> 2 * P * R / P + R (Harmonic Mean of Precision and Recall)\n",
    "##### If any prediction falls unnder False then it is error.\n",
    "- P(C xor M) - P(FP + FN) = O.25 <= epsilon\n",
    "- P(P(C xor M)) = P(e <= epsilon) >= 1 - delta"
   ]
  },
  {
   "cell_type": "markdown",
   "id": "cab94b51-0316-44db-9090-5705c0daf0f6",
   "metadata": {},
   "source": [
    "## Underfitting\n",
    "- Bias:- Inability of model to reconize the pattern from the data (The diff between )\n",
    "- When Bias is High and Variance is high or low then it is consider as Underfitting.\n",
    "- When we Key Word over simplified then there is Underfitting\n",
    "- I don't follow teacher and only do of my own "
   ]
  },
  {
   "cell_type": "markdown",
   "id": "3887cbff-05ee-4524-b8c1-c6a17a48477f",
   "metadata": {},
   "source": [
    "## Overfitting\n",
    "- When the Bias is Low and Variance is High then it is consider as Overfitting.\n",
    "- Key word - over complication of the model.\n",
    "- Eg: I over follow teacher "
   ]
  },
  {
   "cell_type": "markdown",
   "id": "b88a5210-60e6-4ee4-88a7-2f5b4481e1d2",
   "metadata": {},
   "source": [
    "- Vertical Split X and Y where X = perdictors and Y = Response or output "
   ]
  },
  {
   "cell_type": "markdown",
   "id": "e5b81db4-fe36-4fe1-9b1f-c0523059bf44",
   "metadata": {},
   "source": [
    "## Simple Linear Regression\n",
    "- Power of variable = 1\n",
    "- Response Should be continuous\n",
    "- 1 Predictor Continuous\n",
    "- y = mx + c\n",
    "## Multiple Linear Regression\n",
    "- When there are multiple variable the we use MLR power of variabe > 1\n",
    "- Response Should be continuous\n",
    "- It can have more than 1 predector continuous\n",
    "- y = m1x1 + m2x2 + .... + c"
   ]
  },
  {
   "cell_type": "markdown",
   "id": "e5306992-e122-4c72-8f37-d3c8d99d39be",
   "metadata": {},
   "source": [
    "### Co-Variance:\n",
    "- correlation coefficient tells the strenght of the relationship between entities\n",
    "- co-variance tells only direction of relationship between variables"
   ]
  },
  {
   "cell_type": "code",
   "execution_count": 329,
   "id": "bb6cdb47-936a-454e-8282-144a4515a517",
   "metadata": {},
   "outputs": [],
   "source": [
    "import pandas as pd\n",
    "import numpy as np\n",
    "import os\n",
    "from numpy import random\n",
    "import scipy \n",
    "from scipy import stats\n",
    "from matplotlib import pyplot as plt\n",
    "from scipy.stats import binom\n",
    "from scipy.stats import poisson\n",
    "from scipy.stats import norm ,t\n",
    "import seaborn as sns\n",
    "import pylab\n",
    "from pylab import legend,plot,show,title,xlabel,ylabel\n",
    "from random import choice\n",
    "import statsmodels\n",
    "from statsmodels import stats\n",
    "from statsmodels.stats import weightstats as ssw\n",
    "import statsmodels.api as sm\n",
    "from statsmodels.formula.api import ols\n",
    "import statsmodels.stats.multicomp\n",
    "from statsmodels.stats.multicomp import pairwise_tukeyhsd\n",
    "from statsmodels.stats import proportion  as ssp\n",
    "from scipy.stats import chisquare\n",
    "from scipy.stats import chi2_contingency\n",
    "from sklearn.model_selection import train_test_split\n",
    "from sklearn.metrics import confusion_matrix\n",
    "from sklearn.metrics import classification_report\n",
    "from statsmodels.stats.outliers_influence import variance_inflation_factor\n",
    "from statsmodels import discrete\n",
    "from statsmodels.discrete import discrete_model\n",
    "from statsmodels.discrete.discrete_model import MNLogit\n",
    "from statsmodels.miscmodels.ordinal_model import OrderedModel\n",
    "import statsmodels.formula.api as smf\n",
    "from statsmodels.discrete.discrete_model import Poisson as psn\n",
    "from statsmodels.discrete.discrete_model import NegativeBinomial as ngb\n",
    "os.chdir(r\"D:\\R Programing\")"
   ]
  },
  {
   "cell_type": "code",
   "execution_count": 168,
   "id": "84014651-1bf0-4cf8-8ebd-577dbdf679fe",
   "metadata": {},
   "outputs": [
    {
     "name": "stdout",
     "output_type": "stream",
     "text": [
      "Requirement already satisfied: scikit-learn in c:\\users\\viraj narayan shirke\\appdata\\local\\programs\\python\\python312\\lib\\site-packages (1.6.0)\n",
      "Requirement already satisfied: numpy>=1.19.5 in c:\\users\\viraj narayan shirke\\appdata\\local\\programs\\python\\python312\\lib\\site-packages (from scikit-learn) (2.1.2)\n",
      "Requirement already satisfied: scipy>=1.6.0 in c:\\users\\viraj narayan shirke\\appdata\\local\\programs\\python\\python312\\lib\\site-packages (from scikit-learn) (1.14.1)\n",
      "Requirement already satisfied: joblib>=1.2.0 in c:\\users\\viraj narayan shirke\\appdata\\local\\programs\\python\\python312\\lib\\site-packages (from scikit-learn) (1.4.2)\n",
      "Requirement already satisfied: threadpoolctl>=3.1.0 in c:\\users\\viraj narayan shirke\\appdata\\local\\programs\\python\\python312\\lib\\site-packages (from scikit-learn) (3.5.0)\n",
      "Note: you may need to restart the kernel to use updated packages.\n"
     ]
    },
    {
     "name": "stderr",
     "output_type": "stream",
     "text": [
      "\n",
      "[notice] A new release of pip is available: 24.2 -> 24.3.1\n",
      "[notice] To update, run: python.exe -m pip install --upgrade pip\n"
     ]
    }
   ],
   "source": [
    "pip install scikit-learn"
   ]
  },
  {
   "cell_type": "code",
   "execution_count": 169,
   "id": "9da98bee-8a19-4731-9274-948ed46359b2",
   "metadata": {},
   "outputs": [],
   "source": [
    "df = pd.read_excel('CDAC_DataBook.xlsx',sheet_name='stackloss')"
   ]
  },
  {
   "cell_type": "code",
   "execution_count": 170,
   "id": "ef56a535-c82c-4932-82a7-2f2c2880616f",
   "metadata": {},
   "outputs": [
    {
     "data": {
      "text/html": [
       "<div>\n",
       "<style scoped>\n",
       "    .dataframe tbody tr th:only-of-type {\n",
       "        vertical-align: middle;\n",
       "    }\n",
       "\n",
       "    .dataframe tbody tr th {\n",
       "        vertical-align: top;\n",
       "    }\n",
       "\n",
       "    .dataframe thead th {\n",
       "        text-align: right;\n",
       "    }\n",
       "</style>\n",
       "<table border=\"1\" class=\"dataframe\">\n",
       "  <thead>\n",
       "    <tr style=\"text-align: right;\">\n",
       "      <th></th>\n",
       "      <th>AirFlow</th>\n",
       "      <th>WaterTemp</th>\n",
       "      <th>AcidConc</th>\n",
       "      <th>StackLoss</th>\n",
       "    </tr>\n",
       "  </thead>\n",
       "  <tbody>\n",
       "    <tr>\n",
       "      <th>0</th>\n",
       "      <td>80</td>\n",
       "      <td>27</td>\n",
       "      <td>89</td>\n",
       "      <td>42</td>\n",
       "    </tr>\n",
       "    <tr>\n",
       "      <th>1</th>\n",
       "      <td>80</td>\n",
       "      <td>27</td>\n",
       "      <td>88</td>\n",
       "      <td>37</td>\n",
       "    </tr>\n",
       "    <tr>\n",
       "      <th>2</th>\n",
       "      <td>75</td>\n",
       "      <td>25</td>\n",
       "      <td>90</td>\n",
       "      <td>37</td>\n",
       "    </tr>\n",
       "    <tr>\n",
       "      <th>3</th>\n",
       "      <td>62</td>\n",
       "      <td>24</td>\n",
       "      <td>87</td>\n",
       "      <td>28</td>\n",
       "    </tr>\n",
       "    <tr>\n",
       "      <th>4</th>\n",
       "      <td>62</td>\n",
       "      <td>22</td>\n",
       "      <td>87</td>\n",
       "      <td>18</td>\n",
       "    </tr>\n",
       "  </tbody>\n",
       "</table>\n",
       "</div>"
      ],
      "text/plain": [
       "   AirFlow  WaterTemp  AcidConc  StackLoss\n",
       "0       80         27        89         42\n",
       "1       80         27        88         37\n",
       "2       75         25        90         37\n",
       "3       62         24        87         28\n",
       "4       62         22        87         18"
      ]
     },
     "execution_count": 170,
     "metadata": {},
     "output_type": "execute_result"
    }
   ],
   "source": [
    "df.head()"
   ]
  },
  {
   "cell_type": "code",
   "execution_count": 171,
   "id": "386b418f-3161-43e7-88ab-92b72f28004f",
   "metadata": {},
   "outputs": [
    {
     "data": {
      "text/html": [
       "<div>\n",
       "<style scoped>\n",
       "    .dataframe tbody tr th:only-of-type {\n",
       "        vertical-align: middle;\n",
       "    }\n",
       "\n",
       "    .dataframe tbody tr th {\n",
       "        vertical-align: top;\n",
       "    }\n",
       "\n",
       "    .dataframe thead th {\n",
       "        text-align: right;\n",
       "    }\n",
       "</style>\n",
       "<table border=\"1\" class=\"dataframe\">\n",
       "  <thead>\n",
       "    <tr style=\"text-align: right;\">\n",
       "      <th></th>\n",
       "      <th>AirFlow</th>\n",
       "      <th>WaterTemp</th>\n",
       "      <th>AcidConc</th>\n",
       "      <th>StackLoss</th>\n",
       "    </tr>\n",
       "  </thead>\n",
       "  <tbody>\n",
       "    <tr>\n",
       "      <th>AirFlow</th>\n",
       "      <td>1.000000</td>\n",
       "      <td>0.781852</td>\n",
       "      <td>0.500143</td>\n",
       "      <td>0.919663</td>\n",
       "    </tr>\n",
       "    <tr>\n",
       "      <th>WaterTemp</th>\n",
       "      <td>0.781852</td>\n",
       "      <td>1.000000</td>\n",
       "      <td>0.390940</td>\n",
       "      <td>0.875504</td>\n",
       "    </tr>\n",
       "    <tr>\n",
       "      <th>AcidConc</th>\n",
       "      <td>0.500143</td>\n",
       "      <td>0.390940</td>\n",
       "      <td>1.000000</td>\n",
       "      <td>0.399830</td>\n",
       "    </tr>\n",
       "    <tr>\n",
       "      <th>StackLoss</th>\n",
       "      <td>0.919663</td>\n",
       "      <td>0.875504</td>\n",
       "      <td>0.399830</td>\n",
       "      <td>1.000000</td>\n",
       "    </tr>\n",
       "  </tbody>\n",
       "</table>\n",
       "</div>"
      ],
      "text/plain": [
       "            AirFlow  WaterTemp  AcidConc  StackLoss\n",
       "AirFlow    1.000000   0.781852  0.500143   0.919663\n",
       "WaterTemp  0.781852   1.000000  0.390940   0.875504\n",
       "AcidConc   0.500143   0.390940  1.000000   0.399830\n",
       "StackLoss  0.919663   0.875504  0.399830   1.000000"
      ]
     },
     "execution_count": 171,
     "metadata": {},
     "output_type": "execute_result"
    }
   ],
   "source": [
    "df.corr()"
   ]
  },
  {
   "cell_type": "code",
   "execution_count": 172,
   "id": "288be55d-847c-4678-be96-cedd92d48752",
   "metadata": {},
   "outputs": [
    {
     "data": {
      "text/plain": [
       "array([[84.05714286, 22.65714286],\n",
       "       [22.65714286,  9.99047619]])"
      ]
     },
     "execution_count": 172,
     "metadata": {},
     "output_type": "execute_result"
    }
   ],
   "source": [
    "np.cov(df['AirFlow'],df['WaterTemp'])"
   ]
  },
  {
   "cell_type": "markdown",
   "id": "ba842da1-0e53-42e9-830a-3a38bee19e2c",
   "metadata": {},
   "source": [
    "- 84.05714286 =  co-variance airflow with itself\n",
    "- 22.65714286 = co-variance of airflow with waterflow\n",
    "- 9.99047619 = co-variance of waterflow with itself\n",
    "- co-variance of x1 is almost equal to variance of x1"
   ]
  },
  {
   "cell_type": "code",
   "execution_count": 173,
   "id": "d36acdc6-fb83-4559-a99c-4c1e4462633e",
   "metadata": {},
   "outputs": [
    {
     "data": {
      "text/plain": [
       "np.float64(80.05442176870748)"
      ]
     },
     "execution_count": 173,
     "metadata": {},
     "output_type": "execute_result"
    }
   ],
   "source": [
    "np.var(df['AirFlow'])"
   ]
  },
  {
   "cell_type": "code",
   "execution_count": 174,
   "id": "2d38b80c-bf6c-483d-8482-878c1558da2a",
   "metadata": {},
   "outputs": [
    {
     "data": {
      "text/plain": [
       "np.float64(9.514739229024945)"
      ]
     },
     "execution_count": 174,
     "metadata": {},
     "output_type": "execute_result"
    }
   ],
   "source": [
    "np.var(df['WaterTemp'])"
   ]
  },
  {
   "cell_type": "code",
   "execution_count": 175,
   "id": "7ad519de-5072-4289-a197-e244a4f55fae",
   "metadata": {},
   "outputs": [
    {
     "data": {
      "text/plain": [
       "array([[1.        , 0.78185233],\n",
       "       [0.78185233, 1.        ]])"
      ]
     },
     "execution_count": 175,
     "metadata": {},
     "output_type": "execute_result"
    }
   ],
   "source": [
    "np.corrcoef(df['AirFlow'],df['WaterTemp'])"
   ]
  },
  {
   "cell_type": "code",
   "execution_count": 176,
   "id": "d34fa193-a4e6-45bd-8834-5d9e979da65f",
   "metadata": {},
   "outputs": [],
   "source": [
    "df1 = pd.read_excel('CDAC_DataBook.xlsx',sheet_name='faithful')"
   ]
  },
  {
   "cell_type": "code",
   "execution_count": 177,
   "id": "11b8dda6-1932-483e-bafc-e6ad827e804f",
   "metadata": {},
   "outputs": [
    {
     "data": {
      "text/html": [
       "<div>\n",
       "<style scoped>\n",
       "    .dataframe tbody tr th:only-of-type {\n",
       "        vertical-align: middle;\n",
       "    }\n",
       "\n",
       "    .dataframe tbody tr th {\n",
       "        vertical-align: top;\n",
       "    }\n",
       "\n",
       "    .dataframe thead th {\n",
       "        text-align: right;\n",
       "    }\n",
       "</style>\n",
       "<table border=\"1\" class=\"dataframe\">\n",
       "  <thead>\n",
       "    <tr style=\"text-align: right;\">\n",
       "      <th></th>\n",
       "      <th>eruptions</th>\n",
       "      <th>waiting</th>\n",
       "    </tr>\n",
       "  </thead>\n",
       "  <tbody>\n",
       "    <tr>\n",
       "      <th>0</th>\n",
       "      <td>3.600</td>\n",
       "      <td>79</td>\n",
       "    </tr>\n",
       "    <tr>\n",
       "      <th>1</th>\n",
       "      <td>1.800</td>\n",
       "      <td>54</td>\n",
       "    </tr>\n",
       "    <tr>\n",
       "      <th>2</th>\n",
       "      <td>3.333</td>\n",
       "      <td>74</td>\n",
       "    </tr>\n",
       "    <tr>\n",
       "      <th>3</th>\n",
       "      <td>2.283</td>\n",
       "      <td>62</td>\n",
       "    </tr>\n",
       "    <tr>\n",
       "      <th>4</th>\n",
       "      <td>4.533</td>\n",
       "      <td>85</td>\n",
       "    </tr>\n",
       "  </tbody>\n",
       "</table>\n",
       "</div>"
      ],
      "text/plain": [
       "   eruptions  waiting\n",
       "0      3.600       79\n",
       "1      1.800       54\n",
       "2      3.333       74\n",
       "3      2.283       62\n",
       "4      4.533       85"
      ]
     },
     "execution_count": 177,
     "metadata": {},
     "output_type": "execute_result"
    }
   ],
   "source": [
    "df1.head()"
   ]
  },
  {
   "cell_type": "code",
   "execution_count": 178,
   "id": "e6620170-d5cb-4a0e-8465-24b9bb62bee7",
   "metadata": {},
   "outputs": [
    {
     "data": {
      "text/plain": [
       "<Axes: xlabel='waiting', ylabel='eruptions'>"
      ]
     },
     "execution_count": 178,
     "metadata": {},
     "output_type": "execute_result"
    },
    {
     "data": {
      "image/png": "[encoded data removed]",
      "text/plain": [
       "<Figure size 640x480 with 1 Axes>"
      ]
     },
     "metadata": {},
     "output_type": "display_data"
    }
   ],
   "source": [
    "sns.scatterplot(x=df1['waiting'],y=df1['eruptions'])"
   ]
  },
  {
   "cell_type": "code",
   "execution_count": 179,
   "id": "eff1d1fd-8b82-4069-9301-ec36640614b0",
   "metadata": {},
   "outputs": [
    {
     "data": {
      "text/plain": [
       "array([[1.        , 0.90081117],\n",
       "       [0.90081117, 1.        ]])"
      ]
     },
     "execution_count": 179,
     "metadata": {},
     "output_type": "execute_result"
    }
   ],
   "source": [
    "np.corrcoef(df1['waiting'],df1['eruptions'])"
   ]
  },
  {
   "cell_type": "raw",
   "id": "ce7722d1-a86e-40b8-9a67-79a5703c9ce2",
   "metadata": {},
   "source": [
    "Q: Can we say x,y are very closely related if co-related coefficent is 0.1 ?\n",
    "Ans --> They can have co-relationship but the do not fall under linear relation. "
   ]
  },
  {
   "cell_type": "raw",
   "id": "0c5203f6-8b56-4e6a-a127-19c4c5d16235",
   "metadata": {},
   "source": [
    "The value of y and c is given by sum of squares of residuals (error) it should be minimum\n",
    "residuals --> y[line] - y[point]"
   ]
  },
  {
   "cell_type": "code",
   "execution_count": 180,
   "id": "db525fa6-07e9-4cd1-8240-5957799de4af",
   "metadata": {},
   "outputs": [],
   "source": [
    "x_train = df1.waiting\n",
    "y_train = df1.eruptions"
   ]
  },
  {
   "cell_type": "code",
   "execution_count": 181,
   "id": "e4f3df32-b4fc-44b0-bcd1-866d8391b07a",
   "metadata": {},
   "outputs": [],
   "source": [
    "x_train = sm.add_constant(x_train,prepend=False)"
   ]
  },
  {
   "cell_type": "code",
   "execution_count": 182,
   "id": "9e2c15d0-42af-46dd-836a-e56013c2ba21",
   "metadata": {},
   "outputs": [
    {
     "data": {
      "text/html": [
       "<div>\n",
       "<style scoped>\n",
       "    .dataframe tbody tr th:only-of-type {\n",
       "        vertical-align: middle;\n",
       "    }\n",
       "\n",
       "    .dataframe tbody tr th {\n",
       "        vertical-align: top;\n",
       "    }\n",
       "\n",
       "    .dataframe thead th {\n",
       "        text-align: right;\n",
       "    }\n",
       "</style>\n",
       "<table border=\"1\" class=\"dataframe\">\n",
       "  <thead>\n",
       "    <tr style=\"text-align: right;\">\n",
       "      <th></th>\n",
       "      <th>waiting</th>\n",
       "      <th>const</th>\n",
       "    </tr>\n",
       "  </thead>\n",
       "  <tbody>\n",
       "    <tr>\n",
       "      <th>0</th>\n",
       "      <td>79</td>\n",
       "      <td>1.0</td>\n",
       "    </tr>\n",
       "    <tr>\n",
       "      <th>1</th>\n",
       "      <td>54</td>\n",
       "      <td>1.0</td>\n",
       "    </tr>\n",
       "    <tr>\n",
       "      <th>2</th>\n",
       "      <td>74</td>\n",
       "      <td>1.0</td>\n",
       "    </tr>\n",
       "    <tr>\n",
       "      <th>3</th>\n",
       "      <td>62</td>\n",
       "      <td>1.0</td>\n",
       "    </tr>\n",
       "    <tr>\n",
       "      <th>4</th>\n",
       "      <td>85</td>\n",
       "      <td>1.0</td>\n",
       "    </tr>\n",
       "  </tbody>\n",
       "</table>\n",
       "</div>"
      ],
      "text/plain": [
       "   waiting  const\n",
       "0       79    1.0\n",
       "1       54    1.0\n",
       "2       74    1.0\n",
       "3       62    1.0\n",
       "4       85    1.0"
      ]
     },
     "execution_count": 182,
     "metadata": {},
     "output_type": "execute_result"
    }
   ],
   "source": [
    "x_train.head()"
   ]
  },
  {
   "cell_type": "markdown",
   "id": "88fb97ac-b466-4fe4-bcc3-7a8cfa992a04",
   "metadata": {},
   "source": [
    "## OLS (Ordinary Least Squared)\n",
    "- ***Residuals*** --> Diff between Predicted values and actual value.\n",
    "- all the residuals should be normally distributed.\n",
    "- Residuals are randomly distributed with respect ot fitted values.\n",
    "- The variance of residuals with respect to fitted values should be constant.\n",
    "- Anderson-Darling Test (Used for see whether data is normal distributed) --> Ho = data is not falling in normal distribution\n",
    "- 68.3% of data should fall under +-1 std dev\n",
    "- 99.7% should fall under +-3 std dev\n",
    "- Mean,Median,Mode will be very close to 0.\n",
    "- Eg. If mean = 60 and std dev = 5 so (45 - 55) is +-1 so 68.3% fall under this range and (45 - 75) +-3 so 99.73 fall under this range."
   ]
  },
  {
   "cell_type": "code",
   "execution_count": 183,
   "id": "d922ab40-6e40-43f6-96c5-069524d33e97",
   "metadata": {},
   "outputs": [
    {
     "name": "stdout",
     "output_type": "stream",
     "text": [
      "                            OLS Regression Results                            \n",
      "==============================================================================\n",
      "Dep. Variable:              eruptions   R-squared:                       0.811\n",
      "Model:                            OLS   Adj. R-squared:                  0.811\n",
      "Method:                 Least Squares   F-statistic:                     1162.\n",
      "Date:                Sat, 21 Dec 2024   Prob (F-statistic):          8.13e-100\n",
      "Time:                        14:46:32   Log-Likelihood:                -194.51\n",
      "No. Observations:                 272   AIC:                             393.0\n",
      "Df Residuals:                     270   BIC:                             400.2\n",
      "Df Model:                           1                                         \n",
      "Covariance Type:            nonrobust                                         \n",
      "==============================================================================\n",
      "                 coef    std err          t      P>|t|      [0.025      0.975]\n",
      "------------------------------------------------------------------------------\n",
      "waiting        0.0756      0.002     34.089      0.000       0.071       0.080\n",
      "const         -1.8740      0.160    -11.702      0.000      -2.189      -1.559\n",
      "==============================================================================\n",
      "Omnibus:                        4.133   Durbin-Watson:                   2.561\n",
      "Prob(Omnibus):                  0.127   Jarque-Bera (JB):                3.173\n",
      "Skew:                          -0.138   Prob(JB):                        0.205\n",
      "Kurtosis:                       2.548   Cond. No.                         384.\n",
      "==============================================================================\n",
      "\n",
      "Notes:\n",
      "[1] Standard Errors assume that the covariance matrix of the errors is correctly specified.\n"
     ]
    }
   ],
   "source": [
    "mod1 = sm.OLS(y_train,x_train).fit() ## OLS --> Ordinary least Squared\n",
    "print(mod1.summary())"
   ]
  },
  {
   "cell_type": "markdown",
   "id": "8f4e099e-8cf6-4565-b389-bc90abee990e",
   "metadata": {},
   "source": [
    "- We have calculated to get least square value for 'm' and 'c' for the equation\n",
    "- eruptions = 0.0756* waiting - 1.8740 (y = mx + c)\n",
    "- As the null hypothesis is m = 0 so it is statistically significant, compared to 0.0756 so waiting is not dependant on eruptions\n",
    "- R-Squared --> explain the variations from the model (Eg. If the r-squared is 0.9, it sugggest 90% is explained and 10% is not explained)"
   ]
  },
  {
   "cell_type": "code",
   "execution_count": 184,
   "id": "604e0ff9-43fe-4913-8f53-f47262d44b31",
   "metadata": {},
   "outputs": [
    {
     "data": {
      "text/plain": [
       "0.8114607639967689"
      ]
     },
     "execution_count": 184,
     "metadata": {},
     "output_type": "execute_result"
    }
   ],
   "source": [
    "0.90081117**2 ## R-squared = coefficent of determination  (it is square of correlation coefficent) (only in linear regression)"
   ]
  },
  {
   "cell_type": "markdown",
   "id": "9cb2ef29-f747-4aaa-95e6-f5213b6b3f65",
   "metadata": {},
   "source": [
    "- Adjusted R-Squared charges the penalty for the number of perdictors ised in the model \n",
    "- Has the no of perdictors increase, the diff between r-squared and adjusted r-squared will also increase\n",
    "- F-statistic: 1162. ---> t-statistic\n",
    "- Prob (F-statistic):   8.13e-100 ---> P-value\n",
    "- As Null hypothesis is rejected so our model is useful so we can take decision for it\n",
    "- *response* is not affected by *predictor*"
   ]
  },
  {
   "cell_type": "code",
   "execution_count": 185,
   "id": "feda2b89-0a5f-4a47-89dc-c0be57ea01dd",
   "metadata": {},
   "outputs": [],
   "source": [
    "x_train, x_test, y_train, y_test = train_test_split(df1.waiting,df1.eruptions, test_size=0.2,random_state=20)\n",
    "## train_test_split(input column, output column, % of test sample)"
   ]
  },
  {
   "cell_type": "code",
   "execution_count": 186,
   "id": "dfad6c63-d678-4c92-bf3a-0ce077f4270b",
   "metadata": {},
   "outputs": [
    {
     "data": {
      "text/plain": [
       "58     77\n",
       "184    51\n",
       "15     52\n",
       "103    83\n",
       "81     82\n",
       "Name: waiting, dtype: int64"
      ]
     },
     "execution_count": 186,
     "metadata": {},
     "output_type": "execute_result"
    }
   ],
   "source": [
    "x_train.head()"
   ]
  },
  {
   "cell_type": "code",
   "execution_count": 187,
   "id": "1865aa0b-5475-4fc1-a966-cc88e90be25e",
   "metadata": {},
   "outputs": [
    {
     "data": {
      "text/plain": [
       "(217,)"
      ]
     },
     "execution_count": 187,
     "metadata": {},
     "output_type": "execute_result"
    }
   ],
   "source": [
    "x_train.shape"
   ]
  },
  {
   "cell_type": "code",
   "execution_count": 188,
   "id": "94fd9e69-8ae2-4427-afcf-a2d81eeb00ea",
   "metadata": {},
   "outputs": [
    {
     "data": {
      "text/plain": [
       "217.60000000000002"
      ]
     },
     "execution_count": 188,
     "metadata": {},
     "output_type": "execute_result"
    }
   ],
   "source": [
    "272*0.8"
   ]
  },
  {
   "cell_type": "code",
   "execution_count": 189,
   "id": "a1342553-80b1-4fbc-b1ce-2c407c53bb9e",
   "metadata": {},
   "outputs": [
    {
     "data": {
      "text/plain": [
       "58     4.567\n",
       "184    2.033\n",
       "15     2.167\n",
       "103    4.500\n",
       "81     4.333\n",
       "Name: eruptions, dtype: float64"
      ]
     },
     "execution_count": 189,
     "metadata": {},
     "output_type": "execute_result"
    }
   ],
   "source": [
    "y_train.head()"
   ]
  },
  {
   "cell_type": "code",
   "execution_count": 190,
   "id": "c5e6adf5-015f-4982-bb4e-424e3eadb7b9",
   "metadata": {},
   "outputs": [
    {
     "data": {
      "text/plain": [
       "72     79\n",
       "132    56\n",
       "129    90\n",
       "29     79\n",
       "87     80\n",
       "Name: waiting, dtype: int64"
      ]
     },
     "execution_count": 190,
     "metadata": {},
     "output_type": "execute_result"
    }
   ],
   "source": [
    "x_test.head()"
   ]
  },
  {
   "cell_type": "code",
   "execution_count": 191,
   "id": "6617b51b-1147-4ffa-b06a-69ba19932f46",
   "metadata": {},
   "outputs": [
    {
     "data": {
      "text/plain": [
       "72     4.500\n",
       "132    2.800\n",
       "129    4.650\n",
       "29     4.433\n",
       "87     4.517\n",
       "Name: eruptions, dtype: float64"
      ]
     },
     "execution_count": 191,
     "metadata": {},
     "output_type": "execute_result"
    }
   ],
   "source": [
    "y_test.head()"
   ]
  },
  {
   "cell_type": "code",
   "execution_count": 192,
   "id": "9a14dc95-0500-480b-b3a1-c9b8a98d3f9f",
   "metadata": {},
   "outputs": [],
   "source": [
    "x_train = sm.add_constant(x_train,prepend=False)"
   ]
  },
  {
   "cell_type": "code",
   "execution_count": 193,
   "id": "09846864-2186-4329-ab2d-29ab83a657b1",
   "metadata": {},
   "outputs": [
    {
     "name": "stdout",
     "output_type": "stream",
     "text": [
      "                            OLS Regression Results                            \n",
      "==============================================================================\n",
      "Dep. Variable:              eruptions   R-squared:                       0.802\n",
      "Model:                            OLS   Adj. R-squared:                  0.801\n",
      "Method:                 Least Squares   F-statistic:                     871.7\n",
      "Date:                Sat, 21 Dec 2024   Prob (F-statistic):           1.37e-77\n",
      "Time:                        14:46:33   Log-Likelihood:                -160.39\n",
      "No. Observations:                 217   AIC:                             324.8\n",
      "Df Residuals:                     215   BIC:                             331.5\n",
      "Df Model:                           1                                         \n",
      "Covariance Type:            nonrobust                                         \n",
      "==============================================================================\n",
      "                 coef    std err          t      P>|t|      [0.025      0.975]\n",
      "------------------------------------------------------------------------------\n",
      "waiting        0.0759      0.003     29.525      0.000       0.071       0.081\n",
      "const         -1.9119      0.185    -10.326      0.000      -2.277      -1.547\n",
      "==============================================================================\n",
      "Omnibus:                        4.570   Durbin-Watson:                   1.937\n",
      "Prob(Omnibus):                  0.102   Jarque-Bera (JB):                2.855\n",
      "Skew:                          -0.053   Prob(JB):                        0.240\n",
      "Kurtosis:                       2.448   Cond. No.                         386.\n",
      "==============================================================================\n",
      "\n",
      "Notes:\n",
      "[1] Standard Errors assume that the covariance matrix of the errors is correctly specified.\n"
     ]
    }
   ],
   "source": [
    "mod2 = sm.OLS(y_train, x_train).fit()\n",
    "print(mod2.summary())"
   ]
  },
  {
   "cell_type": "markdown",
   "id": "c11c4559-a5a3-4afc-9ba7-b118fc8d2388",
   "metadata": {},
   "source": [
    "- R-squared value is only 0.802 because the best fit line does not cover all the points, so it means all the points are not clustering around best fit line."
   ]
  },
  {
   "cell_type": "code",
   "execution_count": 194,
   "id": "70a757a9-38aa-48d1-abd9-b9fdc36c5a82",
   "metadata": {},
   "outputs": [],
   "source": [
    "x_test = sm.add_constant(x_test,prepend=False)\n",
    "y_pred = mod2.predict(x_test)"
   ]
  },
  {
   "cell_type": "code",
   "execution_count": 195,
   "id": "6c61b3ad-ca54-4815-aad8-244c0dae66ef",
   "metadata": {},
   "outputs": [
    {
     "data": {
      "text/plain": [
       "72     4.083201\n",
       "132    2.337782\n",
       "129    4.917967\n",
       "29     4.083201\n",
       "87     4.159089\n",
       "dtype: float64"
      ]
     },
     "execution_count": 195,
     "metadata": {},
     "output_type": "execute_result"
    }
   ],
   "source": [
    "y_pred.head()"
   ]
  },
  {
   "cell_type": "code",
   "execution_count": 196,
   "id": "2fa6bcfd-579c-4041-9249-8a50e256d4ce",
   "metadata": {},
   "outputs": [
    {
     "data": {
      "text/plain": [
       "72     4.500\n",
       "132    2.800\n",
       "129    4.650\n",
       "29     4.433\n",
       "87     4.517\n",
       "Name: eruptions, dtype: float64"
      ]
     },
     "execution_count": 196,
     "metadata": {},
     "output_type": "execute_result"
    }
   ],
   "source": [
    "y_test.head()"
   ]
  },
  {
   "cell_type": "code",
   "execution_count": 197,
   "id": "6d798418-0bfa-4e3b-9993-016c0c73c3a1",
   "metadata": {},
   "outputs": [
    {
     "data": {
      "text/html": [
       "<div>\n",
       "<style scoped>\n",
       "    .dataframe tbody tr th:only-of-type {\n",
       "        vertical-align: middle;\n",
       "    }\n",
       "\n",
       "    .dataframe tbody tr th {\n",
       "        vertical-align: top;\n",
       "    }\n",
       "\n",
       "    .dataframe thead th {\n",
       "        text-align: right;\n",
       "    }\n",
       "</style>\n",
       "<table border=\"1\" class=\"dataframe\">\n",
       "  <thead>\n",
       "    <tr style=\"text-align: right;\">\n",
       "      <th></th>\n",
       "      <th>AirFlow</th>\n",
       "      <th>WaterTemp</th>\n",
       "      <th>AcidConc</th>\n",
       "      <th>StackLoss</th>\n",
       "    </tr>\n",
       "  </thead>\n",
       "  <tbody>\n",
       "    <tr>\n",
       "      <th>0</th>\n",
       "      <td>80</td>\n",
       "      <td>27</td>\n",
       "      <td>89</td>\n",
       "      <td>42</td>\n",
       "    </tr>\n",
       "    <tr>\n",
       "      <th>1</th>\n",
       "      <td>80</td>\n",
       "      <td>27</td>\n",
       "      <td>88</td>\n",
       "      <td>37</td>\n",
       "    </tr>\n",
       "    <tr>\n",
       "      <th>2</th>\n",
       "      <td>75</td>\n",
       "      <td>25</td>\n",
       "      <td>90</td>\n",
       "      <td>37</td>\n",
       "    </tr>\n",
       "    <tr>\n",
       "      <th>3</th>\n",
       "      <td>62</td>\n",
       "      <td>24</td>\n",
       "      <td>87</td>\n",
       "      <td>28</td>\n",
       "    </tr>\n",
       "    <tr>\n",
       "      <th>4</th>\n",
       "      <td>62</td>\n",
       "      <td>22</td>\n",
       "      <td>87</td>\n",
       "      <td>18</td>\n",
       "    </tr>\n",
       "  </tbody>\n",
       "</table>\n",
       "</div>"
      ],
      "text/plain": [
       "   AirFlow  WaterTemp  AcidConc  StackLoss\n",
       "0       80         27        89         42\n",
       "1       80         27        88         37\n",
       "2       75         25        90         37\n",
       "3       62         24        87         28\n",
       "4       62         22        87         18"
      ]
     },
     "execution_count": 197,
     "metadata": {},
     "output_type": "execute_result"
    }
   ],
   "source": [
    "df.head()"
   ]
  },
  {
   "cell_type": "markdown",
   "id": "bad0ad50-6224-483c-8403-cb7e9b3335c0",
   "metadata": {},
   "source": [
    "## Multiple Linear Regression"
   ]
  },
  {
   "cell_type": "markdown",
   "id": "4b5929d7-741d-4384-b869-330eb5139b35",
   "metadata": {},
   "source": [
    "- There will be multiple predictor and one response \n",
    "- response must be continuous."
   ]
  },
  {
   "cell_type": "code",
   "execution_count": 198,
   "id": "4f44d31d-54d8-4241-9c2d-2ec8cb6f6e1f",
   "metadata": {},
   "outputs": [],
   "source": [
    "x_train, x_test, y_train, y_test = train_test_split(df.drop(\"StackLoss\",axis=1),df.StackLoss, test_size=0.2,random_state=20)\n"
   ]
  },
  {
   "cell_type": "code",
   "execution_count": 199,
   "id": "dabe5a45-8dc3-4f8b-b944-a132d17b5c7c",
   "metadata": {},
   "outputs": [
    {
     "data": {
      "text/html": [
       "<div>\n",
       "<style scoped>\n",
       "    .dataframe tbody tr th:only-of-type {\n",
       "        vertical-align: middle;\n",
       "    }\n",
       "\n",
       "    .dataframe tbody tr th {\n",
       "        vertical-align: top;\n",
       "    }\n",
       "\n",
       "    .dataframe thead th {\n",
       "        text-align: right;\n",
       "    }\n",
       "</style>\n",
       "<table border=\"1\" class=\"dataframe\">\n",
       "  <thead>\n",
       "    <tr style=\"text-align: right;\">\n",
       "      <th></th>\n",
       "      <th>AirFlow</th>\n",
       "      <th>WaterTemp</th>\n",
       "      <th>AcidConc</th>\n",
       "    </tr>\n",
       "  </thead>\n",
       "  <tbody>\n",
       "    <tr>\n",
       "      <th>16</th>\n",
       "      <td>50</td>\n",
       "      <td>19</td>\n",
       "      <td>72</td>\n",
       "    </tr>\n",
       "    <tr>\n",
       "      <th>19</th>\n",
       "      <td>56</td>\n",
       "      <td>20</td>\n",
       "      <td>82</td>\n",
       "    </tr>\n",
       "    <tr>\n",
       "      <th>18</th>\n",
       "      <td>50</td>\n",
       "      <td>20</td>\n",
       "      <td>80</td>\n",
       "    </tr>\n",
       "    <tr>\n",
       "      <th>4</th>\n",
       "      <td>62</td>\n",
       "      <td>22</td>\n",
       "      <td>87</td>\n",
       "    </tr>\n",
       "    <tr>\n",
       "      <th>1</th>\n",
       "      <td>80</td>\n",
       "      <td>27</td>\n",
       "      <td>88</td>\n",
       "    </tr>\n",
       "  </tbody>\n",
       "</table>\n",
       "</div>"
      ],
      "text/plain": [
       "    AirFlow  WaterTemp  AcidConc\n",
       "16       50         19        72\n",
       "19       56         20        82\n",
       "18       50         20        80\n",
       "4        62         22        87\n",
       "1        80         27        88"
      ]
     },
     "execution_count": 199,
     "metadata": {},
     "output_type": "execute_result"
    }
   ],
   "source": [
    "x_test.head()"
   ]
  },
  {
   "cell_type": "code",
   "execution_count": 200,
   "id": "3126836b-e84d-4518-8580-cfaa213c6796",
   "metadata": {},
   "outputs": [],
   "source": [
    "x_train = sm.add_constant(x_train,prepend=False)"
   ]
  },
  {
   "cell_type": "code",
   "execution_count": 201,
   "id": "cb8ae1fa-eb8a-4708-a5f5-4332bd2b5b20",
   "metadata": {},
   "outputs": [
    {
     "name": "stdout",
     "output_type": "stream",
     "text": [
      "                            OLS Regression Results                            \n",
      "==============================================================================\n",
      "Dep. Variable:              StackLoss   R-squared:                       0.893\n",
      "Model:                            OLS   Adj. R-squared:                  0.867\n",
      "Method:                 Least Squares   F-statistic:                     33.46\n",
      "Date:                Sat, 21 Dec 2024   Prob (F-statistic):           4.14e-06\n",
      "Time:                        14:46:33   Log-Likelihood:                -41.238\n",
      "No. Observations:                  16   AIC:                             90.48\n",
      "Df Residuals:                      12   BIC:                             93.57\n",
      "Df Model:                           3                                         \n",
      "Covariance Type:            nonrobust                                         \n",
      "==============================================================================\n",
      "                 coef    std err          t      P>|t|      [0.025      0.975]\n",
      "------------------------------------------------------------------------------\n",
      "AirFlow        0.7337      0.169      4.346      0.001       0.366       1.102\n",
      "WaterTemp      1.3969      0.438      3.188      0.008       0.442       2.352\n",
      "AcidConc      -0.2726      0.245     -1.114      0.287      -0.806       0.261\n",
      "const        -32.3094     19.465     -1.660      0.123     -74.720      10.101\n",
      "==============================================================================\n",
      "Omnibus:                        0.802   Durbin-Watson:                   2.243\n",
      "Prob(Omnibus):                  0.670   Jarque-Bera (JB):                0.663\n",
      "Skew:                          -0.437   Prob(JB):                        0.718\n",
      "Kurtosis:                       2.520   Cond. No.                     2.31e+03\n",
      "==============================================================================\n",
      "\n",
      "Notes:\n",
      "[1] Standard Errors assume that the covariance matrix of the errors is correctly specified.\n",
      "[2] The condition number is large, 2.31e+03. This might indicate that there are\n",
      "strong multicollinearity or other numerical problems.\n"
     ]
    },
    {
     "name": "stderr",
     "output_type": "stream",
     "text": [
      "C:\\Users\\viraj narayan shirke\\AppData\\Local\\Programs\\Python\\Python312\\Lib\\site-packages\\scipy\\stats\\_axis_nan_policy.py:418: UserWarning: `kurtosistest` p-value may be inaccurate with fewer than 20 observations; only n=16 observations were given.\n",
      "  return hypotest_fun_in(*args, **kwds)\n"
     ]
    }
   ],
   "source": [
    "mod1 = sm.OLS(y_train,x_train).fit()\n",
    "print(mod1.summary())"
   ]
  },
  {
   "cell_type": "markdown",
   "id": "3d06b831-605d-4145-beea-50ea8f00d000",
   "metadata": {},
   "source": [
    "- If the number of predictor increases the diff between them will increase and the value of adjusted R-Squared will decreases."
   ]
  },
  {
   "cell_type": "code",
   "execution_count": 202,
   "id": "b8f37857-343c-4094-ae7b-b112f24184c7",
   "metadata": {},
   "outputs": [],
   "source": [
    "x_test = sm.add_constant(x_test,prepend=False)"
   ]
  },
  {
   "cell_type": "code",
   "execution_count": 203,
   "id": "6aa08dce-6f8e-4fff-a594-1e181672f8bc",
   "metadata": {},
   "outputs": [],
   "source": [
    "y_pred = mod1.predict(x_test)"
   ]
  },
  {
   "cell_type": "code",
   "execution_count": 204,
   "id": "bf7d08da-32a2-47bf-a6e8-9e6288963b9d",
   "metadata": {},
   "outputs": [
    {
     "data": {
      "text/plain": [
       "(21, 4)"
      ]
     },
     "execution_count": 204,
     "metadata": {},
     "output_type": "execute_result"
    }
   ],
   "source": [
    "df.shape"
   ]
  },
  {
   "cell_type": "code",
   "execution_count": 205,
   "id": "312127bc-dab2-4b19-bb06-df6c0ff4954d",
   "metadata": {},
   "outputs": [
    {
     "data": {
      "text/plain": [
       "(16, 4)"
      ]
     },
     "execution_count": 205,
     "metadata": {},
     "output_type": "execute_result"
    }
   ],
   "source": [
    "x_train.shape"
   ]
  },
  {
   "cell_type": "markdown",
   "id": "eb0f15b8-d43d-401f-b48d-a300f1130973",
   "metadata": {},
   "source": [
    "## Categorical Regression"
   ]
  },
  {
   "cell_type": "markdown",
   "id": "beebc6e2-6243-4c9e-ae4c-7fbcf483476e",
   "metadata": {},
   "source": [
    "- No. of Dummy column = No. of levels - 1\n",
    "- Reference Event --> gives the removed column in above\n"
   ]
  },
  {
   "cell_type": "code",
   "execution_count": 206,
   "id": "8f253660-a7b3-442d-a508-be2415d76a44",
   "metadata": {},
   "outputs": [],
   "source": [
    "df3 = pd.read_excel('CDAC_DataBook.xlsx',sheet_name='salaries')"
   ]
  },
  {
   "cell_type": "code",
   "execution_count": 207,
   "id": "862de585-7046-4c4a-bb31-dac05773a5c8",
   "metadata": {},
   "outputs": [
    {
     "data": {
      "text/html": [
       "<div>\n",
       "<style scoped>\n",
       "    .dataframe tbody tr th:only-of-type {\n",
       "        vertical-align: middle;\n",
       "    }\n",
       "\n",
       "    .dataframe tbody tr th {\n",
       "        vertical-align: top;\n",
       "    }\n",
       "\n",
       "    .dataframe thead th {\n",
       "        text-align: right;\n",
       "    }\n",
       "</style>\n",
       "<table border=\"1\" class=\"dataframe\">\n",
       "  <thead>\n",
       "    <tr style=\"text-align: right;\">\n",
       "      <th></th>\n",
       "      <th>rank</th>\n",
       "      <th>discipline</th>\n",
       "      <th>yrs_phd</th>\n",
       "      <th>yrs_service</th>\n",
       "      <th>gender</th>\n",
       "      <th>salary</th>\n",
       "    </tr>\n",
       "  </thead>\n",
       "  <tbody>\n",
       "    <tr>\n",
       "      <th>0</th>\n",
       "      <td>Prof</td>\n",
       "      <td>B</td>\n",
       "      <td>19</td>\n",
       "      <td>18</td>\n",
       "      <td>Male</td>\n",
       "      <td>139750</td>\n",
       "    </tr>\n",
       "    <tr>\n",
       "      <th>1</th>\n",
       "      <td>Prof</td>\n",
       "      <td>B</td>\n",
       "      <td>20</td>\n",
       "      <td>16</td>\n",
       "      <td>Male</td>\n",
       "      <td>173200</td>\n",
       "    </tr>\n",
       "    <tr>\n",
       "      <th>2</th>\n",
       "      <td>AsstProf</td>\n",
       "      <td>B</td>\n",
       "      <td>4</td>\n",
       "      <td>3</td>\n",
       "      <td>Male</td>\n",
       "      <td>79750</td>\n",
       "    </tr>\n",
       "    <tr>\n",
       "      <th>3</th>\n",
       "      <td>Prof</td>\n",
       "      <td>B</td>\n",
       "      <td>45</td>\n",
       "      <td>39</td>\n",
       "      <td>Male</td>\n",
       "      <td>115000</td>\n",
       "    </tr>\n",
       "    <tr>\n",
       "      <th>4</th>\n",
       "      <td>Prof</td>\n",
       "      <td>B</td>\n",
       "      <td>40</td>\n",
       "      <td>41</td>\n",
       "      <td>Male</td>\n",
       "      <td>141500</td>\n",
       "    </tr>\n",
       "  </tbody>\n",
       "</table>\n",
       "</div>"
      ],
      "text/plain": [
       "       rank discipline  yrs_phd  yrs_service gender  salary\n",
       "0      Prof          B       19           18   Male  139750\n",
       "1      Prof          B       20           16   Male  173200\n",
       "2  AsstProf          B        4            3   Male   79750\n",
       "3      Prof          B       45           39   Male  115000\n",
       "4      Prof          B       40           41   Male  141500"
      ]
     },
     "execution_count": 207,
     "metadata": {},
     "output_type": "execute_result"
    }
   ],
   "source": [
    "df3.head()"
   ]
  },
  {
   "cell_type": "code",
   "execution_count": 208,
   "id": "da3bd60a-0a0a-41f0-a83b-09ecbeff5888",
   "metadata": {},
   "outputs": [],
   "source": [
    "df3 = df3[['gender','yrs_service','salary']]"
   ]
  },
  {
   "cell_type": "code",
   "execution_count": 209,
   "id": "400f6a1d-9725-47a6-8e03-fefcb4d7d53a",
   "metadata": {},
   "outputs": [
    {
     "data": {
      "text/html": [
       "<div>\n",
       "<style scoped>\n",
       "    .dataframe tbody tr th:only-of-type {\n",
       "        vertical-align: middle;\n",
       "    }\n",
       "\n",
       "    .dataframe tbody tr th {\n",
       "        vertical-align: top;\n",
       "    }\n",
       "\n",
       "    .dataframe thead th {\n",
       "        text-align: right;\n",
       "    }\n",
       "</style>\n",
       "<table border=\"1\" class=\"dataframe\">\n",
       "  <thead>\n",
       "    <tr style=\"text-align: right;\">\n",
       "      <th></th>\n",
       "      <th>gender</th>\n",
       "      <th>yrs_service</th>\n",
       "      <th>salary</th>\n",
       "    </tr>\n",
       "  </thead>\n",
       "  <tbody>\n",
       "    <tr>\n",
       "      <th>0</th>\n",
       "      <td>Male</td>\n",
       "      <td>18</td>\n",
       "      <td>139750</td>\n",
       "    </tr>\n",
       "    <tr>\n",
       "      <th>1</th>\n",
       "      <td>Male</td>\n",
       "      <td>16</td>\n",
       "      <td>173200</td>\n",
       "    </tr>\n",
       "    <tr>\n",
       "      <th>2</th>\n",
       "      <td>Male</td>\n",
       "      <td>3</td>\n",
       "      <td>79750</td>\n",
       "    </tr>\n",
       "    <tr>\n",
       "      <th>3</th>\n",
       "      <td>Male</td>\n",
       "      <td>39</td>\n",
       "      <td>115000</td>\n",
       "    </tr>\n",
       "    <tr>\n",
       "      <th>4</th>\n",
       "      <td>Male</td>\n",
       "      <td>41</td>\n",
       "      <td>141500</td>\n",
       "    </tr>\n",
       "  </tbody>\n",
       "</table>\n",
       "</div>"
      ],
      "text/plain": [
       "  gender  yrs_service  salary\n",
       "0   Male           18  139750\n",
       "1   Male           16  173200\n",
       "2   Male            3   79750\n",
       "3   Male           39  115000\n",
       "4   Male           41  141500"
      ]
     },
     "execution_count": 209,
     "metadata": {},
     "output_type": "execute_result"
    }
   ],
   "source": [
    "df3.head()"
   ]
  },
  {
   "cell_type": "code",
   "execution_count": 210,
   "id": "ec66a902-0aa2-4927-92e0-545170246f0f",
   "metadata": {},
   "outputs": [
    {
     "name": "stdout",
     "output_type": "stream",
     "text": [
      "<class 'pandas.core.frame.DataFrame'>\n",
      "RangeIndex: 397 entries, 0 to 396\n",
      "Data columns (total 3 columns):\n",
      " #   Column       Non-Null Count  Dtype \n",
      "---  ------       --------------  ----- \n",
      " 0   gender       397 non-null    object\n",
      " 1   yrs_service  397 non-null    int64 \n",
      " 2   salary       397 non-null    int64 \n",
      "dtypes: int64(2), object(1)\n",
      "memory usage: 9.4+ KB\n"
     ]
    }
   ],
   "source": [
    "df3.info()"
   ]
  },
  {
   "cell_type": "code",
   "execution_count": 211,
   "id": "2d4dbb7b-7c24-4216-8059-0572bfd07f4a",
   "metadata": {},
   "outputs": [
    {
     "data": {
      "text/plain": [
       "gender\n",
       "Male      358\n",
       "Female     39\n",
       "Name: count, dtype: int64"
      ]
     },
     "execution_count": 211,
     "metadata": {},
     "output_type": "execute_result"
    }
   ],
   "source": [
    "df3.gender.value_counts()"
   ]
  },
  {
   "cell_type": "code",
   "execution_count": 212,
   "id": "f00fa3a7-18e1-4d10-9ec4-0723dda52279",
   "metadata": {},
   "outputs": [],
   "source": [
    "#1. Generate the dummy columns \n",
    "gender_dum = pd.get_dummies(df3.gender,drop_first=True)"
   ]
  },
  {
   "cell_type": "markdown",
   "id": "e61b516e-bf38-4e1c-8f75-432e95c66567",
   "metadata": {},
   "source": [
    "- drop_first=True --> it will make dummies of first alphabetically letter as refrence event\n",
    "- The level which has been taken will not appear in the coefficient\n",
    "- It is also called as  **One-Hot Encodinng**."
   ]
  },
  {
   "cell_type": "code",
   "execution_count": 213,
   "id": "4af3d39c-4f43-4882-99ef-8038017d4602",
   "metadata": {},
   "outputs": [],
   "source": [
    "gender_dum['Male'] = gender_dum['Male'].astype(int)"
   ]
  },
  {
   "cell_type": "code",
   "execution_count": 214,
   "id": "ecbe77a5-6fcc-49f8-8b21-8a24d6cc24dd",
   "metadata": {},
   "outputs": [
    {
     "data": {
      "text/html": [
       "<div>\n",
       "<style scoped>\n",
       "    .dataframe tbody tr th:only-of-type {\n",
       "        vertical-align: middle;\n",
       "    }\n",
       "\n",
       "    .dataframe tbody tr th {\n",
       "        vertical-align: top;\n",
       "    }\n",
       "\n",
       "    .dataframe thead th {\n",
       "        text-align: right;\n",
       "    }\n",
       "</style>\n",
       "<table border=\"1\" class=\"dataframe\">\n",
       "  <thead>\n",
       "    <tr style=\"text-align: right;\">\n",
       "      <th></th>\n",
       "      <th>Male</th>\n",
       "    </tr>\n",
       "  </thead>\n",
       "  <tbody>\n",
       "    <tr>\n",
       "      <th>0</th>\n",
       "      <td>1</td>\n",
       "    </tr>\n",
       "    <tr>\n",
       "      <th>1</th>\n",
       "      <td>1</td>\n",
       "    </tr>\n",
       "    <tr>\n",
       "      <th>2</th>\n",
       "      <td>1</td>\n",
       "    </tr>\n",
       "    <tr>\n",
       "      <th>3</th>\n",
       "      <td>1</td>\n",
       "    </tr>\n",
       "    <tr>\n",
       "      <th>4</th>\n",
       "      <td>1</td>\n",
       "    </tr>\n",
       "  </tbody>\n",
       "</table>\n",
       "</div>"
      ],
      "text/plain": [
       "   Male\n",
       "0     1\n",
       "1     1\n",
       "2     1\n",
       "3     1\n",
       "4     1"
      ]
     },
     "execution_count": 214,
     "metadata": {},
     "output_type": "execute_result"
    }
   ],
   "source": [
    "gender_dum.head()"
   ]
  },
  {
   "cell_type": "code",
   "execution_count": 215,
   "id": "9157c0ee-2c52-4337-8a6d-55751b236600",
   "metadata": {},
   "outputs": [],
   "source": [
    "#2. Remove the original column\n",
    "df3 = df3.drop('gender',axis=1)"
   ]
  },
  {
   "cell_type": "code",
   "execution_count": 216,
   "id": "0e8ddc48-495f-490c-b686-65534da3086b",
   "metadata": {},
   "outputs": [],
   "source": [
    "#3. Append the dummy column(s) to the dataset\n",
    "df3 = pd.concat([df3,gender_dum],axis=1)"
   ]
  },
  {
   "cell_type": "code",
   "execution_count": 217,
   "id": "cf633593-f65e-45b6-a16a-2b34e5631d7a",
   "metadata": {},
   "outputs": [
    {
     "data": {
      "text/html": [
       "<div>\n",
       "<style scoped>\n",
       "    .dataframe tbody tr th:only-of-type {\n",
       "        vertical-align: middle;\n",
       "    }\n",
       "\n",
       "    .dataframe tbody tr th {\n",
       "        vertical-align: top;\n",
       "    }\n",
       "\n",
       "    .dataframe thead th {\n",
       "        text-align: right;\n",
       "    }\n",
       "</style>\n",
       "<table border=\"1\" class=\"dataframe\">\n",
       "  <thead>\n",
       "    <tr style=\"text-align: right;\">\n",
       "      <th></th>\n",
       "      <th>yrs_service</th>\n",
       "      <th>salary</th>\n",
       "      <th>Male</th>\n",
       "    </tr>\n",
       "  </thead>\n",
       "  <tbody>\n",
       "    <tr>\n",
       "      <th>0</th>\n",
       "      <td>18</td>\n",
       "      <td>139750</td>\n",
       "      <td>1</td>\n",
       "    </tr>\n",
       "    <tr>\n",
       "      <th>1</th>\n",
       "      <td>16</td>\n",
       "      <td>173200</td>\n",
       "      <td>1</td>\n",
       "    </tr>\n",
       "    <tr>\n",
       "      <th>2</th>\n",
       "      <td>3</td>\n",
       "      <td>79750</td>\n",
       "      <td>1</td>\n",
       "    </tr>\n",
       "    <tr>\n",
       "      <th>3</th>\n",
       "      <td>39</td>\n",
       "      <td>115000</td>\n",
       "      <td>1</td>\n",
       "    </tr>\n",
       "    <tr>\n",
       "      <th>4</th>\n",
       "      <td>41</td>\n",
       "      <td>141500</td>\n",
       "      <td>1</td>\n",
       "    </tr>\n",
       "  </tbody>\n",
       "</table>\n",
       "</div>"
      ],
      "text/plain": [
       "   yrs_service  salary  Male\n",
       "0           18  139750     1\n",
       "1           16  173200     1\n",
       "2            3   79750     1\n",
       "3           39  115000     1\n",
       "4           41  141500     1"
      ]
     },
     "execution_count": 217,
     "metadata": {},
     "output_type": "execute_result"
    }
   ],
   "source": [
    "df3.head()"
   ]
  },
  {
   "cell_type": "code",
   "execution_count": 218,
   "id": "648e14b7-6bba-4339-a662-e575267442f3",
   "metadata": {},
   "outputs": [],
   "source": [
    "# 4. splitting the dataset\n",
    "x_train, x_test, y_train, y_test = train_test_split(df3.drop(\"salary\",axis=1),df3.salary, test_size=0.2,random_state=20)"
   ]
  },
  {
   "cell_type": "code",
   "execution_count": 219,
   "id": "820c5cd2-77db-40cd-8913-7d7d24c0c02d",
   "metadata": {},
   "outputs": [],
   "source": [
    "# 5. add the constant term\n",
    "x_train = sm.add_constant(x_train,prepend=False)"
   ]
  },
  {
   "cell_type": "code",
   "execution_count": 220,
   "id": "dbb314da-1631-4854-a020-4bbaaa2459e3",
   "metadata": {},
   "outputs": [
    {
     "name": "stdout",
     "output_type": "stream",
     "text": [
      "                            OLS Regression Results                            \n",
      "==============================================================================\n",
      "Dep. Variable:                 salary   R-squared:                       0.121\n",
      "Model:                            OLS   Adj. R-squared:                  0.115\n",
      "Method:                 Least Squares   F-statistic:                     21.52\n",
      "Date:                Sat, 21 Dec 2024   Prob (F-statistic):           1.75e-09\n",
      "Time:                        14:46:33   Log-Likelihood:                -3698.4\n",
      "No. Observations:                 317   AIC:                             7403.\n",
      "Df Residuals:                     314   BIC:                             7414.\n",
      "Df Model:                           2                                         \n",
      "Covariance Type:            nonrobust                                         \n",
      "===============================================================================\n",
      "                  coef    std err          t      P>|t|      [0.025      0.975]\n",
      "-------------------------------------------------------------------------------\n",
      "yrs_service   701.6382    125.946      5.571      0.000     453.834     949.442\n",
      "Male         1.368e+04   5434.664      2.517      0.012    2985.362    2.44e+04\n",
      "const        8.857e+04   5285.500     16.757      0.000    7.82e+04     9.9e+04\n",
      "==============================================================================\n",
      "Omnibus:                       28.103   Durbin-Watson:                   1.940\n",
      "Prob(Omnibus):                  0.000   Jarque-Bera (JB):               34.160\n",
      "Skew:                           0.696   Prob(JB):                     3.82e-08\n",
      "Kurtosis:                       3.804   Cond. No.                         99.7\n",
      "==============================================================================\n",
      "\n",
      "Notes:\n",
      "[1] Standard Errors assume that the covariance matrix of the errors is correctly specified.\n"
     ]
    }
   ],
   "source": [
    "# 6. create the term\n",
    "mod3 = sm.OLS(y_train,x_train).fit()\n",
    "print(mod3.summary())"
   ]
  },
  {
   "cell_type": "raw",
   "id": "6e2172ef-9653-4e0d-ad0e-e88ca39c2436",
   "metadata": {},
   "source": [
    "In the 701 value, for every year, the salary will increase by 701 units.\n",
    "Assuming the yrs_of_service is constant, change in gender from female to male increases the salary by 14,000.\n",
    "When all coefficient equals to 0, all the female with 0 year of exp will be having salary of 90000."
   ]
  },
  {
   "cell_type": "markdown",
   "id": "e9dc3c87-331d-41ff-be0f-93a9f837514b",
   "metadata": {},
   "source": [
    "- Male --> Target event\n",
    "- Female --> reference event\n",
    "- Ho(sal) --> coeff of yr_service = 0\n",
    "- Ho(gender) --> The change in response when the variable changes from the reference variable('Female') to target variable('Male') is equal to 0.\n",
    "- Ho ---> Change in response when the factor or variable changes from reference event to target event = 0.\n",
    "- As the t-value gets higher. it will be more significant on the salary."
   ]
  },
  {
   "cell_type": "code",
   "execution_count": 221,
   "id": "507f3cd0-541c-4454-9021-5132c20abb19",
   "metadata": {},
   "outputs": [],
   "source": [
    "df3 = pd.read_excel('CDAC_DataBook.xlsx',sheet_name='salaries')"
   ]
  },
  {
   "cell_type": "code",
   "execution_count": 222,
   "id": "bd054683-a466-4ba2-9558-0d5f67040b2a",
   "metadata": {},
   "outputs": [
    {
     "data": {
      "text/html": [
       "<div>\n",
       "<style scoped>\n",
       "    .dataframe tbody tr th:only-of-type {\n",
       "        vertical-align: middle;\n",
       "    }\n",
       "\n",
       "    .dataframe tbody tr th {\n",
       "        vertical-align: top;\n",
       "    }\n",
       "\n",
       "    .dataframe thead th {\n",
       "        text-align: right;\n",
       "    }\n",
       "</style>\n",
       "<table border=\"1\" class=\"dataframe\">\n",
       "  <thead>\n",
       "    <tr style=\"text-align: right;\">\n",
       "      <th></th>\n",
       "      <th>rank</th>\n",
       "      <th>discipline</th>\n",
       "      <th>yrs_phd</th>\n",
       "      <th>yrs_service</th>\n",
       "      <th>gender</th>\n",
       "      <th>salary</th>\n",
       "    </tr>\n",
       "  </thead>\n",
       "  <tbody>\n",
       "    <tr>\n",
       "      <th>0</th>\n",
       "      <td>Prof</td>\n",
       "      <td>B</td>\n",
       "      <td>19</td>\n",
       "      <td>18</td>\n",
       "      <td>Male</td>\n",
       "      <td>139750</td>\n",
       "    </tr>\n",
       "    <tr>\n",
       "      <th>1</th>\n",
       "      <td>Prof</td>\n",
       "      <td>B</td>\n",
       "      <td>20</td>\n",
       "      <td>16</td>\n",
       "      <td>Male</td>\n",
       "      <td>173200</td>\n",
       "    </tr>\n",
       "    <tr>\n",
       "      <th>2</th>\n",
       "      <td>AsstProf</td>\n",
       "      <td>B</td>\n",
       "      <td>4</td>\n",
       "      <td>3</td>\n",
       "      <td>Male</td>\n",
       "      <td>79750</td>\n",
       "    </tr>\n",
       "    <tr>\n",
       "      <th>3</th>\n",
       "      <td>Prof</td>\n",
       "      <td>B</td>\n",
       "      <td>45</td>\n",
       "      <td>39</td>\n",
       "      <td>Male</td>\n",
       "      <td>115000</td>\n",
       "    </tr>\n",
       "    <tr>\n",
       "      <th>4</th>\n",
       "      <td>Prof</td>\n",
       "      <td>B</td>\n",
       "      <td>40</td>\n",
       "      <td>41</td>\n",
       "      <td>Male</td>\n",
       "      <td>141500</td>\n",
       "    </tr>\n",
       "  </tbody>\n",
       "</table>\n",
       "</div>"
      ],
      "text/plain": [
       "       rank discipline  yrs_phd  yrs_service gender  salary\n",
       "0      Prof          B       19           18   Male  139750\n",
       "1      Prof          B       20           16   Male  173200\n",
       "2  AsstProf          B        4            3   Male   79750\n",
       "3      Prof          B       45           39   Male  115000\n",
       "4      Prof          B       40           41   Male  141500"
      ]
     },
     "execution_count": 222,
     "metadata": {},
     "output_type": "execute_result"
    }
   ],
   "source": [
    "df3.head()"
   ]
  },
  {
   "cell_type": "code",
   "execution_count": 223,
   "id": "b39b2d62-51dc-4812-9196-273c8f236c87",
   "metadata": {},
   "outputs": [],
   "source": [
    "df3 = df3[['rank','yrs_service','salary']]"
   ]
  },
  {
   "cell_type": "code",
   "execution_count": 224,
   "id": "87b5086b-0260-45c3-8b10-9afebc010d07",
   "metadata": {},
   "outputs": [
    {
     "data": {
      "text/html": [
       "<div>\n",
       "<style scoped>\n",
       "    .dataframe tbody tr th:only-of-type {\n",
       "        vertical-align: middle;\n",
       "    }\n",
       "\n",
       "    .dataframe tbody tr th {\n",
       "        vertical-align: top;\n",
       "    }\n",
       "\n",
       "    .dataframe thead th {\n",
       "        text-align: right;\n",
       "    }\n",
       "</style>\n",
       "<table border=\"1\" class=\"dataframe\">\n",
       "  <thead>\n",
       "    <tr style=\"text-align: right;\">\n",
       "      <th></th>\n",
       "      <th>rank</th>\n",
       "      <th>yrs_service</th>\n",
       "      <th>salary</th>\n",
       "    </tr>\n",
       "  </thead>\n",
       "  <tbody>\n",
       "    <tr>\n",
       "      <th>0</th>\n",
       "      <td>Prof</td>\n",
       "      <td>18</td>\n",
       "      <td>139750</td>\n",
       "    </tr>\n",
       "    <tr>\n",
       "      <th>1</th>\n",
       "      <td>Prof</td>\n",
       "      <td>16</td>\n",
       "      <td>173200</td>\n",
       "    </tr>\n",
       "    <tr>\n",
       "      <th>2</th>\n",
       "      <td>AsstProf</td>\n",
       "      <td>3</td>\n",
       "      <td>79750</td>\n",
       "    </tr>\n",
       "    <tr>\n",
       "      <th>3</th>\n",
       "      <td>Prof</td>\n",
       "      <td>39</td>\n",
       "      <td>115000</td>\n",
       "    </tr>\n",
       "    <tr>\n",
       "      <th>4</th>\n",
       "      <td>Prof</td>\n",
       "      <td>41</td>\n",
       "      <td>141500</td>\n",
       "    </tr>\n",
       "  </tbody>\n",
       "</table>\n",
       "</div>"
      ],
      "text/plain": [
       "       rank  yrs_service  salary\n",
       "0      Prof           18  139750\n",
       "1      Prof           16  173200\n",
       "2  AsstProf            3   79750\n",
       "3      Prof           39  115000\n",
       "4      Prof           41  141500"
      ]
     },
     "execution_count": 224,
     "metadata": {},
     "output_type": "execute_result"
    }
   ],
   "source": [
    "df3.head()"
   ]
  },
  {
   "cell_type": "code",
   "execution_count": 225,
   "id": "4202aaf4-3009-4b4d-88d7-3c4fd188b8f0",
   "metadata": {},
   "outputs": [
    {
     "data": {
      "text/plain": [
       "array(['Prof', 'AsstProf', 'AssocProf'], dtype=object)"
      ]
     },
     "execution_count": 225,
     "metadata": {},
     "output_type": "execute_result"
    }
   ],
   "source": [
    "df3['rank'].unique()"
   ]
  },
  {
   "cell_type": "code",
   "execution_count": 226,
   "id": "0ed48c1d-53eb-40e2-b70a-2e0b207d5000",
   "metadata": {},
   "outputs": [],
   "source": [
    "rank_dum = pd.get_dummies(df3['rank'],drop_first=True).astype(int)"
   ]
  },
  {
   "cell_type": "code",
   "execution_count": 227,
   "id": "3b1bfd78-8b15-4bcb-97e1-63d1c49b2626",
   "metadata": {},
   "outputs": [],
   "source": [
    "df3 = df3.drop('rank',axis=1)"
   ]
  },
  {
   "cell_type": "code",
   "execution_count": 228,
   "id": "ff96ebad-5e4c-4edf-8bd5-c2b8bc7ea536",
   "metadata": {},
   "outputs": [],
   "source": [
    "df3 = pd.concat([df3,rank_dum],axis=1)"
   ]
  },
  {
   "cell_type": "code",
   "execution_count": 229,
   "id": "8290d02a-eafc-4453-96fe-de91cffd3265",
   "metadata": {},
   "outputs": [
    {
     "data": {
      "text/html": [
       "<div>\n",
       "<style scoped>\n",
       "    .dataframe tbody tr th:only-of-type {\n",
       "        vertical-align: middle;\n",
       "    }\n",
       "\n",
       "    .dataframe tbody tr th {\n",
       "        vertical-align: top;\n",
       "    }\n",
       "\n",
       "    .dataframe thead th {\n",
       "        text-align: right;\n",
       "    }\n",
       "</style>\n",
       "<table border=\"1\" class=\"dataframe\">\n",
       "  <thead>\n",
       "    <tr style=\"text-align: right;\">\n",
       "      <th></th>\n",
       "      <th>yrs_service</th>\n",
       "      <th>salary</th>\n",
       "      <th>AsstProf</th>\n",
       "      <th>Prof</th>\n",
       "    </tr>\n",
       "  </thead>\n",
       "  <tbody>\n",
       "    <tr>\n",
       "      <th>0</th>\n",
       "      <td>18</td>\n",
       "      <td>139750</td>\n",
       "      <td>0</td>\n",
       "      <td>1</td>\n",
       "    </tr>\n",
       "    <tr>\n",
       "      <th>1</th>\n",
       "      <td>16</td>\n",
       "      <td>173200</td>\n",
       "      <td>0</td>\n",
       "      <td>1</td>\n",
       "    </tr>\n",
       "    <tr>\n",
       "      <th>2</th>\n",
       "      <td>3</td>\n",
       "      <td>79750</td>\n",
       "      <td>1</td>\n",
       "      <td>0</td>\n",
       "    </tr>\n",
       "    <tr>\n",
       "      <th>3</th>\n",
       "      <td>39</td>\n",
       "      <td>115000</td>\n",
       "      <td>0</td>\n",
       "      <td>1</td>\n",
       "    </tr>\n",
       "    <tr>\n",
       "      <th>4</th>\n",
       "      <td>41</td>\n",
       "      <td>141500</td>\n",
       "      <td>0</td>\n",
       "      <td>1</td>\n",
       "    </tr>\n",
       "  </tbody>\n",
       "</table>\n",
       "</div>"
      ],
      "text/plain": [
       "   yrs_service  salary  AsstProf  Prof\n",
       "0           18  139750         0     1\n",
       "1           16  173200         0     1\n",
       "2            3   79750         1     0\n",
       "3           39  115000         0     1\n",
       "4           41  141500         0     1"
      ]
     },
     "execution_count": 229,
     "metadata": {},
     "output_type": "execute_result"
    }
   ],
   "source": [
    "df3.head()"
   ]
  },
  {
   "cell_type": "code",
   "execution_count": 230,
   "id": "eb552d63-dfe9-4c95-9b83-00804a8db64c",
   "metadata": {},
   "outputs": [],
   "source": [
    "x_train, x_test, y_train, y_test = train_test_split(df3.drop(\"salary\",axis=1),df3.salary, test_size=0.2,random_state=20)"
   ]
  },
  {
   "cell_type": "code",
   "execution_count": 231,
   "id": "1d8cd026-31ef-4961-b5d0-ee5a73bfadc6",
   "metadata": {},
   "outputs": [],
   "source": [
    "x_train = sm.add_constant(x_train,prepend=False)"
   ]
  },
  {
   "cell_type": "code",
   "execution_count": 232,
   "id": "51e51f2b-cd03-4e64-8c76-c2a1d39bf03a",
   "metadata": {},
   "outputs": [],
   "source": [
    "mod2 = sm.OLS(y_train,x_train).fit()"
   ]
  },
  {
   "cell_type": "code",
   "execution_count": 233,
   "id": "e7e2c222-f89d-4362-a359-bfa33a5e328c",
   "metadata": {},
   "outputs": [
    {
     "name": "stdout",
     "output_type": "stream",
     "text": [
      "                            OLS Regression Results                            \n",
      "==============================================================================\n",
      "Dep. Variable:                 salary   R-squared:                       0.379\n",
      "Model:                            OLS   Adj. R-squared:                  0.373\n",
      "Method:                 Least Squares   F-statistic:                     63.71\n",
      "Date:                Sat, 21 Dec 2024   Prob (F-statistic):           3.54e-32\n",
      "Time:                        14:46:33   Log-Likelihood:                -3643.3\n",
      "No. Observations:                 317   AIC:                             7295.\n",
      "Df Residuals:                     313   BIC:                             7310.\n",
      "Df Model:                           3                                         \n",
      "Covariance Type:            nonrobust                                         \n",
      "===============================================================================\n",
      "                  coef    std err          t      P>|t|      [0.025      0.975]\n",
      "-------------------------------------------------------------------------------\n",
      "yrs_service  -161.8155    131.085     -1.234      0.218    -419.734      96.103\n",
      "AsstProf    -1.312e+04   4817.521     -2.723      0.007   -2.26e+04   -3637.053\n",
      "Prof         3.482e+04   3891.052      8.949      0.000    2.72e+04    4.25e+04\n",
      "const         9.48e+04   3557.563     26.647      0.000    8.78e+04    1.02e+05\n",
      "==============================================================================\n",
      "Omnibus:                       46.171   Durbin-Watson:                   1.927\n",
      "Prob(Omnibus):                  0.000   Jarque-Bera (JB):               78.829\n",
      "Skew:                           0.839   Prob(JB):                     7.63e-18\n",
      "Kurtosis:                       4.776   Cond. No.                         99.0\n",
      "==============================================================================\n",
      "\n",
      "Notes:\n",
      "[1] Standard Errors assume that the covariance matrix of the errors is correctly specified.\n"
     ]
    }
   ],
   "source": [
    "print(mod2.summary())"
   ]
  },
  {
   "cell_type": "markdown",
   "id": "fd0c7d0e-ca4e-4f0f-8b8b-61126a3b17a1",
   "metadata": {},
   "source": [
    "- m2 = change in salary when there is change in rank i.e assoicateprof to asstprof \n",
    "- m3 = change in salary when there is change in rank i.e assoicateprof to prof\n",
    "- Ho(m3) = 0.0\n",
    "- decision = R\n",
    "- Conclusion = m3!=0\n",
    "- so is signifcant so the salary will increase by 350000 by keeping other factor constant\n",
    "- When assotprof do not any exp the salary will increase by 95000 (constant)"
   ]
  },
  {
   "cell_type": "markdown",
   "id": "e5cf2e0c-4415-4b9a-8e3a-ecc99c329824",
   "metadata": {},
   "source": [
    "- assoc --> 95000\n",
    "- assic --> 95000 - 13000 = 82000\n",
    "- prof --> 95000 + 30000 = 125000"
   ]
  },
  {
   "cell_type": "markdown",
   "id": "94a5c5b7-9df7-4155-8e53-e20e45b3218c",
   "metadata": {},
   "source": [
    "## Binary Logistic Regresssion\n",
    "- Now the response is categorical\n",
    "- so it can be:\n",
    "- ***Ordinal*** (Multi categories, with logical order)\n",
    "- ***Nominal*** (Multi categories, without logical order)\n",
    "- ***Binary***  (0, 1)"
   ]
  },
  {
   "cell_type": "markdown",
   "id": "e908839f-a9b9-4c21-bdda-eb3389cf2d1c",
   "metadata": {},
   "source": [
    "Multicollinearity"
   ]
  },
  {
   "cell_type": "code",
   "execution_count": 234,
   "id": "4ff1a267-fd7b-49c7-978c-cb0e31505edd",
   "metadata": {},
   "outputs": [],
   "source": [
    "df_car = pd.read_excel('CDAC_DataBook.xlsx',sheet_name='mtcars')"
   ]
  },
  {
   "cell_type": "code",
   "execution_count": 235,
   "id": "04bb7926-d37d-466a-b54f-d682abd67dae",
   "metadata": {},
   "outputs": [
    {
     "data": {
      "text/html": [
       "<div>\n",
       "<style scoped>\n",
       "    .dataframe tbody tr th:only-of-type {\n",
       "        vertical-align: middle;\n",
       "    }\n",
       "\n",
       "    .dataframe tbody tr th {\n",
       "        vertical-align: top;\n",
       "    }\n",
       "\n",
       "    .dataframe thead th {\n",
       "        text-align: right;\n",
       "    }\n",
       "</style>\n",
       "<table border=\"1\" class=\"dataframe\">\n",
       "  <thead>\n",
       "    <tr style=\"text-align: right;\">\n",
       "      <th></th>\n",
       "      <th>mpg</th>\n",
       "      <th>cyl</th>\n",
       "      <th>disp</th>\n",
       "      <th>hp</th>\n",
       "      <th>drat</th>\n",
       "      <th>wt</th>\n",
       "      <th>qsec</th>\n",
       "      <th>vs</th>\n",
       "      <th>am</th>\n",
       "      <th>gear</th>\n",
       "      <th>carb</th>\n",
       "    </tr>\n",
       "  </thead>\n",
       "  <tbody>\n",
       "    <tr>\n",
       "      <th>0</th>\n",
       "      <td>21.0</td>\n",
       "      <td>6</td>\n",
       "      <td>160.0</td>\n",
       "      <td>110</td>\n",
       "      <td>3.90</td>\n",
       "      <td>2.620</td>\n",
       "      <td>16.46</td>\n",
       "      <td>0</td>\n",
       "      <td>1</td>\n",
       "      <td>4</td>\n",
       "      <td>4</td>\n",
       "    </tr>\n",
       "    <tr>\n",
       "      <th>1</th>\n",
       "      <td>21.0</td>\n",
       "      <td>6</td>\n",
       "      <td>160.0</td>\n",
       "      <td>110</td>\n",
       "      <td>3.90</td>\n",
       "      <td>2.875</td>\n",
       "      <td>17.02</td>\n",
       "      <td>0</td>\n",
       "      <td>1</td>\n",
       "      <td>4</td>\n",
       "      <td>4</td>\n",
       "    </tr>\n",
       "    <tr>\n",
       "      <th>2</th>\n",
       "      <td>22.8</td>\n",
       "      <td>4</td>\n",
       "      <td>108.0</td>\n",
       "      <td>93</td>\n",
       "      <td>3.85</td>\n",
       "      <td>2.320</td>\n",
       "      <td>18.61</td>\n",
       "      <td>1</td>\n",
       "      <td>1</td>\n",
       "      <td>4</td>\n",
       "      <td>1</td>\n",
       "    </tr>\n",
       "    <tr>\n",
       "      <th>3</th>\n",
       "      <td>21.4</td>\n",
       "      <td>6</td>\n",
       "      <td>258.0</td>\n",
       "      <td>110</td>\n",
       "      <td>3.08</td>\n",
       "      <td>3.215</td>\n",
       "      <td>19.44</td>\n",
       "      <td>1</td>\n",
       "      <td>0</td>\n",
       "      <td>3</td>\n",
       "      <td>1</td>\n",
       "    </tr>\n",
       "    <tr>\n",
       "      <th>4</th>\n",
       "      <td>18.7</td>\n",
       "      <td>8</td>\n",
       "      <td>360.0</td>\n",
       "      <td>175</td>\n",
       "      <td>3.15</td>\n",
       "      <td>3.440</td>\n",
       "      <td>17.02</td>\n",
       "      <td>0</td>\n",
       "      <td>0</td>\n",
       "      <td>3</td>\n",
       "      <td>2</td>\n",
       "    </tr>\n",
       "  </tbody>\n",
       "</table>\n",
       "</div>"
      ],
      "text/plain": [
       "    mpg  cyl   disp   hp  drat     wt   qsec  vs  am  gear  carb\n",
       "0  21.0    6  160.0  110  3.90  2.620  16.46   0   1     4     4\n",
       "1  21.0    6  160.0  110  3.90  2.875  17.02   0   1     4     4\n",
       "2  22.8    4  108.0   93  3.85  2.320  18.61   1   1     4     1\n",
       "3  21.4    6  258.0  110  3.08  3.215  19.44   1   0     3     1\n",
       "4  18.7    8  360.0  175  3.15  3.440  17.02   0   0     3     2"
      ]
     },
     "execution_count": 235,
     "metadata": {},
     "output_type": "execute_result"
    }
   ],
   "source": [
    "df_car.head()"
   ]
  },
  {
   "cell_type": "code",
   "execution_count": 236,
   "id": "3f088365-a2a6-4380-95d0-5214e066057e",
   "metadata": {},
   "outputs": [
    {
     "data": {
      "text/plain": [
       "(32, 11)"
      ]
     },
     "execution_count": 236,
     "metadata": {},
     "output_type": "execute_result"
    }
   ],
   "source": [
    "df_car.shape"
   ]
  },
  {
   "cell_type": "code",
   "execution_count": 237,
   "id": "d4c06a66-58cb-4221-9605-a43af76e9834",
   "metadata": {},
   "outputs": [],
   "source": [
    "df_car = df_car[['hp','wt','am']]"
   ]
  },
  {
   "cell_type": "code",
   "execution_count": 238,
   "id": "fd9bc542-3077-4e67-8297-7ca5770bca75",
   "metadata": {},
   "outputs": [],
   "source": [
    "x_train = df_car.drop('am',axis=1)"
   ]
  },
  {
   "cell_type": "code",
   "execution_count": 239,
   "id": "fc31c8fd-3c17-4631-8f0f-291931b63df4",
   "metadata": {},
   "outputs": [],
   "source": [
    "y_train = df_car.am"
   ]
  },
  {
   "cell_type": "code",
   "execution_count": 240,
   "id": "8b7aaf41-de3b-48cc-b49e-75affeadebaf",
   "metadata": {},
   "outputs": [],
   "source": [
    "x_train = sm.add_constant(x_train,prepend=False)"
   ]
  },
  {
   "cell_type": "code",
   "execution_count": 241,
   "id": "b975b452-87c7-49b8-a5cd-1058fc4037b8",
   "metadata": {
    "scrolled": true
   },
   "outputs": [
    {
     "name": "stdout",
     "output_type": "stream",
     "text": [
      "Optimization terminated successfully.\n",
      "         Current function value: 0.157174\n",
      "         Iterations 9\n",
      "                           Logit Regression Results                           \n",
      "==============================================================================\n",
      "Dep. Variable:                     am   No. Observations:                   32\n",
      "Model:                          Logit   Df Residuals:                       29\n",
      "Method:                           MLE   Df Model:                            2\n",
      "Date:                Sat, 21 Dec 2024   Pseudo R-squ.:                  0.7673\n",
      "Time:                        14:46:34   Log-Likelihood:                -5.0296\n",
      "converged:                       True   LL-Null:                       -21.615\n",
      "Covariance Type:            nonrobust   LLR p-value:                 6.267e-08\n",
      "==============================================================================\n",
      "                 coef    std err          z      P>|z|      [0.025      0.975]\n",
      "------------------------------------------------------------------------------\n",
      "hp             0.0363      0.018      2.044      0.041       0.001       0.071\n",
      "wt            -8.0835      3.069     -2.634      0.008     -14.098      -2.069\n",
      "const         18.8663      7.444      2.535      0.011       4.277      33.455\n",
      "==============================================================================\n",
      "\n",
      "Possibly complete quasi-separation: A fraction 0.12 of observations can be\n",
      "perfectly predicted. This might indicate that there is complete\n",
      "quasi-separation. In this case some parameters will not be identified.\n"
     ]
    }
   ],
   "source": [
    "mod2 = sm.Logit(y_train ,x_train).fit()\n",
    "print(mod2.summary())"
   ]
  },
  {
   "cell_type": "markdown",
   "id": "fbbf334b-5fa3-411a-a8ed-6ebff27f289e",
   "metadata": {},
   "source": [
    "- 0 --> Reference Event\n",
    "- 1 --> Target Event "
   ]
  },
  {
   "cell_type": "markdown",
   "id": "76a30e10-040e-4465-8a7b-4d4d695554f6",
   "metadata": {},
   "source": [
    "- Ho(hp) --> hp does not influence choice between 0 & 1\n",
    "- Ho(wt) --> wt does not influence choice between 0 & 1\n",
    "  "
   ]
  },
  {
   "cell_type": "markdown",
   "id": "570c3623-fb6f-4ea6-9f7c-7f330ced0926",
   "metadata": {},
   "source": [
    "- Conclusion --> hp influencses the choice between 0 & 1\n",
    "- When hp increase the am will move away from reference\n",
    "- As the hp increaseing the probability of getting '1'"
   ]
  },
  {
   "cell_type": "markdown",
   "id": "58fa0bc6-b2de-4e3a-b374-f8ca22069da2",
   "metadata": {},
   "source": [
    "- Conclusion --> wt has influence on the choice between 0 & 1\n",
    "- so when wt decreases the probability of getting towards 1 increases"
   ]
  },
  {
   "cell_type": "markdown",
   "id": "2054f6ff-6a88-4a2d-afd4-a6d5abdbaac6",
   "metadata": {},
   "source": [
    "- Odd Ratio --> p/(1-p)\n",
    "- odds ratio (OR) is a measure of the association between an exposure and an outcome."
   ]
  },
  {
   "cell_type": "raw",
   "id": "a94338c0-7ece-440d-a1db-ffe781644e8e",
   "metadata": {},
   "source": [
    "Log of a value which is less than 1 is always negative"
   ]
  },
  {
   "cell_type": "code",
   "execution_count": 242,
   "id": "c554fa0d-1447-4e24-8086-43abd914b5b4",
   "metadata": {},
   "outputs": [
    {
     "data": {
      "text/plain": [
       "np.float64(0.8472978603872034)"
      ]
     },
     "execution_count": 242,
     "metadata": {},
     "output_type": "execute_result"
    }
   ],
   "source": [
    "np.log(0.7/(1-0.7))"
   ]
  },
  {
   "cell_type": "code",
   "execution_count": 243,
   "id": "4a67ea1c-011d-4edf-9356-cd2147c08238",
   "metadata": {},
   "outputs": [
    {
     "data": {
      "text/plain": [
       "np.float64(-0.8472978603872036)"
      ]
     },
     "execution_count": 243,
     "metadata": {},
     "output_type": "execute_result"
    }
   ],
   "source": [
    "np.log(0.3/(1-0.3))"
   ]
  },
  {
   "cell_type": "code",
   "execution_count": 244,
   "id": "514fc7fc-eac7-4fc8-849d-4e19b8cfa460",
   "metadata": {},
   "outputs": [
    {
     "data": {
      "text/html": [
       "<div>\n",
       "<style scoped>\n",
       "    .dataframe tbody tr th:only-of-type {\n",
       "        vertical-align: middle;\n",
       "    }\n",
       "\n",
       "    .dataframe tbody tr th {\n",
       "        vertical-align: top;\n",
       "    }\n",
       "\n",
       "    .dataframe thead th {\n",
       "        text-align: right;\n",
       "    }\n",
       "</style>\n",
       "<table border=\"1\" class=\"dataframe\">\n",
       "  <thead>\n",
       "    <tr style=\"text-align: right;\">\n",
       "      <th></th>\n",
       "      <th>hp</th>\n",
       "      <th>wt</th>\n",
       "      <th>const</th>\n",
       "    </tr>\n",
       "  </thead>\n",
       "  <tbody>\n",
       "    <tr>\n",
       "      <th>0</th>\n",
       "      <td>110</td>\n",
       "      <td>2.620</td>\n",
       "      <td>1.0</td>\n",
       "    </tr>\n",
       "    <tr>\n",
       "      <th>1</th>\n",
       "      <td>110</td>\n",
       "      <td>2.875</td>\n",
       "      <td>1.0</td>\n",
       "    </tr>\n",
       "    <tr>\n",
       "      <th>2</th>\n",
       "      <td>93</td>\n",
       "      <td>2.320</td>\n",
       "      <td>1.0</td>\n",
       "    </tr>\n",
       "    <tr>\n",
       "      <th>3</th>\n",
       "      <td>110</td>\n",
       "      <td>3.215</td>\n",
       "      <td>1.0</td>\n",
       "    </tr>\n",
       "    <tr>\n",
       "      <th>4</th>\n",
       "      <td>175</td>\n",
       "      <td>3.440</td>\n",
       "      <td>1.0</td>\n",
       "    </tr>\n",
       "  </tbody>\n",
       "</table>\n",
       "</div>"
      ],
      "text/plain": [
       "    hp     wt  const\n",
       "0  110  2.620    1.0\n",
       "1  110  2.875    1.0\n",
       "2   93  2.320    1.0\n",
       "3  110  3.215    1.0\n",
       "4  175  3.440    1.0"
      ]
     },
     "execution_count": 244,
     "metadata": {},
     "output_type": "execute_result"
    }
   ],
   "source": [
    "x_train.head()"
   ]
  },
  {
   "cell_type": "code",
   "execution_count": 245,
   "id": "03fbb029-f867-4b0b-86ca-5bcc5441057c",
   "metadata": {},
   "outputs": [],
   "source": [
    "mydata = pd.DataFrame([[90,2.5,1],[100,2.5,1],[110,2.5,1]],columns=x_train.columns)"
   ]
  },
  {
   "cell_type": "code",
   "execution_count": 246,
   "id": "515ac4e1-2784-45b8-8caf-26774bb80568",
   "metadata": {},
   "outputs": [
    {
     "data": {
      "text/html": [
       "<div>\n",
       "<style scoped>\n",
       "    .dataframe tbody tr th:only-of-type {\n",
       "        vertical-align: middle;\n",
       "    }\n",
       "\n",
       "    .dataframe tbody tr th {\n",
       "        vertical-align: top;\n",
       "    }\n",
       "\n",
       "    .dataframe thead th {\n",
       "        text-align: right;\n",
       "    }\n",
       "</style>\n",
       "<table border=\"1\" class=\"dataframe\">\n",
       "  <thead>\n",
       "    <tr style=\"text-align: right;\">\n",
       "      <th></th>\n",
       "      <th>hp</th>\n",
       "      <th>wt</th>\n",
       "      <th>const</th>\n",
       "    </tr>\n",
       "  </thead>\n",
       "  <tbody>\n",
       "    <tr>\n",
       "      <th>0</th>\n",
       "      <td>90</td>\n",
       "      <td>2.5</td>\n",
       "      <td>1</td>\n",
       "    </tr>\n",
       "    <tr>\n",
       "      <th>1</th>\n",
       "      <td>100</td>\n",
       "      <td>2.5</td>\n",
       "      <td>1</td>\n",
       "    </tr>\n",
       "    <tr>\n",
       "      <th>2</th>\n",
       "      <td>110</td>\n",
       "      <td>2.5</td>\n",
       "      <td>1</td>\n",
       "    </tr>\n",
       "  </tbody>\n",
       "</table>\n",
       "</div>"
      ],
      "text/plain": [
       "    hp   wt  const\n",
       "0   90  2.5      1\n",
       "1  100  2.5      1\n",
       "2  110  2.5      1"
      ]
     },
     "execution_count": 246,
     "metadata": {},
     "output_type": "execute_result"
    }
   ],
   "source": [
    "mydata"
   ]
  },
  {
   "cell_type": "code",
   "execution_count": 247,
   "id": "56e44cff-925c-416e-9cf6-a986c8314c8f",
   "metadata": {},
   "outputs": [
    {
     "data": {
      "text/plain": [
       "0    0.872207\n",
       "1    0.907474\n",
       "2    0.933747\n",
       "dtype: float64"
      ]
     },
     "execution_count": 247,
     "metadata": {},
     "output_type": "execute_result"
    }
   ],
   "source": [
    "mod2.predict(mydata) ## this will give the prob of getting towards 1"
   ]
  },
  {
   "cell_type": "code",
   "execution_count": 248,
   "id": "b50171e6-a45f-4275-9f98-ba8718de563e",
   "metadata": {},
   "outputs": [
    {
     "data": {
      "text/plain": [
       "np.float64(0.03625602157890166)"
      ]
     },
     "execution_count": 248,
     "metadata": {},
     "output_type": "execute_result"
    }
   ],
   "source": [
    "(np.log(0.907474/(1-0.907474)) - np.log(0.872207/(1-0.872207))) / 10 ## this will give the change in odd ratio"
   ]
  },
  {
   "cell_type": "code",
   "execution_count": 249,
   "id": "9ba3424c-874b-4fac-8215-0e2ac1be7b38",
   "metadata": {},
   "outputs": [
    {
     "data": {
      "text/plain": [
       "np.float64(0.03625495472432383)"
      ]
     },
     "execution_count": 249,
     "metadata": {},
     "output_type": "execute_result"
    }
   ],
   "source": [
    "(np.log(0.933747/(1-0.933747)) - np.log(0.907474/(1-0.907474))) / 10 "
   ]
  },
  {
   "cell_type": "code",
   "execution_count": 250,
   "id": "c5308ce1-25a5-4d2d-befe-073c949ea04e",
   "metadata": {},
   "outputs": [],
   "source": [
    "mydata = pd.DataFrame([[90,3.1,1],[90,3.2,1],[90,3.3,1]],columns=x_train.columns)"
   ]
  },
  {
   "cell_type": "code",
   "execution_count": 251,
   "id": "b7cdcb16-985f-49b8-a55e-e0fe640d9e8e",
   "metadata": {},
   "outputs": [
    {
     "data": {
      "text/plain": [
       "0    0.050716\n",
       "1    0.023252\n",
       "2    0.010496\n",
       "dtype: float64"
      ]
     },
     "execution_count": 251,
     "metadata": {},
     "output_type": "execute_result"
    }
   ],
   "source": [
    "mod2.predict(mydata)"
   ]
  },
  {
   "cell_type": "code",
   "execution_count": 252,
   "id": "3db91074-d86f-47c7-9210-08f72201898c",
   "metadata": {},
   "outputs": [
    {
     "data": {
      "text/plain": [
       "np.float64(-8.08370962931494)"
      ]
     },
     "execution_count": 252,
     "metadata": {},
     "output_type": "execute_result"
    }
   ],
   "source": [
    "(np.log(0.023252/(1-0.023252)) - np.log(0.050716/(1-0.050716))) / 0.1"
   ]
  },
  {
   "cell_type": "markdown",
   "id": "be84c7d0-51e2-4ab8-8963-51f0861304f8",
   "metadata": {},
   "source": [
    "- Precision ---> The ratio of the number of correct predictions to the total number of predictions by model.\n",
    "- Formula ---> TP / TP + FP (for positive) or TN / TN + FN (for negative)\n",
    "- Recall ---> The ratio of the number of correct predictions to the total number of actual relevant objects by actual data.\n",
    "- Formula ---> TP / TP + FN (for postive) or TN / TN + FP (for negative)"
   ]
  },
  {
   "cell_type": "code",
   "execution_count": 253,
   "id": "9dd9a67b-dc89-43da-a021-aad61275d143",
   "metadata": {},
   "outputs": [],
   "source": [
    "df_diabetes = pd.read_excel(\"CDAC_DataBook.xlsx\",sheet_name='diabetes')"
   ]
  },
  {
   "cell_type": "code",
   "execution_count": 254,
   "id": "1cec4862-db5a-4e24-9153-17bda13252ea",
   "metadata": {},
   "outputs": [
    {
     "data": {
      "text/html": [
       "<div>\n",
       "<style scoped>\n",
       "    .dataframe tbody tr th:only-of-type {\n",
       "        vertical-align: middle;\n",
       "    }\n",
       "\n",
       "    .dataframe tbody tr th {\n",
       "        vertical-align: top;\n",
       "    }\n",
       "\n",
       "    .dataframe thead th {\n",
       "        text-align: right;\n",
       "    }\n",
       "</style>\n",
       "<table border=\"1\" class=\"dataframe\">\n",
       "  <thead>\n",
       "    <tr style=\"text-align: right;\">\n",
       "      <th></th>\n",
       "      <th>Glucose</th>\n",
       "      <th>BloodPressure</th>\n",
       "      <th>SkinThickness</th>\n",
       "      <th>Insulin</th>\n",
       "      <th>BMI</th>\n",
       "      <th>DiabetesPedigreeFunction</th>\n",
       "      <th>Age</th>\n",
       "      <th>DietType</th>\n",
       "      <th>Outcome</th>\n",
       "    </tr>\n",
       "  </thead>\n",
       "  <tbody>\n",
       "    <tr>\n",
       "      <th>0</th>\n",
       "      <td>148</td>\n",
       "      <td>72</td>\n",
       "      <td>35</td>\n",
       "      <td>0</td>\n",
       "      <td>33.6</td>\n",
       "      <td>0.63</td>\n",
       "      <td>50</td>\n",
       "      <td>1</td>\n",
       "      <td>1</td>\n",
       "    </tr>\n",
       "    <tr>\n",
       "      <th>1</th>\n",
       "      <td>85</td>\n",
       "      <td>66</td>\n",
       "      <td>29</td>\n",
       "      <td>0</td>\n",
       "      <td>26.6</td>\n",
       "      <td>0.35</td>\n",
       "      <td>31</td>\n",
       "      <td>2</td>\n",
       "      <td>0</td>\n",
       "    </tr>\n",
       "    <tr>\n",
       "      <th>2</th>\n",
       "      <td>183</td>\n",
       "      <td>64</td>\n",
       "      <td>0</td>\n",
       "      <td>0</td>\n",
       "      <td>23.3</td>\n",
       "      <td>0.67</td>\n",
       "      <td>32</td>\n",
       "      <td>1</td>\n",
       "      <td>1</td>\n",
       "    </tr>\n",
       "    <tr>\n",
       "      <th>3</th>\n",
       "      <td>89</td>\n",
       "      <td>66</td>\n",
       "      <td>23</td>\n",
       "      <td>94</td>\n",
       "      <td>28.1</td>\n",
       "      <td>0.17</td>\n",
       "      <td>21</td>\n",
       "      <td>1</td>\n",
       "      <td>0</td>\n",
       "    </tr>\n",
       "    <tr>\n",
       "      <th>4</th>\n",
       "      <td>137</td>\n",
       "      <td>40</td>\n",
       "      <td>35</td>\n",
       "      <td>168</td>\n",
       "      <td>43.1</td>\n",
       "      <td>2.29</td>\n",
       "      <td>33</td>\n",
       "      <td>1</td>\n",
       "      <td>1</td>\n",
       "    </tr>\n",
       "  </tbody>\n",
       "</table>\n",
       "</div>"
      ],
      "text/plain": [
       "   Glucose  BloodPressure  SkinThickness  Insulin   BMI  \\\n",
       "0      148             72             35        0  33.6   \n",
       "1       85             66             29        0  26.6   \n",
       "2      183             64              0        0  23.3   \n",
       "3       89             66             23       94  28.1   \n",
       "4      137             40             35      168  43.1   \n",
       "\n",
       "   DiabetesPedigreeFunction  Age  DietType  Outcome  \n",
       "0                      0.63   50         1        1  \n",
       "1                      0.35   31         2        0  \n",
       "2                      0.67   32         1        1  \n",
       "3                      0.17   21         1        0  \n",
       "4                      2.29   33         1        1  "
      ]
     },
     "execution_count": 254,
     "metadata": {},
     "output_type": "execute_result"
    }
   ],
   "source": [
    "df_diabetes.head()"
   ]
  },
  {
   "cell_type": "code",
   "execution_count": 255,
   "id": "e1f5332b-3022-476e-922a-d33b59a46587",
   "metadata": {},
   "outputs": [],
   "source": [
    "df_diabetes = df_diabetes[['Glucose','DietType','Outcome']]"
   ]
  },
  {
   "cell_type": "code",
   "execution_count": 256,
   "id": "0d21a27b-c312-4aeb-841b-a76f1b0c68f5",
   "metadata": {},
   "outputs": [],
   "source": [
    "diet_dum = pd.get_dummies(df_diabetes['DietType'],drop_first=True).astype(int)"
   ]
  },
  {
   "cell_type": "code",
   "execution_count": 257,
   "id": "63e8a9e9-3963-4dbc-acaf-bada6ce8cef2",
   "metadata": {},
   "outputs": [],
   "source": [
    "df_diabetes = df_diabetes.drop('DietType',axis=1)"
   ]
  },
  {
   "cell_type": "code",
   "execution_count": 258,
   "id": "da1ba97d-4a8f-4ae4-a4d7-9a29afe3b027",
   "metadata": {},
   "outputs": [],
   "source": [
    "df_diabetes = pd.concat([df_diabetes,diet_dum],axis=1)"
   ]
  },
  {
   "cell_type": "code",
   "execution_count": 259,
   "id": "d1bf40ab-eed0-44e9-9375-7d0b25493e01",
   "metadata": {},
   "outputs": [
    {
     "data": {
      "text/html": [
       "<div>\n",
       "<style scoped>\n",
       "    .dataframe tbody tr th:only-of-type {\n",
       "        vertical-align: middle;\n",
       "    }\n",
       "\n",
       "    .dataframe tbody tr th {\n",
       "        vertical-align: top;\n",
       "    }\n",
       "\n",
       "    .dataframe thead th {\n",
       "        text-align: right;\n",
       "    }\n",
       "</style>\n",
       "<table border=\"1\" class=\"dataframe\">\n",
       "  <thead>\n",
       "    <tr style=\"text-align: right;\">\n",
       "      <th></th>\n",
       "      <th>Glucose</th>\n",
       "      <th>Outcome</th>\n",
       "      <th>2</th>\n",
       "      <th>3</th>\n",
       "    </tr>\n",
       "  </thead>\n",
       "  <tbody>\n",
       "    <tr>\n",
       "      <th>0</th>\n",
       "      <td>148</td>\n",
       "      <td>1</td>\n",
       "      <td>0</td>\n",
       "      <td>0</td>\n",
       "    </tr>\n",
       "    <tr>\n",
       "      <th>1</th>\n",
       "      <td>85</td>\n",
       "      <td>0</td>\n",
       "      <td>1</td>\n",
       "      <td>0</td>\n",
       "    </tr>\n",
       "    <tr>\n",
       "      <th>2</th>\n",
       "      <td>183</td>\n",
       "      <td>1</td>\n",
       "      <td>0</td>\n",
       "      <td>0</td>\n",
       "    </tr>\n",
       "    <tr>\n",
       "      <th>3</th>\n",
       "      <td>89</td>\n",
       "      <td>0</td>\n",
       "      <td>0</td>\n",
       "      <td>0</td>\n",
       "    </tr>\n",
       "    <tr>\n",
       "      <th>4</th>\n",
       "      <td>137</td>\n",
       "      <td>1</td>\n",
       "      <td>0</td>\n",
       "      <td>0</td>\n",
       "    </tr>\n",
       "  </tbody>\n",
       "</table>\n",
       "</div>"
      ],
      "text/plain": [
       "   Glucose  Outcome  2  3\n",
       "0      148        1  0  0\n",
       "1       85        0  1  0\n",
       "2      183        1  0  0\n",
       "3       89        0  0  0\n",
       "4      137        1  0  0"
      ]
     },
     "execution_count": 259,
     "metadata": {},
     "output_type": "execute_result"
    }
   ],
   "source": [
    "df_diabetes.head()"
   ]
  },
  {
   "cell_type": "code",
   "execution_count": 260,
   "id": "8f370bee-47b2-4ae9-8b9f-7643227ac81d",
   "metadata": {},
   "outputs": [],
   "source": [
    "x_train, x_test, y_train, y_test = train_test_split(df_diabetes.drop(\"Outcome\",axis=1),df_diabetes.Outcome, test_size=0.2,random_state=20)\n"
   ]
  },
  {
   "cell_type": "code",
   "execution_count": 261,
   "id": "bc39e66b-aca3-4307-8318-e2e4e9c887bb",
   "metadata": {},
   "outputs": [],
   "source": [
    "x_train = sm.add_constant(x_train,prepend=False)\n"
   ]
  },
  {
   "cell_type": "code",
   "execution_count": 262,
   "id": "4023fdbe-fd31-43d6-a647-5d5965190f38",
   "metadata": {},
   "outputs": [
    {
     "name": "stdout",
     "output_type": "stream",
     "text": [
      "Optimization terminated successfully.\n",
      "         Current function value: 0.342252\n",
      "         Iterations 7\n",
      "                           Logit Regression Results                           \n",
      "==============================================================================\n",
      "Dep. Variable:                Outcome   No. Observations:                  614\n",
      "Model:                          Logit   Df Residuals:                      610\n",
      "Method:                           MLE   Df Model:                            3\n",
      "Date:                Sat, 21 Dec 2024   Pseudo R-squ.:                  0.4715\n",
      "Time:                        14:46:34   Log-Likelihood:                -210.14\n",
      "converged:                       True   LL-Null:                       -397.59\n",
      "Covariance Type:            nonrobust   LLR p-value:                 6.038e-81\n",
      "==============================================================================\n",
      "                 coef    std err          z      P>|z|      [0.025      0.975]\n",
      "------------------------------------------------------------------------------\n",
      "Glucose        0.0392      0.005      8.507      0.000       0.030       0.048\n",
      "2             -3.8331      0.310    -12.357      0.000      -4.441      -3.225\n",
      "3             -2.7269      0.328     -8.312      0.000      -3.370      -2.084\n",
      "const         -3.2440      0.569     -5.705      0.000      -4.358      -2.130\n",
      "==============================================================================\n"
     ]
    }
   ],
   "source": [
    "mod1 = sm.Logit(y_train,x_train).fit()\n",
    "print(mod1.summary())"
   ]
  },
  {
   "cell_type": "markdown",
   "id": "9130ff2f-3bbf-4f64-a734-a719f3fe9548",
   "metadata": {},
   "source": [
    "- m1 = Glucsoe has no effect on Outcome coeff of glucose == 0\n",
    "- m2 = When diettype from 1 to 2 it does not influence Outcome\n",
    "- m3 = When diettype from 1 to 3 it does not influence Outcome"
   ]
  },
  {
   "cell_type": "raw",
   "id": "169b08ff-c455-431f-b1c8-0372862f0bdf",
   "metadata": {},
   "source": [
    "change in the odd's ratio, when glucose is increased ny unit 1 --> m1.\n",
    "when diet change from 1 to 2 so the odd's ratio will change in favour of diatbetes ---> m2.\n",
    "So when diet change from 1 to 2 then the probability of getting outcome 0 will increase.\n",
    "when diet change from 1 to 3 so the odd's ratio will change in favour of diatbetes ---> m3.\n",
    "When diet change from 1 to 3 the the probability of getting outcome as 0 will increase (as 3 is leaving the reference value so response is getting closer to reference value i.e 0)."
   ]
  },
  {
   "cell_type": "code",
   "execution_count": 263,
   "id": "80b964b8-b029-492b-aae6-2ae8bbecf831",
   "metadata": {},
   "outputs": [
    {
     "name": "stderr",
     "output_type": "stream",
     "text": [
      "C:\\Users\\viraj narayan shirke\\AppData\\Local\\Programs\\Python\\Python312\\Lib\\site-packages\\statsmodels\\discrete\\discrete_model.py:2385: RuntimeWarning: overflow encountered in exp\n",
      "  return 1/(1+np.exp(-X))\n"
     ]
    }
   ],
   "source": [
    "x_test = sm.add_constant(x_test)\n",
    "y_pred = np.round(mod1.predict(x_test),0)"
   ]
  },
  {
   "cell_type": "code",
   "execution_count": 264,
   "id": "9f1a3ef7-6efd-4f00-8b0a-27bcee0bf951",
   "metadata": {},
   "outputs": [
    {
     "data": {
      "text/plain": [
       "array([[101,   0],\n",
       "       [ 53,   0]])"
      ]
     },
     "execution_count": 264,
     "metadata": {},
     "output_type": "execute_result"
    }
   ],
   "source": [
    "confusion_matrix(y_test,y_pred)"
   ]
  },
  {
   "cell_type": "code",
   "execution_count": 265,
   "id": "7f27dfe7-fce8-4d44-9cc0-c4fc7f293ea3",
   "metadata": {},
   "outputs": [
    {
     "name": "stdout",
     "output_type": "stream",
     "text": [
      "              precision    recall  f1-score   support\n",
      "\n",
      "           0       0.66      1.00      0.79       101\n",
      "           1       0.00      0.00      0.00        53\n",
      "\n",
      "    accuracy                           0.66       154\n",
      "   macro avg       0.33      0.50      0.40       154\n",
      "weighted avg       0.43      0.66      0.52       154\n",
      "\n"
     ]
    },
    {
     "name": "stderr",
     "output_type": "stream",
     "text": [
      "C:\\Users\\viraj narayan shirke\\AppData\\Local\\Programs\\Python\\Python312\\Lib\\site-packages\\sklearn\\metrics\\_classification.py:1565: UndefinedMetricWarning: Precision is ill-defined and being set to 0.0 in labels with no predicted samples. Use `zero_division` parameter to control this behavior.\n",
      "  _warn_prf(average, modifier, f\"{metric.capitalize()} is\", len(result))\n",
      "C:\\Users\\viraj narayan shirke\\AppData\\Local\\Programs\\Python\\Python312\\Lib\\site-packages\\sklearn\\metrics\\_classification.py:1565: UndefinedMetricWarning: Precision is ill-defined and being set to 0.0 in labels with no predicted samples. Use `zero_division` parameter to control this behavior.\n",
      "  _warn_prf(average, modifier, f\"{metric.capitalize()} is\", len(result))\n",
      "C:\\Users\\viraj narayan shirke\\AppData\\Local\\Programs\\Python\\Python312\\Lib\\site-packages\\sklearn\\metrics\\_classification.py:1565: UndefinedMetricWarning: Precision is ill-defined and being set to 0.0 in labels with no predicted samples. Use `zero_division` parameter to control this behavior.\n",
      "  _warn_prf(average, modifier, f\"{metric.capitalize()} is\", len(result))\n"
     ]
    }
   ],
   "source": [
    "confusion_matrix(y_test,y_pred)\n",
    "print(classification_report(y_test,y_pred))"
   ]
  },
  {
   "cell_type": "code",
   "execution_count": 266,
   "id": "f681704b-0858-41ae-8402-b078dbec2e72",
   "metadata": {},
   "outputs": [
    {
     "data": {
      "text/plain": [
       "101"
      ]
     },
     "execution_count": 266,
     "metadata": {},
     "output_type": "execute_result"
    }
   ],
   "source": [
    "89 + 12 # this count is the people does not have diatebes"
   ]
  },
  {
   "cell_type": "code",
   "execution_count": 267,
   "id": "9b8299cf-8e8b-4ad4-b57e-2503beeae292",
   "metadata": {},
   "outputs": [
    {
     "data": {
      "text/plain": [
       "53"
      ]
     },
     "execution_count": 267,
     "metadata": {},
     "output_type": "execute_result"
    }
   ],
   "source": [
    "9 + 44 # This  count is the people  have diabetes"
   ]
  },
  {
   "cell_type": "code",
   "execution_count": 268,
   "id": "84dbfc36-baa2-457d-b019-6a1ed65cf423",
   "metadata": {},
   "outputs": [
    {
     "data": {
      "text/plain": [
       "56"
      ]
     },
     "execution_count": 268,
     "metadata": {},
     "output_type": "execute_result"
    }
   ],
   "source": [
    "44 + 12 # Predicted this are having diabetes"
   ]
  },
  {
   "cell_type": "markdown",
   "id": "8aae1166-b8e1-41ce-9a06-3e0ccebe0ccf",
   "metadata": {},
   "source": [
    "## MultiCollinearity"
   ]
  },
  {
   "cell_type": "code",
   "execution_count": 269,
   "id": "7a0e0a2a-7ec1-46de-95cd-535e75e991df",
   "metadata": {},
   "outputs": [],
   "source": [
    "df = pd.read_excel('CDAC_DataBook.xlsx',sheet_name='VIF')"
   ]
  },
  {
   "cell_type": "code",
   "execution_count": 270,
   "id": "dc13660c-72e4-4628-b87d-57ce5272f8f1",
   "metadata": {},
   "outputs": [
    {
     "data": {
      "text/html": [
       "<div>\n",
       "<style scoped>\n",
       "    .dataframe tbody tr th:only-of-type {\n",
       "        vertical-align: middle;\n",
       "    }\n",
       "\n",
       "    .dataframe tbody tr th {\n",
       "        vertical-align: top;\n",
       "    }\n",
       "\n",
       "    .dataframe thead th {\n",
       "        text-align: right;\n",
       "    }\n",
       "</style>\n",
       "<table border=\"1\" class=\"dataframe\">\n",
       "  <thead>\n",
       "    <tr style=\"text-align: right;\">\n",
       "      <th></th>\n",
       "      <th>Education</th>\n",
       "      <th>Region</th>\n",
       "      <th>Gender</th>\n",
       "      <th>Exp</th>\n",
       "      <th>Union</th>\n",
       "      <th>Wage</th>\n",
       "      <th>Age</th>\n",
       "      <th>Race</th>\n",
       "      <th>Occupation</th>\n",
       "      <th>Sector</th>\n",
       "      <th>Married</th>\n",
       "    </tr>\n",
       "  </thead>\n",
       "  <tbody>\n",
       "    <tr>\n",
       "      <th>0</th>\n",
       "      <td>9</td>\n",
       "      <td>0</td>\n",
       "      <td>1</td>\n",
       "      <td>42</td>\n",
       "      <td>0</td>\n",
       "      <td>4.95</td>\n",
       "      <td>57</td>\n",
       "      <td>3</td>\n",
       "      <td>6</td>\n",
       "      <td>1</td>\n",
       "      <td>1</td>\n",
       "    </tr>\n",
       "    <tr>\n",
       "      <th>1</th>\n",
       "      <td>12</td>\n",
       "      <td>0</td>\n",
       "      <td>0</td>\n",
       "      <td>1</td>\n",
       "      <td>0</td>\n",
       "      <td>6.67</td>\n",
       "      <td>19</td>\n",
       "      <td>3</td>\n",
       "      <td>6</td>\n",
       "      <td>1</td>\n",
       "      <td>0</td>\n",
       "    </tr>\n",
       "    <tr>\n",
       "      <th>2</th>\n",
       "      <td>12</td>\n",
       "      <td>0</td>\n",
       "      <td>0</td>\n",
       "      <td>4</td>\n",
       "      <td>0</td>\n",
       "      <td>4.00</td>\n",
       "      <td>22</td>\n",
       "      <td>3</td>\n",
       "      <td>6</td>\n",
       "      <td>0</td>\n",
       "      <td>0</td>\n",
       "    </tr>\n",
       "    <tr>\n",
       "      <th>3</th>\n",
       "      <td>12</td>\n",
       "      <td>0</td>\n",
       "      <td>0</td>\n",
       "      <td>17</td>\n",
       "      <td>0</td>\n",
       "      <td>7.50</td>\n",
       "      <td>35</td>\n",
       "      <td>3</td>\n",
       "      <td>6</td>\n",
       "      <td>0</td>\n",
       "      <td>1</td>\n",
       "    </tr>\n",
       "    <tr>\n",
       "      <th>4</th>\n",
       "      <td>13</td>\n",
       "      <td>0</td>\n",
       "      <td>0</td>\n",
       "      <td>9</td>\n",
       "      <td>1</td>\n",
       "      <td>13.07</td>\n",
       "      <td>28</td>\n",
       "      <td>3</td>\n",
       "      <td>6</td>\n",
       "      <td>0</td>\n",
       "      <td>0</td>\n",
       "    </tr>\n",
       "  </tbody>\n",
       "</table>\n",
       "</div>"
      ],
      "text/plain": [
       "   Education  Region  Gender  Exp  Union   Wage  Age  Race  Occupation  \\\n",
       "0          9       0       1   42      0   4.95   57     3           6   \n",
       "1         12       0       0    1      0   6.67   19     3           6   \n",
       "2         12       0       0    4      0   4.00   22     3           6   \n",
       "3         12       0       0   17      0   7.50   35     3           6   \n",
       "4         13       0       0    9      1  13.07   28     3           6   \n",
       "\n",
       "   Sector  Married  \n",
       "0       1        1  \n",
       "1       1        0  \n",
       "2       0        0  \n",
       "3       0        1  \n",
       "4       0        0  "
      ]
     },
     "execution_count": 270,
     "metadata": {},
     "output_type": "execute_result"
    }
   ],
   "source": [
    "df.head()"
   ]
  },
  {
   "cell_type": "code",
   "execution_count": 271,
   "id": "dfc7fa51-b45e-4329-8a2a-01dae33003fa",
   "metadata": {},
   "outputs": [],
   "source": [
    "df = df[['Exp','Age','Education','Married','Wage']]"
   ]
  },
  {
   "cell_type": "code",
   "execution_count": 272,
   "id": "82633bf5-f8a9-4e59-9b60-3edc40fef285",
   "metadata": {},
   "outputs": [
    {
     "data": {
      "text/html": [
       "<div>\n",
       "<style scoped>\n",
       "    .dataframe tbody tr th:only-of-type {\n",
       "        vertical-align: middle;\n",
       "    }\n",
       "\n",
       "    .dataframe tbody tr th {\n",
       "        vertical-align: top;\n",
       "    }\n",
       "\n",
       "    .dataframe thead th {\n",
       "        text-align: right;\n",
       "    }\n",
       "</style>\n",
       "<table border=\"1\" class=\"dataframe\">\n",
       "  <thead>\n",
       "    <tr style=\"text-align: right;\">\n",
       "      <th></th>\n",
       "      <th>Exp</th>\n",
       "      <th>Age</th>\n",
       "      <th>Education</th>\n",
       "      <th>Married</th>\n",
       "      <th>Wage</th>\n",
       "    </tr>\n",
       "  </thead>\n",
       "  <tbody>\n",
       "    <tr>\n",
       "      <th>0</th>\n",
       "      <td>42</td>\n",
       "      <td>57</td>\n",
       "      <td>9</td>\n",
       "      <td>1</td>\n",
       "      <td>4.95</td>\n",
       "    </tr>\n",
       "    <tr>\n",
       "      <th>1</th>\n",
       "      <td>1</td>\n",
       "      <td>19</td>\n",
       "      <td>12</td>\n",
       "      <td>0</td>\n",
       "      <td>6.67</td>\n",
       "    </tr>\n",
       "    <tr>\n",
       "      <th>2</th>\n",
       "      <td>4</td>\n",
       "      <td>22</td>\n",
       "      <td>12</td>\n",
       "      <td>0</td>\n",
       "      <td>4.00</td>\n",
       "    </tr>\n",
       "    <tr>\n",
       "      <th>3</th>\n",
       "      <td>17</td>\n",
       "      <td>35</td>\n",
       "      <td>12</td>\n",
       "      <td>1</td>\n",
       "      <td>7.50</td>\n",
       "    </tr>\n",
       "    <tr>\n",
       "      <th>4</th>\n",
       "      <td>9</td>\n",
       "      <td>28</td>\n",
       "      <td>13</td>\n",
       "      <td>0</td>\n",
       "      <td>13.07</td>\n",
       "    </tr>\n",
       "  </tbody>\n",
       "</table>\n",
       "</div>"
      ],
      "text/plain": [
       "   Exp  Age  Education  Married   Wage\n",
       "0   42   57          9        1   4.95\n",
       "1    1   19         12        0   6.67\n",
       "2    4   22         12        0   4.00\n",
       "3   17   35         12        1   7.50\n",
       "4    9   28         13        0  13.07"
      ]
     },
     "execution_count": 272,
     "metadata": {},
     "output_type": "execute_result"
    }
   ],
   "source": [
    "df.head()"
   ]
  },
  {
   "cell_type": "code",
   "execution_count": 273,
   "id": "70f30d1e-079b-45bd-ab6e-f0fa7edb39db",
   "metadata": {},
   "outputs": [],
   "source": [
    "married_dum = pd.get_dummies(df.Married,drop_first=True).astype(int)"
   ]
  },
  {
   "cell_type": "code",
   "execution_count": 274,
   "id": "e35fd78c-68a3-4b7f-aa2c-5eb9e7f3201a",
   "metadata": {},
   "outputs": [],
   "source": [
    "df = df.drop('Married',axis=1)"
   ]
  },
  {
   "cell_type": "code",
   "execution_count": 275,
   "id": "78be10a8-655c-46b0-8d05-a9e4a6282967",
   "metadata": {},
   "outputs": [
    {
     "data": {
      "text/html": [
       "<div>\n",
       "<style scoped>\n",
       "    .dataframe tbody tr th:only-of-type {\n",
       "        vertical-align: middle;\n",
       "    }\n",
       "\n",
       "    .dataframe tbody tr th {\n",
       "        vertical-align: top;\n",
       "    }\n",
       "\n",
       "    .dataframe thead th {\n",
       "        text-align: right;\n",
       "    }\n",
       "</style>\n",
       "<table border=\"1\" class=\"dataframe\">\n",
       "  <thead>\n",
       "    <tr style=\"text-align: right;\">\n",
       "      <th></th>\n",
       "      <th>Exp</th>\n",
       "      <th>Age</th>\n",
       "      <th>Education</th>\n",
       "      <th>Wage</th>\n",
       "    </tr>\n",
       "  </thead>\n",
       "  <tbody>\n",
       "    <tr>\n",
       "      <th>0</th>\n",
       "      <td>42</td>\n",
       "      <td>57</td>\n",
       "      <td>9</td>\n",
       "      <td>4.95</td>\n",
       "    </tr>\n",
       "    <tr>\n",
       "      <th>1</th>\n",
       "      <td>1</td>\n",
       "      <td>19</td>\n",
       "      <td>12</td>\n",
       "      <td>6.67</td>\n",
       "    </tr>\n",
       "    <tr>\n",
       "      <th>2</th>\n",
       "      <td>4</td>\n",
       "      <td>22</td>\n",
       "      <td>12</td>\n",
       "      <td>4.00</td>\n",
       "    </tr>\n",
       "    <tr>\n",
       "      <th>3</th>\n",
       "      <td>17</td>\n",
       "      <td>35</td>\n",
       "      <td>12</td>\n",
       "      <td>7.50</td>\n",
       "    </tr>\n",
       "    <tr>\n",
       "      <th>4</th>\n",
       "      <td>9</td>\n",
       "      <td>28</td>\n",
       "      <td>13</td>\n",
       "      <td>13.07</td>\n",
       "    </tr>\n",
       "  </tbody>\n",
       "</table>\n",
       "</div>"
      ],
      "text/plain": [
       "   Exp  Age  Education   Wage\n",
       "0   42   57          9   4.95\n",
       "1    1   19         12   6.67\n",
       "2    4   22         12   4.00\n",
       "3   17   35         12   7.50\n",
       "4    9   28         13  13.07"
      ]
     },
     "execution_count": 275,
     "metadata": {},
     "output_type": "execute_result"
    }
   ],
   "source": [
    "df.head()"
   ]
  },
  {
   "cell_type": "code",
   "execution_count": 276,
   "id": "a6f89770-e14e-425d-ac6f-bc05c5eae62e",
   "metadata": {},
   "outputs": [],
   "source": [
    "df = pd.concat([df,married_dum],axis=1)"
   ]
  },
  {
   "cell_type": "code",
   "execution_count": 277,
   "id": "28206a56-5bec-4bed-a49a-b6731e4630be",
   "metadata": {},
   "outputs": [
    {
     "data": {
      "text/html": [
       "<div>\n",
       "<style scoped>\n",
       "    .dataframe tbody tr th:only-of-type {\n",
       "        vertical-align: middle;\n",
       "    }\n",
       "\n",
       "    .dataframe tbody tr th {\n",
       "        vertical-align: top;\n",
       "    }\n",
       "\n",
       "    .dataframe thead th {\n",
       "        text-align: right;\n",
       "    }\n",
       "</style>\n",
       "<table border=\"1\" class=\"dataframe\">\n",
       "  <thead>\n",
       "    <tr style=\"text-align: right;\">\n",
       "      <th></th>\n",
       "      <th>Exp</th>\n",
       "      <th>Age</th>\n",
       "      <th>Education</th>\n",
       "      <th>Wage</th>\n",
       "      <th>1</th>\n",
       "    </tr>\n",
       "  </thead>\n",
       "  <tbody>\n",
       "    <tr>\n",
       "      <th>0</th>\n",
       "      <td>42</td>\n",
       "      <td>57</td>\n",
       "      <td>9</td>\n",
       "      <td>4.95</td>\n",
       "      <td>1</td>\n",
       "    </tr>\n",
       "    <tr>\n",
       "      <th>1</th>\n",
       "      <td>1</td>\n",
       "      <td>19</td>\n",
       "      <td>12</td>\n",
       "      <td>6.67</td>\n",
       "      <td>0</td>\n",
       "    </tr>\n",
       "    <tr>\n",
       "      <th>2</th>\n",
       "      <td>4</td>\n",
       "      <td>22</td>\n",
       "      <td>12</td>\n",
       "      <td>4.00</td>\n",
       "      <td>0</td>\n",
       "    </tr>\n",
       "    <tr>\n",
       "      <th>3</th>\n",
       "      <td>17</td>\n",
       "      <td>35</td>\n",
       "      <td>12</td>\n",
       "      <td>7.50</td>\n",
       "      <td>1</td>\n",
       "    </tr>\n",
       "    <tr>\n",
       "      <th>4</th>\n",
       "      <td>9</td>\n",
       "      <td>28</td>\n",
       "      <td>13</td>\n",
       "      <td>13.07</td>\n",
       "      <td>0</td>\n",
       "    </tr>\n",
       "  </tbody>\n",
       "</table>\n",
       "</div>"
      ],
      "text/plain": [
       "   Exp  Age  Education   Wage  1\n",
       "0   42   57          9   4.95  1\n",
       "1    1   19         12   6.67  0\n",
       "2    4   22         12   4.00  0\n",
       "3   17   35         12   7.50  1\n",
       "4    9   28         13  13.07  0"
      ]
     },
     "execution_count": 277,
     "metadata": {},
     "output_type": "execute_result"
    }
   ],
   "source": [
    "df.head()"
   ]
  },
  {
   "cell_type": "code",
   "execution_count": 278,
   "id": "4a3da6c4-4270-4db4-bbda-f7f104731965",
   "metadata": {},
   "outputs": [],
   "source": [
    "x_train, x_test, y_train, y_test = train_test_split(df.drop(\"Wage\",axis=1),df.Wage, test_size=0.2,random_state=20)"
   ]
  },
  {
   "cell_type": "code",
   "execution_count": 279,
   "id": "00b2ad10-48d4-4967-a59e-7d0b70b85150",
   "metadata": {},
   "outputs": [],
   "source": [
    "x_train = sm.add_constant(x_train,prepend=False)"
   ]
  },
  {
   "cell_type": "code",
   "execution_count": 280,
   "id": "b0a31d0e-cef1-43c2-b764-778b51dc3ee8",
   "metadata": {},
   "outputs": [
    {
     "name": "stdout",
     "output_type": "stream",
     "text": [
      "                            OLS Regression Results                            \n",
      "==============================================================================\n",
      "Dep. Variable:                   Wage   R-squared:                       0.263\n",
      "Model:                            OLS   Adj. R-squared:                  0.258\n",
      "Method:                 Least Squares   F-statistic:                     50.15\n",
      "Date:                Sat, 21 Dec 2024   Prob (F-statistic):           9.69e-28\n",
      "Time:                        14:46:35   Log-Likelihood:                -1218.2\n",
      "No. Observations:                 426   AIC:                             2444.\n",
      "Df Residuals:                     422   BIC:                             2461.\n",
      "Df Model:                           3                                         \n",
      "Covariance Type:            nonrobust                                         \n",
      "==============================================================================\n",
      "                 coef    std err          t      P>|t|      [0.025      0.975]\n",
      "------------------------------------------------------------------------------\n",
      "Exp            1.0452      0.201      5.204      0.000       0.650       1.440\n",
      "Age           -0.9282      0.191     -4.863      0.000      -1.303      -0.553\n",
      "Education      1.9009      0.270      7.032      0.000       1.370       2.432\n",
      "1              0.6710      0.447      1.500      0.134      -0.208       1.550\n",
      "const         -0.6457      0.110     -5.866      0.000      -0.862      -0.429\n",
      "==============================================================================\n",
      "Omnibus:                       51.289   Durbin-Watson:                   2.067\n",
      "Prob(Omnibus):                  0.000   Jarque-Bera (JB):               71.705\n",
      "Skew:                           0.834   Prob(JB):                     2.69e-16\n",
      "Kurtosis:                       4.122   Cond. No.                     1.14e+17\n",
      "==============================================================================\n",
      "\n",
      "Notes:\n",
      "[1] Standard Errors assume that the covariance matrix of the errors is correctly specified.\n",
      "[2] The smallest eigenvalue is 6.66e-29. This might indicate that there are\n",
      "strong multicollinearity problems or that the design matrix is singular.\n"
     ]
    }
   ],
   "source": [
    "mod1 = sm.OLS(y_train,x_train).fit()\n",
    "print(mod1.summary())"
   ]
  },
  {
   "cell_type": "code",
   "execution_count": 281,
   "id": "94923ded-cb11-4fd4-b5d7-867724a3903b",
   "metadata": {},
   "outputs": [],
   "source": [
    "df2 = pd.read_excel('CDAC_DataBook.xlsx',sheet_name='VIF')"
   ]
  },
  {
   "cell_type": "code",
   "execution_count": 282,
   "id": "7e093611-c52e-426f-9ee1-477cfb9a2738",
   "metadata": {},
   "outputs": [],
   "source": [
    "df2 = df2[['Married','Education','Wage']]"
   ]
  },
  {
   "cell_type": "code",
   "execution_count": 283,
   "id": "d2a2036f-1e42-4896-bb46-67f2c2a38318",
   "metadata": {},
   "outputs": [],
   "source": [
    "married_dum1 = pd.get_dummies(df2.Married,drop_first=True).astype(int)"
   ]
  },
  {
   "cell_type": "code",
   "execution_count": 284,
   "id": "7b4a5b38-96bb-48c4-a97b-4ac79851a3e3",
   "metadata": {},
   "outputs": [],
   "source": [
    "df2 = df2.drop('Married',axis=1)"
   ]
  },
  {
   "cell_type": "code",
   "execution_count": 285,
   "id": "e0812918-758e-4982-80a8-b39018e45e7f",
   "metadata": {},
   "outputs": [],
   "source": [
    "df2 = pd.concat([df2,married_dum1],axis=1)"
   ]
  },
  {
   "cell_type": "code",
   "execution_count": 286,
   "id": "6040b113-b342-4a3c-ac14-ca3c72f41ecb",
   "metadata": {},
   "outputs": [],
   "source": [
    "x_train, x_test, y_train, y_test = train_test_split(df2.drop(\"Wage\",axis=1),df2.Wage, test_size=0.2,random_state=20)"
   ]
  },
  {
   "cell_type": "code",
   "execution_count": 287,
   "id": "a5612fb5-1e5c-4d9b-92c1-ea86d971c640",
   "metadata": {},
   "outputs": [],
   "source": [
    "x_train = sm.add_constant(x_train,prepend=False)"
   ]
  },
  {
   "cell_type": "code",
   "execution_count": 288,
   "id": "f5b0dd22-4a58-49aa-97a4-f574da49fb04",
   "metadata": {},
   "outputs": [
    {
     "name": "stdout",
     "output_type": "stream",
     "text": [
      "                            OLS Regression Results                            \n",
      "==============================================================================\n",
      "Dep. Variable:                   Wage   R-squared:                       0.193\n",
      "Model:                            OLS   Adj. R-squared:                  0.189\n",
      "Method:                 Least Squares   F-statistic:                     50.47\n",
      "Date:                Sat, 21 Dec 2024   Prob (F-statistic):           2.20e-20\n",
      "Time:                        14:46:35   Log-Likelihood:                -1237.6\n",
      "No. Observations:                 426   AIC:                             2481.\n",
      "Df Residuals:                     423   BIC:                             2493.\n",
      "Df Model:                           2                                         \n",
      "Covariance Type:            nonrobust                                         \n",
      "==============================================================================\n",
      "                 coef    std err          t      P>|t|      [0.025      0.975]\n",
      "------------------------------------------------------------------------------\n",
      "Education      0.7850      0.081      9.710      0.000       0.626       0.944\n",
      "1              1.3815      0.453      3.052      0.002       0.492       2.271\n",
      "const         -2.1835      1.131     -1.930      0.054      -4.407       0.040\n",
      "==============================================================================\n",
      "Omnibus:                       56.332   Durbin-Watson:                   2.111\n",
      "Prob(Omnibus):                  0.000   Jarque-Bera (JB):               76.768\n",
      "Skew:                           0.934   Prob(JB):                     2.14e-17\n",
      "Kurtosis:                       3.913   Cond. No.                         71.2\n",
      "==============================================================================\n",
      "\n",
      "Notes:\n",
      "[1] Standard Errors assume that the covariance matrix of the errors is correctly specified.\n"
     ]
    }
   ],
   "source": [
    "mod1 = sm.OLS(y_train,x_train).fit()\n",
    "print(mod1.summary())"
   ]
  },
  {
   "cell_type": "code",
   "execution_count": 289,
   "id": "f7bea14b-0a71-4e1f-bb8e-dcff5b4f83e2",
   "metadata": {},
   "outputs": [
    {
     "name": "stdout",
     "output_type": "stream",
     "text": [
      "                            OLS Regression Results                            \n",
      "==============================================================================\n",
      "Dep. Variable:                   Wage   R-squared:                       0.263\n",
      "Model:                            OLS   Adj. R-squared:                  0.258\n",
      "Method:                 Least Squares   F-statistic:                     50.15\n",
      "Date:                Sat, 21 Dec 2024   Prob (F-statistic):           9.69e-28\n",
      "Time:                        14:46:35   Log-Likelihood:                -1218.2\n",
      "No. Observations:                 426   AIC:                             2444.\n",
      "Df Residuals:                     422   BIC:                             2461.\n",
      "Df Model:                           3                                         \n",
      "Covariance Type:            nonrobust                                         \n",
      "==============================================================================\n",
      "                 coef    std err          t      P>|t|      [0.025      0.975]\n",
      "------------------------------------------------------------------------------\n",
      "Exp            1.0452      0.201      5.204      0.000       0.650       1.440\n",
      "Age           -0.9282      0.191     -4.863      0.000      -1.303      -0.553\n",
      "Education      1.9009      0.270      7.032      0.000       1.370       2.432\n",
      "1              0.6710      0.447      1.500      0.134      -0.208       1.550\n",
      "const         -0.6457      0.110     -5.866      0.000      -0.862      -0.429\n",
      "==============================================================================\n",
      "Omnibus:                       51.289   Durbin-Watson:                   2.067\n",
      "Prob(Omnibus):                  0.000   Jarque-Bera (JB):               71.705\n",
      "Skew:                           0.834   Prob(JB):                     2.69e-16\n",
      "Kurtosis:                       4.122   Cond. No.                     1.14e+17\n",
      "==============================================================================\n",
      "\n",
      "Notes:\n",
      "[1] Standard Errors assume that the covariance matrix of the errors is correctly specified.\n",
      "[2] The smallest eigenvalue is 6.66e-29. This might indicate that there are\n",
      "strong multicollinearity problems or that the design matrix is singular.\n"
     ]
    }
   ],
   "source": [
    "df = pd.read_excel('CDAC_DataBook.xlsx',sheet_name='VIF')\n",
    "df = df[['Exp','Age','Education','Married','Wage']]\n",
    "married_dum = pd.get_dummies(df.Married,drop_first=True).astype(int)\n",
    "df = df.drop('Married',axis=1)\n",
    "df = pd.concat([df,married_dum],axis=1)\n",
    "x_train, x_test, y_train, y_test = train_test_split(df.drop(\"Wage\",axis=1),df.Wage, test_size=0.2,random_state=20)\n",
    "x_train = sm.add_constant(x_train,prepend=False)\n",
    "mod1 = sm.OLS(y_train,x_train).fit()\n",
    "print(mod1.summary())"
   ]
  },
  {
   "cell_type": "code",
   "execution_count": 290,
   "id": "1b5c9262-6a0a-4b47-9e36-291050825df5",
   "metadata": {},
   "outputs": [
    {
     "name": "stdout",
     "output_type": "stream",
     "text": [
      "columns: 0 has VIF factor as 548.4369250348835\n",
      "columns: 1 has VIF factor as 1580.354317705464\n",
      "columns: 2 has VIF factor as 370.66061687999195\n",
      "columns: 3 has VIF factor as 5.134790611803771\n",
      "columns: 4 has VIF factor as 3.155700169364595\n"
     ]
    }
   ],
   "source": [
    "for i in range(df.shape[1]):\n",
    "    print('columns:',i,'has VIF factor as',variance_inflation_factor(df.values,i))"
   ]
  },
  {
   "cell_type": "code",
   "execution_count": 291,
   "id": "e05bcbfc-9085-423e-93ae-0e74d8e3a86f",
   "metadata": {},
   "outputs": [
    {
     "name": "stdout",
     "output_type": "stream",
     "text": [
      "columns: 0 has VIF factor as 5.948866949534532\n",
      "columns: 1 has VIF factor as 4.838813039801811\n",
      "columns: 2 has VIF factor as 2.6886559440131763\n"
     ]
    }
   ],
   "source": [
    "for i in range(df2.shape[1]):\n",
    "    print('columns:',i,'has VIF factor as',variance_inflation_factor(df2.values,i))"
   ]
  },
  {
   "cell_type": "markdown",
   "id": "6d45d25d-a8a8-47ce-bc49-c6733443e4a1",
   "metadata": {},
   "source": [
    "---------\n"
   ]
  },
  {
   "cell_type": "markdown",
   "id": "084b0ab6-4d03-4271-af0c-21ecc0526b02",
   "metadata": {},
   "source": [
    "## Nominal Logistic Regression"
   ]
  },
  {
   "cell_type": "code",
   "execution_count": 292,
   "id": "bf8db5d8-c509-495d-84ac-e5153ee228b4",
   "metadata": {},
   "outputs": [],
   "source": [
    "df_nom = pd.read_excel('CDAC_DataBook.xlsx',sheet_name='nominal')"
   ]
  },
  {
   "cell_type": "code",
   "execution_count": 293,
   "id": "c43983d2-0925-4080-aef4-58d0dfa7ecb1",
   "metadata": {},
   "outputs": [
    {
     "data": {
      "text/html": [
       "<div>\n",
       "<style scoped>\n",
       "    .dataframe tbody tr th:only-of-type {\n",
       "        vertical-align: middle;\n",
       "    }\n",
       "\n",
       "    .dataframe tbody tr th {\n",
       "        vertical-align: top;\n",
       "    }\n",
       "\n",
       "    .dataframe thead th {\n",
       "        text-align: right;\n",
       "    }\n",
       "</style>\n",
       "<table border=\"1\" class=\"dataframe\">\n",
       "  <thead>\n",
       "    <tr style=\"text-align: right;\">\n",
       "      <th></th>\n",
       "      <th>ses</th>\n",
       "      <th>write</th>\n",
       "      <th>math</th>\n",
       "      <th>prog</th>\n",
       "    </tr>\n",
       "  </thead>\n",
       "  <tbody>\n",
       "    <tr>\n",
       "      <th>0</th>\n",
       "      <td>1</td>\n",
       "      <td>35</td>\n",
       "      <td>41</td>\n",
       "      <td>1</td>\n",
       "    </tr>\n",
       "    <tr>\n",
       "      <th>1</th>\n",
       "      <td>2</td>\n",
       "      <td>33</td>\n",
       "      <td>41</td>\n",
       "      <td>2</td>\n",
       "    </tr>\n",
       "    <tr>\n",
       "      <th>2</th>\n",
       "      <td>3</td>\n",
       "      <td>39</td>\n",
       "      <td>44</td>\n",
       "      <td>3</td>\n",
       "    </tr>\n",
       "    <tr>\n",
       "      <th>3</th>\n",
       "      <td>1</td>\n",
       "      <td>37</td>\n",
       "      <td>42</td>\n",
       "      <td>1</td>\n",
       "    </tr>\n",
       "    <tr>\n",
       "      <th>4</th>\n",
       "      <td>2</td>\n",
       "      <td>31</td>\n",
       "      <td>40</td>\n",
       "      <td>2</td>\n",
       "    </tr>\n",
       "  </tbody>\n",
       "</table>\n",
       "</div>"
      ],
      "text/plain": [
       "   ses  write  math  prog\n",
       "0    1     35    41     1\n",
       "1    2     33    41     2\n",
       "2    3     39    44     3\n",
       "3    1     37    42     1\n",
       "4    2     31    40     2"
      ]
     },
     "execution_count": 293,
     "metadata": {},
     "output_type": "execute_result"
    }
   ],
   "source": [
    "df_nom.head()"
   ]
  },
  {
   "cell_type": "raw",
   "id": "861d6a8e-bf23-4984-8c96-6e4d60ef2d7e",
   "metadata": {},
   "source": [
    "- program --> response\n",
    "- ses --> predictor (categorical)\n",
    "- math --> predictor (continuous)"
   ]
  },
  {
   "cell_type": "code",
   "execution_count": 294,
   "id": "fabb9eca-ff62-4857-9f4e-09a3911e9d60",
   "metadata": {},
   "outputs": [],
   "source": [
    "df_nom = df_nom.drop('write',axis=1)"
   ]
  },
  {
   "cell_type": "code",
   "execution_count": 295,
   "id": "af180e44-ae35-4722-ab13-46c6c64e933e",
   "metadata": {},
   "outputs": [],
   "source": [
    "ses_dum = pd.get_dummies(df_nom['ses'],drop_first=True).astype(int)"
   ]
  },
  {
   "cell_type": "code",
   "execution_count": 296,
   "id": "7276a5b7-6cab-4a52-8d2d-3f0534ae804c",
   "metadata": {},
   "outputs": [],
   "source": [
    "df_nom = df_nom.drop('ses',axis=1)"
   ]
  },
  {
   "cell_type": "code",
   "execution_count": 297,
   "id": "48c16e26-4079-4bce-8819-2d390422e2f2",
   "metadata": {},
   "outputs": [],
   "source": [
    "df_nom = pd.concat([df_nom,ses_dum],axis=1)"
   ]
  },
  {
   "cell_type": "code",
   "execution_count": 298,
   "id": "fe595ad9-d006-491d-af00-8428eb082264",
   "metadata": {},
   "outputs": [
    {
     "data": {
      "text/html": [
       "<div>\n",
       "<style scoped>\n",
       "    .dataframe tbody tr th:only-of-type {\n",
       "        vertical-align: middle;\n",
       "    }\n",
       "\n",
       "    .dataframe tbody tr th {\n",
       "        vertical-align: top;\n",
       "    }\n",
       "\n",
       "    .dataframe thead th {\n",
       "        text-align: right;\n",
       "    }\n",
       "</style>\n",
       "<table border=\"1\" class=\"dataframe\">\n",
       "  <thead>\n",
       "    <tr style=\"text-align: right;\">\n",
       "      <th></th>\n",
       "      <th>math</th>\n",
       "      <th>prog</th>\n",
       "      <th>2</th>\n",
       "      <th>3</th>\n",
       "    </tr>\n",
       "  </thead>\n",
       "  <tbody>\n",
       "    <tr>\n",
       "      <th>0</th>\n",
       "      <td>41</td>\n",
       "      <td>1</td>\n",
       "      <td>0</td>\n",
       "      <td>0</td>\n",
       "    </tr>\n",
       "    <tr>\n",
       "      <th>1</th>\n",
       "      <td>41</td>\n",
       "      <td>2</td>\n",
       "      <td>1</td>\n",
       "      <td>0</td>\n",
       "    </tr>\n",
       "    <tr>\n",
       "      <th>2</th>\n",
       "      <td>44</td>\n",
       "      <td>3</td>\n",
       "      <td>0</td>\n",
       "      <td>1</td>\n",
       "    </tr>\n",
       "    <tr>\n",
       "      <th>3</th>\n",
       "      <td>42</td>\n",
       "      <td>1</td>\n",
       "      <td>0</td>\n",
       "      <td>0</td>\n",
       "    </tr>\n",
       "    <tr>\n",
       "      <th>4</th>\n",
       "      <td>40</td>\n",
       "      <td>2</td>\n",
       "      <td>1</td>\n",
       "      <td>0</td>\n",
       "    </tr>\n",
       "  </tbody>\n",
       "</table>\n",
       "</div>"
      ],
      "text/plain": [
       "   math  prog  2  3\n",
       "0    41     1  0  0\n",
       "1    41     2  1  0\n",
       "2    44     3  0  1\n",
       "3    42     1  0  0\n",
       "4    40     2  1  0"
      ]
     },
     "execution_count": 298,
     "metadata": {},
     "output_type": "execute_result"
    }
   ],
   "source": [
    "df_nom.head()"
   ]
  },
  {
   "cell_type": "code",
   "execution_count": 299,
   "id": "a5b8a11b-fe04-4174-ba0c-dcf89cb220d7",
   "metadata": {},
   "outputs": [],
   "source": [
    "x_train, x_test, y_train, y_test = train_test_split(df_nom.drop(\"prog\",axis=1),df_nom.prog, test_size=0.2,random_state=20)\n"
   ]
  },
  {
   "cell_type": "code",
   "execution_count": 300,
   "id": "67d3c7b7-2163-4846-ac2d-8e89adc046b3",
   "metadata": {},
   "outputs": [],
   "source": [
    "x_train = sm.add_constant(x_train,prepend=False)"
   ]
  },
  {
   "cell_type": "code",
   "execution_count": 301,
   "id": "51bf2a7e-bbb5-41f5-aa13-3bd4d013596d",
   "metadata": {},
   "outputs": [
    {
     "name": "stdout",
     "output_type": "stream",
     "text": [
      "Optimization terminated successfully.\n",
      "         Current function value: 0.653667\n",
      "         Iterations 8\n",
      "                          MNLogit Regression Results                          \n",
      "==============================================================================\n",
      "Dep. Variable:                   prog   No. Observations:                  160\n",
      "Model:                        MNLogit   Df Residuals:                      152\n",
      "Method:                           MLE   Df Model:                            6\n",
      "Date:                Sat, 21 Dec 2024   Pseudo R-squ.:                  0.3687\n",
      "Time:                        14:46:35   Log-Likelihood:                -104.59\n",
      "converged:                       True   LL-Null:                       -165.68\n",
      "Covariance Type:            nonrobust   LLR p-value:                 5.678e-24\n",
      "==============================================================================\n",
      "    prog=2       coef    std err          z      P>|z|      [0.025      0.975]\n",
      "------------------------------------------------------------------------------\n",
      "math           0.0112      0.036      0.312      0.755      -0.059       0.082\n",
      "2              3.2174      0.685      4.695      0.000       1.874       4.561\n",
      "3              2.4719      1.121      2.204      0.028       0.274       4.670\n",
      "const         -1.0727      1.747     -0.614      0.539      -4.496       2.351\n",
      "------------------------------------------------------------------------------\n",
      "    prog=3       coef    std err          z      P>|z|      [0.025      0.975]\n",
      "------------------------------------------------------------------------------\n",
      "math           0.1181      0.042      2.797      0.005       0.035       0.201\n",
      "2              5.4410      1.237      4.399      0.000       3.017       7.865\n",
      "3              6.7918      1.486      4.570      0.000       3.879       9.705\n",
      "const         -9.3380      2.542     -3.674      0.000     -14.319      -4.357\n",
      "==============================================================================\n"
     ]
    }
   ],
   "source": [
    "mod1 = sm.MNLogit(y_train,x_train).fit()\n",
    "print(mod1.summary())"
   ]
  },
  {
   "cell_type": "markdown",
   "id": "01a16ec9-5045-424f-b96b-33abd53053b4",
   "metadata": {},
   "source": [
    "- prog 1 is refrence event\n",
    "- ses 1 is refrence event\n"
   ]
  },
  {
   "cell_type": "raw",
   "id": "fd92fd73-971d-4589-8cb7-b5fa001c0ed5",
   "metadata": {},
   "source": [
    "Prog = 2:\n",
    "Ho(math) = Math score does not influence choice between prog 1 & prog 2.\n",
    "Ho not rejected that means math score does not influence choice between prog 1 & prog 2.\n",
    "\n",
    "Ho(ses_2) = when ses changes from 1 to 2 , it does not influence choice between prog 1 & prog 2.\n",
    "Ho is rejected --> When ses from 1 refernce lvl 1 to target lvl 2 , so log of odd ratio  increase from reference value (prog 1) to target value (prog 2).\n",
    "\n",
    "ho(ses_3) = when ses changes from 1 to 3 , it does not influence choice between prog 1 & prog 2.\n",
    "Ho is rejected --> When ses changes from 1 reference lvl 1 to target lvl 3 , so log of odd ratio increase from reference value(prog 1) to target value (prog 2).\n",
    "\n",
    "Prog = 3:\n",
    "Ho(math) = Math score does not influence choice between prog 1 & prog 3.\n",
    "Ho rejected that means math score influence choice between prog 1 to prog 3.\n",
    "\n",
    "Ho(ses_2) = when ses changes from 1 to 2 , it does not influence choice between prog 1 & prog 3.\n",
    "Ho is rejected --> When ses from 1 refernce lvl 1 to target lvl 2 , so log of odd ratio  increase from reference value (prog 1) to target value (prog 3).\n",
    "\n",
    "Ho(ses_3) = when ses changes from 1 to 2 , it does not influence choice between prog 1 & prog 3.\n",
    "Ho is rejected --> When ses changes from 1 reference lvl 1 to target lvl 3 , so log of odd ratio increase from reference value(prog 1) to target value (prog 3)."
   ]
  },
  {
   "cell_type": "code",
   "execution_count": 302,
   "id": "e84a09c8-35b6-48a1-b386-19600965e0af",
   "metadata": {},
   "outputs": [
    {
     "data": {
      "text/html": [
       "<div>\n",
       "<style scoped>\n",
       "    .dataframe tbody tr th:only-of-type {\n",
       "        vertical-align: middle;\n",
       "    }\n",
       "\n",
       "    .dataframe tbody tr th {\n",
       "        vertical-align: top;\n",
       "    }\n",
       "\n",
       "    .dataframe thead th {\n",
       "        text-align: right;\n",
       "    }\n",
       "</style>\n",
       "<table border=\"1\" class=\"dataframe\">\n",
       "  <thead>\n",
       "    <tr style=\"text-align: right;\">\n",
       "      <th></th>\n",
       "      <th>0</th>\n",
       "      <th>1</th>\n",
       "      <th>2</th>\n",
       "    </tr>\n",
       "  </thead>\n",
       "  <tbody>\n",
       "    <tr>\n",
       "      <th>0</th>\n",
       "      <td>0.478186</td>\n",
       "      <td>0.358071</td>\n",
       "      <td>0.163743</td>\n",
       "    </tr>\n",
       "    <tr>\n",
       "      <th>1</th>\n",
       "      <td>0.010134</td>\n",
       "      <td>0.189431</td>\n",
       "      <td>0.800436</td>\n",
       "    </tr>\n",
       "    <tr>\n",
       "      <th>2</th>\n",
       "      <td>0.003176</td>\n",
       "      <td>0.028174</td>\n",
       "      <td>0.968650</td>\n",
       "    </tr>\n",
       "  </tbody>\n",
       "</table>\n",
       "</div>"
      ],
      "text/plain": [
       "          0         1         2\n",
       "0  0.478186  0.358071  0.163743\n",
       "1  0.010134  0.189431  0.800436\n",
       "2  0.003176  0.028174  0.968650"
      ]
     },
     "execution_count": 302,
     "metadata": {},
     "output_type": "execute_result"
    }
   ],
   "source": [
    "mydata = pd.DataFrame([[70,0,0,1],[70,1,0,1],[70,0,1,1]])\n",
    "mod1.predict(mydata)"
   ]
  },
  {
   "cell_type": "code",
   "execution_count": 303,
   "id": "b418805b-183f-443d-8120-0412717f9c2e",
   "metadata": {},
   "outputs": [
    {
     "data": {
      "text/html": [
       "<div>\n",
       "<style scoped>\n",
       "    .dataframe tbody tr th:only-of-type {\n",
       "        vertical-align: middle;\n",
       "    }\n",
       "\n",
       "    .dataframe tbody tr th {\n",
       "        vertical-align: top;\n",
       "    }\n",
       "\n",
       "    .dataframe thead th {\n",
       "        text-align: right;\n",
       "    }\n",
       "</style>\n",
       "<table border=\"1\" class=\"dataframe\">\n",
       "  <thead>\n",
       "    <tr style=\"text-align: right;\">\n",
       "      <th></th>\n",
       "      <th>0</th>\n",
       "      <th>1</th>\n",
       "      <th>2</th>\n",
       "    </tr>\n",
       "  </thead>\n",
       "  <tbody>\n",
       "    <tr>\n",
       "      <th>0</th>\n",
       "      <td>0.563490</td>\n",
       "      <td>0.377273</td>\n",
       "      <td>0.059237</td>\n",
       "    </tr>\n",
       "    <tr>\n",
       "      <th>1</th>\n",
       "      <td>0.478186</td>\n",
       "      <td>0.358071</td>\n",
       "      <td>0.163743</td>\n",
       "    </tr>\n",
       "    <tr>\n",
       "      <th>2</th>\n",
       "      <td>0.256494</td>\n",
       "      <td>0.227172</td>\n",
       "      <td>0.516334</td>\n",
       "    </tr>\n",
       "  </tbody>\n",
       "</table>\n",
       "</div>"
      ],
      "text/plain": [
       "          0         1         2\n",
       "0  0.563490  0.377273  0.059237\n",
       "1  0.478186  0.358071  0.163743\n",
       "2  0.256494  0.227172  0.516334"
      ]
     },
     "execution_count": 303,
     "metadata": {},
     "output_type": "execute_result"
    }
   ],
   "source": [
    "mydata = pd.DataFrame([[60,0,0,1],[70,0,0,1],[85,0,0,1]])\n",
    "mod1.predict(mydata)"
   ]
  },
  {
   "cell_type": "markdown",
   "id": "c7441ebe-ec8c-46d4-8ada-61cd9e04aebf",
   "metadata": {
    "jp-MarkdownHeadingCollapsed": true
   },
   "source": [
    "## Ordinal Logistic Regression\n",
    "- In ordinal we don't need to add constant"
   ]
  },
  {
   "cell_type": "code",
   "execution_count": 304,
   "id": "f1025bd5-c50f-456f-963a-b7b075dd7687",
   "metadata": {},
   "outputs": [],
   "source": [
    "df_ord = pd.read_excel('CDAC_DataBook.xlsx',sheet_name='ordinal')"
   ]
  },
  {
   "cell_type": "code",
   "execution_count": 305,
   "id": "e15f8ed5-f5ea-4343-8b7e-dac66fe42dd2",
   "metadata": {},
   "outputs": [],
   "source": [
    "region_dum = pd.get_dummies(df_ord.Region,drop_first=True,prefix='region').astype(int)"
   ]
  },
  {
   "cell_type": "code",
   "execution_count": 306,
   "id": "bd721de5-c069-4956-a4ac-261df8ec4bfa",
   "metadata": {},
   "outputs": [],
   "source": [
    "df_ord = df_ord.drop('Region',axis=1)"
   ]
  },
  {
   "cell_type": "code",
   "execution_count": 307,
   "id": "ca0f8ae3-b827-4d96-b8ad-e2ed4a3f2918",
   "metadata": {},
   "outputs": [],
   "source": [
    "df_ord = pd.concat([df_ord,region_dum],axis=1)"
   ]
  },
  {
   "cell_type": "code",
   "execution_count": 308,
   "id": "87f13fc4-850c-471e-812c-b446a6cb7f6e",
   "metadata": {},
   "outputs": [
    {
     "data": {
      "text/html": [
       "<div>\n",
       "<style scoped>\n",
       "    .dataframe tbody tr th:only-of-type {\n",
       "        vertical-align: middle;\n",
       "    }\n",
       "\n",
       "    .dataframe tbody tr th {\n",
       "        vertical-align: top;\n",
       "    }\n",
       "\n",
       "    .dataframe thead th {\n",
       "        text-align: right;\n",
       "    }\n",
       "</style>\n",
       "<table border=\"1\" class=\"dataframe\">\n",
       "  <thead>\n",
       "    <tr style=\"text-align: right;\">\n",
       "      <th></th>\n",
       "      <th>Survival</th>\n",
       "      <th>ToxicLevel</th>\n",
       "      <th>region_2</th>\n",
       "    </tr>\n",
       "  </thead>\n",
       "  <tbody>\n",
       "    <tr>\n",
       "      <th>0</th>\n",
       "      <td>1</td>\n",
       "      <td>62.0</td>\n",
       "      <td>0</td>\n",
       "    </tr>\n",
       "    <tr>\n",
       "      <th>1</th>\n",
       "      <td>1</td>\n",
       "      <td>46.0</td>\n",
       "      <td>1</td>\n",
       "    </tr>\n",
       "    <tr>\n",
       "      <th>2</th>\n",
       "      <td>2</td>\n",
       "      <td>48.5</td>\n",
       "      <td>0</td>\n",
       "    </tr>\n",
       "    <tr>\n",
       "      <th>3</th>\n",
       "      <td>3</td>\n",
       "      <td>32.0</td>\n",
       "      <td>1</td>\n",
       "    </tr>\n",
       "    <tr>\n",
       "      <th>4</th>\n",
       "      <td>2</td>\n",
       "      <td>63.5</td>\n",
       "      <td>0</td>\n",
       "    </tr>\n",
       "  </tbody>\n",
       "</table>\n",
       "</div>"
      ],
      "text/plain": [
       "   Survival  ToxicLevel  region_2\n",
       "0         1        62.0         0\n",
       "1         1        46.0         1\n",
       "2         2        48.5         0\n",
       "3         3        32.0         1\n",
       "4         2        63.5         0"
      ]
     },
     "execution_count": 308,
     "metadata": {},
     "output_type": "execute_result"
    }
   ],
   "source": [
    "df_ord.head()"
   ]
  },
  {
   "cell_type": "code",
   "execution_count": 309,
   "id": "8b31d0ce-497b-451f-aad8-afb0d77a6d36",
   "metadata": {},
   "outputs": [],
   "source": [
    "x_train, x_test, y_train, y_test = train_test_split(df_ord.drop(\"Survival\",axis=1),df_ord.Survival, test_size=0.2,random_state=20)\n"
   ]
  },
  {
   "cell_type": "code",
   "execution_count": 310,
   "id": "b51e939b-b526-4214-93c7-1d4cf16c151b",
   "metadata": {},
   "outputs": [
    {
     "name": "stdout",
     "output_type": "stream",
     "text": [
      "Optimization terminated successfully.\n",
      "         Current function value: 0.844881\n",
      "         Iterations: 190\n",
      "         Function evaluations: 326\n",
      "                             OrderedModel Results                             \n",
      "==============================================================================\n",
      "Dep. Variable:               Survival   Log-Likelihood:                -49.003\n",
      "Model:                   OrderedModel   AIC:                             106.0\n",
      "Method:            Maximum Likelihood   BIC:                             114.2\n",
      "Date:                Sat, 21 Dec 2024                                         \n",
      "Time:                        14:46:36                                         \n",
      "No. Observations:                  58                                         \n",
      "Df Residuals:                      54                                         \n",
      "Df Model:                           2                                         \n",
      "==============================================================================\n",
      "                 coef    std err          z      P>|z|      [0.025      0.975]\n",
      "------------------------------------------------------------------------------\n",
      "ToxicLevel    -0.0697      0.020     -3.534      0.000      -0.108      -0.031\n",
      "region_2      -0.4037      0.314     -1.285      0.199      -1.020       0.212\n",
      "1/2           -4.2309      0.983     -4.303      0.000      -6.158      -2.304\n",
      "2/3            0.6615      0.146      4.545      0.000       0.376       0.947\n",
      "==============================================================================\n"
     ]
    }
   ],
   "source": [
    "mod2 = OrderedModel(y_train,x_train).fit()\n",
    "print(mod2.summary())"
   ]
  },
  {
   "cell_type": "raw",
   "id": "1ed5b0be-985e-44cd-821a-3415b1231bb9",
   "metadata": {},
   "source": [
    "Ho(Toxiclevel) --> Toxic level does not influence choice of survival\n",
    "So Ho is rejected = When Toxic level decrease then the probability of survival level 3 will increases.\n",
    "\n",
    "Ho(Region_2) --> When region changes from 1 to 2 so it does not influence choice of survival.\n",
    "So Ho is not rejected == When region changes from 1 to 2 it does not influence choice of survival\n",
    "\n",
    "1/2 --> It tells whether the diff between survival 1 and 2 is significant. "
   ]
  },
  {
   "cell_type": "markdown",
   "id": "f3cf4ce8-dd80-46ae-bd0b-b7382696e627",
   "metadata": {},
   "source": [
    "## Poission Regression\n",
    "- when the variation in the counts is less."
   ]
  },
  {
   "cell_type": "code",
   "execution_count": 317,
   "id": "11820b9d-8627-4840-94aa-0a5dd566c954",
   "metadata": {},
   "outputs": [],
   "source": [
    "df_poi = pd.read_excel('CDAC_DataBook.xlsx',sheet_name='poisson')"
   ]
  },
  {
   "cell_type": "code",
   "execution_count": 313,
   "id": "46905bb0-700b-49b0-8301-1dc1304f08e2",
   "metadata": {},
   "outputs": [
    {
     "data": {
      "text/html": [
       "<div>\n",
       "<style scoped>\n",
       "    .dataframe tbody tr th:only-of-type {\n",
       "        vertical-align: middle;\n",
       "    }\n",
       "\n",
       "    .dataframe tbody tr th {\n",
       "        vertical-align: top;\n",
       "    }\n",
       "\n",
       "    .dataframe thead th {\n",
       "        text-align: right;\n",
       "    }\n",
       "</style>\n",
       "<table border=\"1\" class=\"dataframe\">\n",
       "  <thead>\n",
       "    <tr style=\"text-align: right;\">\n",
       "      <th></th>\n",
       "      <th>num_awards</th>\n",
       "      <th>prog</th>\n",
       "      <th>math</th>\n",
       "    </tr>\n",
       "  </thead>\n",
       "  <tbody>\n",
       "    <tr>\n",
       "      <th>0</th>\n",
       "      <td>0</td>\n",
       "      <td>3</td>\n",
       "      <td>41</td>\n",
       "    </tr>\n",
       "    <tr>\n",
       "      <th>1</th>\n",
       "      <td>0</td>\n",
       "      <td>1</td>\n",
       "      <td>41</td>\n",
       "    </tr>\n",
       "    <tr>\n",
       "      <th>2</th>\n",
       "      <td>0</td>\n",
       "      <td>3</td>\n",
       "      <td>44</td>\n",
       "    </tr>\n",
       "    <tr>\n",
       "      <th>3</th>\n",
       "      <td>0</td>\n",
       "      <td>3</td>\n",
       "      <td>42</td>\n",
       "    </tr>\n",
       "    <tr>\n",
       "      <th>4</th>\n",
       "      <td>0</td>\n",
       "      <td>3</td>\n",
       "      <td>40</td>\n",
       "    </tr>\n",
       "  </tbody>\n",
       "</table>\n",
       "</div>"
      ],
      "text/plain": [
       "   num_awards  prog  math\n",
       "0           0     3    41\n",
       "1           0     1    41\n",
       "2           0     3    44\n",
       "3           0     3    42\n",
       "4           0     3    40"
      ]
     },
     "execution_count": 313,
     "metadata": {},
     "output_type": "execute_result"
    }
   ],
   "source": [
    "df_poi.head()"
   ]
  },
  {
   "cell_type": "code",
   "execution_count": 318,
   "id": "959eaaeb-d8ba-4a64-b971-9263dd22d795",
   "metadata": {},
   "outputs": [],
   "source": [
    "prog_dum = pd.get_dummies(df_poi.prog,prefix = 'prog',drop_first=True).astype(int)\n",
    "df_poi = df_poi.drop('prog',axis=1)\n",
    "df_poi = pd.concat([df_poi,prog_dum],axis=1)"
   ]
  },
  {
   "cell_type": "code",
   "execution_count": 319,
   "id": "e497045e-d410-4faf-b4be-03ee8994e3ee",
   "metadata": {},
   "outputs": [
    {
     "data": {
      "text/html": [
       "<div>\n",
       "<style scoped>\n",
       "    .dataframe tbody tr th:only-of-type {\n",
       "        vertical-align: middle;\n",
       "    }\n",
       "\n",
       "    .dataframe tbody tr th {\n",
       "        vertical-align: top;\n",
       "    }\n",
       "\n",
       "    .dataframe thead th {\n",
       "        text-align: right;\n",
       "    }\n",
       "</style>\n",
       "<table border=\"1\" class=\"dataframe\">\n",
       "  <thead>\n",
       "    <tr style=\"text-align: right;\">\n",
       "      <th></th>\n",
       "      <th>num_awards</th>\n",
       "      <th>math</th>\n",
       "      <th>prog_2</th>\n",
       "      <th>prog_3</th>\n",
       "    </tr>\n",
       "  </thead>\n",
       "  <tbody>\n",
       "    <tr>\n",
       "      <th>0</th>\n",
       "      <td>0</td>\n",
       "      <td>41</td>\n",
       "      <td>0</td>\n",
       "      <td>1</td>\n",
       "    </tr>\n",
       "    <tr>\n",
       "      <th>1</th>\n",
       "      <td>0</td>\n",
       "      <td>41</td>\n",
       "      <td>0</td>\n",
       "      <td>0</td>\n",
       "    </tr>\n",
       "    <tr>\n",
       "      <th>2</th>\n",
       "      <td>0</td>\n",
       "      <td>44</td>\n",
       "      <td>0</td>\n",
       "      <td>1</td>\n",
       "    </tr>\n",
       "    <tr>\n",
       "      <th>3</th>\n",
       "      <td>0</td>\n",
       "      <td>42</td>\n",
       "      <td>0</td>\n",
       "      <td>1</td>\n",
       "    </tr>\n",
       "    <tr>\n",
       "      <th>4</th>\n",
       "      <td>0</td>\n",
       "      <td>40</td>\n",
       "      <td>0</td>\n",
       "      <td>1</td>\n",
       "    </tr>\n",
       "  </tbody>\n",
       "</table>\n",
       "</div>"
      ],
      "text/plain": [
       "   num_awards  math  prog_2  prog_3\n",
       "0           0    41       0       1\n",
       "1           0    41       0       0\n",
       "2           0    44       0       1\n",
       "3           0    42       0       1\n",
       "4           0    40       0       1"
      ]
     },
     "execution_count": 319,
     "metadata": {},
     "output_type": "execute_result"
    }
   ],
   "source": [
    "df_poi.head()"
   ]
  },
  {
   "cell_type": "code",
   "execution_count": 320,
   "id": "cfca4d72-9eee-45d2-ab77-00bf49cae2db",
   "metadata": {},
   "outputs": [],
   "source": [
    "x_train, x_test, y_train, y_test = train_test_split(df_poi.drop(\"num_awards\",axis=1),df_poi.num_awards, test_size=0.2,random_state=20)"
   ]
  },
  {
   "cell_type": "code",
   "execution_count": 321,
   "id": "559943df-ca2a-4a73-9740-ed84ecc78ea7",
   "metadata": {},
   "outputs": [],
   "source": [
    "x_train = sm.add_constant(x_train,prepend=False)"
   ]
  },
  {
   "cell_type": "code",
   "execution_count": 325,
   "id": "703551c4-8855-47db-a0eb-f2c0837881cf",
   "metadata": {},
   "outputs": [],
   "source": [
    "df_train = pd.concat([x_train,y_train],axis=1)"
   ]
  },
  {
   "cell_type": "code",
   "execution_count": 328,
   "id": "8ab6c2a7-14e5-4f27-be89-07139ad04f3e",
   "metadata": {},
   "outputs": [
    {
     "data": {
      "text/html": [
       "<div>\n",
       "<style scoped>\n",
       "    .dataframe tbody tr th:only-of-type {\n",
       "        vertical-align: middle;\n",
       "    }\n",
       "\n",
       "    .dataframe tbody tr th {\n",
       "        vertical-align: top;\n",
       "    }\n",
       "\n",
       "    .dataframe thead th {\n",
       "        text-align: right;\n",
       "    }\n",
       "</style>\n",
       "<table border=\"1\" class=\"dataframe\">\n",
       "  <thead>\n",
       "    <tr style=\"text-align: right;\">\n",
       "      <th></th>\n",
       "      <th>math</th>\n",
       "      <th>prog_2</th>\n",
       "      <th>prog_3</th>\n",
       "      <th>const</th>\n",
       "      <th>num_awards</th>\n",
       "    </tr>\n",
       "  </thead>\n",
       "  <tbody>\n",
       "    <tr>\n",
       "      <th>152</th>\n",
       "      <td>51</td>\n",
       "      <td>1</td>\n",
       "      <td>0</td>\n",
       "      <td>1.0</td>\n",
       "      <td>0</td>\n",
       "    </tr>\n",
       "    <tr>\n",
       "      <th>67</th>\n",
       "      <td>49</td>\n",
       "      <td>1</td>\n",
       "      <td>0</td>\n",
       "      <td>1.0</td>\n",
       "      <td>0</td>\n",
       "    </tr>\n",
       "    <tr>\n",
       "      <th>133</th>\n",
       "      <td>57</td>\n",
       "      <td>1</td>\n",
       "      <td>0</td>\n",
       "      <td>1.0</td>\n",
       "      <td>0</td>\n",
       "    </tr>\n",
       "    <tr>\n",
       "      <th>59</th>\n",
       "      <td>54</td>\n",
       "      <td>0</td>\n",
       "      <td>0</td>\n",
       "      <td>1.0</td>\n",
       "      <td>0</td>\n",
       "    </tr>\n",
       "    <tr>\n",
       "      <th>63</th>\n",
       "      <td>40</td>\n",
       "      <td>0</td>\n",
       "      <td>1</td>\n",
       "      <td>1.0</td>\n",
       "      <td>1</td>\n",
       "    </tr>\n",
       "  </tbody>\n",
       "</table>\n",
       "</div>"
      ],
      "text/plain": [
       "     math  prog_2  prog_3  const  num_awards\n",
       "152    51       1       0    1.0           0\n",
       "67     49       1       0    1.0           0\n",
       "133    57       1       0    1.0           0\n",
       "59     54       0       0    1.0           0\n",
       "63     40       0       1    1.0           1"
      ]
     },
     "execution_count": 328,
     "metadata": {},
     "output_type": "execute_result"
    }
   ],
   "source": [
    "df_train.head()"
   ]
  },
  {
   "cell_type": "code",
   "execution_count": 326,
   "id": "7f3d57f0-1411-478e-b3f6-fd304c7a4426",
   "metadata": {},
   "outputs": [
    {
     "name": "stdout",
     "output_type": "stream",
     "text": [
      "Optimization terminated successfully.\n",
      "         Current function value: 0.871654\n",
      "         Iterations 6\n"
     ]
    }
   ],
   "source": [
    "mod1 = psn.from_formula('num_awards ~ math+prog_2 + prog_3',data=df_train).fit()"
   ]
  },
  {
   "cell_type": "code",
   "execution_count": 327,
   "id": "99cf107f-1e8e-4097-ab90-feca7157ff3f",
   "metadata": {},
   "outputs": [
    {
     "name": "stdout",
     "output_type": "stream",
     "text": [
      "                          Poisson Regression Results                          \n",
      "==============================================================================\n",
      "Dep. Variable:             num_awards   No. Observations:                  160\n",
      "Model:                        Poisson   Df Residuals:                      156\n",
      "Method:                           MLE   Df Model:                            3\n",
      "Date:                Sat, 21 Dec 2024   Pseudo R-squ.:                  0.1865\n",
      "Time:                        17:45:19   Log-Likelihood:                -139.46\n",
      "converged:                       True   LL-Null:                       -171.44\n",
      "Covariance Type:            nonrobust   LLR p-value:                 8.447e-14\n",
      "==============================================================================\n",
      "                 coef    std err          z      P>|z|      [0.025      0.975]\n",
      "------------------------------------------------------------------------------\n",
      "Intercept     -5.0741      0.780     -6.503      0.000      -6.603      -3.545\n",
      "math           0.0661      0.013      5.154      0.000       0.041       0.091\n",
      "prog_2         1.1048      0.407      2.711      0.007       0.306       1.903\n",
      "prog_3         0.3667      0.506      0.724      0.469      -0.626       1.359\n",
      "==============================================================================\n"
     ]
    }
   ],
   "source": [
    "print(mod1.summary())"
   ]
  },
  {
   "cell_type": "raw",
   "id": "0cddb381-029a-4d69-bc34-f25c7697fbd9",
   "metadata": {},
   "source": [
    "Ho(maths) = Math does not influence num_awards.\n",
    "So Ho is rejected ---> When math increase then the probability of getting num_awards increase\n",
    "\n",
    "Ho(prog_2) = Prog_2 does not influence on num_awards.\n",
    "So ho is rejected ---> When prog changes from 1 to 2 then the probability of getting  num_awards increases.\n",
    "\n",
    "Ho(prog_2) = Prog_3 does not influence on num_awards.\n",
    "So ho is not rejected "
   ]
  },
  {
   "cell_type": "markdown",
   "id": "f040e372-479b-4557-be6e-d28148d782e5",
   "metadata": {},
   "source": [
    "## Negative Binomial \n",
    "- When the variation in the counts is more."
   ]
  },
  {
   "cell_type": "code",
   "execution_count": 349,
   "id": "6ea53cde-0a4e-40a3-93b9-119b031439f4",
   "metadata": {},
   "outputs": [],
   "source": [
    "df_neg = pd.read_excel('CDAC_DataBook.xlsx',sheet_name='neg_bin')"
   ]
  },
  {
   "cell_type": "code",
   "execution_count": 331,
   "id": "3771c8db-fba1-4e95-8446-6132189fa794",
   "metadata": {},
   "outputs": [
    {
     "data": {
      "text/html": [
       "<div>\n",
       "<style scoped>\n",
       "    .dataframe tbody tr th:only-of-type {\n",
       "        vertical-align: middle;\n",
       "    }\n",
       "\n",
       "    .dataframe tbody tr th {\n",
       "        vertical-align: top;\n",
       "    }\n",
       "\n",
       "    .dataframe thead th {\n",
       "        text-align: right;\n",
       "    }\n",
       "</style>\n",
       "<table border=\"1\" class=\"dataframe\">\n",
       "  <thead>\n",
       "    <tr style=\"text-align: right;\">\n",
       "      <th></th>\n",
       "      <th>math</th>\n",
       "      <th>prog</th>\n",
       "      <th>daysabs</th>\n",
       "    </tr>\n",
       "  </thead>\n",
       "  <tbody>\n",
       "    <tr>\n",
       "      <th>0</th>\n",
       "      <td>63</td>\n",
       "      <td>Academic</td>\n",
       "      <td>4</td>\n",
       "    </tr>\n",
       "    <tr>\n",
       "      <th>1</th>\n",
       "      <td>27</td>\n",
       "      <td>Academic</td>\n",
       "      <td>4</td>\n",
       "    </tr>\n",
       "    <tr>\n",
       "      <th>2</th>\n",
       "      <td>20</td>\n",
       "      <td>Academic</td>\n",
       "      <td>2</td>\n",
       "    </tr>\n",
       "    <tr>\n",
       "      <th>3</th>\n",
       "      <td>16</td>\n",
       "      <td>Academic</td>\n",
       "      <td>3</td>\n",
       "    </tr>\n",
       "    <tr>\n",
       "      <th>4</th>\n",
       "      <td>2</td>\n",
       "      <td>Academic</td>\n",
       "      <td>3</td>\n",
       "    </tr>\n",
       "  </tbody>\n",
       "</table>\n",
       "</div>"
      ],
      "text/plain": [
       "   math      prog  daysabs\n",
       "0    63  Academic        4\n",
       "1    27  Academic        4\n",
       "2    20  Academic        2\n",
       "3    16  Academic        3\n",
       "4     2  Academic        3"
      ]
     },
     "execution_count": 331,
     "metadata": {},
     "output_type": "execute_result"
    }
   ],
   "source": [
    "df_neg.head()"
   ]
  },
  {
   "cell_type": "code",
   "execution_count": 333,
   "id": "d2beb6c2-7a36-4c21-9459-24859da0f768",
   "metadata": {},
   "outputs": [
    {
     "data": {
      "text/plain": [
       "array(['Academic', 'Vocational', 'General'], dtype=object)"
      ]
     },
     "execution_count": 333,
     "metadata": {},
     "output_type": "execute_result"
    }
   ],
   "source": [
    "df_neg.prog.unique()"
   ]
  },
  {
   "cell_type": "code",
   "execution_count": 350,
   "id": "594e8e29-f106-4d76-8779-2bfa8b89f139",
   "metadata": {},
   "outputs": [],
   "source": [
    "prog_dum = pd.get_dummies(df_neg.prog,prefix='Prog',drop_first=True).astype(int)"
   ]
  },
  {
   "cell_type": "code",
   "execution_count": 351,
   "id": "e7b3aaeb-86a4-4821-bfa6-45ea7b405e7b",
   "metadata": {},
   "outputs": [],
   "source": [
    "df_neg = df_neg.drop('prog',axis=1)"
   ]
  },
  {
   "cell_type": "code",
   "execution_count": 352,
   "id": "27d18b74-3425-40d9-858d-4688185748fa",
   "metadata": {},
   "outputs": [],
   "source": [
    "df_neg = pd.concat([df_neg,prog_dum],axis=1)"
   ]
  },
  {
   "cell_type": "code",
   "execution_count": 353,
   "id": "ad8147c1-8205-47a7-9821-2382da85991f",
   "metadata": {},
   "outputs": [],
   "source": [
    "x= df_neg.drop('daysabs',axis=1)"
   ]
  },
  {
   "cell_type": "code",
   "execution_count": 354,
   "id": "5a69a82d-bb8a-45cf-a51f-5e0ba8157e14",
   "metadata": {},
   "outputs": [],
   "source": [
    "y = df_neg.daysabs"
   ]
  },
  {
   "cell_type": "code",
   "execution_count": 355,
   "id": "6ec81a71-72eb-4b97-a432-6cb8defa2121",
   "metadata": {},
   "outputs": [],
   "source": [
    "x_train, x_test, y_train, y_test = train_test_split(x,y, test_size=0.2,random_state=20)"
   ]
  },
  {
   "cell_type": "code",
   "execution_count": 356,
   "id": "96d58dc8-6e4d-40f1-875f-31148fe04c0d",
   "metadata": {},
   "outputs": [],
   "source": [
    "x_train = sm.add_constant(x_train,prepend=False)"
   ]
  },
  {
   "cell_type": "code",
   "execution_count": 357,
   "id": "57cb2164-13a9-40ce-9b29-c5e9d4bf434e",
   "metadata": {},
   "outputs": [],
   "source": [
    "train_set = pd.concat([x_train,y_train],axis=1)"
   ]
  },
  {
   "cell_type": "code",
   "execution_count": 360,
   "id": "fcb1a813-0596-42e0-9356-1dab934ed3ed",
   "metadata": {},
   "outputs": [
    {
     "name": "stdout",
     "output_type": "stream",
     "text": [
      "Optimization terminated successfully.\n",
      "         Current function value: 2.819371\n",
      "         Iterations: 19\n",
      "         Function evaluations: 26\n",
      "         Gradient evaluations: 26\n",
      "                     NegativeBinomial Regression Results                      \n",
      "==============================================================================\n",
      "Dep. Variable:                daysabs   No. Observations:                  251\n",
      "Model:               NegativeBinomial   Df Residuals:                      247\n",
      "Method:                           MLE   Df Model:                            3\n",
      "Date:                Mon, 23 Dec 2024   Pseudo R-squ.:                 0.03229\n",
      "Time:                        09:29:24   Log-Likelihood:                -707.66\n",
      "converged:                       True   LL-Null:                       -731.28\n",
      "Covariance Type:            nonrobust   LLR p-value:                 3.104e-10\n",
      "===================================================================================\n",
      "                      coef    std err          z      P>|z|      [0.025      0.975]\n",
      "-----------------------------------------------------------------------------------\n",
      "Intercept           2.2587      0.144     15.644      0.000       1.976       2.542\n",
      "math               -0.0070      0.003     -2.506      0.012      -0.012      -0.002\n",
      "Prog_General        0.3942      0.198      1.989      0.047       0.006       0.783\n",
      "Prog_Vocational    -0.7389      0.160     -4.616      0.000      -1.053      -0.425\n",
      "alpha               0.9326      0.106      8.811      0.000       0.725       1.140\n",
      "===================================================================================\n"
     ]
    }
   ],
   "source": [
    "mod1 = ngb.from_formula('daysabs ~ math + Prog_General + Prog_Vocational', data=train_set).fit()\n",
    "print(mod1.summary())"
   ]
  },
  {
   "cell_type": "raw",
   "id": "5e24f1b4-0b07-4588-9cc2-1185c7f7eaa3",
   "metadata": {},
   "source": [
    "Ho(math) --> Math does not influence daysabs.\n",
    "So Ho is rejected --> So math influence daysabs means when math increase0 then the probability of daysabs decreases.\n",
    "\n",
    "Ho(Prog_General) --> When Prog changes from Acadamic to General does not influence daysabs.\n",
    "So Ho is rejected --> When there is change from acadamic to general then the probability of daysbas increases.\n",
    "\n",
    "Ho(Porg_Vocational) -->  When Prog changes from Acadamic to Vocational does not influence daysabs. \n",
    "So Ho is rejected --> When there is change from acadamic to Vocational then the probability of daysbas decreases."
   ]
  },
  {
   "cell_type": "code",
   "execution_count": null,
   "id": "6083ee54-06d1-4a5c-b83d-50b6290aadcc",
   "metadata": {},
   "outputs": [],
   "source": []
  }
 ],
 "metadata": {
  "kernelspec": {
   "display_name": "Python 3 (ipykernel)",
   "language": "python",
   "name": "python3"
  },
  "language_info": {
   "codemirror_mode": {
    "name": "ipython",
    "version": 3
   },
   "file_extension": ".py",
   "mimetype": "text/x-python",
   "name": "python",
   "nbconvert_exporter": "python",
   "pygments_lexer": "ipython3",
   "version": "3.12.4"
  }
 },
 "nbformat": 4,
 "nbformat_minor": 5
}
