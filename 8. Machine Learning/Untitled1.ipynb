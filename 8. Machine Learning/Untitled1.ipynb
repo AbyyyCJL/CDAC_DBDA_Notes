{
 "cells": [
  {
   "cell_type": "code",
   "execution_count": null,
   "id": "6880bf44-c1a9-4cdb-b673-7277133b01a4",
   "metadata": {},
   "outputs": [],
   "source": []
  },
  {
   "cell_type": "code",
   "execution_count": 39,
   "id": "fed4f58c-5db1-4d65-8515-d1b64bd17769",
   "metadata": {},
   "outputs": [
    {
     "name": "stdout",
     "output_type": "stream",
     "text": [
      "0\n"
     ]
    }
   ],
   "source": [
    "nums = [-100000,100000]\n",
    "count = 0\n",
    "addn = sum(nums)\n",
    "\n",
    "for i in range(len(nums)):\n",
    "    if abs(sum(nums[:i])) < abs(addn - sum(nums[:i])):  \n",
    "        count += 1\n",
    "        \n",
    "\n",
    "print(count)"
   ]
  },
  {
   "cell_type": "code",
   "execution_count": null,
   "id": "9dcde7bb-f949-4e59-90a7-dda9b5a73faa",
   "metadata": {},
   "outputs": [],
   "source": []
  }
 ],
 "metadata": {
  "kernelspec": {
   "display_name": "Python 3 (ipykernel)",
   "language": "python",
   "name": "python3"
  },
  "language_info": {
   "codemirror_mode": {
    "name": "ipython",
    "version": 3
   },
   "file_extension": ".py",
   "mimetype": "text/x-python",
   "name": "python",
   "nbconvert_exporter": "python",
   "pygments_lexer": "ipython3",
   "version": "3.12.4"
  }
 },
 "nbformat": 4,
 "nbformat_minor": 5
}
