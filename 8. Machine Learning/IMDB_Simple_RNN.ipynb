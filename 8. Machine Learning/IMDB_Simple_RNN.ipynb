{
 "cells": [
  {
   "cell_type": "code",
   "execution_count": 55,
   "id": "b94bbf12-8d2c-459b-a0db-012bb10ddccb",
   "metadata": {},
   "outputs": [],
   "source": [
    "from keras.datasets import imdb\n",
    "from keras.models import Sequential\n",
    "from keras.layers import Embedding, SimpleRNN, Dense\n",
    "from keras.preprocessing.sequence import pad_sequences\n",
    "import numpy as np"
   ]
  },
  {
   "cell_type": "code",
   "execution_count": 56,
   "id": "525a6a5d-8f7a-4364-bb33-d49a1e95ae3e",
   "metadata": {},
   "outputs": [],
   "source": [
    "(x_train, y_train), (x_test, y_test) = imdb.load_data(num_words=10000) #vocabulary size"
   ]
  },
  {
   "cell_type": "code",
   "execution_count": 57,
   "id": "287b6f5a-cc30-45af-803e-78aafde46f46",
   "metadata": {},
   "outputs": [
    {
     "name": "stdout",
     "output_type": "stream",
     "text": [
      "Training samples: 25000\n",
      "Testing samples: 25000\n",
      "First review (encoded): [1, 194, 1153, 194, 8255, 78, 228, 5, 6, 1463, 4369, 5012, 134, 26, 4, 715, 8, 118, 1634, 14, 394, 20, 13, 119, 954, 189, 102, 5, 207, 110, 3103, 21, 14, 69, 188, 8, 30, 23, 7, 4, 249, 126, 93, 4, 114, 9, 2300, 1523, 5, 647, 4, 116, 9, 35, 8163, 4, 229, 9, 340, 1322, 4, 118, 9, 4, 130, 4901, 19, 4, 1002, 5, 89, 29, 952, 46, 37, 4, 455, 9, 45, 43, 38, 1543, 1905, 398, 4, 1649, 26, 6853, 5, 163, 11, 3215, 2, 4, 1153, 9, 194, 775, 7, 8255, 2, 349, 2637, 148, 605, 2, 8003, 15, 123, 125, 68, 2, 6853, 15, 349, 165, 4362, 98, 5, 4, 228, 9, 43, 2, 1157, 15, 299, 120, 5, 120, 174, 11, 220, 175, 136, 50, 9, 4373, 228, 8255, 5, 2, 656, 245, 2350, 5, 4, 9837, 131, 152, 491, 18, 2, 32, 7464, 1212, 14, 9, 6, 371, 78, 22, 625, 64, 1382, 9, 8, 168, 145, 23, 4, 1690, 15, 16, 4, 1355, 5, 28, 6, 52, 154, 462, 33, 89, 78, 285, 16, 145, 95]\n",
      "length of first review 189\n",
      "First review label: 0\n"
     ]
    }
   ],
   "source": [
    "print(\"Training samples:\",len(x_train))\n",
    "print(\"Testing samples:\" ,len(x_test))\n",
    "print(\"First review (encoded):\", x_train[1])\n",
    "print(\"length of first review\",len(x_train[1]))\n",
    "print(\"First review label:\",y_train[1])\n"
   ]
  },
  {
   "cell_type": "markdown",
   "id": "0ec9b420-9b7a-413c-97e4-bafd5284f6f8",
   "metadata": {},
   "source": [
    "### Padding Sequence"
   ]
  },
  {
   "cell_type": "code",
   "execution_count": 59,
   "id": "5549be52-345d-4a36-affa-a0f59fcd4fcf",
   "metadata": {},
   "outputs": [],
   "source": [
    " # limit reviews to 200 words\n",
    "\n",
    "x_train = pad_sequences(x_train, maxlen=200)\n",
    "x_test = pad_sequences(x_test, maxlen=200)\n"
   ]
  },
  {
   "cell_type": "code",
   "execution_count": 60,
   "id": "f3f6398c-e261-4f91-bf23-5e8ad9ef22ce",
   "metadata": {},
   "outputs": [
    {
     "name": "stdout",
     "output_type": "stream",
     "text": [
      "[   0    0    0    0    0    0    0    0    0    0    0    0    0    0\n",
      "    0    0    0    0    0    0    0    0    0    0    0    0    0    0\n",
      "    0    0    0    0    0    0    0    0    0    0    0    0    0    0\n",
      "    0    0    0    0    0    0    0    0    0    0    0    0    0    0\n",
      "    0    0    0    1   14   47    8   30   31    7    4  249  108    7\n",
      "    4 5974   54   61  369   13   71  149   14   22  112    4 2401  311\n",
      "   12   16 3711   33   75   43 1829  296    4   86  320   35  534   19\n",
      "  263 4821 1301    4 1873   33   89   78   12   66   16    4  360    7\n",
      "    4   58  316  334   11    4 1716   43  645  662    8  257   85 1200\n",
      "   42 1228 2578   83   68 3912   15   36  165 1539  278   36   69    2\n",
      "  780    8  106   14 6905 1338   18    6   22   12  215   28  610   40\n",
      "    6   87  326   23 2300   21   23   22   12  272   40   57   31   11\n",
      "    4   22   47    6 2307   51    9  170   23  595  116  595 1352   13\n",
      "  191   79  638   89    2   14    9    8  106  607  624   35  534    6\n",
      "  227    7  129  113]\n"
     ]
    }
   ],
   "source": [
    "print(x_train[2])"
   ]
  },
  {
   "cell_type": "code",
   "execution_count": 61,
   "id": "7daf64c3-faca-401e-8d76-3a59b3ea67e3",
   "metadata": {},
   "outputs": [
    {
     "name": "stderr",
     "output_type": "stream",
     "text": [
      "C:\\Users\\Abhay\\anaconda3\\Lib\\site-packages\\keras\\src\\layers\\core\\embedding.py:90: UserWarning: Argument `input_length` is deprecated. Just remove it.\n",
      "  warnings.warn(\n"
     ]
    }
   ],
   "source": [
    "model = Sequential()\n",
    "model.add(Embedding(input_dim=10000, output_dim=128, input_length=200))  # Embedding layer\n",
    "model.add(SimpleRNN(16))  # RNN with 16 units\n",
    "model.add(Dense(1, activation='sigmoid'))  # Binary output\n"
   ]
  },
  {
   "cell_type": "markdown",
   "id": "523383a1-ef9e-43ae-9c56-76e0a59bc7d6",
   "metadata": {},
   "source": [
    "### Compile the model"
   ]
  },
  {
   "cell_type": "code",
   "execution_count": 63,
   "id": "9bdb085e-80de-41e5-ba24-2f8ac34506ef",
   "metadata": {},
   "outputs": [],
   "source": [
    "model.compile(optimizer='adam', loss='binary_crossentropy', metrics=['accuracy'])\n"
   ]
  },
  {
   "cell_type": "markdown",
   "id": "37fe17d6-0aab-452a-9a8c-a932b67a423a",
   "metadata": {},
   "source": [
    "### Train the Model"
   ]
  },
  {
   "cell_type": "code",
   "execution_count": 65,
   "id": "a6abc7d9-011d-449b-b7c6-09382db4288e",
   "metadata": {},
   "outputs": [
    {
     "name": "stdout",
     "output_type": "stream",
     "text": [
      "Epoch 1/5\n",
      "\u001b[1m313/313\u001b[0m \u001b[32m━━━━━━━━━━━━━━━━━━━━\u001b[0m\u001b[37m\u001b[0m \u001b[1m13s\u001b[0m 36ms/step - accuracy: 0.6470 - loss: 0.6193 - val_accuracy: 0.8110 - val_loss: 0.4405\n",
      "Epoch 2/5\n",
      "\u001b[1m313/313\u001b[0m \u001b[32m━━━━━━━━━━━━━━━━━━━━\u001b[0m\u001b[37m\u001b[0m \u001b[1m11s\u001b[0m 35ms/step - accuracy: 0.8092 - loss: 0.4279 - val_accuracy: 0.7306 - val_loss: 0.5515\n",
      "Epoch 3/5\n",
      "\u001b[1m313/313\u001b[0m \u001b[32m━━━━━━━━━━━━━━━━━━━━\u001b[0m\u001b[37m\u001b[0m \u001b[1m12s\u001b[0m 37ms/step - accuracy: 0.9181 - loss: 0.2281 - val_accuracy: 0.7698 - val_loss: 0.5135\n",
      "Epoch 4/5\n",
      "\u001b[1m313/313\u001b[0m \u001b[32m━━━━━━━━━━━━━━━━━━━━\u001b[0m\u001b[37m\u001b[0m \u001b[1m13s\u001b[0m 41ms/step - accuracy: 0.9715 - loss: 0.0985 - val_accuracy: 0.8024 - val_loss: 0.5388\n",
      "Epoch 5/5\n",
      "\u001b[1m313/313\u001b[0m \u001b[32m━━━━━━━━━━━━━━━━━━━━\u001b[0m\u001b[37m\u001b[0m \u001b[1m13s\u001b[0m 41ms/step - accuracy: 0.9906 - loss: 0.0431 - val_accuracy: 0.7970 - val_loss: 0.6104\n"
     ]
    },
    {
     "data": {
      "text/plain": [
       "<keras.src.callbacks.history.History at 0x2320d46f4a0>"
      ]
     },
     "execution_count": 65,
     "metadata": {},
     "output_type": "execute_result"
    }
   ],
   "source": [
    "model.fit(x_train, y_train, epochs=5, batch_size=64, validation_split=0.2)"
   ]
  },
  {
   "cell_type": "code",
   "execution_count": 66,
   "id": "665bb71f-6fd3-420c-948f-2ae7c114731d",
   "metadata": {},
   "outputs": [
    {
     "name": "stdout",
     "output_type": "stream",
     "text": [
      "\u001b[1m782/782\u001b[0m \u001b[32m━━━━━━━━━━━━━━━━━━━━\u001b[0m\u001b[37m\u001b[0m \u001b[1m5s\u001b[0m 7ms/step - accuracy: 0.7931 - loss: 0.6139\n",
      "Test Accuracy: 0.7954000234603882\n"
     ]
    }
   ],
   "source": [
    "test_loss, test_accuracy = model.evaluate(x_test, y_test)\n",
    "print(\"Test Accuracy:\",test_accuracy)"
   ]
  },
  {
   "cell_type": "markdown",
   "id": "4c8b5d2d-9b70-4c09-ab29-b350ca24a9db",
   "metadata": {},
   "source": [
    "### Making predictions"
   ]
  },
  {
   "cell_type": "code",
   "execution_count": 68,
   "id": "c7a864f5-e1f9-43d1-ab14-05987eea7734",
   "metadata": {},
   "outputs": [],
   "source": [
    "sample_review = \"This movie was boring! Not worthy\""
   ]
  },
  {
   "cell_type": "markdown",
   "id": "f16f7cdb-ce46-49e6-8e1f-7e61db1f7582",
   "metadata": {},
   "source": [
    "### Preprocessing the Review for Prediction"
   ]
  },
  {
   "cell_type": "code",
   "execution_count": 70,
   "id": "2e0d0c42-2182-46ee-88ec-1a4cdbe6e145",
   "metadata": {},
   "outputs": [],
   "source": [
    "word_index = imdb.get_word_index()\n",
    "\n",
    "# Reserve space for special tokens\n",
    "new_word_index = {}\n",
    "for k, v in word_index.items():\n",
    "    new_word_index[k] = v + 3 #reserve space for special tokens that are added to beginning\n",
    "word_index = new_word_index\n",
    "word_index[\"<PAD>\"] = 0\n",
    "word_index[\"<START>\"] = 1\n",
    "word_index[\"<UNK>\"] = 2  # Unknown words\n",
    "word_index[\"<UNUSED>\"] = 3\n",
    "\n",
    "# Create reverse index to decode indices to words\n",
    "\n",
    "reverse_word_index = {}\n",
    "for k, v in word_index.items():\n",
    "    reverse_word_index[v] = k"
   ]
  },
  {
   "cell_type": "code",
   "execution_count": 71,
   "id": "73cc9064-1f7c-4cdf-9291-9f5951277a59",
   "metadata": {},
   "outputs": [
    {
     "name": "stdout",
     "output_type": "stream",
     "text": [
      "\u001b[1m1/1\u001b[0m \u001b[32m━━━━━━━━━━━━━━━━━━━━\u001b[0m\u001b[37m\u001b[0m \u001b[1m0s\u001b[0m 181ms/step\n",
      "Negative Review\n"
     ]
    }
   ],
   "source": [
    "def encode_review(review):\n",
    "    tokens = review.lower().split()\n",
    "    encoded = [1]  # <START>\n",
    "    for word in tokens:\n",
    "        if word in word_index:\n",
    "            encoded.append(word_index[word])\n",
    "        else:\n",
    "            encoded.append(2)  # <UNK>\n",
    "    return encoded\n",
    "\n",
    "sample_review = \"This movie was boring! Not worthy\"\n",
    "encoded_review = encode_review(sample_review)\n",
    "padded_review = pad_sequences([encoded_review], maxlen=200)\n",
    "\n",
    "prediction = model.predict(padded_review)[0][0]\n",
    "if prediction > 0.5:\n",
    "    print(\"Positive Review\")\n",
    "else:\n",
    "    print(\"Negative Review\")\n"
   ]
  },
  {
   "cell_type": "code",
   "execution_count": null,
   "id": "dc89111c-b5fe-413f-a004-61b8cefe6dac",
   "metadata": {},
   "outputs": [],
   "source": []
  }
 ],
 "metadata": {
  "kernelspec": {
   "display_name": "Python 3 (ipykernel)",
   "language": "python",
   "name": "python3"
  },
  "language_info": {
   "codemirror_mode": {
    "name": "ipython",
    "version": 3
   },
   "file_extension": ".py",
   "mimetype": "text/x-python",
   "name": "python",
   "nbconvert_exporter": "python",
   "pygments_lexer": "ipython3",
   "version": "3.12.4"
  }
 },
 "nbformat": 4,
 "nbformat_minor": 5
}
