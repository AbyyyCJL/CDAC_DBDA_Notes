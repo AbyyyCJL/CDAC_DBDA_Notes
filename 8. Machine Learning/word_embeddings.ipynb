{
 "cells": [
  {
   "cell_type": "markdown",
   "metadata": {
    "id": "HeaX6V2Tf67W"
   },
   "source": []
  },
  {
   "cell_type": "markdown",
   "metadata": {
    "id": "2MMTyMMB4Zda"
   },
   "source": [
    "Example1:Training Word2Vec with Gensim"
   ]
  },
  {
   "cell_type": "code",
   "execution_count": 4,
   "metadata": {
    "id": "kYNWDSo-4dYF"
   },
   "outputs": [
    {
     "name": "stdout",
     "output_type": "stream",
     "text": [
      "Requirement already satisfied: gensim in c:\\users\\abhay\\anaconda3\\lib\\site-packages (4.3.2)\n",
      "Requirement already satisfied: numpy>=1.18.5 in c:\\users\\abhay\\anaconda3\\lib\\site-packages (from gensim) (1.26.4)\n",
      "Requirement already satisfied: scipy>=1.7.0 in c:\\users\\abhay\\anaconda3\\lib\\site-packages (from gensim) (1.13.1)\n",
      "Requirement already satisfied: smart-open>=1.8.1 in c:\\users\\abhay\\anaconda3\\lib\\site-packages (from gensim) (5.2.1)\n"
     ]
    }
   ],
   "source": [
    "!pip install gensim"
   ]
  },
  {
   "cell_type": "code",
   "execution_count": 21,
   "metadata": {},
   "outputs": [
    {
     "name": "stdout",
     "output_type": "stream",
     "text": [
      "Requirement already satisfied: scipy in c:\\users\\abhay\\anaconda3\\lib\\site-packages (1.13.1)\n",
      "Collecting scipy\n",
      "  Downloading scipy-1.14.1-cp312-cp312-win_amd64.whl.metadata (60 kB)\n",
      "     ---------------------------------------- 0.0/60.8 kB ? eta -:--:--\n",
      "     ---------------------------------------- 60.8/60.8 kB 1.6 MB/s eta 0:00:00\n",
      "Requirement already satisfied: numpy<2.3,>=1.23.5 in c:\\users\\abhay\\anaconda3\\lib\\site-packages (from scipy) (1.26.4)\n",
      "Downloading scipy-1.14.1-cp312-cp312-win_amd64.whl (44.5 MB)\n",
      "   ---------------------------------------- 0.0/44.5 MB ? eta -:--:--\n",
      "   ---------------------------------------- 0.2/44.5 MB 4.8 MB/s eta 0:00:10\n",
      "   ---------------------------------------- 0.5/44.5 MB 6.8 MB/s eta 0:00:07\n",
      "    --------------------------------------- 0.9/44.5 MB 7.0 MB/s eta 0:00:07\n",
      "   - -------------------------------------- 1.2/44.5 MB 6.9 MB/s eta 0:00:07\n",
      "   - -------------------------------------- 1.5/44.5 MB 7.2 MB/s eta 0:00:06\n",
      "   - -------------------------------------- 1.8/44.5 MB 6.9 MB/s eta 0:00:07\n",
      "   - -------------------------------------- 2.2/44.5 MB 7.0 MB/s eta 0:00:07\n",
      "   -- ------------------------------------- 2.6/44.5 MB 7.1 MB/s eta 0:00:06\n",
      "   -- ------------------------------------- 2.8/44.5 MB 7.1 MB/s eta 0:00:06\n",
      "   -- ------------------------------------- 3.2/44.5 MB 7.0 MB/s eta 0:00:06\n",
      "   --- ------------------------------------ 3.5/44.5 MB 6.9 MB/s eta 0:00:06\n",
      "   --- ------------------------------------ 3.5/44.5 MB 6.8 MB/s eta 0:00:07\n",
      "   --- ------------------------------------ 4.0/44.5 MB 6.7 MB/s eta 0:00:07\n",
      "   --- ------------------------------------ 4.3/44.5 MB 6.9 MB/s eta 0:00:06\n",
      "   --- ------------------------------------ 4.4/44.5 MB 6.5 MB/s eta 0:00:07\n",
      "   ---- ----------------------------------- 4.5/44.5 MB 6.6 MB/s eta 0:00:07\n",
      "   ---- ----------------------------------- 4.9/44.5 MB 6.4 MB/s eta 0:00:07\n",
      "   ---- ----------------------------------- 5.1/44.5 MB 6.3 MB/s eta 0:00:07\n",
      "   ---- ----------------------------------- 5.5/44.5 MB 6.4 MB/s eta 0:00:07\n",
      "   ----- ---------------------------------- 5.7/44.5 MB 6.3 MB/s eta 0:00:07\n",
      "   ----- ---------------------------------- 6.0/44.5 MB 6.3 MB/s eta 0:00:07\n",
      "   ----- ---------------------------------- 6.4/44.5 MB 6.4 MB/s eta 0:00:06\n",
      "   ----- ---------------------------------- 6.6/44.5 MB 6.3 MB/s eta 0:00:07\n",
      "   ------ --------------------------------- 6.9/44.5 MB 6.3 MB/s eta 0:00:07\n",
      "   ------ --------------------------------- 7.2/44.5 MB 6.3 MB/s eta 0:00:06\n",
      "   ------ --------------------------------- 7.6/44.5 MB 6.4 MB/s eta 0:00:06\n",
      "   ------ --------------------------------- 7.8/44.5 MB 6.3 MB/s eta 0:00:06\n",
      "   ------- -------------------------------- 7.9/44.5 MB 6.3 MB/s eta 0:00:06\n",
      "   ------- -------------------------------- 8.2/44.5 MB 6.2 MB/s eta 0:00:06\n",
      "   ------- -------------------------------- 8.4/44.5 MB 6.1 MB/s eta 0:00:06\n",
      "   ------- -------------------------------- 8.6/44.5 MB 6.1 MB/s eta 0:00:06\n",
      "   -------- ------------------------------- 9.1/44.5 MB 6.2 MB/s eta 0:00:06\n",
      "   -------- ------------------------------- 9.3/44.5 MB 6.1 MB/s eta 0:00:06\n",
      "   -------- ------------------------------- 9.7/44.5 MB 6.2 MB/s eta 0:00:06\n",
      "   --------- ------------------------------ 10.1/44.5 MB 6.2 MB/s eta 0:00:06\n",
      "   --------- ------------------------------ 10.4/44.5 MB 6.4 MB/s eta 0:00:06\n",
      "   --------- ------------------------------ 10.7/44.5 MB 6.3 MB/s eta 0:00:06\n",
      "   --------- ------------------------------ 11.0/44.5 MB 6.3 MB/s eta 0:00:06\n",
      "   ---------- ----------------------------- 11.2/44.5 MB 6.4 MB/s eta 0:00:06\n",
      "   ---------- ----------------------------- 11.2/44.5 MB 6.4 MB/s eta 0:00:06\n",
      "   ---------- ----------------------------- 11.2/44.5 MB 6.4 MB/s eta 0:00:06\n",
      "   ---------- ----------------------------- 11.5/44.5 MB 5.9 MB/s eta 0:00:06\n",
      "   ---------- ----------------------------- 11.9/44.5 MB 6.0 MB/s eta 0:00:06\n",
      "   ---------- ----------------------------- 12.0/44.5 MB 5.8 MB/s eta 0:00:06\n",
      "   ----------- ---------------------------- 12.4/44.5 MB 5.8 MB/s eta 0:00:06\n",
      "   ----------- ---------------------------- 12.8/44.5 MB 5.8 MB/s eta 0:00:06\n",
      "   ----------- ---------------------------- 13.0/44.5 MB 5.8 MB/s eta 0:00:06\n",
      "   ------------ --------------------------- 13.5/44.5 MB 5.8 MB/s eta 0:00:06\n",
      "   ------------ --------------------------- 13.8/44.5 MB 6.0 MB/s eta 0:00:06\n",
      "   ------------ --------------------------- 14.0/44.5 MB 5.9 MB/s eta 0:00:06\n",
      "   ------------ --------------------------- 14.3/44.5 MB 5.9 MB/s eta 0:00:06\n",
      "   ------------- -------------------------- 14.5/44.5 MB 5.8 MB/s eta 0:00:06\n",
      "   ------------- -------------------------- 14.7/44.5 MB 5.9 MB/s eta 0:00:06\n",
      "   ------------- -------------------------- 14.8/44.5 MB 6.0 MB/s eta 0:00:05\n",
      "   ------------- -------------------------- 15.1/44.5 MB 5.7 MB/s eta 0:00:06\n",
      "   ------------- -------------------------- 15.3/44.5 MB 5.8 MB/s eta 0:00:06\n",
      "   ------------- -------------------------- 15.5/44.5 MB 5.7 MB/s eta 0:00:06\n",
      "   ------------- -------------------------- 15.5/44.5 MB 5.7 MB/s eta 0:00:06\n",
      "   ------------- -------------------------- 15.6/44.5 MB 5.6 MB/s eta 0:00:06\n",
      "   -------------- ------------------------- 16.0/44.5 MB 5.5 MB/s eta 0:00:06\n",
      "   -------------- ------------------------- 16.1/44.5 MB 5.5 MB/s eta 0:00:06\n",
      "   -------------- ------------------------- 16.4/44.5 MB 5.5 MB/s eta 0:00:06\n",
      "   -------------- ------------------------- 16.6/44.5 MB 5.4 MB/s eta 0:00:06\n",
      "   --------------- ------------------------ 17.0/44.5 MB 5.5 MB/s eta 0:00:06\n",
      "   --------------- ------------------------ 17.4/44.5 MB 5.5 MB/s eta 0:00:05\n",
      "   --------------- ------------------------ 17.6/44.5 MB 5.4 MB/s eta 0:00:05\n",
      "   ---------------- ----------------------- 17.9/44.5 MB 5.4 MB/s eta 0:00:05\n",
      "   ---------------- ----------------------- 18.2/44.5 MB 5.6 MB/s eta 0:00:05\n",
      "   ---------------- ----------------------- 18.6/44.5 MB 5.6 MB/s eta 0:00:05\n",
      "   ---------------- ----------------------- 18.8/44.5 MB 5.6 MB/s eta 0:00:05\n",
      "   ----------------- ---------------------- 19.3/44.5 MB 5.7 MB/s eta 0:00:05\n",
      "   ----------------- ---------------------- 19.5/44.5 MB 5.6 MB/s eta 0:00:05\n",
      "   ----------------- ---------------------- 20.0/44.5 MB 5.7 MB/s eta 0:00:05\n",
      "   ------------------ --------------------- 20.2/44.5 MB 5.6 MB/s eta 0:00:05\n",
      "   ------------------ --------------------- 20.6/44.5 MB 5.7 MB/s eta 0:00:05\n",
      "   ------------------ --------------------- 20.9/44.5 MB 5.6 MB/s eta 0:00:05\n",
      "   ------------------- -------------------- 21.3/44.5 MB 5.7 MB/s eta 0:00:05\n",
      "   ------------------- -------------------- 21.4/44.5 MB 6.1 MB/s eta 0:00:04\n",
      "   ------------------- -------------------- 21.7/44.5 MB 5.9 MB/s eta 0:00:04\n",
      "   ------------------- -------------------- 21.9/44.5 MB 5.9 MB/s eta 0:00:04\n",
      "   ------------------- -------------------- 22.2/44.5 MB 6.0 MB/s eta 0:00:04\n",
      "   -------------------- ------------------- 22.3/44.5 MB 5.8 MB/s eta 0:00:04\n",
      "   -------------------- ------------------- 22.5/44.5 MB 5.8 MB/s eta 0:00:04\n",
      "   -------------------- ------------------- 22.9/44.5 MB 5.8 MB/s eta 0:00:04\n",
      "   -------------------- ------------------- 23.0/44.5 MB 5.7 MB/s eta 0:00:04\n",
      "   -------------------- ------------------- 23.3/44.5 MB 5.7 MB/s eta 0:00:04\n",
      "   --------------------- ------------------ 23.5/44.5 MB 5.6 MB/s eta 0:00:04\n",
      "   --------------------- ------------------ 23.7/44.5 MB 5.6 MB/s eta 0:00:04\n",
      "   --------------------- ------------------ 24.0/44.5 MB 5.5 MB/s eta 0:00:04\n",
      "   --------------------- ------------------ 24.3/44.5 MB 5.6 MB/s eta 0:00:04\n",
      "   --------------------- ------------------ 24.5/44.5 MB 5.5 MB/s eta 0:00:04\n",
      "   ---------------------- ----------------- 24.7/44.5 MB 5.5 MB/s eta 0:00:04\n",
      "   ---------------------- ----------------- 24.9/44.5 MB 5.5 MB/s eta 0:00:04\n",
      "   ---------------------- ----------------- 25.2/44.5 MB 5.7 MB/s eta 0:00:04\n",
      "   ---------------------- ----------------- 25.5/44.5 MB 5.6 MB/s eta 0:00:04\n",
      "   ----------------------- ---------------- 25.7/44.5 MB 5.9 MB/s eta 0:00:04\n",
      "   ----------------------- ---------------- 25.9/44.5 MB 6.0 MB/s eta 0:00:04\n",
      "   ----------------------- ---------------- 26.1/44.5 MB 5.8 MB/s eta 0:00:04\n",
      "   ----------------------- ---------------- 26.3/44.5 MB 5.8 MB/s eta 0:00:04\n",
      "   ----------------------- ---------------- 26.6/44.5 MB 5.8 MB/s eta 0:00:04\n",
      "   ------------------------ --------------- 26.8/44.5 MB 5.8 MB/s eta 0:00:04\n",
      "   ------------------------ --------------- 27.2/44.5 MB 5.8 MB/s eta 0:00:03\n",
      "   ------------------------ --------------- 27.5/44.5 MB 5.8 MB/s eta 0:00:03\n",
      "   ------------------------- -------------- 27.8/44.5 MB 5.8 MB/s eta 0:00:03\n",
      "   ------------------------- -------------- 28.2/44.5 MB 5.8 MB/s eta 0:00:03\n",
      "   ------------------------- -------------- 28.5/44.5 MB 5.8 MB/s eta 0:00:03\n",
      "   ------------------------- -------------- 28.9/44.5 MB 5.8 MB/s eta 0:00:03\n",
      "   -------------------------- ------------- 29.2/44.5 MB 5.8 MB/s eta 0:00:03\n",
      "   -------------------------- ------------- 29.5/44.5 MB 5.8 MB/s eta 0:00:03\n",
      "   -------------------------- ------------- 29.6/44.5 MB 5.8 MB/s eta 0:00:03\n",
      "   --------------------------- ------------ 30.1/44.5 MB 5.8 MB/s eta 0:00:03\n",
      "   --------------------------- ------------ 30.3/44.5 MB 5.8 MB/s eta 0:00:03\n",
      "   --------------------------- ------------ 30.7/44.5 MB 5.8 MB/s eta 0:00:03\n",
      "   --------------------------- ------------ 31.0/44.5 MB 5.7 MB/s eta 0:00:03\n",
      "   ---------------------------- ----------- 31.3/44.5 MB 5.8 MB/s eta 0:00:03\n",
      "   ---------------------------- ----------- 31.5/44.5 MB 5.7 MB/s eta 0:00:03\n",
      "   ---------------------------- ----------- 31.8/44.5 MB 5.8 MB/s eta 0:00:03\n",
      "   ---------------------------- ----------- 32.2/44.5 MB 5.9 MB/s eta 0:00:03\n",
      "   ----------------------------- ---------- 32.4/44.5 MB 5.9 MB/s eta 0:00:03\n",
      "   ----------------------------- ---------- 32.8/44.5 MB 6.1 MB/s eta 0:00:02\n",
      "   ----------------------------- ---------- 33.0/44.5 MB 5.9 MB/s eta 0:00:02\n",
      "   ----------------------------- ---------- 33.2/44.5 MB 6.0 MB/s eta 0:00:02\n",
      "   ------------------------------ --------- 33.7/44.5 MB 6.1 MB/s eta 0:00:02\n",
      "   ------------------------------ --------- 33.8/44.5 MB 6.1 MB/s eta 0:00:02\n",
      "   ------------------------------ --------- 34.2/44.5 MB 6.2 MB/s eta 0:00:02\n",
      "   ------------------------------ --------- 34.4/44.5 MB 6.1 MB/s eta 0:00:02\n",
      "   ------------------------------- -------- 34.5/44.5 MB 6.1 MB/s eta 0:00:02\n",
      "   ------------------------------- -------- 34.8/44.5 MB 6.1 MB/s eta 0:00:02\n",
      "   ------------------------------- -------- 35.0/44.5 MB 6.1 MB/s eta 0:00:02\n",
      "   ------------------------------- -------- 35.2/44.5 MB 6.1 MB/s eta 0:00:02\n",
      "   ------------------------------- -------- 35.4/44.5 MB 6.0 MB/s eta 0:00:02\n",
      "   ------------------------------- -------- 35.6/44.5 MB 5.9 MB/s eta 0:00:02\n",
      "   -------------------------------- ------- 35.8/44.5 MB 5.8 MB/s eta 0:00:02\n",
      "   -------------------------------- ------- 35.9/44.5 MB 5.7 MB/s eta 0:00:02\n",
      "   -------------------------------- ------- 36.0/44.5 MB 5.7 MB/s eta 0:00:02\n",
      "   -------------------------------- ------- 36.2/44.5 MB 5.8 MB/s eta 0:00:02\n",
      "   -------------------------------- ------- 36.4/44.5 MB 5.6 MB/s eta 0:00:02\n",
      "   -------------------------------- ------- 36.6/44.5 MB 5.7 MB/s eta 0:00:02\n",
      "   --------------------------------- ------ 36.8/44.5 MB 5.7 MB/s eta 0:00:02\n",
      "   --------------------------------- ------ 37.0/44.5 MB 5.7 MB/s eta 0:00:02\n",
      "   --------------------------------- ------ 37.3/44.5 MB 5.6 MB/s eta 0:00:02\n",
      "   --------------------------------- ------ 37.4/44.5 MB 5.5 MB/s eta 0:00:02\n",
      "   --------------------------------- ------ 37.6/44.5 MB 5.5 MB/s eta 0:00:02\n",
      "   --------------------------------- ------ 37.8/44.5 MB 5.4 MB/s eta 0:00:02\n",
      "   ---------------------------------- ----- 38.0/44.5 MB 5.4 MB/s eta 0:00:02\n",
      "   ---------------------------------- ----- 38.2/44.5 MB 5.3 MB/s eta 0:00:02\n",
      "   ---------------------------------- ----- 38.5/44.5 MB 5.3 MB/s eta 0:00:02\n",
      "   ---------------------------------- ----- 38.6/44.5 MB 5.2 MB/s eta 0:00:02\n",
      "   ---------------------------------- ----- 38.8/44.5 MB 5.2 MB/s eta 0:00:02\n",
      "   ----------------------------------- ---- 39.0/44.5 MB 5.1 MB/s eta 0:00:02\n",
      "   ----------------------------------- ---- 39.2/44.5 MB 5.2 MB/s eta 0:00:02\n",
      "   ----------------------------------- ---- 39.5/44.5 MB 5.1 MB/s eta 0:00:01\n",
      "   ----------------------------------- ---- 39.8/44.5 MB 5.2 MB/s eta 0:00:01\n",
      "   ----------------------------------- ---- 40.1/44.5 MB 5.0 MB/s eta 0:00:01\n",
      "   ------------------------------------ --- 40.2/44.5 MB 5.0 MB/s eta 0:00:01\n",
      "   ------------------------------------ --- 40.4/44.5 MB 5.0 MB/s eta 0:00:01\n",
      "   ------------------------------------ --- 40.7/44.5 MB 5.0 MB/s eta 0:00:01\n",
      "   ------------------------------------ --- 40.8/44.5 MB 4.9 MB/s eta 0:00:01\n",
      "   ------------------------------------ --- 41.1/44.5 MB 4.9 MB/s eta 0:00:01\n",
      "   ------------------------------------- -- 41.5/44.5 MB 4.9 MB/s eta 0:00:01\n",
      "   ------------------------------------- -- 41.7/44.5 MB 4.9 MB/s eta 0:00:01\n",
      "   ------------------------------------- -- 41.8/44.5 MB 4.9 MB/s eta 0:00:01\n",
      "   ------------------------------------- -- 42.0/44.5 MB 4.8 MB/s eta 0:00:01\n",
      "   ------------------------------------- -- 42.2/44.5 MB 4.8 MB/s eta 0:00:01\n",
      "   -------------------------------------- - 42.4/44.5 MB 4.7 MB/s eta 0:00:01\n",
      "   -------------------------------------- - 42.7/44.5 MB 4.7 MB/s eta 0:00:01\n",
      "   -------------------------------------- - 42.9/44.5 MB 4.7 MB/s eta 0:00:01\n",
      "   -------------------------------------- - 43.1/44.5 MB 4.6 MB/s eta 0:00:01\n",
      "   -------------------------------------- - 43.3/44.5 MB 4.6 MB/s eta 0:00:01\n",
      "   ---------------------------------------  43.5/44.5 MB 4.7 MB/s eta 0:00:01\n",
      "   ---------------------------------------  43.8/44.5 MB 4.6 MB/s eta 0:00:01\n",
      "   ---------------------------------------  44.1/44.5 MB 4.6 MB/s eta 0:00:01\n",
      "   ---------------------------------------  44.3/44.5 MB 4.6 MB/s eta 0:00:01\n",
      "   ---------------------------------------  44.4/44.5 MB 4.6 MB/s eta 0:00:01\n",
      "   ---------------------------------------  44.5/44.5 MB 4.5 MB/s eta 0:00:01\n",
      "   ---------------------------------------  44.5/44.5 MB 4.5 MB/s eta 0:00:01\n",
      "   ---------------------------------------- 44.5/44.5 MB 4.3 MB/s eta 0:00:00\n",
      "Installing collected packages: scipy\n",
      "  Attempting uninstall: scipy\n",
      "    Found existing installation: scipy 1.13.1\n",
      "    Uninstalling scipy-1.13.1:\n",
      "      Successfully uninstalled scipy-1.13.1\n",
      "Successfully installed scipy-1.14.1\n"
     ]
    },
    {
     "name": "stderr",
     "output_type": "stream",
     "text": [
      "  WARNING: Failed to remove contents in a temporary directory 'C:\\Users\\Abhay\\anaconda3\\Lib\\site-packages\\~cipy'.\n",
      "  You can safely remove it manually.\n"
     ]
    }
   ],
   "source": [
    "!pip install --upgrade scipy"
   ]
  },
  {
   "cell_type": "code",
   "execution_count": 23,
   "metadata": {
    "colab": {
     "base_uri": "https://localhost:8080/"
    },
    "id": "6eIrDlDu4ie_",
    "outputId": "69fe6602-cd6a-4c4a-a5d9-a56463ea6f25"
   },
   "outputs": [
    {
     "ename": "ImportError",
     "evalue": "cannot import name 'triu' from 'scipy.linalg' (C:\\Users\\Abhay\\anaconda3\\Lib\\site-packages\\scipy\\linalg\\__init__.py)",
     "output_type": "error",
     "traceback": [
      "\u001b[1;31m---------------------------------------------------------------------------\u001b[0m",
      "\u001b[1;31mImportError\u001b[0m                               Traceback (most recent call last)",
      "Cell \u001b[1;32mIn[23], line 1\u001b[0m\n\u001b[1;32m----> 1\u001b[0m \u001b[38;5;28;01mfrom\u001b[39;00m \u001b[38;5;21;01mgensim\u001b[39;00m\u001b[38;5;21;01m.\u001b[39;00m\u001b[38;5;21;01mmodels\u001b[39;00m \u001b[38;5;28;01mimport\u001b[39;00m Word2Vec, KeyedVectors\n\u001b[0;32m      2\u001b[0m \u001b[38;5;28;01mfrom\u001b[39;00m \u001b[38;5;21;01mgensim\u001b[39;00m\u001b[38;5;21;01m.\u001b[39;00m\u001b[38;5;21;01mutils\u001b[39;00m \u001b[38;5;28;01mimport\u001b[39;00m simple_preprocess\n\u001b[0;32m      5\u001b[0m \u001b[38;5;66;03m# Sample corpus\u001b[39;00m\n",
      "File \u001b[1;32m~\\anaconda3\\Lib\\site-packages\\gensim\\__init__.py:11\u001b[0m\n\u001b[0;32m      7\u001b[0m __version__ \u001b[38;5;241m=\u001b[39m \u001b[38;5;124m'\u001b[39m\u001b[38;5;124m4.3.2\u001b[39m\u001b[38;5;124m'\u001b[39m\n\u001b[0;32m      9\u001b[0m \u001b[38;5;28;01mimport\u001b[39;00m \u001b[38;5;21;01mlogging\u001b[39;00m\n\u001b[1;32m---> 11\u001b[0m \u001b[38;5;28;01mfrom\u001b[39;00m \u001b[38;5;21;01mgensim\u001b[39;00m \u001b[38;5;28;01mimport\u001b[39;00m parsing, corpora, matutils, interfaces, models, similarities, utils  \u001b[38;5;66;03m# noqa:F401\u001b[39;00m\n\u001b[0;32m     14\u001b[0m logger \u001b[38;5;241m=\u001b[39m logging\u001b[38;5;241m.\u001b[39mgetLogger(\u001b[38;5;124m'\u001b[39m\u001b[38;5;124mgensim\u001b[39m\u001b[38;5;124m'\u001b[39m)\n\u001b[0;32m     15\u001b[0m \u001b[38;5;28;01mif\u001b[39;00m \u001b[38;5;129;01mnot\u001b[39;00m logger\u001b[38;5;241m.\u001b[39mhandlers:  \u001b[38;5;66;03m# To ensure reload() doesn't add another one\u001b[39;00m\n",
      "File \u001b[1;32m~\\anaconda3\\Lib\\site-packages\\gensim\\corpora\\__init__.py:6\u001b[0m\n\u001b[0;32m      1\u001b[0m \u001b[38;5;124;03m\"\"\"\u001b[39;00m\n\u001b[0;32m      2\u001b[0m \u001b[38;5;124;03mThis package contains implementations of various streaming corpus I/O format.\u001b[39;00m\n\u001b[0;32m      3\u001b[0m \u001b[38;5;124;03m\"\"\"\u001b[39;00m\n\u001b[0;32m      5\u001b[0m \u001b[38;5;66;03m# bring corpus classes directly into package namespace, to save some typing\u001b[39;00m\n\u001b[1;32m----> 6\u001b[0m \u001b[38;5;28;01mfrom\u001b[39;00m \u001b[38;5;21;01m.\u001b[39;00m\u001b[38;5;21;01mindexedcorpus\u001b[39;00m \u001b[38;5;28;01mimport\u001b[39;00m IndexedCorpus  \u001b[38;5;66;03m# noqa:F401 must appear before the other classes\u001b[39;00m\n\u001b[0;32m      8\u001b[0m \u001b[38;5;28;01mfrom\u001b[39;00m \u001b[38;5;21;01m.\u001b[39;00m\u001b[38;5;21;01mmmcorpus\u001b[39;00m \u001b[38;5;28;01mimport\u001b[39;00m MmCorpus  \u001b[38;5;66;03m# noqa:F401\u001b[39;00m\n\u001b[0;32m      9\u001b[0m \u001b[38;5;28;01mfrom\u001b[39;00m \u001b[38;5;21;01m.\u001b[39;00m\u001b[38;5;21;01mbleicorpus\u001b[39;00m \u001b[38;5;28;01mimport\u001b[39;00m BleiCorpus  \u001b[38;5;66;03m# noqa:F401\u001b[39;00m\n",
      "File \u001b[1;32m~\\anaconda3\\Lib\\site-packages\\gensim\\corpora\\indexedcorpus.py:14\u001b[0m\n\u001b[0;32m     10\u001b[0m \u001b[38;5;28;01mimport\u001b[39;00m \u001b[38;5;21;01mlogging\u001b[39;00m\n\u001b[0;32m     12\u001b[0m \u001b[38;5;28;01mimport\u001b[39;00m \u001b[38;5;21;01mnumpy\u001b[39;00m\n\u001b[1;32m---> 14\u001b[0m \u001b[38;5;28;01mfrom\u001b[39;00m \u001b[38;5;21;01mgensim\u001b[39;00m \u001b[38;5;28;01mimport\u001b[39;00m interfaces, utils\n\u001b[0;32m     16\u001b[0m logger \u001b[38;5;241m=\u001b[39m logging\u001b[38;5;241m.\u001b[39mgetLogger(\u001b[38;5;18m__name__\u001b[39m)\n\u001b[0;32m     19\u001b[0m \u001b[38;5;28;01mclass\u001b[39;00m \u001b[38;5;21;01mIndexedCorpus\u001b[39;00m(interfaces\u001b[38;5;241m.\u001b[39mCorpusABC):\n",
      "File \u001b[1;32m~\\anaconda3\\Lib\\site-packages\\gensim\\interfaces.py:19\u001b[0m\n\u001b[0;32m      7\u001b[0m \u001b[38;5;124;03m\"\"\"Basic interfaces used across the whole Gensim package.\u001b[39;00m\n\u001b[0;32m      8\u001b[0m \n\u001b[0;32m      9\u001b[0m \u001b[38;5;124;03mThese interfaces are used for building corpora, model transformation and similarity queries.\u001b[39;00m\n\u001b[1;32m   (...)\u001b[0m\n\u001b[0;32m     14\u001b[0m \n\u001b[0;32m     15\u001b[0m \u001b[38;5;124;03m\"\"\"\u001b[39;00m\n\u001b[0;32m     17\u001b[0m \u001b[38;5;28;01mimport\u001b[39;00m \u001b[38;5;21;01mlogging\u001b[39;00m\n\u001b[1;32m---> 19\u001b[0m \u001b[38;5;28;01mfrom\u001b[39;00m \u001b[38;5;21;01mgensim\u001b[39;00m \u001b[38;5;28;01mimport\u001b[39;00m utils, matutils\n\u001b[0;32m     22\u001b[0m logger \u001b[38;5;241m=\u001b[39m logging\u001b[38;5;241m.\u001b[39mgetLogger(\u001b[38;5;18m__name__\u001b[39m)\n\u001b[0;32m     25\u001b[0m \u001b[38;5;28;01mclass\u001b[39;00m \u001b[38;5;21;01mCorpusABC\u001b[39;00m(utils\u001b[38;5;241m.\u001b[39mSaveLoad):\n",
      "File \u001b[1;32m~\\anaconda3\\Lib\\site-packages\\gensim\\matutils.py:20\u001b[0m\n\u001b[0;32m     18\u001b[0m \u001b[38;5;28;01mimport\u001b[39;00m \u001b[38;5;21;01mscipy\u001b[39;00m\u001b[38;5;21;01m.\u001b[39;00m\u001b[38;5;21;01msparse\u001b[39;00m\n\u001b[0;32m     19\u001b[0m \u001b[38;5;28;01mfrom\u001b[39;00m \u001b[38;5;21;01mscipy\u001b[39;00m\u001b[38;5;21;01m.\u001b[39;00m\u001b[38;5;21;01mstats\u001b[39;00m \u001b[38;5;28;01mimport\u001b[39;00m entropy\n\u001b[1;32m---> 20\u001b[0m \u001b[38;5;28;01mfrom\u001b[39;00m \u001b[38;5;21;01mscipy\u001b[39;00m\u001b[38;5;21;01m.\u001b[39;00m\u001b[38;5;21;01mlinalg\u001b[39;00m \u001b[38;5;28;01mimport\u001b[39;00m get_blas_funcs, triu\n\u001b[0;32m     21\u001b[0m \u001b[38;5;28;01mfrom\u001b[39;00m \u001b[38;5;21;01mscipy\u001b[39;00m\u001b[38;5;21;01m.\u001b[39;00m\u001b[38;5;21;01mlinalg\u001b[39;00m\u001b[38;5;21;01m.\u001b[39;00m\u001b[38;5;21;01mlapack\u001b[39;00m \u001b[38;5;28;01mimport\u001b[39;00m get_lapack_funcs\n\u001b[0;32m     22\u001b[0m \u001b[38;5;28;01mfrom\u001b[39;00m \u001b[38;5;21;01mscipy\u001b[39;00m\u001b[38;5;21;01m.\u001b[39;00m\u001b[38;5;21;01mspecial\u001b[39;00m \u001b[38;5;28;01mimport\u001b[39;00m psi  \u001b[38;5;66;03m# gamma function utils\u001b[39;00m\n",
      "\u001b[1;31mImportError\u001b[0m: cannot import name 'triu' from 'scipy.linalg' (C:\\Users\\Abhay\\anaconda3\\Lib\\site-packages\\scipy\\linalg\\__init__.py)"
     ]
    }
   ],
   "source": [
    "from gensim.models import Word2Vec, KeyedVectors\n",
    "from gensim.utils import simple_preprocess\n",
    "\n",
    "\n",
    "# Sample corpus\n",
    "corpus = [\n",
    "    \"The quick brown fox jumps over the lazy dog\",\n",
    "    \"The dog barked at the mailman\",\n",
    "    \"I love natural language processing with Word2Vec\",\n",
    "    \"Word embeddings capture semantic relationships\"\n",
    "]\n",
    "\n",
    "# Preprocess the text (tokenization)\n",
    "tokenized_corpus = [simple_preprocess(doc) for doc in corpus]\n",
    "print(tokenized_corpus)\n"
   ]
  },
  {
   "cell_type": "code",
   "execution_count": 9,
   "metadata": {
    "colab": {
     "base_uri": "https://localhost:8080/"
    },
    "id": "4n-GyI_DW5xE",
    "outputId": "0398f850-9534-42ec-e75a-c93a61f2d035"
   },
   "outputs": [
    {
     "ename": "NameError",
     "evalue": "name 'Word2Vec' is not defined",
     "output_type": "error",
     "traceback": [
      "\u001b[1;31m---------------------------------------------------------------------------\u001b[0m",
      "\u001b[1;31mNameError\u001b[0m                                 Traceback (most recent call last)",
      "Cell \u001b[1;32mIn[9], line 2\u001b[0m\n\u001b[0;32m      1\u001b[0m \u001b[38;5;66;03m# Train a Word2Vec model\u001b[39;00m\n\u001b[1;32m----> 2\u001b[0m model_cbow \u001b[38;5;241m=\u001b[39m Word2Vec(\n\u001b[0;32m      3\u001b[0m     sentences\u001b[38;5;241m=\u001b[39mtokenized_corpus,\n\u001b[0;32m      4\u001b[0m     vector_size\u001b[38;5;241m=\u001b[39m\u001b[38;5;241m100\u001b[39m,  \u001b[38;5;66;03m# dimension of word vectors\u001b[39;00m\n\u001b[0;32m      5\u001b[0m     window\u001b[38;5;241m=\u001b[39m\u001b[38;5;241m5\u001b[39m,         \u001b[38;5;66;03m# Max distance bet current and predicted word.Larger value captures broad context\u001b[39;00m\n\u001b[0;32m      6\u001b[0m     min_count\u001b[38;5;241m=\u001b[39m\u001b[38;5;241m1\u001b[39m,      \u001b[38;5;66;03m# Ignores words with total frequency lower than 1\u001b[39;00m\n\u001b[0;32m      7\u001b[0m     \u001b[38;5;66;03m#workers=4,        # Number of threads for training\u001b[39;00m\n\u001b[0;32m      8\u001b[0m     sg\u001b[38;5;241m=\u001b[39m\u001b[38;5;241m0\u001b[39m              \u001b[38;5;66;03m# CBOW (0) or Skip-gram (1)\u001b[39;00m\n\u001b[0;32m      9\u001b[0m )\n\u001b[0;32m     12\u001b[0m \u001b[38;5;66;03m# Save the model\u001b[39;00m\n\u001b[0;32m     13\u001b[0m model\u001b[38;5;241m.\u001b[39msave(\u001b[38;5;124m\"\u001b[39m\u001b[38;5;124mword2vec1.model\u001b[39m\u001b[38;5;124m\"\u001b[39m)\n",
      "\u001b[1;31mNameError\u001b[0m: name 'Word2Vec' is not defined"
     ]
    }
   ],
   "source": [
    "# Train a Word2Vec model\n",
    "model_cbow = Word2Vec(\n",
    "    sentences=tokenized_corpus,\n",
    "    vector_size=100,  # dimension of word vectors\n",
    "    window=5,         # Max distance bet current and predicted word.Larger value captures broad context\n",
    "    min_count=1,      # Ignores words with total frequency lower than 1\n",
    "    #workers=4,        # Number of threads for training\n",
    "    sg=0              # CBOW (0) or Skip-gram (1)\n",
    ")\n",
    "\n",
    "\n",
    "# Save the model\n",
    "model.save(\"word2vec1.model\")\n",
    "\n",
    "# Print the vocabulary\n",
    "print(f\"Vocabulary: {list(model.wv.index_to_key)}\")\n"
   ]
  },
  {
   "cell_type": "markdown",
   "metadata": {
    "id": "Wn-NRQNZ5E9Z"
   },
   "source": [
    "Using Training Word2Vec Model to get embeddings"
   ]
  },
  {
   "cell_type": "code",
   "execution_count": null,
   "metadata": {
    "colab": {
     "base_uri": "https://localhost:8080/"
    },
    "id": "NG-KI9Hn5EAZ",
    "outputId": "6211b3c1-c6b7-4787-e9a4-df6db9a1c80d"
   },
   "outputs": [
    {
     "name": "stdout",
     "output_type": "stream",
     "text": [
      "Embedding for 'dog': [ 9.3360206e-05  3.0781562e-03 -6.8122013e-03 -1.3759811e-03\n",
      "  7.6685897e-03  7.3468583e-03 -3.6715507e-03  2.6421314e-03\n",
      " -8.3186608e-03  6.2052729e-03 -4.6380209e-03 -3.1650730e-03\n",
      "  9.3114590e-03  8.7209535e-04  7.4916040e-03 -6.0748849e-03\n",
      "  5.1588155e-03  9.9229226e-03 -8.4584998e-03 -5.1363832e-03\n",
      " -7.0657204e-03 -4.8616319e-03 -3.7768173e-03 -8.5365875e-03\n",
      "  7.9548899e-03 -4.8440276e-03  8.4240362e-03  5.2602710e-03\n",
      " -6.5501695e-03  3.9580995e-03  5.4706847e-03 -7.4278708e-03\n",
      " -7.4060056e-03 -2.4752941e-03 -8.6257309e-03 -1.5803741e-03\n",
      " -4.0344661e-04  3.3012319e-03  1.4428104e-03 -8.8279299e-04\n",
      " -5.5932715e-03  1.7294843e-03 -8.9818635e-04  6.7938571e-03\n",
      "  3.9737849e-03  4.5289174e-03  1.4342446e-03 -2.6989393e-03\n",
      " -4.3669189e-03 -1.0329168e-03  1.4366867e-03 -2.6474665e-03\n",
      " -7.0721800e-03 -7.8054299e-03 -9.1223707e-03 -5.9342543e-03\n",
      " -1.8463942e-03 -4.3245759e-03 -6.4608986e-03 -3.7183159e-03\n",
      "  4.2897710e-03 -3.7403833e-03  8.3796671e-03  1.5331459e-03\n",
      " -7.2427499e-03  9.4345463e-03  7.6305922e-03  5.4944060e-03\n",
      " -6.8504750e-03  5.8222329e-03  4.0081064e-03  5.1857037e-03\n",
      "  4.2576487e-03  1.9413981e-03 -3.1712065e-03  8.3548045e-03\n",
      "  9.6108122e-03  3.7918931e-03 -2.8382014e-03  6.7490973e-06\n",
      "  1.2195527e-03 -8.4596481e-03 -8.2233204e-03 -2.3227268e-04\n",
      "  1.2380795e-03 -5.7439124e-03 -4.7256309e-03 -7.3457840e-03\n",
      "  8.3284685e-03  1.2173417e-04 -4.5087673e-03  5.7025538e-03\n",
      "  9.1792000e-03 -4.1003809e-03  7.9661421e-03  5.3771422e-03\n",
      "  5.8797142e-03  5.1198364e-04  8.2139764e-03 -7.0206029e-03]\n",
      "Dimension of word dog is 100\n"
     ]
    }
   ],
   "source": [
    "# Load the saved model\n",
    "model = Word2Vec.load(\"word2vec1.model\")\n",
    "\n",
    "# Get vector for a specific word\n",
    "word = \"dog\"\n",
    "if word in model.wv:\n",
    "    vector = model.wv[word]\n",
    "    print(f\"Embedding for '{word}': {vector}\")\n",
    "else:\n",
    "    print(f\"'{word}' not in vocabulary.\")\n",
    "\n",
    "\n",
    "print(\"Dimension of word dog is\",len(vector))"
   ]
  },
  {
   "cell_type": "markdown",
   "metadata": {
    "id": "M8WPUoPL5kPj"
   },
   "source": [
    "Similar words"
   ]
  },
  {
   "cell_type": "code",
   "execution_count": null,
   "metadata": {
    "colab": {
     "base_uri": "https://localhost:8080/"
    },
    "id": "YqlWXXK35k-z",
    "outputId": "54bd7b8f-c0a7-49b7-c450-348ca7696003"
   },
   "outputs": [
    {
     "name": "stdout",
     "output_type": "stream",
     "text": [
      "Words similar to dog: [('over', 0.1992151141166687), ('relationships', 0.17274613678455353), ('quick', 0.17019709944725037), ('vec', 0.15279938280582428), ('capture', 0.14863112568855286)]\n",
      "Total similar words: 5\n"
     ]
    }
   ],
   "source": [
    "# Find similar words\n",
    "similar_words = model.wv.most_similar(\"dog\", topn=5)\n",
    "print(\"Words similar to dog:\", similar_words)\n",
    "print(\"Total similar words:\",len(similar_words))"
   ]
  },
  {
   "cell_type": "markdown",
   "metadata": {
    "id": "FGfUZJxQ6iZ5"
   },
   "source": []
  },
  {
   "cell_type": "markdown",
   "metadata": {
    "id": "rsktTG2K6NbQ"
   },
   "source": [
    "Example2:Loading pre-trained Word2Vec embeddings from Google News"
   ]
  },
  {
   "cell_type": "code",
   "execution_count": 36,
   "metadata": {
    "id": "O8ngDWa89ouW"
   },
   "outputs": [
    {
     "ename": "ImportError",
     "evalue": "cannot import name 'triu' from 'scipy.linalg' (C:\\Users\\Abhay\\anaconda3\\Lib\\site-packages\\scipy\\linalg\\__init__.py)",
     "output_type": "error",
     "traceback": [
      "\u001b[1;31m---------------------------------------------------------------------------\u001b[0m",
      "\u001b[1;31mImportError\u001b[0m                               Traceback (most recent call last)",
      "Cell \u001b[1;32mIn[36], line 1\u001b[0m\n\u001b[1;32m----> 1\u001b[0m \u001b[38;5;28;01mfrom\u001b[39;00m \u001b[38;5;21;01mgensim\u001b[39;00m\u001b[38;5;21;01m.\u001b[39;00m\u001b[38;5;21;01mmodels\u001b[39;00m \u001b[38;5;28;01mimport\u001b[39;00m Word2Vec,KeyedVectors\n\u001b[0;32m      2\u001b[0m \u001b[38;5;28;01mfrom\u001b[39;00m \u001b[38;5;21;01mgensim\u001b[39;00m\u001b[38;5;21;01m.\u001b[39;00m\u001b[38;5;21;01mutils\u001b[39;00m \u001b[38;5;28;01mimport\u001b[39;00m simple_preprocess\n\u001b[0;32m      3\u001b[0m \u001b[38;5;28;01mimport\u001b[39;00m \u001b[38;5;21;01mgensim\u001b[39;00m\u001b[38;5;21;01m.\u001b[39;00m\u001b[38;5;21;01mdownloader\u001b[39;00m \u001b[38;5;28;01mas\u001b[39;00m \u001b[38;5;21;01mapi\u001b[39;00m\n",
      "File \u001b[1;32m~\\anaconda3\\Lib\\site-packages\\gensim\\__init__.py:11\u001b[0m\n\u001b[0;32m      7\u001b[0m __version__ \u001b[38;5;241m=\u001b[39m \u001b[38;5;124m'\u001b[39m\u001b[38;5;124m4.3.2\u001b[39m\u001b[38;5;124m'\u001b[39m\n\u001b[0;32m      9\u001b[0m \u001b[38;5;28;01mimport\u001b[39;00m \u001b[38;5;21;01mlogging\u001b[39;00m\n\u001b[1;32m---> 11\u001b[0m \u001b[38;5;28;01mfrom\u001b[39;00m \u001b[38;5;21;01mgensim\u001b[39;00m \u001b[38;5;28;01mimport\u001b[39;00m parsing, corpora, matutils, interfaces, models, similarities, utils  \u001b[38;5;66;03m# noqa:F401\u001b[39;00m\n\u001b[0;32m     14\u001b[0m logger \u001b[38;5;241m=\u001b[39m logging\u001b[38;5;241m.\u001b[39mgetLogger(\u001b[38;5;124m'\u001b[39m\u001b[38;5;124mgensim\u001b[39m\u001b[38;5;124m'\u001b[39m)\n\u001b[0;32m     15\u001b[0m \u001b[38;5;28;01mif\u001b[39;00m \u001b[38;5;129;01mnot\u001b[39;00m logger\u001b[38;5;241m.\u001b[39mhandlers:  \u001b[38;5;66;03m# To ensure reload() doesn't add another one\u001b[39;00m\n",
      "File \u001b[1;32m~\\anaconda3\\Lib\\site-packages\\gensim\\corpora\\__init__.py:6\u001b[0m\n\u001b[0;32m      1\u001b[0m \u001b[38;5;124;03m\"\"\"\u001b[39;00m\n\u001b[0;32m      2\u001b[0m \u001b[38;5;124;03mThis package contains implementations of various streaming corpus I/O format.\u001b[39;00m\n\u001b[0;32m      3\u001b[0m \u001b[38;5;124;03m\"\"\"\u001b[39;00m\n\u001b[0;32m      5\u001b[0m \u001b[38;5;66;03m# bring corpus classes directly into package namespace, to save some typing\u001b[39;00m\n\u001b[1;32m----> 6\u001b[0m \u001b[38;5;28;01mfrom\u001b[39;00m \u001b[38;5;21;01m.\u001b[39;00m\u001b[38;5;21;01mindexedcorpus\u001b[39;00m \u001b[38;5;28;01mimport\u001b[39;00m IndexedCorpus  \u001b[38;5;66;03m# noqa:F401 must appear before the other classes\u001b[39;00m\n\u001b[0;32m      8\u001b[0m \u001b[38;5;28;01mfrom\u001b[39;00m \u001b[38;5;21;01m.\u001b[39;00m\u001b[38;5;21;01mmmcorpus\u001b[39;00m \u001b[38;5;28;01mimport\u001b[39;00m MmCorpus  \u001b[38;5;66;03m# noqa:F401\u001b[39;00m\n\u001b[0;32m      9\u001b[0m \u001b[38;5;28;01mfrom\u001b[39;00m \u001b[38;5;21;01m.\u001b[39;00m\u001b[38;5;21;01mbleicorpus\u001b[39;00m \u001b[38;5;28;01mimport\u001b[39;00m BleiCorpus  \u001b[38;5;66;03m# noqa:F401\u001b[39;00m\n",
      "File \u001b[1;32m~\\anaconda3\\Lib\\site-packages\\gensim\\corpora\\indexedcorpus.py:14\u001b[0m\n\u001b[0;32m     10\u001b[0m \u001b[38;5;28;01mimport\u001b[39;00m \u001b[38;5;21;01mlogging\u001b[39;00m\n\u001b[0;32m     12\u001b[0m \u001b[38;5;28;01mimport\u001b[39;00m \u001b[38;5;21;01mnumpy\u001b[39;00m\n\u001b[1;32m---> 14\u001b[0m \u001b[38;5;28;01mfrom\u001b[39;00m \u001b[38;5;21;01mgensim\u001b[39;00m \u001b[38;5;28;01mimport\u001b[39;00m interfaces, utils\n\u001b[0;32m     16\u001b[0m logger \u001b[38;5;241m=\u001b[39m logging\u001b[38;5;241m.\u001b[39mgetLogger(\u001b[38;5;18m__name__\u001b[39m)\n\u001b[0;32m     19\u001b[0m \u001b[38;5;28;01mclass\u001b[39;00m \u001b[38;5;21;01mIndexedCorpus\u001b[39;00m(interfaces\u001b[38;5;241m.\u001b[39mCorpusABC):\n",
      "File \u001b[1;32m~\\anaconda3\\Lib\\site-packages\\gensim\\interfaces.py:19\u001b[0m\n\u001b[0;32m      7\u001b[0m \u001b[38;5;124;03m\"\"\"Basic interfaces used across the whole Gensim package.\u001b[39;00m\n\u001b[0;32m      8\u001b[0m \n\u001b[0;32m      9\u001b[0m \u001b[38;5;124;03mThese interfaces are used for building corpora, model transformation and similarity queries.\u001b[39;00m\n\u001b[1;32m   (...)\u001b[0m\n\u001b[0;32m     14\u001b[0m \n\u001b[0;32m     15\u001b[0m \u001b[38;5;124;03m\"\"\"\u001b[39;00m\n\u001b[0;32m     17\u001b[0m \u001b[38;5;28;01mimport\u001b[39;00m \u001b[38;5;21;01mlogging\u001b[39;00m\n\u001b[1;32m---> 19\u001b[0m \u001b[38;5;28;01mfrom\u001b[39;00m \u001b[38;5;21;01mgensim\u001b[39;00m \u001b[38;5;28;01mimport\u001b[39;00m utils, matutils\n\u001b[0;32m     22\u001b[0m logger \u001b[38;5;241m=\u001b[39m logging\u001b[38;5;241m.\u001b[39mgetLogger(\u001b[38;5;18m__name__\u001b[39m)\n\u001b[0;32m     25\u001b[0m \u001b[38;5;28;01mclass\u001b[39;00m \u001b[38;5;21;01mCorpusABC\u001b[39;00m(utils\u001b[38;5;241m.\u001b[39mSaveLoad):\n",
      "File \u001b[1;32m~\\anaconda3\\Lib\\site-packages\\gensim\\matutils.py:20\u001b[0m\n\u001b[0;32m     18\u001b[0m \u001b[38;5;28;01mimport\u001b[39;00m \u001b[38;5;21;01mscipy\u001b[39;00m\u001b[38;5;21;01m.\u001b[39;00m\u001b[38;5;21;01msparse\u001b[39;00m\n\u001b[0;32m     19\u001b[0m \u001b[38;5;28;01mfrom\u001b[39;00m \u001b[38;5;21;01mscipy\u001b[39;00m\u001b[38;5;21;01m.\u001b[39;00m\u001b[38;5;21;01mstats\u001b[39;00m \u001b[38;5;28;01mimport\u001b[39;00m entropy\n\u001b[1;32m---> 20\u001b[0m \u001b[38;5;28;01mfrom\u001b[39;00m \u001b[38;5;21;01mscipy\u001b[39;00m\u001b[38;5;21;01m.\u001b[39;00m\u001b[38;5;21;01mlinalg\u001b[39;00m \u001b[38;5;28;01mimport\u001b[39;00m get_blas_funcs, triu\n\u001b[0;32m     21\u001b[0m \u001b[38;5;28;01mfrom\u001b[39;00m \u001b[38;5;21;01mscipy\u001b[39;00m\u001b[38;5;21;01m.\u001b[39;00m\u001b[38;5;21;01mlinalg\u001b[39;00m\u001b[38;5;21;01m.\u001b[39;00m\u001b[38;5;21;01mlapack\u001b[39;00m \u001b[38;5;28;01mimport\u001b[39;00m get_lapack_funcs\n\u001b[0;32m     22\u001b[0m \u001b[38;5;28;01mfrom\u001b[39;00m \u001b[38;5;21;01mscipy\u001b[39;00m\u001b[38;5;21;01m.\u001b[39;00m\u001b[38;5;21;01mspecial\u001b[39;00m \u001b[38;5;28;01mimport\u001b[39;00m psi  \u001b[38;5;66;03m# gamma function utils\u001b[39;00m\n",
      "\u001b[1;31mImportError\u001b[0m: cannot import name 'triu' from 'scipy.linalg' (C:\\Users\\Abhay\\anaconda3\\Lib\\site-packages\\scipy\\linalg\\__init__.py)"
     ]
    }
   ],
   "source": [
    "from gensim.models import Word2Vec,KeyedVectors\n",
    "from gensim.utils import simple_preprocess\n",
    "import gensim.downloader as api\n",
    "from scipy import linalg\n",
    "from scipy.linalg import triu\n"
   ]
  },
  {
   "cell_type": "code",
   "execution_count": null,
   "metadata": {
    "id": "l1_gDcw0uFdZ"
   },
   "outputs": [],
   "source": []
  },
  {
   "cell_type": "code",
   "execution_count": 28,
   "metadata": {
    "colab": {
     "base_uri": "https://localhost:8080/"
    },
    "id": "ptWmO6xMt7h6",
    "outputId": "648e5c4e-f0db-469d-ea15-b20e68d491d0"
   },
   "outputs": [
    {
     "ename": "NameError",
     "evalue": "name 'api' is not defined",
     "output_type": "error",
     "traceback": [
      "\u001b[1;31m---------------------------------------------------------------------------\u001b[0m",
      "\u001b[1;31mNameError\u001b[0m                                 Traceback (most recent call last)",
      "Cell \u001b[1;32mIn[28], line 1\u001b[0m\n\u001b[1;32m----> 1\u001b[0m wv\u001b[38;5;241m=\u001b[39mapi\u001b[38;5;241m.\u001b[39mload(\u001b[38;5;124m'\u001b[39m\u001b[38;5;124mword2vec-google-news-300\u001b[39m\u001b[38;5;124m'\u001b[39m)\n",
      "\u001b[1;31mNameError\u001b[0m: name 'api' is not defined"
     ]
    }
   ],
   "source": [
    "wv=api.load('word2vec-google-news-300')\n"
   ]
  },
  {
   "cell_type": "code",
   "execution_count": null,
   "metadata": {
    "colab": {
     "base_uri": "https://localhost:8080/"
    },
    "id": "kJmzMgpTJ45g",
    "outputId": "dd48f80c-45ce-4425-8a61-5b643202526b"
   },
   "outputs": [
    {
     "name": "stdout",
     "output_type": "stream",
     "text": [
      "[ 0.22070312 -0.22558594  0.0324707   0.17382812 -0.14453125  0.04785156\n",
      " -0.13183594 -0.35546875  0.15527344 -0.33007812  0.14160156 -0.21777344\n",
      " -0.203125    0.140625    0.20214844 -0.07714844  0.13574219 -0.11669922\n",
      " -0.21777344  0.05541992  0.14746094  0.12597656  0.34765625  0.03637695\n",
      " -0.27734375 -0.15136719 -0.33789062  0.2109375   0.11083984 -0.29296875\n",
      " -0.03149414 -0.0703125  -0.16601562 -0.13769531 -0.10839844 -0.16210938\n",
      " -0.006073    0.06542969  0.453125   -0.00305176 -0.06494141 -0.16796875\n",
      "  0.14257812  0.36914062  0.21875    -0.13378906 -0.04272461 -0.09277344\n",
      " -0.19140625 -0.30664062 -0.07275391 -0.26171875 -0.07519531  0.21875\n",
      "  0.14746094  0.0534668  -0.1875      0.22949219 -0.09619141 -0.20214844\n",
      "  0.06835938 -0.25       -0.06738281  0.24609375 -0.31054688 -0.05737305\n",
      "  0.16113281 -0.171875    0.06347656  0.29101562 -0.20019531  0.36132812\n",
      "  0.21386719 -0.109375    0.04418945 -0.10449219 -0.05200195 -0.0859375\n",
      "  0.29882812 -0.04272461 -0.22265625 -0.02062988  0.16210938  0.02490234\n",
      "  0.22363281 -0.03466797 -0.26757812  0.09326172 -0.03710938  0.03588867\n",
      " -0.15625    -0.34765625 -0.1015625  -0.3515625  -0.03442383  0.33203125\n",
      " -0.00233459 -0.171875    0.54296875  0.09277344  0.02819824  0.02282715\n",
      " -0.00466919 -0.01104736 -0.02331543  0.15039062 -0.24902344 -0.14941406\n",
      "  0.16113281  0.05322266 -0.33398438 -0.37109375 -0.04467773 -0.12695312\n",
      "  0.31640625 -0.18457031 -0.03393555 -0.11376953 -0.07958984  0.02587891\n",
      "  0.1875     -0.28515625 -0.40625     0.11083984 -0.01904297  0.09912109\n",
      " -0.15136719  0.20410156 -0.0177002   0.00842285 -0.19140625 -0.26171875\n",
      " -0.18359375  0.01489258 -0.09033203 -0.14257812 -0.07910156  0.05224609\n",
      " -0.10058594 -0.11523438  0.28320312 -0.0480957  -0.08154297 -0.32617188\n",
      "  0.21582031  0.22753906 -0.1796875  -0.06787109 -0.00267029 -0.5078125\n",
      "  0.11962891  0.11035156  0.046875   -0.23925781 -0.0177002  -0.15527344\n",
      "  0.11083984 -0.23535156  0.02246094  0.07324219 -0.23339844 -0.05029297\n",
      " -0.28515625  0.2578125  -0.04443359 -0.17675781 -0.06982422  0.01928711\n",
      " -0.36132812  0.46679688 -0.03881836  0.29296875  0.03051758  0.21289062\n",
      " -0.26367188  0.17578125  0.12109375 -0.06396484  0.3125     -0.23632812\n",
      "  0.20019531 -0.07714844 -0.06640625  0.109375    0.15039062 -0.03149414\n",
      " -0.2265625   0.1875      0.1640625  -0.13378906  0.09472656  0.09960938\n",
      " -0.30078125  0.08300781  0.12255859  0.30859375  0.0189209   0.10986328\n",
      " -0.13378906 -0.26367188 -0.10742188  0.25390625  0.12597656 -0.1953125\n",
      "  0.2890625  -0.0019455   0.03466797 -0.09423828 -0.5078125   0.16308594\n",
      "  0.00714111  0.29882812 -0.0859375  -0.03930664 -0.13574219 -0.06689453\n",
      " -0.09619141 -0.10400391 -0.203125   -0.11621094 -0.29101562  0.1640625\n",
      " -0.02111816  0.19238281  0.234375   -0.24121094 -0.18945312  0.14941406\n",
      " -0.1484375   0.0135498  -0.0703125   0.24511719 -0.15820312 -0.10351562\n",
      "  0.14941406 -0.46484375  0.34570312 -0.23828125  0.16894531  0.35742188\n",
      "  0.23535156  0.15429688 -0.01190186  0.19628906 -0.31054688  0.3203125\n",
      "  0.06542969  0.2890625  -0.26757812 -0.19140625  0.02185059  0.25585938\n",
      "  0.10058594  0.30078125  0.39453125 -0.07470703  0.06933594  0.2890625\n",
      " -0.13867188 -0.28710938  0.10888672  0.07763672  0.12792969 -0.27734375\n",
      " -0.3203125   0.01965332 -0.15527344  0.03063965 -0.15332031  0.01660156\n",
      "  0.06542969  0.515625   -0.0037384   0.06494141 -0.09765625 -0.27734375\n",
      "  0.02270508 -0.10351562  0.203125    0.19628906  0.12451172  0.06445312\n",
      " -0.31835938  0.20703125 -0.07373047 -0.00337219 -0.1796875   0.38085938\n",
      "  0.40820312  0.02624512  0.36132812  0.21972656 -0.23046875 -0.05566406\n",
      "  0.02185059 -0.34179688  0.34960938 -0.3359375  -0.14746094 -0.32226562]\n"
     ]
    },
    {
     "data": {
      "text/plain": [
       "300"
      ]
     },
     "execution_count": 28,
     "metadata": {},
     "output_type": "execute_result"
    }
   ],
   "source": [
    "vec_cricket=wv['facebook']\n",
    "print(vec_cricket)\n",
    "len(vec_cricket)"
   ]
  },
  {
   "cell_type": "code",
   "execution_count": null,
   "metadata": {
    "colab": {
     "base_uri": "https://localhost:8080/"
    },
    "id": "XfrfnV33KlL0",
    "outputId": "0d0fc608-0657-4c97-d441-39af7c40fabf"
   },
   "outputs": [
    {
     "data": {
      "text/plain": [
       "[('cricketing', 0.8372225761413574),\n",
       " ('cricketers', 0.8165745735168457),\n",
       " ('Test_cricket', 0.8094819188117981),\n",
       " ('Twenty##_cricket', 0.8068488240242004),\n",
       " ('Twenty##', 0.7624265551567078),\n",
       " ('Cricket', 0.75413978099823),\n",
       " ('cricketer', 0.7372578382492065),\n",
       " ('twenty##', 0.7316356897354126),\n",
       " ('T##_cricket', 0.7304614186286926),\n",
       " ('West_Indies_cricket', 0.6987985968589783)]"
      ]
     },
     "execution_count": 22,
     "metadata": {},
     "output_type": "execute_result"
    }
   ],
   "source": [
    "wv.most_similar('cricket')"
   ]
  },
  {
   "cell_type": "code",
   "execution_count": null,
   "metadata": {
    "colab": {
     "base_uri": "https://localhost:8080/"
    },
    "id": "5h8Fpp4vycjX",
    "outputId": "0a39f809-fce5-4aba-a5bf-6ed085c9cf18"
   },
   "outputs": [
    {
     "name": "stdout",
     "output_type": "stream",
     "text": [
      "[ 1.25976562e-01  2.97851562e-02  8.60595703e-03  1.39648438e-01\n",
      " -2.56347656e-02 -3.61328125e-02  1.11816406e-01 -1.98242188e-01\n",
      "  5.12695312e-02  3.63281250e-01 -2.42187500e-01 -3.02734375e-01\n",
      " -1.77734375e-01 -2.49023438e-02 -1.67968750e-01 -1.69921875e-01\n",
      "  3.46679688e-02  5.21850586e-03  4.63867188e-02  1.28906250e-01\n",
      "  1.36718750e-01  1.12792969e-01  5.95703125e-02  1.36718750e-01\n",
      "  1.01074219e-01 -1.76757812e-01 -2.51953125e-01  5.98144531e-02\n",
      "  3.41796875e-01 -3.11279297e-02  1.04492188e-01  6.17675781e-02\n",
      "  1.24511719e-01  4.00390625e-01 -3.22265625e-01  8.39843750e-02\n",
      "  3.90625000e-02  5.85937500e-03  7.03125000e-02  1.72851562e-01\n",
      "  1.38671875e-01 -2.31445312e-01  2.83203125e-01  1.42578125e-01\n",
      "  3.41796875e-01 -2.39257812e-02 -1.09863281e-01  3.32031250e-02\n",
      " -5.46875000e-02  1.53198242e-02 -1.62109375e-01  1.58203125e-01\n",
      " -2.59765625e-01  2.01416016e-02 -1.63085938e-01  1.35803223e-03\n",
      " -1.44531250e-01 -5.68847656e-02  4.29687500e-02 -2.46582031e-02\n",
      "  1.85546875e-01  4.47265625e-01  9.58251953e-03  1.31835938e-01\n",
      "  9.86328125e-02 -1.85546875e-01 -1.00097656e-01 -1.33789062e-01\n",
      " -1.25000000e-01  2.83203125e-01  1.23046875e-01  5.32226562e-02\n",
      " -1.77734375e-01  8.59375000e-02 -2.18505859e-02  2.05078125e-02\n",
      " -1.39648438e-01  2.51464844e-02  1.38671875e-01 -1.05468750e-01\n",
      "  1.38671875e-01  8.88671875e-02 -7.51953125e-02 -2.13623047e-02\n",
      "  1.72851562e-01  4.63867188e-02 -2.65625000e-01  8.91113281e-03\n",
      "  1.49414062e-01  3.78417969e-02  2.38281250e-01 -1.24511719e-01\n",
      " -2.17773438e-01 -1.81640625e-01  2.97851562e-02  5.71289062e-02\n",
      " -2.89306641e-02  1.24511719e-02  9.66796875e-02 -2.31445312e-01\n",
      "  5.81054688e-02  6.68945312e-02  7.08007812e-02 -3.08593750e-01\n",
      " -2.14843750e-01  1.45507812e-01 -4.27734375e-01 -9.39941406e-03\n",
      "  1.54296875e-01 -7.66601562e-02  2.89062500e-01  2.77343750e-01\n",
      " -4.86373901e-04 -1.36718750e-01  3.24218750e-01 -2.46093750e-01\n",
      " -3.03649902e-03 -2.11914062e-01  1.25000000e-01  2.69531250e-01\n",
      "  2.04101562e-01  8.25195312e-02 -2.01171875e-01 -1.60156250e-01\n",
      " -3.78417969e-02 -1.20117188e-01  1.15234375e-01 -4.10156250e-02\n",
      " -3.95507812e-02 -8.98437500e-02  6.34765625e-03  2.03125000e-01\n",
      "  1.86523438e-01  2.73437500e-01  6.29882812e-02  1.41601562e-01\n",
      " -9.81445312e-02  1.38671875e-01  1.82617188e-01  1.73828125e-01\n",
      "  1.73828125e-01 -2.37304688e-01  1.78710938e-01  6.34765625e-02\n",
      "  2.36328125e-01 -2.08984375e-01  8.74023438e-02 -1.66015625e-01\n",
      " -7.91015625e-02  2.43164062e-01 -8.88671875e-02  1.26953125e-01\n",
      " -2.16796875e-01 -1.73828125e-01 -3.59375000e-01 -8.25195312e-02\n",
      " -6.49414062e-02  5.07812500e-02  1.35742188e-01 -7.47070312e-02\n",
      " -1.64062500e-01  1.15356445e-02  4.45312500e-01 -2.15820312e-01\n",
      " -1.11328125e-01 -1.92382812e-01  1.70898438e-01 -1.25000000e-01\n",
      "  2.65502930e-03  1.92382812e-01 -1.74804688e-01  1.39648438e-01\n",
      "  2.92968750e-01  1.13281250e-01  5.95703125e-02 -6.39648438e-02\n",
      "  9.96093750e-02 -2.72216797e-02  1.96533203e-02  4.27246094e-02\n",
      " -2.46093750e-01  6.39648438e-02 -2.25585938e-01 -1.68945312e-01\n",
      "  2.89916992e-03  8.20312500e-02  3.41796875e-01  4.32128906e-02\n",
      "  1.32812500e-01  1.42578125e-01  7.61718750e-02  5.98144531e-02\n",
      " -1.19140625e-01  2.74658203e-03 -6.29882812e-02 -2.72216797e-02\n",
      " -4.82177734e-03 -8.20312500e-02 -2.49023438e-02 -4.00390625e-01\n",
      " -1.06933594e-01  4.24804688e-02  7.76367188e-02 -1.16699219e-01\n",
      "  7.37304688e-02 -9.22851562e-02  1.07910156e-01  1.58203125e-01\n",
      "  4.24804688e-02  1.26953125e-01  3.61328125e-02  2.67578125e-01\n",
      " -1.01074219e-01 -3.02734375e-01 -5.76171875e-02  5.05371094e-02\n",
      "  5.26428223e-04 -2.07031250e-01 -1.38671875e-01 -8.97216797e-03\n",
      " -2.78320312e-02 -1.41601562e-01  2.07031250e-01 -1.58203125e-01\n",
      "  1.27929688e-01  1.49414062e-01 -2.24609375e-02 -8.44726562e-02\n",
      "  1.22558594e-01  2.15820312e-01 -2.13867188e-01 -3.12500000e-01\n",
      " -3.73046875e-01  4.08935547e-03  1.07421875e-01  1.06933594e-01\n",
      "  7.32421875e-02  8.97216797e-03 -3.88183594e-02 -1.29882812e-01\n",
      "  1.49414062e-01 -2.14843750e-01 -1.83868408e-03  9.91210938e-02\n",
      "  1.57226562e-01 -1.14257812e-01 -2.05078125e-01  9.91210938e-02\n",
      "  3.69140625e-01 -1.97265625e-01  3.54003906e-02  1.09375000e-01\n",
      "  1.31835938e-01  1.66992188e-01  2.35351562e-01  1.04980469e-01\n",
      " -4.96093750e-01 -1.64062500e-01 -1.56250000e-01 -5.22460938e-02\n",
      "  1.03027344e-01  2.43164062e-01 -1.88476562e-01  5.07812500e-02\n",
      " -9.37500000e-02 -6.68945312e-02  2.27050781e-02  7.61718750e-02\n",
      "  2.89062500e-01  3.10546875e-01 -5.37109375e-02  2.28515625e-01\n",
      "  2.51464844e-02  6.78710938e-02 -1.21093750e-01 -2.15820312e-01\n",
      " -2.73437500e-01 -3.07617188e-02 -3.37890625e-01  1.53320312e-01\n",
      "  2.33398438e-01 -2.08007812e-01  3.73046875e-01  8.20312500e-02\n",
      "  2.51953125e-01 -7.61718750e-02 -4.66308594e-02 -2.23388672e-02\n",
      "  2.99072266e-02 -5.93261719e-02 -4.66918945e-03 -2.44140625e-01\n",
      " -2.09960938e-01 -2.87109375e-01 -4.54101562e-02 -1.77734375e-01\n",
      " -2.79296875e-01 -8.59375000e-02  9.13085938e-02  2.51953125e-01]\n"
     ]
    },
    {
     "data": {
      "text/plain": [
       "300"
      ]
     },
     "execution_count": 18,
     "metadata": {},
     "output_type": "execute_result"
    }
   ],
   "source": [
    "vec_king=wv['king']\n",
    "print(vec_king)\n",
    "vec_king.shape\n",
    "len(vec_king)"
   ]
  },
  {
   "cell_type": "code",
   "execution_count": null,
   "metadata": {
    "colab": {
     "base_uri": "https://localhost:8080/"
    },
    "id": "5e8E-8_4AFcB",
    "outputId": "7ad0773b-0cd9-4deb-ed98-90ce022dea90"
   },
   "outputs": [
    {
     "data": {
      "text/plain": [
       "0.76640123"
      ]
     },
     "execution_count": 23,
     "metadata": {},
     "output_type": "execute_result"
    }
   ],
   "source": [
    "wv.similarity('man','woman')"
   ]
  },
  {
   "cell_type": "code",
   "execution_count": null,
   "metadata": {
    "colab": {
     "base_uri": "https://localhost:8080/",
     "height": 36
    },
    "id": "okXbAmIALYQv",
    "outputId": "d3f42545-ce2d-4c34-995a-892933574f20"
   },
   "outputs": [
    {
     "data": {
      "application/vnd.google.colaboratory.intrinsic+json": {
       "type": "string"
      },
      "text/plain": [
       "'cricket'"
      ]
     },
     "execution_count": 25,
     "metadata": {},
     "output_type": "execute_result"
    }
   ],
   "source": [
    "wv.doesnt_match(['cricket','java','python'])"
   ]
  },
  {
   "cell_type": "markdown",
   "metadata": {
    "id": "PmnjElV0MTWj"
   },
   "source": [
    "Vector arithmetic"
   ]
  },
  {
   "cell_type": "code",
   "execution_count": null,
   "metadata": {
    "colab": {
     "base_uri": "https://localhost:8080/"
    },
    "id": "SsRVRw2SMYP3",
    "outputId": "fad6b4a4-1291-4ebd-9d32-3a3ba0588124"
   },
   "outputs": [
    {
     "data": {
      "text/plain": [
       "[('king', 0.8449392318725586),\n",
       " ('queen', 0.7300517559051514),\n",
       " ('monarch', 0.645466148853302),\n",
       " ('princess', 0.6156251430511475),\n",
       " ('crown_prince', 0.5818676352500916),\n",
       " ('prince', 0.5777117609977722),\n",
       " ('kings', 0.5613663792610168),\n",
       " ('sultan', 0.5376775860786438),\n",
       " ('Queen_Consort', 0.5344247817993164),\n",
       " ('queens', 0.5289887189865112)]"
      ]
     },
     "execution_count": 26,
     "metadata": {},
     "output_type": "execute_result"
    }
   ],
   "source": [
    "vec=wv['king']-wv['man']+wv['woman']\n",
    "wv.most_similar([vec])"
   ]
  },
  {
   "cell_type": "code",
   "execution_count": null,
   "metadata": {
    "colab": {
     "base_uri": "https://localhost:8080/"
    },
    "id": "1pEacp_SNCM7",
    "outputId": "d467cc69-9e67-46c3-a8a6-29c55982ee9b"
   },
   "outputs": [
    {
     "data": {
      "text/plain": [
       "[('INR', 0.6442341208457947),\n",
       " ('GBP', 0.5040826797485352),\n",
       " ('£_##.###m', 0.4540838301181793),\n",
       " ('England', 0.44649264216423035),\n",
       " ('£', 0.43340998888015747),\n",
       " ('Â_£', 0.4307197630405426),\n",
       " ('stg###', 0.4299262464046478),\n",
       " ('£_#.##m', 0.42561301589012146),\n",
       " ('Pounds_Sterling', 0.42512619495391846),\n",
       " ('GBP##', 0.42464491724967957)]"
      ]
     },
     "execution_count": 27,
     "metadata": {},
     "output_type": "execute_result"
    }
   ],
   "source": [
    "vec1=wv['INR']-wv['India']+wv['England']\n",
    "wv.most_similar([vec1])"
   ]
  },
  {
   "cell_type": "code",
   "execution_count": null,
   "metadata": {
    "id": "bCDoTYNOM44y"
   },
   "outputs": [],
   "source": []
  }
 ],
 "metadata": {
  "colab": {
   "provenance": []
  },
  "kernelspec": {
   "display_name": "Python 3 (ipykernel)",
   "language": "python",
   "name": "python3"
  },
  "language_info": {
   "codemirror_mode": {
    "name": "ipython",
    "version": 3
   },
   "file_extension": ".py",
   "mimetype": "text/x-python",
   "name": "python",
   "nbconvert_exporter": "python",
   "pygments_lexer": "ipython3",
   "version": "3.12.4"
  }
 },
 "nbformat": 4,
 "nbformat_minor": 4
}
