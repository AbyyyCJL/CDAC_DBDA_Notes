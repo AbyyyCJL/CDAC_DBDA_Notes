{
 "cells": [
  {
   "cell_type": "code",
   "execution_count": 1,
   "id": "3bb8da2d-a389-4361-9c77-9139391e21f9",
   "metadata": {},
   "outputs": [],
   "source": [
    "import pandas as pd\n",
    "import numpy as np\n",
    "import os\n",
    "from numpy import random\n",
    "import scipy \n",
    "from scipy import stats\n",
    "from matplotlib import pyplot as plt\n",
    "from scipy.stats import binom\n",
    "from scipy.stats import poisson\n",
    "from scipy.stats import norm ,t\n",
    "import seaborn as sns\n",
    "import pylab\n",
    "from pylab import legend,plot,show,title,xlabel,ylabel\n",
    "from random import choice\n",
    "import statsmodels\n",
    "from statsmodels import stats\n",
    "from statsmodels.stats import weightstats as ssw\n",
    "import statsmodels.api as sm\n",
    "from statsmodels.formula.api import ols\n",
    "import statsmodels.stats.multicomp\n",
    "from statsmodels.stats.multicomp import pairwise_tukeyhsd\n",
    "from statsmodels.stats import proportion  as ssp\n",
    "from scipy.stats import chisquare\n",
    "from scipy.stats import chi2_contingency\n",
    "from sklearn.model_selection import train_test_split\n",
    "from sklearn.metrics import confusion_matrix\n",
    "from sklearn.metrics import classification_report\n",
    "from statsmodels.stats.outliers_influence import variance_inflation_factor\n",
    "from statsmodels import discrete\n",
    "from statsmodels.discrete import discrete_model\n",
    "from statsmodels.discrete.discrete_model import MNLogit\n",
    "from statsmodels.miscmodels.ordinal_model import OrderedModel\n",
    "import statsmodels.formula.api as smf\n",
    "from statsmodels.discrete.discrete_model import Poisson as psn\n",
    "from statsmodels.discrete.discrete_model import NegativeBinomial as ngb\n",
    "from sklearn.preprocessing import MinMaxScaler\n",
    "from sklearn.preprocessing import StandardScaler, LabelEncoder\n",
    "from sklearn.feature_selection import mutual_info_classif\n",
    "from sklearn.feature_selection import SelectKBest\n",
    "from sklearn.ensemble import ExtraTreesClassifier\n",
    "from sklearn.feature_selection import SequentialFeatureSelector\n",
    "from sklearn.linear_model import LinearRegression\n",
    "from sklearn.linear_model import Ridge\n",
    "from sklearn.linear_model import Lasso\n",
    "from sklearn.model_selection import GridSearchCV\n",
    "from sklearn.tree import DecisionTreeClassifier\n",
    "from sklearn.ensemble import RandomForestClassifier\n",
    "from sklearn.metrics import classification_report, accuracy_score\n",
    "from sklearn.linear_model import LogisticRegression\n",
    "from sklearn.decomposition import PCA\n",
    "from sklearn.discriminant_analysis import LinearDiscriminantAnalysis\n",
    "from sklearn.neighbors import KNeighborsClassifier\n",
    "from sklearn.naive_bayes import GaussianNB"
   ]
  },
  {
   "cell_type": "markdown",
   "id": "41b7e328-d6a8-4577-b328-052e7162baf3",
   "metadata": {},
   "source": [
    "# Supervised Learning:\n",
    "### Types of Supervised Learning:\n",
    "1. KNN (k-nearest neighbor algorithm):\n",
    "- To find the distance we need to use euclidean distance formula --->  d = √[(x2 – x1)2 + (y2 – y1)2].\n",
    "- Scaling is requried because so that the effect of large numbers does not over shadow the effect of small numbers, Eg --> Age does not pver shadow salary.\n",
    "- When we take large value of K will lead to under-fitting so model said to be too general, missing out on immportant patterns.\n",
    "- When we take small value of K will lead to over-fitting so model said to be too specfic \n",
    "2. Naive Bayes\n",
    "3. SVM (Support Vector Machine)"
   ]
  },
  {
   "cell_type": "markdown",
   "id": "bebcc14f-4fc7-4f2f-86b0-13c7a92b5f18",
   "metadata": {},
   "source": [
    "## KNN"
   ]
  },
  {
   "cell_type": "code",
   "execution_count": 4,
   "id": "5e2430a1-6600-4453-9840-24e2866383f5",
   "metadata": {},
   "outputs": [],
   "source": [
    "df = pd.read_excel('CDAC_DataBook.xlsx',sheet_name='iris')"
   ]
  },
  {
   "cell_type": "code",
   "execution_count": 6,
   "id": "662532f3-1306-4e16-a702-98ca3fd65db8",
   "metadata": {},
   "outputs": [],
   "source": [
    "x = df.drop('Species',axis=1)\n",
    "y = df.Species"
   ]
  },
  {
   "cell_type": "code",
   "execution_count": 8,
   "id": "69a2e3ba-c898-4a9a-a3ec-1db13051367c",
   "metadata": {},
   "outputs": [],
   "source": [
    "x_train , x_test , y_train , y_test = train_test_split(x,y, test_size=0.2,random_state=20)"
   ]
  },
  {
   "cell_type": "code",
   "execution_count": 10,
   "id": "8add8422-8899-4d6d-b39d-e377c77995fa",
   "metadata": {},
   "outputs": [],
   "source": [
    "mod1 = KNeighborsClassifier(n_neighbors=5).fit(x_train,y_train)"
   ]
  },
  {
   "cell_type": "code",
   "execution_count": 12,
   "id": "637bc088-eed5-4572-8ad2-516ff3b0505d",
   "metadata": {},
   "outputs": [],
   "source": [
    "y_pred = mod1.predict(x_test)"
   ]
  },
  {
   "cell_type": "code",
   "execution_count": 14,
   "id": "4f017fdd-2ea9-4b21-9ccf-259b1f551acd",
   "metadata": {},
   "outputs": [
    {
     "name": "stdout",
     "output_type": "stream",
     "text": [
      "[[ 8  0  0]\n",
      " [ 0 10  0]\n",
      " [ 0  1 11]]\n"
     ]
    }
   ],
   "source": [
    "print(confusion_matrix(y_pred,y_test))"
   ]
  },
  {
   "cell_type": "code",
   "execution_count": 16,
   "id": "5505606d-2b79-4879-8d0b-ef2788a06bfe",
   "metadata": {},
   "outputs": [
    {
     "name": "stdout",
     "output_type": "stream",
     "text": [
      "                 precision    recall  f1-score   support\n",
      "\n",
      "    Iris-setosa       1.00      1.00      1.00         8\n",
      "Iris-versicolor       1.00      0.91      0.95        11\n",
      " Iris-virginica       0.92      1.00      0.96        11\n",
      "\n",
      "       accuracy                           0.97        30\n",
      "      macro avg       0.97      0.97      0.97        30\n",
      "   weighted avg       0.97      0.97      0.97        30\n",
      "\n"
     ]
    }
   ],
   "source": [
    "print(classification_report(y_test,y_pred))"
   ]
  },
  {
   "cell_type": "code",
   "execution_count": 18,
   "id": "8705ee50-3e00-4baf-a9b7-e41cb81a1746",
   "metadata": {},
   "outputs": [
    {
     "name": "stdout",
     "output_type": "stream",
     "text": [
      "[[ 8  0  0]\n",
      " [ 0 10  2]\n",
      " [ 0  1  9]]\n"
     ]
    }
   ],
   "source": [
    "mod2 = KNeighborsClassifier(n_neighbors=2).fit(x_train,y_train)\n",
    "y_pred1 = mod2.predict(x_test)\n",
    "print(confusion_matrix(y_pred1,y_test))"
   ]
  },
  {
   "cell_type": "code",
   "execution_count": 20,
   "id": "26e7fef8-f797-43a9-91b7-d2b90ba7fbfc",
   "metadata": {},
   "outputs": [
    {
     "name": "stdout",
     "output_type": "stream",
     "text": [
      "                 precision    recall  f1-score   support\n",
      "\n",
      "    Iris-setosa       1.00      1.00      1.00         8\n",
      "Iris-versicolor       0.83      0.91      0.87        11\n",
      " Iris-virginica       0.90      0.82      0.86        11\n",
      "\n",
      "       accuracy                           0.90        30\n",
      "      macro avg       0.91      0.91      0.91        30\n",
      "   weighted avg       0.90      0.90      0.90        30\n",
      "\n"
     ]
    }
   ],
   "source": [
    "print(classification_report(y_test,y_pred1))"
   ]
  },
  {
   "cell_type": "code",
   "execution_count": 22,
   "id": "fa88f006-0d4e-4e57-a564-5aaf59c6b511",
   "metadata": {},
   "outputs": [
    {
     "data": {
      "text/plain": [
       "1.0"
      ]
     },
     "execution_count": 22,
     "metadata": {},
     "output_type": "execute_result"
    }
   ],
   "source": [
    "8 / (8+0) # recall --> Iris-setosa"
   ]
  },
  {
   "cell_type": "code",
   "execution_count": 24,
   "id": "6e97aeff-498f-40e3-b662-fd1d65939c49",
   "metadata": {},
   "outputs": [
    {
     "data": {
      "text/plain": [
       "1.0"
      ]
     },
     "execution_count": 24,
     "metadata": {},
     "output_type": "execute_result"
    }
   ],
   "source": [
    "8 / (8+0) # precision --> Iris-setosa"
   ]
  },
  {
   "cell_type": "code",
   "execution_count": 26,
   "id": "2379f1d9-bb7a-4099-a3e4-a45241355421",
   "metadata": {},
   "outputs": [
    {
     "data": {
      "text/plain": [
       "0.9090909090909091"
      ]
     },
     "execution_count": 26,
     "metadata": {},
     "output_type": "execute_result"
    }
   ],
   "source": [
    "10 / (10+1) # recall --> Iris-versicolor"
   ]
  },
  {
   "cell_type": "code",
   "execution_count": 28,
   "id": "6969b655-5369-4462-ace4-feaf09247503",
   "metadata": {},
   "outputs": [
    {
     "data": {
      "text/plain": [
       "0.8333333333333334"
      ]
     },
     "execution_count": 28,
     "metadata": {},
     "output_type": "execute_result"
    }
   ],
   "source": [
    "10 / (10+2) # precision --> Iris-versicolor"
   ]
  },
  {
   "cell_type": "code",
   "execution_count": 30,
   "id": "42b3b4d9-51d9-42f0-a26f-d0cdc673899e",
   "metadata": {},
   "outputs": [
    {
     "data": {
      "text/plain": [
       "0.8181818181818182"
      ]
     },
     "execution_count": 30,
     "metadata": {},
     "output_type": "execute_result"
    }
   ],
   "source": [
    "9 / (9+2) # recall --> Iris-virginica"
   ]
  },
  {
   "cell_type": "code",
   "execution_count": 32,
   "id": "f578a50b-3cb5-41f6-b38d-40a080dfa208",
   "metadata": {},
   "outputs": [
    {
     "data": {
      "text/plain": [
       "0.9"
      ]
     },
     "execution_count": 32,
     "metadata": {},
     "output_type": "execute_result"
    }
   ],
   "source": [
    "9 / (9+ 1) # precision  --> Iris-virginica"
   ]
  },
  {
   "cell_type": "code",
   "execution_count": null,
   "id": "4755cb25-f222-452c-a27d-1a29f909f7a0",
   "metadata": {},
   "outputs": [],
   "source": []
  },
  {
   "cell_type": "markdown",
   "id": "8edac7ea-04bb-4573-bf56-0e836cd962ed",
   "metadata": {},
   "source": [
    "## Naive Bayes"
   ]
  },
  {
   "cell_type": "code",
   "execution_count": 35,
   "id": "08b18ebf-566d-49e4-a678-f5ba173569ca",
   "metadata": {},
   "outputs": [],
   "source": [
    "mod3 = GaussianNB().fit(x_train, y_train)"
   ]
  },
  {
   "cell_type": "code",
   "execution_count": 37,
   "id": "dbf34965-9834-46dc-be2f-4f62e002f9e6",
   "metadata": {},
   "outputs": [],
   "source": [
    "y_pred = mod3.predict(x_test)"
   ]
  },
  {
   "cell_type": "code",
   "execution_count": 39,
   "id": "fd84cee4-d908-4ca5-aed2-1650f188af36",
   "metadata": {},
   "outputs": [
    {
     "name": "stdout",
     "output_type": "stream",
     "text": [
      "[[ 8  0  0]\n",
      " [ 0 11  0]\n",
      " [ 0  2  9]]\n"
     ]
    }
   ],
   "source": [
    "print(confusion_matrix(y_test, y_pred))"
   ]
  },
  {
   "cell_type": "code",
   "execution_count": null,
   "id": "0254ef88-4cbf-451b-8e1a-532decec6bf4",
   "metadata": {},
   "outputs": [],
   "source": []
  },
  {
   "cell_type": "markdown",
   "id": "d5e9fbcf-f80d-4350-8c66-a0266b14b832",
   "metadata": {},
   "source": [
    "## SVM (Support Vector Machine)"
   ]
  },
  {
   "cell_type": "code",
   "execution_count": 42,
   "id": "cbe34a20-88ed-48a4-a8b7-efc3b779cf9f",
   "metadata": {},
   "outputs": [],
   "source": [
    "from sklearn import svm"
   ]
  },
  {
   "cell_type": "code",
   "execution_count": 46,
   "id": "8c0feef5-5761-4fe2-ad18-a06b3d180508",
   "metadata": {},
   "outputs": [],
   "source": [
    "svc1 = svm.SVC(kernel='rbf', C=1) # Linear or Poly are other options"
   ]
  },
  {
   "cell_type": "code",
   "execution_count": 48,
   "id": "7d76669e-ff20-4e63-8942-8a5ff84f6326",
   "metadata": {},
   "outputs": [],
   "source": [
    "mod4 = svc1.fit(x_train, y_train)"
   ]
  },
  {
   "cell_type": "code",
   "execution_count": null,
   "id": "4b7be08b-ba85-4f8a-87c6-d088b8d3de94",
   "metadata": {},
   "outputs": [],
   "source": []
  },
  {
   "cell_type": "code",
   "execution_count": null,
   "id": "8aab9a78-27c8-40c5-888a-11df233f4bf9",
   "metadata": {},
   "outputs": [],
   "source": []
  }
 ],
 "metadata": {
  "kernelspec": {
   "display_name": "Python 3 (ipykernel)",
   "language": "python",
   "name": "python3"
  },
  "language_info": {
   "codemirror_mode": {
    "name": "ipython",
    "version": 3
   },
   "file_extension": ".py",
   "mimetype": "text/x-python",
   "name": "python",
   "nbconvert_exporter": "python",
   "pygments_lexer": "ipython3",
   "version": "3.12.4"
  }
 },
 "nbformat": 4,
 "nbformat_minor": 5
}
