{
 "cells": [
  {
   "cell_type": "code",
   "execution_count": 2,
   "id": "364cbe5c-5356-424a-8c2e-4afa369c234f",
   "metadata": {},
   "outputs": [],
   "source": [
    "import pandas as pd\n",
    "import numpy as np\n",
    "import os\n",
    "from numpy import random\n",
    "import scipy \n",
    "from scipy import stats\n",
    "from matplotlib import pyplot as plt\n",
    "from scipy.stats import binom\n",
    "from scipy.stats import poisson\n",
    "from scipy.stats import norm ,t\n",
    "import seaborn as sns\n",
    "import pylab\n",
    "from pylab import legend,plot,show,title,xlabel,ylabel\n",
    "from random import choice\n",
    "import statsmodels\n",
    "from statsmodels import stats\n",
    "from statsmodels.stats import weightstats as ssw\n",
    "import statsmodels.api as sm\n",
    "from statsmodels.formula.api import ols\n",
    "import statsmodels.stats.multicomp\n",
    "from statsmodels.stats.multicomp import pairwise_tukeyhsd\n",
    "from statsmodels.stats import proportion as ssp\n",
    "from scipy.stats import chisquare\n",
    "from scipy.stats import chi2_contingency\n",
    "\n",
    "\n",
    "from sklearn.model_selection import train_test_split\n",
    "from sklearn.metrics import confusion_matrix\n",
    "from sklearn.metrics import classification_report"
   ]
  },
  {
   "cell_type": "markdown",
   "id": "147b1bcb-3ab1-47b8-8377-569827ac250a",
   "metadata": {},
   "source": [
    "#### Now here , the response variable is categorical\n",
    "\n",
    "Response can be nominal or ordinal.\n",
    "\n",
    "Types:\n",
    "\n",
    "1. Binary\n",
    "2. Nominal (Multi categories, **without** logical order)\n",
    "3. Ordinal (Multi categories, **with** logical order)"
   ]
  },
  {
   "cell_type": "raw",
   "id": "632a1a2f-adc1-4a9f-a4bf-1f5d7d2dafe2",
   "metadata": {},
   "source": [
    "Major dominating factor may supress the effect on non-dominating significant factors\n",
    "Because of dominating factor, significant factors which are not that much dominating makes them seem insignificant."
   ]
  },
  {
   "cell_type": "code",
   "execution_count": null,
   "id": "3b7ff5fb-9d88-4d62-8b04-ce90b87512de",
   "metadata": {},
   "outputs": [],
   "source": []
  },
  {
   "cell_type": "markdown",
   "id": "e5b4c404-ce3d-4e47-bda7-3b75cb13c771",
   "metadata": {},
   "source": [
    "# 1] Binary Regression\n",
    "\n",
    "- Response is either 0 or 1."
   ]
  },
  {
   "cell_type": "code",
   "execution_count": 5,
   "id": "bad8252d-38ec-4b31-8e20-5b9f0f4c3a6a",
   "metadata": {},
   "outputs": [],
   "source": [
    "df_cars = pd.read_excel(\"CDAC_Databook.xlsx\", sheet_name = 'mtcars')"
   ]
  },
  {
   "cell_type": "code",
   "execution_count": 6,
   "id": "97ca7ff2-24f1-41f2-8072-750b5634cb34",
   "metadata": {},
   "outputs": [
    {
     "data": {
      "text/html": [
       "<div>\n",
       "<style scoped>\n",
       "    .dataframe tbody tr th:only-of-type {\n",
       "        vertical-align: middle;\n",
       "    }\n",
       "\n",
       "    .dataframe tbody tr th {\n",
       "        vertical-align: top;\n",
       "    }\n",
       "\n",
       "    .dataframe thead th {\n",
       "        text-align: right;\n",
       "    }\n",
       "</style>\n",
       "<table border=\"1\" class=\"dataframe\">\n",
       "  <thead>\n",
       "    <tr style=\"text-align: right;\">\n",
       "      <th></th>\n",
       "      <th>mpg</th>\n",
       "      <th>cyl</th>\n",
       "      <th>disp</th>\n",
       "      <th>hp</th>\n",
       "      <th>drat</th>\n",
       "      <th>wt</th>\n",
       "      <th>qsec</th>\n",
       "      <th>vs</th>\n",
       "      <th>am</th>\n",
       "      <th>gear</th>\n",
       "      <th>carb</th>\n",
       "    </tr>\n",
       "  </thead>\n",
       "  <tbody>\n",
       "    <tr>\n",
       "      <th>0</th>\n",
       "      <td>21.0</td>\n",
       "      <td>6</td>\n",
       "      <td>160.0</td>\n",
       "      <td>110</td>\n",
       "      <td>3.90</td>\n",
       "      <td>2.620</td>\n",
       "      <td>16.46</td>\n",
       "      <td>0</td>\n",
       "      <td>1</td>\n",
       "      <td>4</td>\n",
       "      <td>4</td>\n",
       "    </tr>\n",
       "    <tr>\n",
       "      <th>1</th>\n",
       "      <td>21.0</td>\n",
       "      <td>6</td>\n",
       "      <td>160.0</td>\n",
       "      <td>110</td>\n",
       "      <td>3.90</td>\n",
       "      <td>2.875</td>\n",
       "      <td>17.02</td>\n",
       "      <td>0</td>\n",
       "      <td>1</td>\n",
       "      <td>4</td>\n",
       "      <td>4</td>\n",
       "    </tr>\n",
       "    <tr>\n",
       "      <th>2</th>\n",
       "      <td>22.8</td>\n",
       "      <td>4</td>\n",
       "      <td>108.0</td>\n",
       "      <td>93</td>\n",
       "      <td>3.85</td>\n",
       "      <td>2.320</td>\n",
       "      <td>18.61</td>\n",
       "      <td>1</td>\n",
       "      <td>1</td>\n",
       "      <td>4</td>\n",
       "      <td>1</td>\n",
       "    </tr>\n",
       "    <tr>\n",
       "      <th>3</th>\n",
       "      <td>21.4</td>\n",
       "      <td>6</td>\n",
       "      <td>258.0</td>\n",
       "      <td>110</td>\n",
       "      <td>3.08</td>\n",
       "      <td>3.215</td>\n",
       "      <td>19.44</td>\n",
       "      <td>1</td>\n",
       "      <td>0</td>\n",
       "      <td>3</td>\n",
       "      <td>1</td>\n",
       "    </tr>\n",
       "    <tr>\n",
       "      <th>4</th>\n",
       "      <td>18.7</td>\n",
       "      <td>8</td>\n",
       "      <td>360.0</td>\n",
       "      <td>175</td>\n",
       "      <td>3.15</td>\n",
       "      <td>3.440</td>\n",
       "      <td>17.02</td>\n",
       "      <td>0</td>\n",
       "      <td>0</td>\n",
       "      <td>3</td>\n",
       "      <td>2</td>\n",
       "    </tr>\n",
       "  </tbody>\n",
       "</table>\n",
       "</div>"
      ],
      "text/plain": [
       "    mpg  cyl   disp   hp  drat     wt   qsec  vs  am  gear  carb\n",
       "0  21.0    6  160.0  110  3.90  2.620  16.46   0   1     4     4\n",
       "1  21.0    6  160.0  110  3.90  2.875  17.02   0   1     4     4\n",
       "2  22.8    4  108.0   93  3.85  2.320  18.61   1   1     4     1\n",
       "3  21.4    6  258.0  110  3.08  3.215  19.44   1   0     3     1\n",
       "4  18.7    8  360.0  175  3.15  3.440  17.02   0   0     3     2"
      ]
     },
     "execution_count": 6,
     "metadata": {},
     "output_type": "execute_result"
    }
   ],
   "source": [
    "df_cars.head()"
   ]
  },
  {
   "cell_type": "code",
   "execution_count": 7,
   "id": "8e50a43f-ab8b-49f8-814b-a8ec3fde4f86",
   "metadata": {},
   "outputs": [],
   "source": [
    "df_cars = df_cars[['hp', 'wt', 'am']]"
   ]
  },
  {
   "cell_type": "code",
   "execution_count": 8,
   "id": "eb6acc99-1414-4dc0-a145-2e26263d016e",
   "metadata": {},
   "outputs": [],
   "source": [
    "x_train = df_cars.drop('am', axis = 1)"
   ]
  },
  {
   "cell_type": "code",
   "execution_count": 9,
   "id": "a0439fd1-fdda-49c4-88d5-9c7a7db787a5",
   "metadata": {},
   "outputs": [],
   "source": [
    "y_train = df_cars['am']"
   ]
  },
  {
   "cell_type": "code",
   "execution_count": 10,
   "id": "36ce30bc-013b-42e7-b2c3-f0df479742aa",
   "metadata": {},
   "outputs": [],
   "source": [
    "x_train = sm.add_constant(x_train, prepend=False)"
   ]
  },
  {
   "cell_type": "code",
   "execution_count": 11,
   "id": "666b5e11-d7b4-4e29-8673-9c081e2fbfda",
   "metadata": {},
   "outputs": [
    {
     "name": "stdout",
     "output_type": "stream",
     "text": [
      "Optimization terminated successfully.\n",
      "         Current function value: 0.157174\n",
      "         Iterations 9\n"
     ]
    }
   ],
   "source": [
    "mod4 = sm.Logit(y_train, x_train).fit()"
   ]
  },
  {
   "cell_type": "code",
   "execution_count": 12,
   "id": "ad7e8167-b198-4ec8-b7d2-5311b609ec14",
   "metadata": {},
   "outputs": [
    {
     "name": "stdout",
     "output_type": "stream",
     "text": [
      "                           Logit Regression Results                           \n",
      "==============================================================================\n",
      "Dep. Variable:                     am   No. Observations:                   32\n",
      "Model:                          Logit   Df Residuals:                       29\n",
      "Method:                           MLE   Df Model:                            2\n",
      "Date:                Tue, 24 Dec 2024   Pseudo R-squ.:                  0.7673\n",
      "Time:                        22:37:53   Log-Likelihood:                -5.0296\n",
      "converged:                       True   LL-Null:                       -21.615\n",
      "Covariance Type:            nonrobust   LLR p-value:                 6.267e-08\n",
      "==============================================================================\n",
      "                 coef    std err          z      P>|z|      [0.025      0.975]\n",
      "------------------------------------------------------------------------------\n",
      "hp             0.0363      0.018      2.044      0.041       0.001       0.071\n",
      "wt            -8.0835      3.069     -2.634      0.008     -14.098      -2.069\n",
      "const         18.8663      7.444      2.535      0.011       4.277      33.455\n",
      "==============================================================================\n",
      "\n",
      "Possibly complete quasi-separation: A fraction 0.12 of observations can be\n",
      "perfectly predicted. This might indicate that there is complete\n",
      "quasi-separation. In this case some parameters will not be identified.\n"
     ]
    }
   ],
   "source": [
    "print(mod4.summary())"
   ]
  },
  {
   "cell_type": "raw",
   "id": "f8d597de-d720-45c9-baec-ac61aaad1405",
   "metadata": {},
   "source": [
    "0 becomes reference event --> am\n",
    "1 becomes target event -----> am"
   ]
  },
  {
   "cell_type": "markdown",
   "id": "e8a3566b-809f-4c9b-878e-f40f3926a49a",
   "metadata": {},
   "source": [
    "- **Ho(hp)** : *hp* does not influence choice between 0 and 1 (manual or automatic)\n",
    "- **Ho(wt)** : *wt* does not influence choice between 0 and 1 (manual or automatic)"
   ]
  },
  {
   "cell_type": "markdown",
   "id": "70ed4718-fcfb-4ffb-b1c4-f8b946a4162c",
   "metadata": {},
   "source": [
    "#### Conclusion:\n",
    "\n",
    "- *hp* influences choice between 0 and 1 (manual or automatic) (0.041 < 0.05)"
   ]
  },
  {
   "cell_type": "raw",
   "id": "d9749aca-0fed-4aba-bcff-604aec9fbd9b",
   "metadata": {},
   "source": [
    "When hp goes away from ref value, am will also leave its ref value\n",
    "Probability of '1' will increase when you increase the value of hp"
   ]
  },
  {
   "cell_type": "markdown",
   "id": "ef79a4e0-70fd-41b8-948c-f7594c77a1ed",
   "metadata": {},
   "source": [
    "1. wt has influences choice between 0 and 1 (manual or automatic) (0.008 < 0.05)\n",
    "2. Probability of '1' will increase when you decrease the value of wt (They have negative correlation )"
   ]
  },
  {
   "cell_type": "markdown",
   "id": "c4296a0c-0fc8-4103-bcae-32c393dbd9ff",
   "metadata": {},
   "source": [
    "Odd's ratio = p / (1-p)\n",
    "- Log of a value which is less than 1 would be negative"
   ]
  },
  {
   "cell_type": "code",
   "execution_count": 17,
   "id": "b8dbe512-2b60-46dd-b9c9-7365be88ee49",
   "metadata": {},
   "outputs": [
    {
     "data": {
      "text/plain": [
       "0.8472978603872034"
      ]
     },
     "execution_count": 17,
     "metadata": {},
     "output_type": "execute_result"
    }
   ],
   "source": [
    "np.log(0.7/(1-0.7))"
   ]
  },
  {
   "cell_type": "code",
   "execution_count": 18,
   "id": "1b726bb8-9ab5-4cda-9af1-61201245c64f",
   "metadata": {},
   "outputs": [
    {
     "data": {
      "text/plain": [
       "-0.8472978603872036"
      ]
     },
     "execution_count": 18,
     "metadata": {},
     "output_type": "execute_result"
    }
   ],
   "source": [
    "np.log(0.3/(1-0.3))"
   ]
  },
  {
   "cell_type": "code",
   "execution_count": 19,
   "id": "fc461b55-3816-45d7-90c1-7db042f41c0e",
   "metadata": {},
   "outputs": [
    {
     "data": {
      "text/html": [
       "<div>\n",
       "<style scoped>\n",
       "    .dataframe tbody tr th:only-of-type {\n",
       "        vertical-align: middle;\n",
       "    }\n",
       "\n",
       "    .dataframe tbody tr th {\n",
       "        vertical-align: top;\n",
       "    }\n",
       "\n",
       "    .dataframe thead th {\n",
       "        text-align: right;\n",
       "    }\n",
       "</style>\n",
       "<table border=\"1\" class=\"dataframe\">\n",
       "  <thead>\n",
       "    <tr style=\"text-align: right;\">\n",
       "      <th></th>\n",
       "      <th>hp</th>\n",
       "      <th>wt</th>\n",
       "      <th>const</th>\n",
       "    </tr>\n",
       "  </thead>\n",
       "  <tbody>\n",
       "    <tr>\n",
       "      <th>0</th>\n",
       "      <td>110</td>\n",
       "      <td>2.620</td>\n",
       "      <td>1.0</td>\n",
       "    </tr>\n",
       "    <tr>\n",
       "      <th>1</th>\n",
       "      <td>110</td>\n",
       "      <td>2.875</td>\n",
       "      <td>1.0</td>\n",
       "    </tr>\n",
       "    <tr>\n",
       "      <th>2</th>\n",
       "      <td>93</td>\n",
       "      <td>2.320</td>\n",
       "      <td>1.0</td>\n",
       "    </tr>\n",
       "    <tr>\n",
       "      <th>3</th>\n",
       "      <td>110</td>\n",
       "      <td>3.215</td>\n",
       "      <td>1.0</td>\n",
       "    </tr>\n",
       "    <tr>\n",
       "      <th>4</th>\n",
       "      <td>175</td>\n",
       "      <td>3.440</td>\n",
       "      <td>1.0</td>\n",
       "    </tr>\n",
       "  </tbody>\n",
       "</table>\n",
       "</div>"
      ],
      "text/plain": [
       "    hp     wt  const\n",
       "0  110  2.620    1.0\n",
       "1  110  2.875    1.0\n",
       "2   93  2.320    1.0\n",
       "3  110  3.215    1.0\n",
       "4  175  3.440    1.0"
      ]
     },
     "execution_count": 19,
     "metadata": {},
     "output_type": "execute_result"
    }
   ],
   "source": [
    "x_train.head()"
   ]
  },
  {
   "cell_type": "code",
   "execution_count": 20,
   "id": "4ce94f6d-c82a-4803-88a6-c1ae9e0ee7a3",
   "metadata": {},
   "outputs": [],
   "source": [
    "mydata = pd.DataFrame([[90, 2.5, 1], [100, 2.5, 1], [110, 2.5, 1]], columns = x_train.columns)"
   ]
  },
  {
   "cell_type": "code",
   "execution_count": 21,
   "id": "7f7d4751-179b-4c79-bc75-a574ab33be0f",
   "metadata": {},
   "outputs": [
    {
     "data": {
      "text/html": [
       "<div>\n",
       "<style scoped>\n",
       "    .dataframe tbody tr th:only-of-type {\n",
       "        vertical-align: middle;\n",
       "    }\n",
       "\n",
       "    .dataframe tbody tr th {\n",
       "        vertical-align: top;\n",
       "    }\n",
       "\n",
       "    .dataframe thead th {\n",
       "        text-align: right;\n",
       "    }\n",
       "</style>\n",
       "<table border=\"1\" class=\"dataframe\">\n",
       "  <thead>\n",
       "    <tr style=\"text-align: right;\">\n",
       "      <th></th>\n",
       "      <th>hp</th>\n",
       "      <th>wt</th>\n",
       "      <th>const</th>\n",
       "    </tr>\n",
       "  </thead>\n",
       "  <tbody>\n",
       "    <tr>\n",
       "      <th>0</th>\n",
       "      <td>90</td>\n",
       "      <td>2.5</td>\n",
       "      <td>1</td>\n",
       "    </tr>\n",
       "    <tr>\n",
       "      <th>1</th>\n",
       "      <td>100</td>\n",
       "      <td>2.5</td>\n",
       "      <td>1</td>\n",
       "    </tr>\n",
       "    <tr>\n",
       "      <th>2</th>\n",
       "      <td>110</td>\n",
       "      <td>2.5</td>\n",
       "      <td>1</td>\n",
       "    </tr>\n",
       "  </tbody>\n",
       "</table>\n",
       "</div>"
      ],
      "text/plain": [
       "    hp   wt  const\n",
       "0   90  2.5      1\n",
       "1  100  2.5      1\n",
       "2  110  2.5      1"
      ]
     },
     "execution_count": 21,
     "metadata": {},
     "output_type": "execute_result"
    }
   ],
   "source": [
    "mydata"
   ]
  },
  {
   "cell_type": "code",
   "execution_count": 22,
   "id": "511d0729-dc64-4f0f-9fac-c45c20e639ee",
   "metadata": {},
   "outputs": [
    {
     "data": {
      "text/plain": [
       "0    0.872207\n",
       "1    0.907474\n",
       "2    0.933747\n",
       "dtype: float64"
      ]
     },
     "execution_count": 22,
     "metadata": {},
     "output_type": "execute_result"
    }
   ],
   "source": [
    "mod4.predict(mydata)"
   ]
  },
  {
   "cell_type": "code",
   "execution_count": 23,
   "id": "6ebe347a-7ce8-49b5-bd93-ce7197d5bb67",
   "metadata": {},
   "outputs": [],
   "source": [
    "#np.log(0.907474/(1-0.907474)))-np.log(0.872207/(1-0.872207))))/10"
   ]
  },
  {
   "cell_type": "code",
   "execution_count": 24,
   "id": "709d283a-e75f-4169-93ed-6907d5330df2",
   "metadata": {},
   "outputs": [
    {
     "data": {
      "text/plain": [
       "0.03625495472432383"
      ]
     },
     "execution_count": 24,
     "metadata": {},
     "output_type": "execute_result"
    }
   ],
   "source": [
    "(np.log(0.933747/(1-0.933747)) - np.log(0.907474/(1-0.907474)))/10"
   ]
  },
  {
   "cell_type": "code",
   "execution_count": 25,
   "id": "abd9b410-460f-4059-8766-6784908a84f7",
   "metadata": {},
   "outputs": [],
   "source": [
    "mydata2 = pd.DataFrame([[90, 1, 1], [90, 2, 1], [90, 3, 1]], columns = x_train.columns)"
   ]
  },
  {
   "cell_type": "code",
   "execution_count": 26,
   "id": "48cd4296-4b26-4229-909c-577ccfee3985",
   "metadata": {},
   "outputs": [
    {
     "data": {
      "text/html": [
       "<div>\n",
       "<style scoped>\n",
       "    .dataframe tbody tr th:only-of-type {\n",
       "        vertical-align: middle;\n",
       "    }\n",
       "\n",
       "    .dataframe tbody tr th {\n",
       "        vertical-align: top;\n",
       "    }\n",
       "\n",
       "    .dataframe thead th {\n",
       "        text-align: right;\n",
       "    }\n",
       "</style>\n",
       "<table border=\"1\" class=\"dataframe\">\n",
       "  <thead>\n",
       "    <tr style=\"text-align: right;\">\n",
       "      <th></th>\n",
       "      <th>hp</th>\n",
       "      <th>wt</th>\n",
       "      <th>const</th>\n",
       "    </tr>\n",
       "  </thead>\n",
       "  <tbody>\n",
       "    <tr>\n",
       "      <th>0</th>\n",
       "      <td>90</td>\n",
       "      <td>1</td>\n",
       "      <td>1</td>\n",
       "    </tr>\n",
       "    <tr>\n",
       "      <th>1</th>\n",
       "      <td>90</td>\n",
       "      <td>2</td>\n",
       "      <td>1</td>\n",
       "    </tr>\n",
       "    <tr>\n",
       "      <th>2</th>\n",
       "      <td>90</td>\n",
       "      <td>3</td>\n",
       "      <td>1</td>\n",
       "    </tr>\n",
       "  </tbody>\n",
       "</table>\n",
       "</div>"
      ],
      "text/plain": [
       "   hp  wt  const\n",
       "0  90   1      1\n",
       "1  90   2      1\n",
       "2  90   3      1"
      ]
     },
     "execution_count": 26,
     "metadata": {},
     "output_type": "execute_result"
    }
   ],
   "source": [
    "mydata2"
   ]
  },
  {
   "cell_type": "code",
   "execution_count": 27,
   "id": "0c417d1e-e908-42a4-b8fd-4b607e812a23",
   "metadata": {},
   "outputs": [
    {
     "data": {
      "text/plain": [
       "0    0.999999\n",
       "1    0.997433\n",
       "2    0.107061\n",
       "dtype: float64"
      ]
     },
     "execution_count": 27,
     "metadata": {},
     "output_type": "execute_result"
    }
   ],
   "source": [
    "mod4.predict(mydata2)"
   ]
  },
  {
   "cell_type": "code",
   "execution_count": null,
   "id": "328143d7-c187-434f-a746-39a29cd0943e",
   "metadata": {},
   "outputs": [],
   "source": []
  },
  {
   "cell_type": "code",
   "execution_count": 28,
   "id": "f4cecd48-5195-4186-a2c1-178e702b34d6",
   "metadata": {},
   "outputs": [],
   "source": [
    "df_diab = pd.read_excel('CDAC_Databook.xlsx', sheet_name='diabetes')"
   ]
  },
  {
   "cell_type": "code",
   "execution_count": 29,
   "id": "88c91651-765a-4567-9c9b-dd044d23ea50",
   "metadata": {},
   "outputs": [
    {
     "data": {
      "text/html": [
       "<div>\n",
       "<style scoped>\n",
       "    .dataframe tbody tr th:only-of-type {\n",
       "        vertical-align: middle;\n",
       "    }\n",
       "\n",
       "    .dataframe tbody tr th {\n",
       "        vertical-align: top;\n",
       "    }\n",
       "\n",
       "    .dataframe thead th {\n",
       "        text-align: right;\n",
       "    }\n",
       "</style>\n",
       "<table border=\"1\" class=\"dataframe\">\n",
       "  <thead>\n",
       "    <tr style=\"text-align: right;\">\n",
       "      <th></th>\n",
       "      <th>Glucose</th>\n",
       "      <th>BloodPressure</th>\n",
       "      <th>SkinThickness</th>\n",
       "      <th>Insulin</th>\n",
       "      <th>BMI</th>\n",
       "      <th>DiabetesPedigreeFunction</th>\n",
       "      <th>Age</th>\n",
       "      <th>DietType</th>\n",
       "      <th>Outcome</th>\n",
       "    </tr>\n",
       "  </thead>\n",
       "  <tbody>\n",
       "    <tr>\n",
       "      <th>0</th>\n",
       "      <td>148</td>\n",
       "      <td>72</td>\n",
       "      <td>35</td>\n",
       "      <td>0</td>\n",
       "      <td>33.6</td>\n",
       "      <td>0.63</td>\n",
       "      <td>50</td>\n",
       "      <td>1</td>\n",
       "      <td>1</td>\n",
       "    </tr>\n",
       "    <tr>\n",
       "      <th>1</th>\n",
       "      <td>85</td>\n",
       "      <td>66</td>\n",
       "      <td>29</td>\n",
       "      <td>0</td>\n",
       "      <td>26.6</td>\n",
       "      <td>0.35</td>\n",
       "      <td>31</td>\n",
       "      <td>2</td>\n",
       "      <td>0</td>\n",
       "    </tr>\n",
       "    <tr>\n",
       "      <th>2</th>\n",
       "      <td>183</td>\n",
       "      <td>64</td>\n",
       "      <td>0</td>\n",
       "      <td>0</td>\n",
       "      <td>23.3</td>\n",
       "      <td>0.67</td>\n",
       "      <td>32</td>\n",
       "      <td>1</td>\n",
       "      <td>1</td>\n",
       "    </tr>\n",
       "    <tr>\n",
       "      <th>3</th>\n",
       "      <td>89</td>\n",
       "      <td>66</td>\n",
       "      <td>23</td>\n",
       "      <td>94</td>\n",
       "      <td>28.1</td>\n",
       "      <td>0.17</td>\n",
       "      <td>21</td>\n",
       "      <td>1</td>\n",
       "      <td>0</td>\n",
       "    </tr>\n",
       "    <tr>\n",
       "      <th>4</th>\n",
       "      <td>137</td>\n",
       "      <td>40</td>\n",
       "      <td>35</td>\n",
       "      <td>168</td>\n",
       "      <td>43.1</td>\n",
       "      <td>2.29</td>\n",
       "      <td>33</td>\n",
       "      <td>1</td>\n",
       "      <td>1</td>\n",
       "    </tr>\n",
       "  </tbody>\n",
       "</table>\n",
       "</div>"
      ],
      "text/plain": [
       "   Glucose  BloodPressure  SkinThickness  Insulin   BMI  \\\n",
       "0      148             72             35        0  33.6   \n",
       "1       85             66             29        0  26.6   \n",
       "2      183             64              0        0  23.3   \n",
       "3       89             66             23       94  28.1   \n",
       "4      137             40             35      168  43.1   \n",
       "\n",
       "   DiabetesPedigreeFunction  Age  DietType  Outcome  \n",
       "0                      0.63   50         1        1  \n",
       "1                      0.35   31         2        0  \n",
       "2                      0.67   32         1        1  \n",
       "3                      0.17   21         1        0  \n",
       "4                      2.29   33         1        1  "
      ]
     },
     "execution_count": 29,
     "metadata": {},
     "output_type": "execute_result"
    }
   ],
   "source": [
    "df_diab.head()"
   ]
  },
  {
   "cell_type": "code",
   "execution_count": 30,
   "id": "5264cec9-bbf5-4e1f-af2a-7b1b4ac5a43e",
   "metadata": {},
   "outputs": [],
   "source": [
    "df_diab = df_diab[['Glucose', 'DietType', 'Outcome']]"
   ]
  },
  {
   "cell_type": "code",
   "execution_count": 31,
   "id": "bf8f7d6e-d740-4af0-9c51-21d7302296ef",
   "metadata": {},
   "outputs": [],
   "source": [
    "diet_dum = pd.get_dummies(df_diab['DietType'], drop_first=True).astype(int)\n",
    "df_diab = df_diab.drop('DietType', axis = 1)\n",
    "df_diab = pd.concat([df_diab, diet_dum], axis = 1)\n"
   ]
  },
  {
   "cell_type": "code",
   "execution_count": 32,
   "id": "74b6b912-8622-4105-ae81-2139bb8022a5",
   "metadata": {},
   "outputs": [
    {
     "data": {
      "text/html": [
       "<div>\n",
       "<style scoped>\n",
       "    .dataframe tbody tr th:only-of-type {\n",
       "        vertical-align: middle;\n",
       "    }\n",
       "\n",
       "    .dataframe tbody tr th {\n",
       "        vertical-align: top;\n",
       "    }\n",
       "\n",
       "    .dataframe thead th {\n",
       "        text-align: right;\n",
       "    }\n",
       "</style>\n",
       "<table border=\"1\" class=\"dataframe\">\n",
       "  <thead>\n",
       "    <tr style=\"text-align: right;\">\n",
       "      <th></th>\n",
       "      <th>Glucose</th>\n",
       "      <th>Outcome</th>\n",
       "      <th>2</th>\n",
       "      <th>3</th>\n",
       "    </tr>\n",
       "  </thead>\n",
       "  <tbody>\n",
       "    <tr>\n",
       "      <th>0</th>\n",
       "      <td>148</td>\n",
       "      <td>1</td>\n",
       "      <td>0</td>\n",
       "      <td>0</td>\n",
       "    </tr>\n",
       "    <tr>\n",
       "      <th>1</th>\n",
       "      <td>85</td>\n",
       "      <td>0</td>\n",
       "      <td>1</td>\n",
       "      <td>0</td>\n",
       "    </tr>\n",
       "    <tr>\n",
       "      <th>2</th>\n",
       "      <td>183</td>\n",
       "      <td>1</td>\n",
       "      <td>0</td>\n",
       "      <td>0</td>\n",
       "    </tr>\n",
       "    <tr>\n",
       "      <th>3</th>\n",
       "      <td>89</td>\n",
       "      <td>0</td>\n",
       "      <td>0</td>\n",
       "      <td>0</td>\n",
       "    </tr>\n",
       "    <tr>\n",
       "      <th>4</th>\n",
       "      <td>137</td>\n",
       "      <td>1</td>\n",
       "      <td>0</td>\n",
       "      <td>0</td>\n",
       "    </tr>\n",
       "  </tbody>\n",
       "</table>\n",
       "</div>"
      ],
      "text/plain": [
       "   Glucose  Outcome  2  3\n",
       "0      148        1  0  0\n",
       "1       85        0  1  0\n",
       "2      183        1  0  0\n",
       "3       89        0  0  0\n",
       "4      137        1  0  0"
      ]
     },
     "execution_count": 32,
     "metadata": {},
     "output_type": "execute_result"
    }
   ],
   "source": [
    "df_diab.head()"
   ]
  },
  {
   "cell_type": "code",
   "execution_count": 33,
   "id": "6d1852aa-8a0a-43b0-a0bd-8b049742100a",
   "metadata": {},
   "outputs": [],
   "source": [
    "x_train, x_test, y_train, y_test = train_test_split(df_diab.drop('Outcome', axis = 1), df_diab['Outcome'], test_size=0.2, random_state=20)"
   ]
  },
  {
   "cell_type": "code",
   "execution_count": 34,
   "id": "f473c0d8-a31c-45d9-ae4b-ac2f9d416b15",
   "metadata": {},
   "outputs": [],
   "source": [
    "x_train = sm.add_constant(x_train, prepend=False)"
   ]
  },
  {
   "cell_type": "code",
   "execution_count": 35,
   "id": "3770c99f-52b2-4b26-b585-f53068646626",
   "metadata": {},
   "outputs": [
    {
     "name": "stdout",
     "output_type": "stream",
     "text": [
      "Optimization terminated successfully.\n",
      "         Current function value: 0.342252\n",
      "         Iterations 7\n"
     ]
    }
   ],
   "source": [
    "mod2 = sm.Logit(y_train, x_train).fit()"
   ]
  },
  {
   "cell_type": "code",
   "execution_count": 36,
   "id": "f5a789b8-a3af-4fe8-9e91-190f2e6936bc",
   "metadata": {},
   "outputs": [
    {
     "name": "stdout",
     "output_type": "stream",
     "text": [
      "                           Logit Regression Results                           \n",
      "==============================================================================\n",
      "Dep. Variable:                Outcome   No. Observations:                  614\n",
      "Model:                          Logit   Df Residuals:                      610\n",
      "Method:                           MLE   Df Model:                            3\n",
      "Date:                Tue, 24 Dec 2024   Pseudo R-squ.:                  0.4715\n",
      "Time:                        22:37:54   Log-Likelihood:                -210.14\n",
      "converged:                       True   LL-Null:                       -397.59\n",
      "Covariance Type:            nonrobust   LLR p-value:                 6.038e-81\n",
      "==============================================================================\n",
      "                 coef    std err          z      P>|z|      [0.025      0.975]\n",
      "------------------------------------------------------------------------------\n",
      "Glucose        0.0392      0.005      8.507      0.000       0.030       0.048\n",
      "2             -3.8331      0.310    -12.357      0.000      -4.441      -3.225\n",
      "3             -2.7269      0.328     -8.312      0.000      -3.370      -2.084\n",
      "const         -3.2440      0.569     -5.705      0.000      -4.358      -2.130\n",
      "==============================================================================\n"
     ]
    }
   ],
   "source": [
    "print(mod2.summary())"
   ]
  },
  {
   "cell_type": "markdown",
   "id": "9673328d-4817-4898-a7f9-718f32171073",
   "metadata": {},
   "source": [
    "- Change in the odd's ratio when glucose is increased by 1 unit ---> m1"
   ]
  },
  {
   "cell_type": "raw",
   "id": "eb238656-1522-4fd8-a476-edc87a886c08",
   "metadata": {},
   "source": [
    "Ho(2) : when DT changes from 1 to 2, it does not influence Outcome. i.e. m2 = 0.\n",
    "So when diet change from 1 to 2, then the probability of getting outcome 0 will increase.\n",
    "\n",
    "So when diet changes from 1 to 3, then the probability of getting outcome 0 will increase(No diabetes)\n",
    "m3 will indicate the change in log of odds on favor of having diabetes when the diet type changes from 1 to 3"
   ]
  },
  {
   "cell_type": "code",
   "execution_count": 38,
   "id": "2e15235c-2bb8-4f33-adbf-54a8f9c59075",
   "metadata": {},
   "outputs": [
    {
     "name": "stderr",
     "output_type": "stream",
     "text": [
      "C:\\Users\\Abhay\\anaconda3\\Lib\\site-packages\\statsmodels\\discrete\\discrete_model.py:2385: RuntimeWarning: overflow encountered in exp\n",
      "  return 1/(1+np.exp(-X))\n"
     ]
    }
   ],
   "source": [
    "x_test = sm.add_constant(x_test)\n",
    "y_pred = np.round(mod2.predict(x_test), 0)"
   ]
  },
  {
   "cell_type": "code",
   "execution_count": 39,
   "id": "bf4abea6-bbee-4e98-b253-d36983af733b",
   "metadata": {},
   "outputs": [
    {
     "data": {
      "text/plain": [
       "array([[101,   0],\n",
       "       [ 53,   0]], dtype=int64)"
      ]
     },
     "execution_count": 39,
     "metadata": {},
     "output_type": "execute_result"
    }
   ],
   "source": [
    "confusion_matrix(y_test, y_pred)"
   ]
  },
  {
   "cell_type": "code",
   "execution_count": 40,
   "id": "aaad9079-7bae-4194-8781-8022a582090e",
   "metadata": {},
   "outputs": [
    {
     "name": "stdout",
     "output_type": "stream",
     "text": [
      "              precision    recall  f1-score   support\n",
      "\n",
      "           0       0.66      1.00      0.79       101\n",
      "           1       0.00      0.00      0.00        53\n",
      "\n",
      "    accuracy                           0.66       154\n",
      "   macro avg       0.33      0.50      0.40       154\n",
      "weighted avg       0.43      0.66      0.52       154\n",
      "\n"
     ]
    },
    {
     "name": "stderr",
     "output_type": "stream",
     "text": [
      "C:\\Users\\Abhay\\anaconda3\\Lib\\site-packages\\sklearn\\metrics\\_classification.py:1509: UndefinedMetricWarning: Precision is ill-defined and being set to 0.0 in labels with no predicted samples. Use `zero_division` parameter to control this behavior.\n",
      "  _warn_prf(average, modifier, f\"{metric.capitalize()} is\", len(result))\n",
      "C:\\Users\\Abhay\\anaconda3\\Lib\\site-packages\\sklearn\\metrics\\_classification.py:1509: UndefinedMetricWarning: Precision is ill-defined and being set to 0.0 in labels with no predicted samples. Use `zero_division` parameter to control this behavior.\n",
      "  _warn_prf(average, modifier, f\"{metric.capitalize()} is\", len(result))\n",
      "C:\\Users\\Abhay\\anaconda3\\Lib\\site-packages\\sklearn\\metrics\\_classification.py:1509: UndefinedMetricWarning: Precision is ill-defined and being set to 0.0 in labels with no predicted samples. Use `zero_division` parameter to control this behavior.\n",
      "  _warn_prf(average, modifier, f\"{metric.capitalize()} is\", len(result))\n"
     ]
    }
   ],
   "source": [
    "confusion_matrix(y_test, y_pred)\n",
    "print(classification_report(y_test, y_pred))"
   ]
  },
  {
   "cell_type": "code",
   "execution_count": 41,
   "id": "14cfb3ba-f0e7-4adf-a07f-7cf416529b6c",
   "metadata": {},
   "outputs": [
    {
     "data": {
      "text/plain": [
       "0.9081632653061225"
      ]
     },
     "execution_count": 41,
     "metadata": {},
     "output_type": "execute_result"
    }
   ],
   "source": [
    "89/98"
   ]
  },
  {
   "cell_type": "code",
   "execution_count": 42,
   "id": "b8640581-9bab-4bef-8c8d-e8e2473f24fd",
   "metadata": {},
   "outputs": [
    {
     "data": {
      "text/plain": [
       "0.8811881188118812"
      ]
     },
     "execution_count": 42,
     "metadata": {},
     "output_type": "execute_result"
    }
   ],
   "source": [
    "89/101\n"
   ]
  },
  {
   "cell_type": "code",
   "execution_count": 43,
   "id": "e1c0cca0-0031-41fa-be0f-05956e9f4617",
   "metadata": {},
   "outputs": [
    {
     "data": {
      "text/plain": [
       "101"
      ]
     },
     "execution_count": 43,
     "metadata": {},
     "output_type": "execute_result"
    }
   ],
   "source": [
    "89+12 # people who dont have diabetes"
   ]
  },
  {
   "cell_type": "code",
   "execution_count": 44,
   "id": "2ba3474f-eba7-4f23-9758-d32470578d99",
   "metadata": {},
   "outputs": [
    {
     "data": {
      "text/plain": [
       "53"
      ]
     },
     "execution_count": 44,
     "metadata": {},
     "output_type": "execute_result"
    }
   ],
   "source": [
    "9+44 # people who have diabetes"
   ]
  },
  {
   "cell_type": "code",
   "execution_count": null,
   "id": "0639ace4-2c12-46ae-bef3-1bc0ad3ebe38",
   "metadata": {},
   "outputs": [],
   "source": []
  },
  {
   "cell_type": "markdown",
   "id": "9329f67d-a2df-475c-a275-ac2f97475d6d",
   "metadata": {},
   "source": [
    "## Nominal Logistic Regression\n",
    "\n",
    "- A multinomial logistic regression (or multinomial regression for short) is used when the **outcome variable being predicted is nominal** and **has more than two categories that do not have a given rank or order**.\n",
    "- This model can be used with any number of independent variables that are categorical or continuous."
   ]
  },
  {
   "cell_type": "code",
   "execution_count": 85,
   "id": "d0b23b35-f492-4101-9f14-5b438ee81b96",
   "metadata": {},
   "outputs": [],
   "source": [
    "df_nom = pd.read_excel('CDAC_DataBook.xlsx',sheet_name='nominal')"
   ]
  },
  {
   "cell_type": "code",
   "execution_count": 87,
   "id": "ae1151a2-7c2e-4830-9f37-787e083d8fb4",
   "metadata": {},
   "outputs": [
    {
     "data": {
      "text/html": [
       "<div>\n",
       "<style scoped>\n",
       "    .dataframe tbody tr th:only-of-type {\n",
       "        vertical-align: middle;\n",
       "    }\n",
       "\n",
       "    .dataframe tbody tr th {\n",
       "        vertical-align: top;\n",
       "    }\n",
       "\n",
       "    .dataframe thead th {\n",
       "        text-align: right;\n",
       "    }\n",
       "</style>\n",
       "<table border=\"1\" class=\"dataframe\">\n",
       "  <thead>\n",
       "    <tr style=\"text-align: right;\">\n",
       "      <th></th>\n",
       "      <th>ses</th>\n",
       "      <th>write</th>\n",
       "      <th>math</th>\n",
       "      <th>prog</th>\n",
       "    </tr>\n",
       "  </thead>\n",
       "  <tbody>\n",
       "    <tr>\n",
       "      <th>0</th>\n",
       "      <td>1</td>\n",
       "      <td>35</td>\n",
       "      <td>41</td>\n",
       "      <td>1</td>\n",
       "    </tr>\n",
       "    <tr>\n",
       "      <th>1</th>\n",
       "      <td>2</td>\n",
       "      <td>33</td>\n",
       "      <td>41</td>\n",
       "      <td>2</td>\n",
       "    </tr>\n",
       "    <tr>\n",
       "      <th>2</th>\n",
       "      <td>3</td>\n",
       "      <td>39</td>\n",
       "      <td>44</td>\n",
       "      <td>3</td>\n",
       "    </tr>\n",
       "    <tr>\n",
       "      <th>3</th>\n",
       "      <td>1</td>\n",
       "      <td>37</td>\n",
       "      <td>42</td>\n",
       "      <td>1</td>\n",
       "    </tr>\n",
       "    <tr>\n",
       "      <th>4</th>\n",
       "      <td>2</td>\n",
       "      <td>31</td>\n",
       "      <td>40</td>\n",
       "      <td>2</td>\n",
       "    </tr>\n",
       "  </tbody>\n",
       "</table>\n",
       "</div>"
      ],
      "text/plain": [
       "   ses  write  math  prog\n",
       "0    1     35    41     1\n",
       "1    2     33    41     2\n",
       "2    3     39    44     3\n",
       "3    1     37    42     1\n",
       "4    2     31    40     2"
      ]
     },
     "execution_count": 87,
     "metadata": {},
     "output_type": "execute_result"
    }
   ],
   "source": [
    "df_nom.head()"
   ]
  },
  {
   "cell_type": "raw",
   "id": "1cc25551-6bf3-4b90-8504-3c91df686fa8",
   "metadata": {},
   "source": [
    "- program --> response\n",
    "- ses --> predictor (categorical)\n",
    "- math --> predictor (continuous)"
   ]
  },
  {
   "cell_type": "code",
   "execution_count": 89,
   "id": "0b9ce079-a7f8-4eee-9379-a430b92a77e0",
   "metadata": {},
   "outputs": [
    {
     "data": {
      "text/plain": [
       "array([1, 2, 3], dtype=int64)"
      ]
     },
     "execution_count": 89,
     "metadata": {},
     "output_type": "execute_result"
    }
   ],
   "source": [
    "np.unique(df_nom['prog'])"
   ]
  },
  {
   "cell_type": "code",
   "execution_count": 91,
   "id": "8bdd4c40-b0de-4a45-9335-e4f2aac68731",
   "metadata": {},
   "outputs": [],
   "source": [
    "df_nom = df_nom.drop('write', axis = 1)"
   ]
  },
  {
   "cell_type": "code",
   "execution_count": 93,
   "id": "c92c0523-54e3-418f-8b45-b9114f0a2de1",
   "metadata": {},
   "outputs": [],
   "source": [
    "ses_dum = pd.get_dummies(df_nom['ses'], drop_first=True, prefix = 'season').astype(int)"
   ]
  },
  {
   "cell_type": "code",
   "execution_count": 95,
   "id": "1c96be60-37ec-4d21-b5c4-d180179992f0",
   "metadata": {},
   "outputs": [],
   "source": [
    "df_nom = df_nom.drop('ses', axis = 1)"
   ]
  },
  {
   "cell_type": "code",
   "execution_count": 97,
   "id": "60a2ba72-78cf-449f-ab87-b4763ff05a1b",
   "metadata": {},
   "outputs": [],
   "source": [
    "df_nom = pd.concat([df_nom, ses_dum], axis = 1)"
   ]
  },
  {
   "cell_type": "code",
   "execution_count": 99,
   "id": "850ebf65-1568-4cbe-99c9-ee1c0e17ed3b",
   "metadata": {},
   "outputs": [
    {
     "data": {
      "text/html": [
       "<div>\n",
       "<style scoped>\n",
       "    .dataframe tbody tr th:only-of-type {\n",
       "        vertical-align: middle;\n",
       "    }\n",
       "\n",
       "    .dataframe tbody tr th {\n",
       "        vertical-align: top;\n",
       "    }\n",
       "\n",
       "    .dataframe thead th {\n",
       "        text-align: right;\n",
       "    }\n",
       "</style>\n",
       "<table border=\"1\" class=\"dataframe\">\n",
       "  <thead>\n",
       "    <tr style=\"text-align: right;\">\n",
       "      <th></th>\n",
       "      <th>math</th>\n",
       "      <th>prog</th>\n",
       "      <th>season_2</th>\n",
       "      <th>season_3</th>\n",
       "    </tr>\n",
       "  </thead>\n",
       "  <tbody>\n",
       "    <tr>\n",
       "      <th>0</th>\n",
       "      <td>41</td>\n",
       "      <td>1</td>\n",
       "      <td>0</td>\n",
       "      <td>0</td>\n",
       "    </tr>\n",
       "    <tr>\n",
       "      <th>1</th>\n",
       "      <td>41</td>\n",
       "      <td>2</td>\n",
       "      <td>1</td>\n",
       "      <td>0</td>\n",
       "    </tr>\n",
       "    <tr>\n",
       "      <th>2</th>\n",
       "      <td>44</td>\n",
       "      <td>3</td>\n",
       "      <td>0</td>\n",
       "      <td>1</td>\n",
       "    </tr>\n",
       "    <tr>\n",
       "      <th>3</th>\n",
       "      <td>42</td>\n",
       "      <td>1</td>\n",
       "      <td>0</td>\n",
       "      <td>0</td>\n",
       "    </tr>\n",
       "    <tr>\n",
       "      <th>4</th>\n",
       "      <td>40</td>\n",
       "      <td>2</td>\n",
       "      <td>1</td>\n",
       "      <td>0</td>\n",
       "    </tr>\n",
       "  </tbody>\n",
       "</table>\n",
       "</div>"
      ],
      "text/plain": [
       "   math  prog  season_2  season_3\n",
       "0    41     1         0         0\n",
       "1    41     2         1         0\n",
       "2    44     3         0         1\n",
       "3    42     1         0         0\n",
       "4    40     2         1         0"
      ]
     },
     "execution_count": 99,
     "metadata": {},
     "output_type": "execute_result"
    }
   ],
   "source": [
    "df_nom.head()"
   ]
  },
  {
   "cell_type": "code",
   "execution_count": 101,
   "id": "d1b4814f-4c5e-495b-84d4-f99ed9331c3e",
   "metadata": {},
   "outputs": [],
   "source": [
    "x_train, x_test, y_train, y_test = train_test_split(df_nom.drop('prog', axis = 1), df_nom.prog, test_size=0.2, random_state = 20)"
   ]
  },
  {
   "cell_type": "code",
   "execution_count": 103,
   "id": "bf85d327-d37d-4f8c-b073-e42af0ac9f29",
   "metadata": {},
   "outputs": [],
   "source": [
    "x_train = sm.add_constant(x_train, prepend=False)"
   ]
  },
  {
   "cell_type": "code",
   "execution_count": 110,
   "id": "aaf1d634-e5f0-49ec-9dbd-f51fc8bef68d",
   "metadata": {},
   "outputs": [
    {
     "data": {
      "text/html": [
       "<div>\n",
       "<style scoped>\n",
       "    .dataframe tbody tr th:only-of-type {\n",
       "        vertical-align: middle;\n",
       "    }\n",
       "\n",
       "    .dataframe tbody tr th {\n",
       "        vertical-align: top;\n",
       "    }\n",
       "\n",
       "    .dataframe thead th {\n",
       "        text-align: right;\n",
       "    }\n",
       "</style>\n",
       "<table border=\"1\" class=\"dataframe\">\n",
       "  <thead>\n",
       "    <tr style=\"text-align: right;\">\n",
       "      <th></th>\n",
       "      <th>math</th>\n",
       "      <th>season_2</th>\n",
       "      <th>season_3</th>\n",
       "      <th>const</th>\n",
       "    </tr>\n",
       "  </thead>\n",
       "  <tbody>\n",
       "    <tr>\n",
       "      <th>152</th>\n",
       "      <td>51</td>\n",
       "      <td>1</td>\n",
       "      <td>0</td>\n",
       "      <td>1.0</td>\n",
       "    </tr>\n",
       "    <tr>\n",
       "      <th>67</th>\n",
       "      <td>49</td>\n",
       "      <td>1</td>\n",
       "      <td>0</td>\n",
       "      <td>1.0</td>\n",
       "    </tr>\n",
       "    <tr>\n",
       "      <th>133</th>\n",
       "      <td>57</td>\n",
       "      <td>0</td>\n",
       "      <td>1</td>\n",
       "      <td>1.0</td>\n",
       "    </tr>\n",
       "    <tr>\n",
       "      <th>59</th>\n",
       "      <td>54</td>\n",
       "      <td>0</td>\n",
       "      <td>1</td>\n",
       "      <td>1.0</td>\n",
       "    </tr>\n",
       "    <tr>\n",
       "      <th>63</th>\n",
       "      <td>40</td>\n",
       "      <td>1</td>\n",
       "      <td>0</td>\n",
       "      <td>1.0</td>\n",
       "    </tr>\n",
       "  </tbody>\n",
       "</table>\n",
       "</div>"
      ],
      "text/plain": [
       "     math  season_2  season_3  const\n",
       "152    51         1         0    1.0\n",
       "67     49         1         0    1.0\n",
       "133    57         0         1    1.0\n",
       "59     54         0         1    1.0\n",
       "63     40         1         0    1.0"
      ]
     },
     "execution_count": 110,
     "metadata": {},
     "output_type": "execute_result"
    }
   ],
   "source": [
    "x_train.head()"
   ]
  },
  {
   "cell_type": "code",
   "execution_count": 112,
   "id": "fe2d079c-819e-485c-a110-0f9e4d3203e8",
   "metadata": {},
   "outputs": [
    {
     "data": {
      "text/plain": [
       "152    3\n",
       "67     2\n",
       "133    3\n",
       "59     2\n",
       "63     2\n",
       "Name: prog, dtype: int64"
      ]
     },
     "execution_count": 112,
     "metadata": {},
     "output_type": "execute_result"
    }
   ],
   "source": [
    "y_train.head()"
   ]
  },
  {
   "cell_type": "markdown",
   "id": "4d61472b-429f-4440-8f2f-3760a19f6078",
   "metadata": {},
   "source": [
    "The code provided below is performing a multinomial logistic regression using the `statsmodels` library in Python.\r\n",
    "\r\n",
    "1. **`sm.MNLogit(y_train, x_train)`**: This part initializes a multinomial logistic regression model where:\r\n",
    "   - `y_train`: This is the target variable (dependent variable) that contains the classes or categories we want to predict.\r\n",
    "   - `x_train`: This is the input data (independent variables) used to predict the classes in `y_train`.\r\n",
    "\r\n",
    "2. **`.fit()`**: This method fits the model to the provided training data. It estimates the parameters (coefficients) of the model based on the relationship between the independent variables in `x_train` and the dependent variable in `y_train`.\r\n",
    "\r\n",
    "3. **`print(mod1.summary())`**: This line prints a summary of the fitted model, which includes information such as the coefficients for each predictor, standard errors, z-scores, p-values, and model statistics. The summary helps evaluate the model’s performance and the significance of the predictors.\r\n",
    "\r\n",
    "Overall, this code is setting up a multinomial logistic regression model, fitting it to the training data, and then displaying a summary of the results."
   ]
  },
  {
   "cell_type": "code",
   "execution_count": 105,
   "id": "d96036eb-1e49-44dc-b600-f1cf70407d49",
   "metadata": {},
   "outputs": [
    {
     "name": "stdout",
     "output_type": "stream",
     "text": [
      "Optimization terminated successfully.\n",
      "         Current function value: 0.653667\n",
      "         Iterations 8\n",
      "                          MNLogit Regression Results                          \n",
      "==============================================================================\n",
      "Dep. Variable:                   prog   No. Observations:                  160\n",
      "Model:                        MNLogit   Df Residuals:                      152\n",
      "Method:                           MLE   Df Model:                            6\n",
      "Date:                Tue, 24 Dec 2024   Pseudo R-squ.:                  0.3687\n",
      "Time:                        22:54:20   Log-Likelihood:                -104.59\n",
      "converged:                       True   LL-Null:                       -165.68\n",
      "Covariance Type:            nonrobust   LLR p-value:                 5.678e-24\n",
      "==============================================================================\n",
      "    prog=2       coef    std err          z      P>|z|      [0.025      0.975]\n",
      "------------------------------------------------------------------------------\n",
      "math           0.0112      0.036      0.312      0.755      -0.059       0.082\n",
      "season_2       3.2174      0.685      4.695      0.000       1.874       4.561\n",
      "season_3       2.4719      1.121      2.204      0.028       0.274       4.670\n",
      "const         -1.0727      1.747     -0.614      0.539      -4.496       2.351\n",
      "------------------------------------------------------------------------------\n",
      "    prog=3       coef    std err          z      P>|z|      [0.025      0.975]\n",
      "------------------------------------------------------------------------------\n",
      "math           0.1181      0.042      2.797      0.005       0.035       0.201\n",
      "season_2       5.4410      1.237      4.399      0.000       3.017       7.865\n",
      "season_3       6.7918      1.486      4.570      0.000       3.879       9.705\n",
      "const         -9.3380      2.542     -3.674      0.000     -14.319      -4.357\n",
      "==============================================================================\n"
     ]
    }
   ],
   "source": [
    "mod1 = sm.MNLogit(y_train, x_train).fit()\n",
    "print(mod1.summary())"
   ]
  },
  {
   "cell_type": "markdown",
   "id": "2bac7d47-41f5-44d0-a207-f88c7508be20",
   "metadata": {},
   "source": [
    "- prog 1 is refrence event\n",
    "- ses 1 is refrence event\n"
   ]
  },
  {
   "cell_type": "raw",
   "id": "61f15dc1-56a7-42ea-b44a-ee71b08eb402",
   "metadata": {},
   "source": [
    "Prog = 2:\n",
    "Ho(math) = Math score does not influence choice between prog 1 & prog 2.\n",
    "Ho not rejected that means math score does not influence choice between prog 1 & prog 2.\n",
    "\n",
    "Ho(ses_2) = when ses changes from 1 to 2 , it does not influence choice between prog 1 & prog 2.\n",
    "Ho is rejected --> When ses from 1 refernce lvl 1 to target lvl 2 , so log of odd ratio  increase from reference value (prog 1) to target value (prog 2).\n",
    "\n",
    "ho(ses_3) = when ses changes from 1 to 3 , it does not influence choice between prog 1 & prog 2.\n",
    "Ho is rejected --> When ses changes from 1 reference lvl 1 to target lvl 3 , so log of odd ratio increase from reference value(prog 1) to target value (prog 2).\n",
    "\n",
    "Prog = 3:\n",
    "Ho(math) = Math score does not influence choice between prog 1 & prog 3.\n",
    "Ho rejected that means math score influence choice between prog 1 to prog 3.\n",
    "\n",
    "Ho(ses_2) = when ses changes from 1 to 2 , it does not influence choice between prog 1 & prog 3.\n",
    "Ho is rejected --> When ses from 1 refernce lvl 1 to target lvl 2 , so log of odd ratio  increase from reference value (prog 1) to target value (prog 3).\n",
    "\n",
    "Ho(ses_3) = when ses changes from 1 to 2 , it does not influence choice between prog 1 & prog 3.\n",
    "Ho is rejected --> When ses changes from 1 reference lvl 1 to target lvl 3 , so log of odd ratio increase from reference value(prog 1) to target value (prog 3).\n"
   ]
  },
  {
   "cell_type": "code",
   "execution_count": null,
   "id": "14bde085-e6de-477a-bb04-e52eb20ee254",
   "metadata": {},
   "outputs": [],
   "source": []
  }
 ],
 "metadata": {
  "kernelspec": {
   "display_name": "Python 3 (ipykernel)",
   "language": "python",
   "name": "python3"
  },
  "language_info": {
   "codemirror_mode": {
    "name": "ipython",
    "version": 3
   },
   "file_extension": ".py",
   "mimetype": "text/x-python",
   "name": "python",
   "nbconvert_exporter": "python",
   "pygments_lexer": "ipython3",
   "version": "3.12.4"
  }
 },
 "nbformat": 4,
 "nbformat_minor": 5
}
